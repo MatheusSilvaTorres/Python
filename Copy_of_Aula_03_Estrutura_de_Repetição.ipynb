{
  "nbformat": 4,
  "nbformat_minor": 0,
  "metadata": {
    "colab": {
      "name": "Copy of Aula 03 - Estrutura de Repetição",
      "provenance": [],
      "collapsed_sections": [],
      "include_colab_link": true
    },
    "kernelspec": {
      "name": "python3",
      "display_name": "Python 3"
    }
  },
  "cells": [
    {
      "cell_type": "markdown",
      "metadata": {
        "id": "view-in-github",
        "colab_type": "text"
      },
      "source": [
        "<a href=\"https://colab.research.google.com/github/MatheusSilvaTorres/Python/blob/main/Copy_of_Aula_03_Estrutura_de_Repeti%C3%A7%C3%A3o.ipynb\" target=\"_parent\"><img src=\"https://colab.research.google.com/assets/colab-badge.svg\" alt=\"Open In Colab\"/></a>"
      ]
    },
    {
      "cell_type": "markdown",
      "metadata": {
        "id": "IWT9kBSMTj2O"
      },
      "source": [
        "#Aula 3 - Estruturas de Repetição\n",
        "## Linguagem de Programação (Prof. Dr. Henrique Dezani)\n",
        "Curso de Tecnologia em Análise e Desenvolvimento de Sistemas da Faculdade de Tecnologia de São José do Rio Preto"
      ]
    },
    {
      "cell_type": "markdown",
      "metadata": {
        "id": "Bu_cUAtKULLJ"
      },
      "source": [
        "## 3.1. Estrutura de repetição while"
      ]
    },
    {
      "cell_type": "markdown",
      "metadata": {
        "id": "AJD9xRDWI2tK"
      },
      "source": [
        "Testando com `if`, `elif` e `else` é executado de cima para baixo. Às vezes, precisamos fazer algo mais de uma vez. Precisamos de um *loop*, e o mecanismo de *loop* mais simples do Python é `while`. "
      ]
    },
    {
      "cell_type": "markdown",
      "metadata": {
        "id": "YwnUV287YZay"
      },
      "source": [
        "A estrutura de repetição `while` em Python também avalia uma expressão e executa um bloco **até que** esta seja avaliada como falsa (`False`), tenha uma chamada `break` ou levante uma *exceção* sem tratamento. Portanto, esta estrutura de repetição é chamada de estrutura de repetição com teste lógico. Execute o próximo exemplo, que é um *loop* simples que imprime os números de 1 a 5."
      ]
    },
    {
      "cell_type": "code",
      "metadata": {
        "id": "foKq0c6HJD-4",
        "colab": {
          "base_uri": "https://localhost:8080/",
          "height": 103
        },
        "outputId": "8ed3eaf8-bb19-415f-dc9b-1d6184ba3d63"
      },
      "source": [
        "count = 1\n",
        "while count <= 5:  \n",
        "  print(count)\n",
        "  count = count + 1 # count += 1"
      ],
      "execution_count": null,
      "outputs": [
        {
          "output_type": "stream",
          "text": [
            "1\n",
            "2\n",
            "3\n",
            "4\n",
            "5\n"
          ],
          "name": "stdout"
        }
      ]
    },
    {
      "cell_type": "markdown",
      "metadata": {
        "id": "KMZkvKpJViD_"
      },
      "source": [
        "Neste exemplo, primeiro atribuímos o valor 1 à varivel `count`. O *loop* `while` comparou o valor de `count` a 5 e continuou se `count` fosse menor ou igual a 5. Dentro do *loop*, imprimimos o valor de `count` e, em seguida, incrementamos seu valor em 1 com a instrução `count += 1`. Python retorna para o topo do *loop*, e novamente compara `count` com 5. O valor de `count` agora é 2, então o conteúdo do *loop* `while` é novamente executado e a contagem é incrementada em 3.\n",
        "\n",
        "Isso continua até que a contagem seja incrementada de 5 a 6 na parte inferior do *loop*. Na próxima passagem pelo topo, a `contagem <= 5` agora é `False` e o *loop* `while` termina."
      ]
    },
    {
      "cell_type": "code",
      "source": [
        "#curso em video\n",
        "''for i in range(1, 10):\n",
        "    print(i)'''\n",
        "\n",
        "c = 1\n",
        "while c < 10:\n",
        "    print(c, end='')\n",
        "    c += 1\n",
        "\n",
        "n = 1\n",
        "while n != 0:\n",
        "    n = int(input('\\n Digite um número ou 0 para sair: '))\n",
        "    print(n)\n"
      ],
      "metadata": {
        "id": "B7ennijkkSzF"
      },
      "execution_count": null,
      "outputs": []
    },
    {
      "cell_type": "code",
      "source": [
        "#curso em video\n",
        "soma = cont = 0\n",
        "n = int(input('Digite um número [999 p/ sair]'))\n",
        "while n != 999:\n",
        "    soma += n\n",
        "    cont += 1\n",
        "    n = int(input('Digite um número [999 p/ sair]'))\n",
        "print('A soma dos {} números é: {}'.format(cont, soma))"
      ],
      "metadata": {
        "id": "UTJV8JG9msDJ"
      },
      "execution_count": null,
      "outputs": []
    },
    {
      "cell_type": "markdown",
      "source": [
        "melhorando o exemplo"
      ],
      "metadata": {
        "id": "57XO6BminiOW"
      }
    },
    {
      "cell_type": "code",
      "source": [
        "#curso em video\n",
        "cont = soma = 0\n",
        "while True:\n",
        "    n = int(input('Digite um número: '))\n",
        "    if n == 999:\n",
        "        break\n",
        "    soma += n\n",
        "    cont += 1\n",
        "print(f'Você digitou {cont} números e a soma entre eles é {soma} ')"
      ],
      "metadata": {
        "id": "ijTE8kxInkm2"
      },
      "execution_count": null,
      "outputs": []
    },
    {
      "cell_type": "code",
      "source": [
        "# exercicio curso em video\n",
        "n = s = 0\n",
        "while True:\n",
        "    n = int(input('Digite um número: '))\n",
        "    if n == 999:\n",
        "        break\n",
        "    s += n\n",
        "#print('A soma dos valores é: {}'.format(s))\n",
        "print(f'A soma dos valores é: {s}') # atualização do format\n",
        "nome = 'José'\n",
        "idade = 33\n",
        "salario = 1200.9\n",
        "print(f'O {nome} tem {idade} anos e ganha {salario:.2f}')"
      ],
      "metadata": {
        "id": "6_o6Te49kS78"
      },
      "execution_count": null,
      "outputs": []
    },
    {
      "cell_type": "markdown",
      "metadata": {
        "id": "kdI0acWAaAqx"
      },
      "source": [
        "### 3.1.1. Cancelarndo o *loop* com `break`"
      ]
    },
    {
      "cell_type": "markdown",
      "metadata": {
        "id": "kaH4lFglaEXJ"
      },
      "source": [
        "Se você deseja fazer um *loop* até que algo ocorra, mas não tem certeza de quando isso pode acontecer, você pode usar um *loop* infinito com uma **declaração de interrupção**. Desta vez, leremos uma linha de entrada do teclado por meio da função `input()` do Python e a imprimiremos com a primeira letra maiúscula. Interrompemos o *loop* quando uma linha contendo apenas a letra q é digitada:"
      ]
    },
    {
      "cell_type": "code",
      "metadata": {
        "id": "Mnptyr-_acCp",
        "colab": {
          "base_uri": "https://localhost:8080/",
          "height": 103
        },
        "outputId": "a4402bfb-8a2b-4283-8d73-fa0525cf2548"
      },
      "source": [
        "while True:\n",
        "  texto = input('Digite uma palavra [digite s para para sair]: ')\n",
        "  if texto == 's':\n",
        "    break\n",
        "  print(texto.capitalize())"
      ],
      "execution_count": null,
      "outputs": [
        {
          "output_type": "stream",
          "text": [
            "Digite uma palavra [digite s para para sair]: henrique\n",
            "Henrique\n",
            "Digite uma palavra [digite s para para sair]: sergio\n",
            "Sergio\n",
            "Digite uma palavra [digite s para para sair]: s\n"
          ],
          "name": "stdout"
        }
      ]
    },
    {
      "cell_type": "markdown",
      "metadata": {
        "id": "s1z6FJ22bC5P"
      },
      "source": [
        "### 3.1.2. Avançar o loop com `continue`\n",
        "Às vezes, você não deseja sair de um *loop*, mas quer pular para a próxima iteração por algum motivo. Aqui está um exemplo artificial: vamos ler um número inteiro, imprimir seu quadrado se for ímpar e pular se for par. Novamente, usaremos q para interromper o *loop*:"
      ]
    },
    {
      "cell_type": "code",
      "metadata": {
        "id": "PZcToPcOFFhY",
        "colab": {
          "base_uri": "https://localhost:8080/",
          "height": 171
        },
        "outputId": "0661b54f-22b3-4e52-906e-7eb81850defe"
      },
      "source": [
        "while True:\n",
        "  texto = input('Digite uma número inteiro [digite s para para sair]: ')\n",
        "  if texto == 's':\n",
        "    break\n",
        "  numero = int(texto)\n",
        "  if numero % 2 == 0:\n",
        "      continue\n",
        "  print(numero * numero)"
      ],
      "execution_count": null,
      "outputs": [
        {
          "output_type": "stream",
          "text": [
            "Digite uma número inteiro [digite s para para sair]: 1\n",
            "1\n",
            "Digite uma número inteiro [digite s para para sair]: 3\n",
            "9\n",
            "Digite uma número inteiro [digite s para para sair]: 4\n",
            "Digite uma número inteiro [digite s para para sair]: 7\n",
            "49\n",
            "Digite uma número inteiro [digite s para para sair]: 8\n",
            "Digite uma número inteiro [digite s para para sair]: s\n"
          ],
          "name": "stdout"
        }
      ]
    },
    {
      "cell_type": "markdown",
      "metadata": {
        "id": "43AoPghocZMi"
      },
      "source": [
        "### 3.1.3. Verificar se `break` foi utilizado com `else`\n",
        "Se o *loop* `while` terminou normalmente (sem chamada de interrupção - `break`), o controle passa para outro opcional. Você pode usar isso quando codificar um *loop* `while` para verificar se há alguma restrição e avisar assim que é encontrada. O `else` seria executado se o *loop* `while` fosse concluído, mas a restrição não fosse encontrada. Confira o exemplo a seguir:"
      ]
    },
    {
      "cell_type": "code",
      "metadata": {
        "id": "JmWUN3XtT3yw",
        "colab": {
          "base_uri": "https://localhost:8080/"
        },
        "outputId": "77c568f4-78aa-477e-89a5-4b746a0438d2"
      },
      "source": [
        "quantidade = int(input('Digite um número positivo maior que zero: '))\n",
        "numero = 1\n",
        "while numero <= quantidade:\n",
        "  print(numero)\n",
        "  if numero % 2 == 0:\n",
        "    print('número par encontrado')\n",
        "    break\n",
        "  numero += 1\n",
        "else:\n",
        "  print('nenhum número par foi encontrado')"
      ],
      "execution_count": null,
      "outputs": [
        {
          "output_type": "stream",
          "name": "stdout",
          "text": [
            "Digite um número positivo maior que zero: 2\n",
            "1\n",
            "2\n",
            "número par encontrado\n"
          ]
        }
      ]
    },
    {
      "cell_type": "markdown",
      "metadata": {
        "id": "oC31JMwaFzdZ"
      },
      "source": [
        "Para relembrar! Uma característica marcante de Python é: a definição dos limites do início e fim dos blocos são feitas com **indentação**. Sempre que andamos espaços para a direita, estamos definindo um novo bloco. Já quando voltamos os espaços, significa que aquele bloco terminou."
      ]
    },
    {
      "cell_type": "markdown",
      "metadata": {
        "id": "fVzxciCZea46"
      },
      "source": [
        "##3.2. Exercícios"
      ]
    },
    {
      "cell_type": "markdown",
      "metadata": {
        "id": "lK34zdC6fLJE"
      },
      "source": [
        "### 3.2.1. Exercício 1: Faça um programa que cadastre o estado civil de uma pessoa, entretanto, o programa deve continuar perguntando enquanto o valor informado for diferente de \"solteiro\" ou \"casado\"."
      ]
    },
    {
      "cell_type": "code",
      "metadata": {
        "colab": {
          "base_uri": "https://localhost:8080/"
        },
        "id": "p13f9A8Ngh5I",
        "outputId": "76282d5c-4e3f-4ee7-96c5-62577e8c4f68"
      },
      "source": [
        "while True:\n",
        "  estado_civil = input('Digite seu estado civil: ')\n",
        "  if estado_civil.lower() == 'solteiro' or estado_civil.lower() == 'Casado':\n",
        "    break \n"
      ],
      "execution_count": null,
      "outputs": [
        {
          "name": "stdout",
          "output_type": "stream",
          "text": [
            "Digite seu estado civil: mn\n",
            "Digite seu estado civil: nj\n",
            "Digite seu estado civil: solteiro\n"
          ]
        }
      ]
    },
    {
      "cell_type": "code",
      "metadata": {
        "id": "Qr97uoAagG_f",
        "colab": {
          "base_uri": "https://localhost:8080/",
          "height": 36
        },
        "outputId": "0894bca7-ef12-4814-90e7-48af487da2d3"
      },
      "source": [
        "while True:\n",
        "  estado_civil = input('Digite o estado civil: ')\n",
        "  if estado_civil.lower() == 'solteiro' or estado_civil.lower() == 'casado':\n",
        "    break"
      ],
      "execution_count": null,
      "outputs": [
        {
          "output_type": "stream",
          "text": [
            "Digite o estado civil: Solteiro\n"
          ],
          "name": "stdout"
        }
      ]
    },
    {
      "cell_type": "markdown",
      "metadata": {
        "id": "5xASByOUgIuR"
      },
      "source": [
        "### 3.2.2. Exercício 2: Faça um programa que leia dois números e mostre um menu com as seguintes opções:\n",
        "\n",
        "[1] Somar\n",
        "[2] Subtrair\n",
        "[3] Dividir\n",
        "[4] Multiplicar\n",
        "[5] Sair do programa.\n",
        "\n",
        "O programa deverá realizar a operação solicitada em cada caso."
      ]
    },
    {
      "cell_type": "code",
      "metadata": {
        "colab": {
          "base_uri": "https://localhost:8080/"
        },
        "id": "QaCZzb1theOt",
        "outputId": "9212499d-f0bc-445a-c02d-b7c16c1c31d0"
      },
      "source": [
        "num1 = int(input('Digite um número: '))\n",
        "num2 = int(input('Digite outro número: '))\n",
        "\n",
        "while True: \n",
        "  opcao=int(input('[1] Somar [2] Subtrair [3] Dividir [4] Multiplicar [5] Sair do programa.'))\n",
        "  if opcao ==1:\n",
        "    print('A soma é: {}'.format(num1 + num2))\n",
        "  elif opcao ==2:\n",
        "    print('A subtração é: {}'.format(num1-num2))\n",
        "  elif opcao ==3:\n",
        "    print('A divisão é: {}'.format(num1/num2))\n",
        "  elif opcao == 4:\n",
        "    print('A multiplicação é: {}'.format(num1*num2))\n",
        "  elif opcao == 5:\n",
        "    break\n",
        "  else:\n",
        "    print(\"Opção Invalida!!\")"
      ],
      "execution_count": null,
      "outputs": [
        {
          "name": "stdout",
          "output_type": "stream",
          "text": [
            "Digite um número: 4\n",
            "Digite outro número: 3\n",
            "[1] Somar [2] Subtrair [3] Dividir [4] Multiplicar [5] Sair do programa.1\n",
            "A soma é: 7\n",
            "[1] Somar [2] Subtrair [3] Dividir [4] Multiplicar [5] Sair do programa.2\n",
            "A subtração é: 1\n",
            "[1] Somar [2] Subtrair [3] Dividir [4] Multiplicar [5] Sair do programa.3\n",
            "A divisão é: 1.3333333333333333\n",
            "[1] Somar [2] Subtrair [3] Dividir [4] Multiplicar [5] Sair do programa.4\n",
            "A multiplicação é: 12\n",
            "[1] Somar [2] Subtrair [3] Dividir [4] Multiplicar [5] Sair do programa.6\n",
            "Opção Invalida!!\n",
            "[1] Somar [2] Subtrair [3] Dividir [4] Multiplicar [5] Sair do programa.5\n"
          ]
        }
      ]
    },
    {
      "cell_type": "code",
      "metadata": {
        "id": "Veyhur6_gNYr",
        "colab": {
          "base_uri": "https://localhost:8080/",
          "height": 259
        },
        "outputId": "069db853-4b10-4531-b81c-689a68f80771"
      },
      "source": [
        "resp = 0\n",
        "n1 = int(input('Digite um valor: '))\n",
        "n2 = int(input('Digite outro valor: '))\n",
        "while resp != 5:\n",
        "    print('-'*30)\n",
        "    resp = int(input(('''Digite [1] para soma \n",
        "Digite [2] para multiplicar\n",
        "Digite [3] para maior \n",
        "Digite [4] para novos números \n",
        "Digite [5] para sair do programa\n",
        "ual a sua opção:''')))\n",
        "    print('-'*30)\n",
        "    if resp == 1:\n",
        "        print('{} + {} = {}'.format(n1, n2, n1 + n2))\n",
        "    elif resp == 2:\n",
        "        print('{} X {} = {}'.format(n1, n2, n1 * n2))\n",
        "    elif resp == 3:\n",
        "        if n1 > n2:\n",
        "            print('maior: {}'.format(n1))\n",
        "        else:\n",
        "            print(n2)\n",
        "    elif resp == 4:\n",
        "        print('Informe os novos valores!')\n",
        "        n1 = int(input('Digite um valor: '))\n",
        "        n2 = int(input('Digite outro valor: '))\n",
        "    elif resp == 5:\n",
        "        print('Fim do programa')\n",
        "    else:\n",
        "        print('Opção Inválida!!')"
      ],
      "execution_count": null,
      "outputs": [
        {
          "output_type": "stream",
          "text": [
            "Digite o primeiro número: 4\n",
            "Digite o segundo número: 2\n",
            "Escolha: [1] Somar [2] Subtrair [3] Dividir [4] Multiplicar [5] Sair do programa.1\n",
            "6\n",
            "Escolha: [1] Somar [2] Subtrair [3] Dividir [4] Multiplicar [5] Sair do programa.2\n",
            "2\n",
            "Escolha: [1] Somar [2] Subtrair [3] Dividir [4] Multiplicar [5] Sair do programa.3\n",
            "2.0\n",
            "Escolha: [1] Somar [2] Subtrair [3] Dividir [4] Multiplicar [5] Sair do programa.4\n",
            "8\n",
            "Escolha: [1] Somar [2] Subtrair [3] Dividir [4] Multiplicar [5] Sair do programa.6\n",
            "Escolha: [1] Somar [2] Subtrair [3] Dividir [4] Multiplicar [5] Sair do programa.7\n",
            "Escolha: [1] Somar [2] Subtrair [3] Dividir [4] Multiplicar [5] Sair do programa.5\n"
          ],
          "name": "stdout"
        }
      ]
    },
    {
      "cell_type": "markdown",
      "metadata": {
        "id": "vosNGm5BfaQD"
      },
      "source": [
        "### 3.2.3. Exercício 3: Faça um programa que leia um número qualquer e mostre o seu fatorial. \n",
        "\n",
        "Exemplo:  5! = 5 x 4 x 3 x 2 x 1 = 120\n",
        "\n",
        "Input: 5\n",
        "\n",
        "Output: 120"
      ]
    },
    {
      "cell_type": "code",
      "metadata": {
        "colab": {
          "base_uri": "https://localhost:8080/"
        },
        "id": "JB3HZFtOkAi6",
        "outputId": "20150212-ef75-4013-c30c-132beb055c2e"
      },
      "source": [
        "num = int(input('Digite um número: '))\n",
        "fatorial = num\n",
        "while num > 1:\n",
        "  num -= 1\n",
        "  fatorial = fatorial * num\n",
        "print(fatorial)\n"
      ],
      "execution_count": null,
      "outputs": [
        {
          "output_type": "stream",
          "name": "stdout",
          "text": [
            "Digite um número: 5\n",
            "120\n"
          ]
        }
      ]
    },
    {
      "cell_type": "markdown",
      "source": [
        "Três soluções curso em video"
      ],
      "metadata": {
        "id": "qXqkwZ8ZluSY"
      }
    },
    {
      "cell_type": "code",
      "source": [
        "'''from math import factorial\n",
        "n = int(input('Digite um número: '))\n",
        "fatorial = factorial(n)\n",
        "print('O fatorial de {} é {}'.format(n, fatorial))'''\n",
        "\n",
        "n = int(input('Digite um número: '))\n",
        "num = n\n",
        "fatorial = 1\n",
        "print('Calculando {}!= '.format(n), end='')\n",
        "while num > 0:\n",
        "    print('{}'.format(num), end='')\n",
        "    print('x' if num > 1 else '=',end='')\n",
        "    fatorial = fatorial * num\n",
        "    num -= 1\n",
        "print('{}'.format(fatorial))\n",
        "\n",
        "'''n = int(input('Digite um número: '))\n",
        "fatorial = 1\n",
        "for i in range(n, 1, -1):\n",
        "    fatorial = fatorial * i\n",
        "print('O fatorial de {} é {}'.format(n, fatorial))'''"
      ],
      "metadata": {
        "id": "2hHNJ0HKlzzw"
      },
      "execution_count": null,
      "outputs": []
    },
    {
      "cell_type": "markdown",
      "metadata": {
        "id": "6uWVM2ZEgODD"
      },
      "source": [
        "### 3.2.4. Exercício 4: Faça um programa que leia um número inteiro N e mostre na tela os N primeiros números da Sequência de Fibonacci. \n",
        "\n",
        "Input: 7\n",
        "\n",
        "Output: 0 -> 1 -> 1 -> 2 -> 3 -> 5 -> 8"
      ]
    },
    {
      "cell_type": "code",
      "metadata": {
        "id": "CIp8JbVSncWE",
        "colab": {
          "base_uri": "https://localhost:8080/"
        },
        "outputId": "e416fef1-3625-4cfc-8a78-f5373bbb7c90"
      },
      "source": [
        "n = int(input('Digite um número para determinar a sequencia: '))\n",
        "contador = 1\n",
        "a = 1\n",
        "b = 0\n",
        "print(\"{} ->\".format(b), end=' ')\n",
        "while n > contador:\n",
        "    soma = a + b\n",
        "    print(\"{} ->\".format(soma), end=' ')\n",
        "    a = b\n",
        "    b = soma\n",
        "    contador = contador + 1\n",
        "print('Acabou')\n",
        "\n"
      ],
      "execution_count": null,
      "outputs": [
        {
          "output_type": "stream",
          "name": "stdout",
          "text": [
            "digite um número: 7\n",
            "1 ->1 ->2 ->3 ->5 ->8 ->13 ->"
          ]
        }
      ]
    },
    {
      "cell_type": "code",
      "metadata": {
        "id": "bhFzfmzBg-tw",
        "colab": {
          "base_uri": "https://localhost:8080/"
        },
        "outputId": "6401d5a3-c1d0-474f-f70f-54ff15d0a56b"
      },
      "source": [
        "numero = int(input(\"digite um número: \"))\n",
        "contador = 1\n",
        "a = 1\n",
        "b = 0\n",
        "\n",
        "print(\"{} ->\".format(b), end=' ')\n",
        "\n",
        "while numero > contador:\n",
        "  \n",
        "  soma = a + b\n",
        "  print(\"{} ->\".format(soma), end=' ')\n",
        "  a = b\n",
        "  b = soma\n",
        "  \n",
        "  contador = contador + 1 #contador += 1\n",
        "  "
      ],
      "execution_count": null,
      "outputs": [
        {
          "output_type": "stream",
          "name": "stdout",
          "text": [
            "digite um número: 1\n",
            "0 -> "
          ]
        }
      ]
    },
    {
      "cell_type": "markdown",
      "metadata": {
        "id": "KqOT49B0jl7q"
      },
      "source": [
        "### 3.2.5. Exercício 5: Faça um programa que leia vários números inteiros. O programa deverá parar quando o valor for igual a -1. No final, mostre a quantidade de números digitais e a soma deles (o número -1 não deve ser considerado para quantidade e soma solicitada)."
      ]
    },
    {
      "cell_type": "code",
      "metadata": {
        "colab": {
          "base_uri": "https://localhost:8080/"
        },
        "id": "b8PXrffHy07E",
        "outputId": "40be470e-98f1-4fd3-d391-628aeadad503"
      },
      "source": [
        "contador = 0\n",
        "soma = 0\n",
        "\n",
        "while True:\n",
        "  \n",
        "  numero = int(input(\"digite um número: \"))\n",
        "  \n",
        "  if numero == -1:\n",
        "    break\n",
        "    \n",
        "  contador += 1\n",
        "  soma = soma + numero\n",
        "  \n",
        "print('Soma: {}, Qnt num: {}'.format(contador, soma))"
      ],
      "execution_count": null,
      "outputs": [
        {
          "output_type": "stream",
          "name": "stdout",
          "text": [
            "digite um número: 5\n",
            "digite um número: 4\n",
            "digite um número: -1\n",
            "Soma: 2, Qnt num: 9\n"
          ]
        }
      ]
    },
    {
      "cell_type": "markdown",
      "metadata": {
        "id": "ScGt7O41juFk"
      },
      "source": [
        "### 3.2.6. Exercício 6: Faça um programa que leia vários números. No final, mostre o maior e o menor valor, assim como a média de todos os números. O usuário deverá ser questionado quando deve terminar o programa."
      ]
    },
    {
      "cell_type": "code",
      "metadata": {
        "colab": {
          "base_uri": "https://localhost:8080/"
        },
        "id": "YrhAIr8N2x-w",
        "outputId": "7046181e-e8cb-4b6b-e1ce-47d1aaf59dca"
      },
      "source": [
        "contador = 0\n",
        "soma = 0\n",
        "maior = 0\n",
        "menor = 100\n",
        "while True:\n",
        "  num = int(input('Digite um número inteiro: '))\n",
        "  if num > maior:\n",
        "    maior = num\n",
        "  elif num < menor:\n",
        "    menor = num\n",
        "  contador += 1\n",
        "  soma = soma + num \n",
        "  opcao = input('Deseja continuar [s ou n]')\n",
        "  if opcao == 'n':\n",
        "    break\n",
        "print('Maior número: {}, Menor Número: {}, média: {}'.format(maior,menor,soma/contador))\n",
        "  \n"
      ],
      "execution_count": null,
      "outputs": [
        {
          "output_type": "stream",
          "name": "stdout",
          "text": [
            "Digite um número inteiro: 5\n",
            "Deseja continuar [s ou n]n\n",
            "Digite um número inteiro: 7\n",
            "Deseja continuar [s ou n]n\n",
            "Digite um número inteiro: 8\n",
            "Deseja continuar [s ou n]s\n",
            "Maior número: 8, Menor Número: 100, média: 6.666666666666667\n"
          ]
        }
      ]
    },
    {
      "cell_type": "code",
      "metadata": {
        "id": "8DEnxZK-2phs"
      },
      "source": [
        "contador = soma = maior = menor = 0\n",
        "opcao = 'S'\n",
        "while opcao == 'S':\n",
        "  num = int(input('Digite um número inteiro: '))\n",
        "  if num > maior:\n",
        "    maior = num\n",
        "    menor = maior\n",
        "  elif num < menor:\n",
        "    menor = num\n",
        "  contador += 1\n",
        "  soma = soma + num \n",
        "  opcao = input('Deseja continuar [S ou N]').strip().upper()[0]\n",
        "print('vocÊ digitou {} números média: {}, Maior número: {}, Menor Número: {}'.format(contador, soma/contador, maior, menor))"
      ],
      "execution_count": null,
      "outputs": []
    },
    {
      "cell_type": "markdown",
      "metadata": {
        "id": "_Q6VwWG3kJBe"
      },
      "source": [
        "### 3.2.7. Exercício 7: Faça um programa que mostre a tabuada de um número informado. O programa deverá parar quando o número informado for negativo."
      ]
    },
    {
      "cell_type": "code",
      "metadata": {
        "colab": {
          "base_uri": "https://localhost:8080/"
        },
        "id": "jmGj1W0a53-e",
        "outputId": "88c0d730-12a2-4cd4-ba41-136d536bd9d8"
      },
      "source": [
        "while True: \n",
        "  num = int(input('Digite um numero: '))\n",
        "  if num < 0:\n",
        "    break\n",
        "  contador = 0\n",
        "  while contador <= 10:\n",
        "    soma = num * contador\n",
        "    print(num, \"X\", contador, \"=\",soma)  \n",
        "    contador += 1\n",
        "   \n",
        "\n"
      ],
      "execution_count": null,
      "outputs": [
        {
          "name": "stdout",
          "output_type": "stream",
          "text": [
            "Digite um numero: 10\n",
            "10 X 0 = 0\n",
            "10 X 1 = 10\n",
            "10 X 2 = 20\n",
            "10 X 3 = 30\n",
            "10 X 4 = 40\n",
            "10 X 5 = 50\n",
            "10 X 6 = 60\n",
            "10 X 7 = 70\n",
            "10 X 8 = 80\n",
            "10 X 9 = 90\n",
            "10 X 10 = 100\n",
            "Digite um numero: -1\n"
          ]
        }
      ]
    },
    {
      "cell_type": "code",
      "metadata": {
        "id": "0XVtTOcCk_jf",
        "colab": {
          "base_uri": "https://localhost:8080/",
          "height": 238
        },
        "outputId": "14590b7e-3301-4e7a-c9f3-9379abf6a2a1"
      },
      "source": [
        "while True:\n",
        "    print('-'*40)\n",
        "    n = int(input('Quer ver a tabuada de qual valor: '))\n",
        "    print('-' * 40)\n",
        "    if n < 0:\n",
        "        break\n",
        "    for i in range(1, 11):\n",
        "        print(f'{n} X {i} = {n*i}')\n"
      ],
      "execution_count": null,
      "outputs": [
        {
          "output_type": "stream",
          "text": [
            "Digite um número10\n",
            "10 X 0 = 0\n",
            "10 X 1 = 10\n",
            "10 X 2 = 20\n",
            "10 X 3 = 30\n",
            "10 X 4 = 40\n",
            "10 X 5 = 50\n",
            "10 X 6 = 60\n",
            "10 X 7 = 70\n",
            "10 X 8 = 80\n",
            "10 X 9 = 90\n",
            "10 X 10 = 100\n",
            "Digite um número-1\n"
          ],
          "name": "stdout"
        }
      ]
    },
    {
      "cell_type": "markdown",
      "metadata": {
        "id": "V39J6eclA5le"
      },
      "source": [
        "### 3.2.8. Exercício 8: Crie um programa que leia a idade e o gênero de cada pessoa. Após cada cadastro o programa deverá perguntar se o usuário deseja continuar ou não cadastrando novas pessoas. No final, o programa deverá mostrar:\n",
        "\n",
        "1.   Quantas pessoas de mais de 18 anos.\n",
        "2.   Quantos homens foram cadastrados.\n",
        "3.   Quantas mulheres com menos de 20 anos foram cadastradas."
      ]
    },
    {
      "cell_type": "code",
      "metadata": {
        "colab": {
          "base_uri": "https://localhost:8080/"
        },
        "id": "nBdP0dSY7tk9",
        "outputId": "8d846a5d-3fbe-4d94-bdf9-72e07bf5d6df"
      },
      "source": [
        "maior_18 = 0\n",
        "quant_homens = 0\n",
        "mulher_20 = 0\n",
        "\n",
        "while True: \n",
        "  idade = int(input(\"Digite a idade: \"))\n",
        "  genero = input(\"Digite o gênero [h/m]:\")\n",
        "  if idade >= 18:\n",
        "    maior_18 +=1\n",
        "  if genero == 'h':\n",
        "    quant_homens += 1\n",
        "  if idade < 20 and genero == 'm':\n",
        "    mulher_20 += 1\n",
        "  opcao =input('Deseja Continuar [s ou n]')\n",
        "  if opcao == 'n':\n",
        "    break\n",
        "print('Maior de 18: {}, Quantidade homens: {}, Quantidade mulheres maiores de 20 anos: {}'.format(maior_18,quant_homens,mulher_20))\n"
      ],
      "execution_count": null,
      "outputs": [
        {
          "output_type": "stream",
          "name": "stdout",
          "text": [
            "Digite a idade: 18\n",
            "Digite o gênero [h/m]:h\n",
            "Deseja Continuar [s ou n]s\n",
            "Digite a idade: 18\n",
            "Digite o gênero [h/m]:h\n",
            "Deseja Continuar [s ou n]n\n",
            "Maior de 18: 2, Quantidade homens: `2, Quantidade mulheres maiores de 20 anos: 0\n"
          ]
        }
      ]
    },
    {
      "cell_type": "code",
      "metadata": {
        "id": "RfnFPzygBYfr"
      },
      "source": [
        "maior_dezoito = 0\n",
        "quantidade_homens = 0\n",
        "mulheres_menor_vinte = 0\n",
        "\n",
        "while True:\n",
        "  \n",
        "  idade = int(input(\"Digite a idade: \"))\n",
        "  genero = input(\"Digite o gênero [h/m]:\")\n",
        "  \n",
        "  if idade > 18:\n",
        "    maior_dezoito += 1\n",
        "    \n",
        "  if genero == 'h':\n",
        "    quantidade_homens += 1\n",
        "    \n",
        "  if idade < 20 and genero == 'm':\n",
        "    mulheres_menor_vinte += 1\n",
        "    \n",
        "  opcao = input('Deseja continuar [s]im ou [n]ão: ')\n",
        "  if opcao == 'n':\n",
        "    break\n",
        "    \n",
        "print(maior_dezoito, quantidade_homens, mulheres_menor_vinte)"
      ],
      "execution_count": null,
      "outputs": []
    },
    {
      "cell_type": "markdown",
      "metadata": {
        "id": "sUac_6Z5H4yI"
      },
      "source": [
        "\n",
        "### 3.2.9. Exercício 9: Crie um programa que leia o nome e o preço de vários produtos. O programa deverá perguntar se o usuário deseja continuar cadastrando novos produtos após cada inserção. No final, o programa deverá mostrar:\n",
        "\n",
        "1. Qual foi o total gasto na compra.\n",
        "2. Quantos produtos custam mais de R$ 100,00.\n",
        "3. Qual é o nome do produto mais barato."
      ]
    },
    {
      "cell_type": "code",
      "metadata": {
        "id": "xoxtLirSJ2Rd",
        "colab": {
          "base_uri": "https://localhost:8080/"
        },
        "outputId": "b8c6914d-c3a5-466d-ab11-5479054dd582"
      },
      "source": [
        "total_gasto = 0\n",
        "produto_100 = 0\n",
        "menor_preco = 0\n",
        "count = 0\n",
        "barato = ''\n",
        "while True:\n",
        "  preco = int(input('Digite o preço do Produto: '))\n",
        "  nome = input('Digite o nome do produto: ')\n",
        "  count += 1\n",
        "  if count == 1:\n",
        "    menor_preco = preco\n",
        "    barato = nome\n",
        "  else:\n",
        "    if preco < menor_preco:\n",
        "      menor_preco = preco\n",
        "      barato = nome\n",
        "  total_gasto += preco\n",
        "  if preco > 100:\n",
        "    produto_100 += 1\n",
        "  \n",
        "  opcao = input('Deseja continuar [s ou n]')\n",
        "  if opcao == 'n':\n",
        "    break\n",
        "print('O total gasto foi: {}, quantidades de produtos mais caros que 100 reais: {}, O produto mais barato custa: {}, Produto mais barato é: {}'.format(total_gasto,produto_100,menor_preco,barato, end = ''))"
      ],
      "execution_count": null,
      "outputs": [
        {
          "output_type": "stream",
          "name": "stdout",
          "text": [
            "Digite o preço do Produto: 150\n",
            "Digite o nome do produto: salame\n",
            "Deseja continuar [s ou n]s\n",
            "Digite o preço do Produto: 120\n",
            "Digite o nome do produto: pizza\n",
            "Deseja continuar [s ou n]n\n",
            "O total gasto foi: 270, quantidades de produtos mais caros que 100 reais: 2, O produto mais barato custa: 120, Produto mais barato é: pizza\n"
          ]
        }
      ]
    },
    {
      "cell_type": "markdown",
      "metadata": {
        "id": "JJKQoh_MS6KV"
      },
      "source": [
        "### 3.2.10. Exercício 10: Crie um programa que simule o funcionamento de um caixa eletrônico. No início, pergunte ao usuário qual será o valor a ser sacado (número inteiro) e o programa vai informar quantas cédulas de cada valor serão entregues. Considere que o caixa possui cédulas de R\\$50, R\\$20, R\\$10 e R\\$1."
      ]
    },
    {
      "cell_type": "code",
      "metadata": {
        "id": "THQdz-kwizcj",
        "colab": {
          "base_uri": "https://localhost:8080/",
          "height": 51
        },
        "outputId": "a75c6d90-9530-47e8-a06b-811a3b5ff880"
      },
      "source": [
        "total_saque = int(input('Digite o valor de saque: '))\n",
        "\n",
        "notas_50 = 0\n",
        "notas_20 = 0\n",
        "notas_10 = 0\n",
        "notas_1 = 0\n",
        "\n",
        "while total_saque > 0:\n",
        "  \n",
        "  if total_saque // 50 > 0:\n",
        "    notas_50 = total_saque // 50\n",
        "    total_saque = total_saque - (notas_50 * 50)\n",
        "    \n",
        "  elif total_saque // 20 > 0:\n",
        "    notas_20 = total_saque // 20\n",
        "    total_saque = total_saque - (notas_20 * 20)\n",
        "    \n",
        "  elif total_saque // 10 > 0:\n",
        "    notas_10 = total_saque // 10\n",
        "    total_saque = total_saque - (notas_10 * 10)\n",
        "    \n",
        "  elif total_saque // 1 > 0:\n",
        "    notas_1 = total_saque // 1\n",
        "    total_saque = total_saque - (notas_1 * 1)   \n",
        "    \n",
        "print(notas_50, notas_20, notas_10, notas_1)    "
      ],
      "execution_count": null,
      "outputs": [
        {
          "output_type": "stream",
          "text": [
            "Digite o valor de saque: 2231\n",
            "44 1 1 1\n"
          ],
          "name": "stdout"
        }
      ]
    },
    {
      "cell_type": "code",
      "metadata": {
        "id": "se8x_KfrTAME",
        "colab": {
          "base_uri": "https://localhost:8080/"
        },
        "outputId": "56d50b8b-04d3-4b51-de04-9223a45ee706"
      },
      "source": [
        "total_saque = int(input('Digite o valor de saque: '))\n",
        "\n",
        "notas_50 = 0\n",
        "notas_20 = 0\n",
        "notas_10 = 0\n",
        "notas_1 = 0\n",
        "\n",
        "notas_50 = total_saque // 50\n",
        "total_saque = total_saque % 50\n",
        "\n",
        "notas_20 = total_saque // 20\n",
        "total_saque = total_saque % 20\n",
        "\n",
        "notas_10 = total_saque // 10\n",
        "total_saque = total_saque % 10\n",
        "\n",
        "notas_1 = total_saque // 1\n",
        "total_saque = total_saque % 1\n",
        "\n",
        "print(notas_50, notas_20, notas_10, notas_1)"
      ],
      "execution_count": null,
      "outputs": [
        {
          "output_type": "stream",
          "name": "stdout",
          "text": [
            "Digite o valor de saque: 156\n",
            "3 0 0 6\n"
          ]
        }
      ]
    },
    {
      "cell_type": "markdown",
      "source": [
        "Alguns exercicios curso em video"
      ],
      "metadata": {
        "id": "7Iw3pY3AkqFo"
      }
    },
    {
      "cell_type": "markdown",
      "source": [
        "Exercício Python 58: Melhore o jogo do DESAFIO 28 onde o computador vai “pensar” em um número entre 0 e 10. Só que agora o jogador vai tentar adivinhar até acertar, mostrando no final quantos palpites foram necessários para vencer."
      ],
      "metadata": {
        "id": "nDa3tPgjTq6y"
      }
    },
    {
      "cell_type": "code",
      "source": [
        "# melhorando o desafio da escolha\n",
        "from time import sleep\n",
        "from random import randint\n",
        "tentativas = 0\n",
        "acertou = False\n",
        "num = randint(0, 10)\n",
        "print('\\33[34m --=--' * 20)\n",
        "print('\\33[35mVou pensar em um número entre 0 e 10. Tente adivinhar.')\n",
        "print('\\33[34m --=--' * 20)\n",
        "while not acertou:\n",
        "    jogador = int(input('\\33[m Em que número pensei: '))\n",
        "    tentativas += 1\n",
        "    print('\\33[32m PROCESSANDO...')\n",
        "    sleep(1)\n",
        "    if jogador == num:\n",
        "        acertou = True\n",
        "    if jogador == num:\n",
        "        print('\\33[32m Você acertou! PARABÉNS. Com {} tentativas!'.format(tentativas))\n",
        "    else:\n",
        "        if num > jogador:\n",
        "            print('\\33[31m Mais....')\n",
        "        else:\n",
        "            print('\\33[31m Menos....')\n"
      ],
      "metadata": {
        "id": "PLeJlGzvktu1"
      },
      "execution_count": null,
      "outputs": []
    },
    {
      "cell_type": "markdown",
      "source": [
        "Exercício Python 61: Refaça o DESAFIO 51, lendo o primeiro termo e a razão de uma PA, mostrando os 10 primeiros termos da progressão usando a estrutura while."
      ],
      "metadata": {
        "id": "FMAOu00HmBD0"
      }
    },
    {
      "cell_type": "code",
      "source": [
        "termo = int(input('Digite o primeiro termo da PA: '))\n",
        "razao = int(input('Digite a razão da PA: '))\n",
        "vezes = 10\n",
        "soma = 0\n",
        "while vezes > 0:\n",
        "    print(soma + termo, end ='--> ')\n",
        "    soma += razao\n",
        "    vezes -= 1\n",
        "print('Acabou!')"
      ],
      "metadata": {
        "id": "Rzkzn92FmGRu"
      },
      "execution_count": null,
      "outputs": []
    },
    {
      "cell_type": "markdown",
      "source": [
        "Exercício Python 62: Melhore o DESAFIO 61, perguntando para o usuário se ele quer mostrar mais alguns termos. O programa encerrará quando ele disser que quer mostrar 0 termos.\n",
        "\n"
      ],
      "metadata": {
        "id": "rU_UtkEImRx9"
      }
    },
    {
      "cell_type": "code",
      "source": [
        "primeiro = int(input('Digite o primeiro termo da PA: '))\n",
        "razao = int(input('Digite a razão da PA: '))\n",
        "termo = primeiro\n",
        "cont = 1\n",
        "tot = 0\n",
        "quantidade = 10\n",
        "while quantidade != 0:\n",
        "    tot += quantidade\n",
        "    while cont <= tot:\n",
        "        print(termo, end='--> ')\n",
        "        termo += razao\n",
        "        cont += 1\n",
        "    print('Pausa')\n",
        "    quantidade = int(input('Digite a quantidade que deseja adiconar  a PA: '))\n",
        "print('Finalizado, foram mostrados {} termos'.format(tot))"
      ],
      "metadata": {
        "id": "J3eCGHMcmXHk"
      },
      "execution_count": null,
      "outputs": []
    },
    {
      "cell_type": "markdown",
      "source": [
        "Exercício Python 68: Faça um programa que jogue par ou ímpar com o computador. O jogo só será interrompido quando o jogador perder, mostrando o total de vitórias consecutivas que ele conquistou no final do jogo."
      ],
      "metadata": {
        "id": "Z6XuJi5noAz8"
      }
    },
    {
      "cell_type": "code",
      "source": [
        "from random import randint\n",
        "v = 0\n",
        "print('Vamos jogar par ou impar')\n",
        "while True:\n",
        "    jogador = int(input('Digite um número: '))\n",
        "    computador = randint(0, 10)\n",
        "    soma = jogador + computador\n",
        "    escolha = ' '\n",
        "    while escolha not in 'PI':\n",
        "        escolha = str(input('Par ou Impar [P/I]: ')).strip().upper()[0]\n",
        "    print(f'jogador escolheu {jogador} e computador escolheu {computador} o total foi {soma}', end=' ')\n",
        "    print('DEU PAR' if soma % 2 == 0 else 'DEU IMPAR')\n",
        "    if escolha == 'P':\n",
        "        if soma % 2 == 0:\n",
        "            print('JOGADOR VENCEU!')\n",
        "            v += 1\n",
        "        else:\n",
        "            print('JOGADOR PERDEU')\n",
        "            break\n",
        "    elif escolha == 'I':\n",
        "        if soma % 2 == 1:\n",
        "            print('JOGADOR VENCEU!')\n",
        "            v += 1\n",
        "        else:\n",
        "            print('JOGADOR PERDEU!')\n",
        "            break\n",
        "    print('Vamos Jogar Novamente!')\n",
        "print(f'Você ganhou {v} vezes')"
      ],
      "metadata": {
        "id": "VGF2M8oUoEZh"
      },
      "execution_count": null,
      "outputs": []
    },
    {
      "cell_type": "markdown",
      "source": [
        "Exercício Python 69: Crie um programa que leia a idade e o sexo de várias pessoas. A cada pessoa cadastrada, o programa deverá perguntar se o usuário quer ou não continuar. No final, mostre:\n",
        "\n",
        "A) quantas pessoas tem mais de 18 anos.\n",
        "\n",
        "B) quantos homens foram cadastrados.\n",
        "\n",
        "C) quantas mulheres tem menos de 20 anos."
      ],
      "metadata": {
        "id": "dv40rCJFoJiD"
      }
    },
    {
      "cell_type": "code",
      "source": [
        "print('-'*20)\n",
        "print('Cadastrando pessoas ')\n",
        "print('-'*20)\n",
        "maiores = homens = mulheres20 = 0\n",
        "while True:\n",
        "    idade = int(input('Digite sua idade: '))\n",
        "    sexo = ' '\n",
        "    while sexo not in 'MF':\n",
        "        sexo = str(input('Qual seu sexo [M/F]')).strip().upper()[0]\n",
        "    if idade > 18:\n",
        "        maiores += 1\n",
        "    if sexo in 'Mm':\n",
        "        homens += 1\n",
        "    if sexo in 'Ff' and idade < 20:\n",
        "        mulheres20 += 1\n",
        "    resp = ' '\n",
        "    while resp not in 'SN':\n",
        "        resp = str(input('Deseja continuar [S/N]')).strip().upper()[0]\n",
        "    if resp == 'N':\n",
        "        break\n",
        "print(f'Foram cadastrados {maiores} pessoas com mais de 18 anos')\n",
        "print(f'Foram cadastrados {homens} homens')\n",
        "print(f'Foram cadastrados {mulheres20} mulheres com menos de 20 anos')"
      ],
      "metadata": {
        "id": "Xvev9P2koRrf"
      },
      "execution_count": null,
      "outputs": []
    },
    {
      "cell_type": "code",
      "source": [
        "Exercício Python 70: Crie um programa que leia o nome e o preço de vários produtos. O programa deverá perguntar se o usuário vai continuar ou não. No final, mostre:\n",
        "\n",
        "A) qual é o total gasto na compra.\n",
        "\n",
        "B) quantos produtos custam mais de R$1000.\n",
        "\n",
        "C) qual é o nome do produto mais barato."
      ],
      "metadata": {
        "id": "fEFIV5I6oe0d"
      },
      "execution_count": null,
      "outputs": []
    },
    {
      "cell_type": "code",
      "source": [
        "soma = cont = menor = maior = 0\n",
        "produto = ' '\n",
        "while True:\n",
        "    nome = str(input('Digite o nome do produto: '))\n",
        "    preco = float(input('Digite o preco do produto: '))\n",
        "    soma += preco\n",
        "    cont += 1\n",
        "    if preco > 1000:\n",
        "        maior += 1\n",
        "    if cont == 1 or preco < menor:\n",
        "        menor = preco\n",
        "        produto = nome\n",
        "    resp = str(input('Deseja cotinuar [S/N]')).strip().upper()[0]\n",
        "    while resp not in 'SN':\n",
        "        resp = str(input('Deseja cotinuar [S/N]')).strip().upper()[0]\n",
        "    if resp in 'Nn':\n",
        "        break\n",
        "print('{:-^40}'.format('Fim do programa'))\n",
        "print(f'O total gasto foi R$ {soma:.2f}')\n",
        "print(f'Tem {maior} produtos que custam mais de R$ 1.000,00')\n",
        "print(f'O produto mais barato è {produto} e custa {menor:.2f}')\n",
        "print(f'Foram processados {cont} produtos ')"
      ],
      "metadata": {
        "id": "IpXLB2N0ojl8"
      },
      "execution_count": null,
      "outputs": []
    },
    {
      "cell_type": "markdown",
      "source": [
        "Exercício Python 071: Crie um programa que simule o funcionamento de um caixa eletrônico. No início, pergunte ao usuário qual será o valor a ser sacado (número inteiro) e o programa vai informar quantas cédulas de cada valor serão entregues. OBS:\n",
        "\n",
        "considere que o caixa possui cédulas de R$50, R$20, R$10 e R$1."
      ],
      "metadata": {
        "id": "-daQK6ObotrD"
      }
    },
    {
      "cell_type": "code",
      "source": [
        "# notas50 = notas20 = notas10= notas1 = 0\n",
        "# print('{:^30}'.format('Banco Santer'))\n",
        "# saque = int(input('Qual o valor a ser sacado: R$ '))\n",
        "# while True:\n",
        "#     if saque // 50 > 0:\n",
        "#         notas50 = saque // 50\n",
        "#         saque = saque - (notas50 * 50)\n",
        "#     elif saque // 20 > 0:\n",
        "#         notas20 = saque // 20\n",
        "#         saque = saque - (notas20 * 20)\n",
        "#     elif saque // 10 > 0:\n",
        "#         notas10 = saque // 10\n",
        "#         saque = saque - (notas10 * 10)\n",
        "#     elif saque // 1 > 0:\n",
        "#         notas1 = saque // 1\n",
        "#         saque = saque - (notas1 * 1)\n",
        "#     elif saque == 0:\n",
        "#         break\n",
        "# print(f'total de {notas50} cedulas de R$ 50,00')\n",
        "# print(f'total de {notas20} cedulas de R$ 20,00')\n",
        "# print(f'total de {notas10} cedulas de R$ 10,00')\n",
        "# print(f'total de {notas1} cedulas de R$  1,00')\n",
        "# print(f'Volte sempre ao banco Santer')\n",
        "\n",
        "print('{:^30}'.format('Banco Santer'))\n",
        "saque = int(input('Qual o valor a ser sacado: R$ '))\n",
        "total = saque\n",
        "cedula = 50\n",
        "totced = 0\n",
        "while True:\n",
        "    if total >= cedula:\n",
        "        total -= cedula\n",
        "        totced += 1\n",
        "    else:\n",
        "        if totced > 0:\n",
        "            print(f'O total de {totced} cédulas foi de R${cedula}')\n",
        "        if cedula == 50:\n",
        "            cedula = 20\n",
        "        elif cedula == 20:\n",
        "            cedula = 10\n",
        "        elif cedula == 10:\n",
        "            cedula = 1\n",
        "        totced = 0\n",
        "        if total == 0:\n",
        "            break\n"
      ],
      "metadata": {
        "id": "sPLSoNaaov-x"
      },
      "execution_count": null,
      "outputs": []
    }
  ]
}