{
  "nbformat": 4,
  "nbformat_minor": 0,
  "metadata": {
    "colab": {
      "name": "Copy of Aula 12 - Parte III - Manipulação de Arquivos - RESOLVIDO",
      "provenance": [],
      "collapsed_sections": [],
      "include_colab_link": true
    },
    "kernelspec": {
      "name": "python3",
      "display_name": "Python 3"
    }
  },
  "cells": [
    {
      "cell_type": "markdown",
      "metadata": {
        "id": "view-in-github",
        "colab_type": "text"
      },
      "source": [
        "<a href=\"https://colab.research.google.com/github/MatheusSilvaTorres/Python/blob/main/Manipula%C3%A7%C3%A3o%20de%20Arquivos\" target=\"_parent\"><img src=\"https://colab.research.google.com/assets/colab-badge.svg\" alt=\"Open In Colab\"/></a>"
      ]
    },
    {
      "cell_type": "markdown",
      "metadata": {
        "id": "IWT9kBSMTj2O"
      },
      "source": [
        "# Parte III - Arquivos\n",
        "## Aula 12 - Manipulação de Arquivos\n",
        "### Linguagem de Programação (Prof. Dr. Henrique Dezani)\n",
        "Curso de Tecnologia em Análise e Desenvolvimento de Sistemas da Faculdade de Tecnologia de São José do Rio Preto"
      ]
    },
    {
      "cell_type": "markdown",
      "metadata": {
        "id": "Bu_cUAtKULLJ"
      },
      "source": [
        "Um programa ativo acessa dados armazenados na memória de acesso aleatório ou RAM. A RAM é muito rápida, mas é cara e requer um fornecimento constante de energia; se a energia acabar, todos os dados na memória serão perdidos. As unidades de disco são mais lentas que a RAM, mas têm mais capacidade, custam menos e retêm dados mesmo depois que alguém tropeça no cabo de alimentação. Assim, uma enorme quantidade de esforço em sistemas de computador foi dedicada a fazer as melhores compensações entre o armazenamento de dados no disco e na RAM. Como programadores, precisamos persistir: armazenar e recuperar dados usando mídia não volátil, como discos."
      ]
    },
    {
      "cell_type": "markdown",
      "metadata": {
        "id": "GJewQx1RAu2-"
      },
      "source": [
        "### 12.1. Entrada/Saída de Arquivo\n",
        "\n",
        "O tipo mais simples de persistência é o antigo arquivo puro, às vezes chamado arquivo. Esta é apenas uma sequência de bytes armazenados em um nome de arquivo. Você lê de um arquivo na memória e grava da memória em um arquivo. O Python facilita esses trabalhos, uma vez que suas operações de arquivo foram modeladas nos equivalentes familiares e populares do Unix.\n",
        "\n",
        "Antes de ler ou gravar um arquivo, você precisa abri-lo:"
      ]
    },
    {
      "cell_type": "code",
      "metadata": {
        "id": "0cTOMlC_69nE"
      },
      "source": [
        "# fileobj = open( filename, mode )"
      ],
      "execution_count": null,
      "outputs": []
    },
    {
      "cell_type": "markdown",
      "metadata": {
        "id": "smt9s-sB7FZ1"
      },
      "source": [
        "Aqui está uma breve explicação das partes desta chamada:\n",
        "\n",
        "`fileobj` é o objeto de arquivo retornado por open()\n",
        "\n",
        "- `filename` é uma string com o nome do arquivo\n",
        "- `mode` é uma string que indica o tipo do arquivo e o que você deseja fazer com ele:\n",
        "\n",
        "A primeira letra do modo indica a operação:\n",
        "\n",
        "- `r` significa **ler**.\n",
        "- `w` significa **escrever**. Se o arquivo não existir, ele será criado. Se o arquivo existir, ele será substituído.\n",
        "- `x` significa **escrever**, mas somente se o arquivo ainda não **existir**.\n",
        "- `a` significa **acrescentar** (escrever após o final) se o arquivo existir.\n",
        "\n",
        "A segunda letra do modo é o tipo do arquivo:\n",
        "\n",
        "- `t` (ou nada) significa **texto**.\n",
        "- `b` significa binário.\n",
        "\n",
        "Depois de abrir o arquivo, você chama funções para ler ou gravar dados; estes serão mostrados nos exemplos a seguir.\n",
        "\n",
        "Por último, você precisa fechar o arquivo."
      ]
    },
    {
      "cell_type": "markdown",
      "metadata": {
        "id": "aj9_dtWnBuYX"
      },
      "source": [
        "## 12.2. Escrever um arquivo de texto com `write()`"
      ]
    },
    {
      "cell_type": "code",
      "metadata": {
        "id": "Qk1IMjMW7G7u",
        "outputId": "e57fc693-6cd0-46f1-b268-d354d1d9b4c9",
        "colab": {
          "base_uri": "https://localhost:8080/"
        }
      },
      "source": [
        "poema = '''Batatinha quando nasce espalha a rama pelo chão.\n",
        "Menininha quando dorme põe a mão no coração.\n",
        "Sou pequenininha do tamanho de um botão,\n",
        "Carrego papai no bolso e mamãe no coração\n",
        "O bolso furou e o papai caiu no chão.\n",
        "Mamãe que é mais querida ficou no coração.'''\n",
        "\n",
        "len(poema)"
      ],
      "execution_count": null,
      "outputs": [
        {
          "output_type": "execute_result",
          "data": {
            "text/plain": [
              "257"
            ]
          },
          "metadata": {},
          "execution_count": 1
        }
      ]
    },
    {
      "cell_type": "code",
      "metadata": {
        "id": "ZgJ2WINSCgDY"
      },
      "source": [
        "file_out = open('poema.txt', 'wt')"
      ],
      "execution_count": null,
      "outputs": []
    },
    {
      "cell_type": "code",
      "metadata": {
        "id": "a6o1ChnPCmOt",
        "outputId": "1a3b9f32-be94-45ee-bd19-3747e2c62fd5",
        "colab": {
          "base_uri": "https://localhost:8080/",
          "height": 34
        }
      },
      "source": [
        "file_out.write(poema)"
      ],
      "execution_count": null,
      "outputs": [
        {
          "output_type": "execute_result",
          "data": {
            "text/plain": [
              "257"
            ]
          },
          "metadata": {
            "tags": []
          },
          "execution_count": 76
        }
      ]
    },
    {
      "cell_type": "code",
      "metadata": {
        "id": "Cb_N7eWPCpjc"
      },
      "source": [
        "file_out.close()"
      ],
      "execution_count": null,
      "outputs": []
    },
    {
      "cell_type": "markdown",
      "metadata": {
        "id": "m0beYUIU7KJ-"
      },
      "source": [
        "A função `write()` retorna o número de bytes gravados. Ele não adiciona espaços ou novas linhas, como `print()`. Você também pode `print()` em um arquivo de texto:"
      ]
    },
    {
      "cell_type": "code",
      "metadata": {
        "id": "zIES1ugKC96J"
      },
      "source": [
        "file_out = open('poema.txt', 'wt')\n",
        "print(poema, file=file_out)\n",
        "file_out.close()"
      ],
      "execution_count": null,
      "outputs": []
    },
    {
      "cell_type": "markdown",
      "metadata": {
        "id": "tniv92yn7YGM"
      },
      "source": [
        "Isso levanta a questão: devo usar `write()` ou `print()`? Por padrão, `print()` adiciona um espaço após cada argumento e uma nova linha no final. No exemplo anterior, ele anexou uma nova linha ao arquivo do poema. Para fazer `print()` funcionar como `write()`, passe os dois argumentos a seguir:\n",
        "- `sep` (separador, cujo padrão é um espaço \" \")\n",
        "- `end` (string final, cujo padrão é uma nova linha, '\\n')"
      ]
    },
    {
      "cell_type": "code",
      "metadata": {
        "id": "sjfJxlZD7eaa"
      },
      "source": [
        "file_out = open('poema.txt', 'wt')\n",
        "print(poema, file=file_out, sep='', end='')\n",
        "file_out.close()"
      ],
      "execution_count": null,
      "outputs": []
    },
    {
      "cell_type": "markdown",
      "metadata": {
        "id": "pHxbDPDK7qRL"
      },
      "source": [
        "Se o arquivo contém dados preciosos para nós, vamos ver se o uso do modo `x` realmente nos protege de substituí-lo:"
      ]
    },
    {
      "cell_type": "code",
      "metadata": {
        "id": "LHl2oiha8YLE"
      },
      "source": [
        "parlenda = '''Sol e chuva,\n",
        "Casamento de viúva.\n",
        "Chuva e Sol,\n",
        "Casamento de espanhol.'''"
      ],
      "execution_count": null,
      "outputs": []
    },
    {
      "cell_type": "code",
      "metadata": {
        "id": "LdvPImIWSh05"
      },
      "source": [
        "file_out = open('parlendas.txt', 'xt')\n",
        "print(parlenda, file=file_out, sep='', end='')\n",
        "file_out.close()"
      ],
      "execution_count": null,
      "outputs": []
    },
    {
      "cell_type": "code",
      "metadata": {
        "id": "qVr9GqiWS9-C"
      },
      "source": [
        "nova_parlenda = '''Uni duni tê\n",
        "Salamê min guê\n",
        "O sorvete colorido\n",
        "O escolhido foi você!'''"
      ],
      "execution_count": null,
      "outputs": []
    },
    {
      "cell_type": "code",
      "metadata": {
        "id": "08JVmMiQTHlE",
        "outputId": "cc4ad6a5-b81c-496a-e9eb-a1a1f5f56937",
        "colab": {
          "base_uri": "https://localhost:8080/",
          "height": 197
        }
      },
      "source": [
        "file_out = open('parlendas.txt', 'xt')\n",
        "print(nova_parlenda, file=file_out, sep='', end='')\n",
        "file_out.close()"
      ],
      "execution_count": null,
      "outputs": [
        {
          "output_type": "error",
          "ename": "FileExistsError",
          "evalue": "ignored",
          "traceback": [
            "\u001b[0;31m---------------------------------------------------------------------------\u001b[0m",
            "\u001b[0;31mFileExistsError\u001b[0m                           Traceback (most recent call last)",
            "\u001b[0;32m<ipython-input-10-b6e1e901badf>\u001b[0m in \u001b[0;36m<module>\u001b[0;34m()\u001b[0m\n\u001b[0;32m----> 1\u001b[0;31m \u001b[0mfile_out\u001b[0m \u001b[0;34m=\u001b[0m \u001b[0mopen\u001b[0m\u001b[0;34m(\u001b[0m\u001b[0;34m'parlendas.txt'\u001b[0m\u001b[0;34m,\u001b[0m \u001b[0;34m'xt'\u001b[0m\u001b[0;34m)\u001b[0m\u001b[0;34m\u001b[0m\u001b[0;34m\u001b[0m\u001b[0m\n\u001b[0m\u001b[1;32m      2\u001b[0m \u001b[0mprint\u001b[0m\u001b[0;34m(\u001b[0m\u001b[0mnova_parlenda\u001b[0m\u001b[0;34m,\u001b[0m \u001b[0mfile\u001b[0m\u001b[0;34m=\u001b[0m\u001b[0mfile_out\u001b[0m\u001b[0;34m,\u001b[0m \u001b[0msep\u001b[0m\u001b[0;34m=\u001b[0m\u001b[0;34m''\u001b[0m\u001b[0;34m,\u001b[0m \u001b[0mend\u001b[0m\u001b[0;34m=\u001b[0m\u001b[0;34m''\u001b[0m\u001b[0;34m)\u001b[0m\u001b[0;34m\u001b[0m\u001b[0;34m\u001b[0m\u001b[0m\n\u001b[1;32m      3\u001b[0m \u001b[0mfile_out\u001b[0m\u001b[0;34m.\u001b[0m\u001b[0mclose\u001b[0m\u001b[0;34m(\u001b[0m\u001b[0;34m)\u001b[0m\u001b[0;34m\u001b[0m\u001b[0;34m\u001b[0m\u001b[0m\n",
            "\u001b[0;31mFileExistsError\u001b[0m: [Errno 17] File exists: 'parlendas.txt'"
          ]
        }
      ]
    },
    {
      "cell_type": "markdown",
      "metadata": {
        "id": "8ve4PoLqTa7E"
      },
      "source": [
        "Podemos realizar o tratamento de exceções de uma maneira mais agradável para o usuário. Para tanto, utilizamos as instruções `try` e except."
      ]
    },
    {
      "cell_type": "code",
      "metadata": {
        "id": "F4hsTVNFTZZg",
        "outputId": "0ec83983-72d2-4788-da8f-4cd8ff0c7635",
        "colab": {
          "base_uri": "https://localhost:8080/",
          "height": 34
        }
      },
      "source": [
        "try:\n",
        "  file_out = open('parlendas.txt', 'xt')\n",
        "  print(nova_parlenda, file=file_out, sep='', end='')\n",
        "  file_out.close()\n",
        "except:\n",
        "  print('parlendas.txt já existe!')"
      ],
      "execution_count": null,
      "outputs": [
        {
          "output_type": "stream",
          "text": [
            "parlendas.txt já existe!\n"
          ],
          "name": "stdout"
        }
      ]
    },
    {
      "cell_type": "markdown",
      "metadata": {
        "id": "C6WUwOVg8dzK"
      },
      "source": [
        "## 12.3. Ler de um arquivo de texto com `read()`, `readline()`, or `readlines()`"
      ]
    },
    {
      "cell_type": "markdown",
      "metadata": {
        "id": "tJdpXXXCsFJK"
      },
      "source": [
        "Você pode chamar `read()` sem argumentos para obter todo o arquivo de uma só vez, como mostra o exemplo a seguir. Porém, **tenha cuidado** ao fazer isso com arquivos grandes; um arquivo de gigabyte consumirá um gigabyte de memória."
      ]
    },
    {
      "cell_type": "code",
      "metadata": {
        "id": "YRMeMvIjsSM5"
      },
      "source": [
        "file_in = open('poema.txt', 'rt' )\n",
        "leitura_poema = file_in.read()\n",
        "file_in.close()"
      ],
      "execution_count": null,
      "outputs": []
    },
    {
      "cell_type": "code",
      "metadata": {
        "id": "qpRqFztcUiL9",
        "outputId": "b6882fd5-21e6-431f-b40b-79c681503f36",
        "colab": {
          "base_uri": "https://localhost:8080/",
          "height": 120
        }
      },
      "source": [
        "print(leitura_poema)"
      ],
      "execution_count": null,
      "outputs": [
        {
          "output_type": "stream",
          "text": [
            "Batatinha quando nasce espalha a rama pelo chão.\n",
            "Menininha quando dorme põe a mão no coração.\n",
            "Sou pequenininha do tamanho de um botão,\n",
            "Carrego papai no bolso e mamãe no coração\n",
            "O bolso furou e o papai caiu no chão.\n",
            "Mamãe que é mais querida ficou no coração.\n"
          ],
          "name": "stdout"
        }
      ]
    },
    {
      "cell_type": "markdown",
      "metadata": {
        "id": "DY28ZDoV-nCw"
      },
      "source": [
        "Você também pode ler o arquivo uma linha de cada vez usando `readline()`. Neste próximo exemplo, anexaremos cada linha à sequência de poemas para reconstruir o original:"
      ]
    },
    {
      "cell_type": "code",
      "metadata": {
        "id": "6bnUxUOovss0"
      },
      "source": [
        "o_poema = ''\n",
        "file_in = open('poema.txt', 'rt' )\n",
        "while True:\n",
        "  linha = file_in.readline()\n",
        "  if not linha:\n",
        "    break\n",
        "  o_poema += linha\n",
        "file_in.close()"
      ],
      "execution_count": null,
      "outputs": []
    },
    {
      "cell_type": "code",
      "metadata": {
        "id": "32kWjpjS_SYV",
        "outputId": "5e7ff947-de72-4bdc-bd79-1c33d376a1bc",
        "colab": {
          "base_uri": "https://localhost:8080/",
          "height": 120
        }
      },
      "source": [
        "print(o_poema)"
      ],
      "execution_count": null,
      "outputs": [
        {
          "output_type": "stream",
          "text": [
            "Batatinha quando nasce espalha a rama pelo chão.\n",
            "Menininha quando dorme põe a mão no coração.\n",
            "Sou pequenininha do tamanho de um botão,\n",
            "Carrego papai no bolso e mamãe no coração\n",
            "O bolso furou e o papai caiu no chão.\n",
            "Mamãe que é mais querida ficou no coração.\n"
          ],
          "name": "stdout"
        }
      ]
    },
    {
      "cell_type": "markdown",
      "metadata": {
        "id": "sf_Vo3oS__Tb"
      },
      "source": [
        "Para um arquivo de texto, mesmo uma linha em branco tem um comprimento de um (o caractere de nova linha) e é avaliada como Verdadeira (`True`). Quando o arquivo foi lido, `readline()`, assim como `read()`, também retorna uma string vazia, que também é avaliada como `False`.\n",
        "A maneira mais fácil de ler um arquivo de texto é usando um iterador. Isso retorna uma linha de cada vez. É semelhante ao exemplo anterior, mas com menos código:"
      ]
    },
    {
      "cell_type": "code",
      "metadata": {
        "id": "2sDxNQEeVeHe"
      },
      "source": [
        "o_poema = ''\n",
        "file_in = open('poema.txt', 'rt' )\n",
        "for linha in file_in:\n",
        "  o_poema += linha\n",
        "file_in.close()"
      ],
      "execution_count": null,
      "outputs": []
    },
    {
      "cell_type": "code",
      "metadata": {
        "id": "NL6gjYpKVqOa",
        "outputId": "3de940ed-8b92-45d6-b0bd-5208975a0124",
        "colab": {
          "base_uri": "https://localhost:8080/",
          "height": 120
        }
      },
      "source": [
        "print(o_poema)"
      ],
      "execution_count": null,
      "outputs": [
        {
          "output_type": "stream",
          "text": [
            "Batatinha quando nasce espalha a rama pelo chão.\n",
            "Menininha quando dorme põe a mão no coração.\n",
            "Sou pequenininha do tamanho de um botão,\n",
            "Carrego papai no bolso e mamãe no coração\n",
            "O bolso furou e o papai caiu no chão.\n",
            "Mamãe que é mais querida ficou no coração.\n"
          ],
          "name": "stdout"
        }
      ]
    },
    {
      "cell_type": "markdown",
      "metadata": {
        "id": "4hAiaLwcv7BO"
      },
      "source": [
        "Todos os exemplos anteriores acabaram construindo o poema de cadeia única. A função `readlines()` lê uma linha de cada vez e retorna uma lista de strings de uma linha:"
      ]
    },
    {
      "cell_type": "code",
      "metadata": {
        "id": "mCte7SEUAk6J"
      },
      "source": [
        "o_poema = ''\n",
        "file_in = open('poema.txt', 'rt' )\n",
        "linhas = file_in.readlines()\n",
        "file_in.close()"
      ],
      "execution_count": null,
      "outputs": []
    },
    {
      "cell_type": "code",
      "metadata": {
        "id": "xzl6LczAWWaK",
        "outputId": "2e6c78b5-5d3a-4909-f0bb-f1e20c355e69",
        "colab": {
          "base_uri": "https://localhost:8080/",
          "height": 137
        }
      },
      "source": [
        "print(len(linhas))\n",
        "\n",
        "for linha in linhas:\n",
        "  print(linha, end='')"
      ],
      "execution_count": null,
      "outputs": [
        {
          "output_type": "stream",
          "text": [
            "6\n",
            "Batatinha quando nasce espalha a rama pelo chão.\n",
            "Menininha quando dorme põe a mão no coração.\n",
            "Sou pequenininha do tamanho de um botão,\n",
            "Carrego papai no bolso e mamãe no coração\n",
            "O bolso furou e o papai caiu no chão.\n",
            "Mamãe que é mais querida ficou no coração."
          ],
          "name": "stdout"
        }
      ]
    },
    {
      "cell_type": "markdown",
      "metadata": {
        "id": "fcCm7Xm5AtNt"
      },
      "source": [
        "## 12.4. Feche arquivos automaticamente usando `with`\n",
        "\n",
        "Se você esquecer de fechar um arquivo que abriu, ele será fechado pelo Python depois que não for mais referenciado. Isso significa que, se você abrir um arquivo em uma função e não fechá-lo explicitamente, ele será fechado automaticamente quando a função terminar. \n",
        "\n",
        "Mas você pode ter aberto o arquivo em uma função de longa execução ou na seção principal do programa. O arquivo deve ser fechado para forçar a conclusão de quaisquer gravações restantes.\n",
        "\n",
        "O Python possui gerenciadores de contexto para limpar coisas como arquivos abertos."
      ]
    },
    {
      "cell_type": "code",
      "metadata": {
        "id": "8uOx1xYqCsfo"
      },
      "source": [
        "with open('professores.txt', 'wt') as file_out:\n",
        "  file_out.write('Henrique')"
      ],
      "execution_count": null,
      "outputs": []
    },
    {
      "cell_type": "markdown",
      "metadata": {
        "id": "Z1xZj_6FXPbh"
      },
      "source": [
        "E é só isso. Depois que o bloco de código sob o gerenciador de contexto (neste caso, uma linha) é concluído (normalmente ou por uma exceção levantada), o arquivo é fechado automaticamente."
      ]
    },
    {
      "cell_type": "markdown",
      "metadata": {
        "id": "OU52vbRSYZiK"
      },
      "source": [
        "Se executarmos a escrita usando o modo `wt`, estaremos substituindo o arquivo inteiro. Veja o exemplo:"
      ]
    },
    {
      "cell_type": "code",
      "metadata": {
        "id": "QRhtqwMzYYn5"
      },
      "source": [
        "with open('professores.txt', 'wt') as file_out:\n",
        "  print('Djalma', file=file_out)\n",
        "  # file_out.write('Djalma')"
      ],
      "execution_count": null,
      "outputs": []
    },
    {
      "cell_type": "markdown",
      "metadata": {
        "id": "FFb2UC3lYqfp"
      },
      "source": [
        "Para resolver este problema e anexar novos valores ao arquivo, utilizamos o modo 'a'. No exemplo a seguir, realizamos a inclusão de um professor dentro de um arquivo existente (ao final do arquivo)."
      ]
    },
    {
      "cell_type": "code",
      "metadata": {
        "id": "Xu5ygUHNY0vB"
      },
      "source": [
        "with open('professores.txt', 'at') as file_out:\n",
        "  print('Carlos', file=file_out)\n",
        "  # file_out.write('Carlos')"
      ],
      "execution_count": null,
      "outputs": []
    },
    {
      "cell_type": "markdown",
      "metadata": {
        "id": "AaTh_m77XevT"
      },
      "source": [
        "## 12.5. Arquivos de texto estruturado\n",
        "\n",
        "Com arquivos de texto simples, o único nível de organização é a linha. Às vezes, você quer mais estrutura do que isso. Você pode salvar dados para o seu programa usar mais tarde ou enviar dados para outro programa.\n",
        "\n",
        "Existem muitos formatos, e aqui está como você pode distingui-los:\n",
        "\n",
        "- Um separador ou delimitador, caractere como tabulação ('\\t'), vírgula (',') ou barra vertical ('|'). Este é um exemplo do formato de valores separados por vírgula (CSV).\n",
        "- '<' e '>' em torno das tags. Exemplos incluem XML e HTML.\n",
        "- Pontuação. Um exemplo é JavaScript Object Notation (JSON).\n",
        "- Recuo. Um exemplo é o YAML (que, dependendo da fonte que você usa, significa \"YAML não é uma linguagem de marcação;\").\n",
        "- Diversos, como arquivos de configuração de programas.\n",
        "\n",
        "Cada um desses formatos de arquivo estruturado pode ser lido e gravado por pelo menos um módulo Python."
      ]
    },
    {
      "cell_type": "markdown",
      "metadata": {
        "id": "z4PrtNrBA9dV"
      },
      "source": [
        "### 12.5.1. CSV\n",
        "\n",
        "Arquivos delimitados são frequentemente usados como um formato de planilhas e bancos de dados. Você pode ler arquivos CSV manualmente, uma linha de cada vez, dividindo cada linha em campos nos separadores de vírgula e adicionando os resultados às estruturas de dados, como listas e dicionários.\n",
        "\n",
        "Mas é melhor usar o **módulo csv** padrão, porque a análise desses arquivos pode ficar mais complicada do que você imagina.\n",
        "\n",
        "- Alguns possuem delimitadores alternativos além de uma vírgula: '|' e '\\t' (tab) são comuns.\n",
        "- Alguns têm sequências de escape. Se o caractere delimitador puder ocorrer dentro de um campo, o campo inteiro poderá ser cercado por caracteres de aspas ou precedido por algum caractere de escape.\n",
        "- Os arquivos têm diferentes caracteres de final de linha. O Unix usa '\\n', a Microsoft usa '\\r\\n' e a Apple costumava usar '\\r', mas agora usa '\\n'.\n",
        "- Pode haver nomes de colunas na primeira linha.\n",
        "\n",
        "Primeiro, veremos como ler e escrever uma lista de linhas, cada uma contendo uma lista de colunas:"
      ]
    },
    {
      "cell_type": "code",
      "metadata": {
        "id": "tpQZ2RHOBCKn"
      },
      "source": [
        "import csv"
      ],
      "execution_count": null,
      "outputs": []
    },
    {
      "cell_type": "code",
      "metadata": {
        "id": "zu6I6-LrxNhG"
      },
      "source": [
        "clientes = [\n",
        "  ['Nome', 'Email', 'Id'],\n",
        "  ['Fulano', 'fulano@email.com', 1],\n",
        "  ['Beltrano', 'beltrano@email.com', 2],\n",
        "  ['Ciclano', 'ciclano@email.com', 3]\n",
        "]"
      ],
      "execution_count": null,
      "outputs": []
    },
    {
      "cell_type": "code",
      "metadata": {
        "id": "-2dUxqiY8W6z",
        "outputId": "02b690b7-329f-441c-d10b-29acde50d9a1",
        "colab": {
          "base_uri": "https://localhost:8080/",
          "height": 34
        }
      },
      "source": [
        "clientes[1][1]"
      ],
      "execution_count": null,
      "outputs": [
        {
          "output_type": "execute_result",
          "data": {
            "text/plain": [
              "'fulano@email.com'"
            ]
          },
          "metadata": {
            "tags": []
          },
          "execution_count": 103
        }
      ]
    },
    {
      "cell_type": "code",
      "metadata": {
        "id": "Birn1VZSOSbk"
      },
      "source": [
        "with open('clientes.csv', 'wt') as file_out:\n",
        "  escritor = csv.writer(file_out)\n",
        "  escritor.writerows(clientes)"
      ],
      "execution_count": null,
      "outputs": []
    },
    {
      "cell_type": "markdown",
      "metadata": {
        "id": "JCgfNjnfEIqO"
      },
      "source": [
        "Agora, se quisermos ler o arquivo .csv:"
      ]
    },
    {
      "cell_type": "code",
      "metadata": {
        "id": "58Bs4XKnEL6I",
        "outputId": "d2937c5d-7702-42d6-9fd6-d0db74a4fb74",
        "colab": {
          "base_uri": "https://localhost:8080/"
        }
      },
      "source": [
        "with open('clientes.csv', 'rt') as file_in:\n",
        "  leitor = csv.reader(file_in)\n",
        "  for linha in leitor:\n",
        "    print(linha)"
      ],
      "execution_count": null,
      "outputs": [
        {
          "output_type": "stream",
          "name": "stdout",
          "text": [
            "['Nome', 'Email', 'Id']\n",
            "['Fulano', 'fulano@email.com', '1']\n",
            "['Beltrano', 'beltrano@email.com', '2']\n",
            "['Ciclano', 'ciclano@email.com', '3']\n"
          ]
        }
      ]
    },
    {
      "cell_type": "markdown",
      "metadata": {
        "id": "W3TwcAAfa3Lo"
      },
      "source": [
        "Usando `reader()` e `writer()` com suas opções padrão, as colunas são separadas por vírgulas e as linhas por colunas.\n",
        "Os dados podem ser uma lista de dicionários e não uma lista de listas. Vamos ler o arquivo dos clientes novamente, desta vez usando a nova função `DictReader()` e especificando os nomes das colunas:"
      ]
    },
    {
      "cell_type": "code",
      "metadata": {
        "id": "V48uth2dOS7u",
        "outputId": "dafa7f32-f785-4eac-b6ef-f0ce6f8a9074",
        "colab": {
          "base_uri": "https://localhost:8080/"
        }
      },
      "source": [
        "import csv\n",
        "\n",
        "with open('clientes.csv', 'rt') as file_in:\n",
        "  leitor = csv.DictReader(file_in) #, fieldnames=['nome', 'email', 'id'])\n",
        "  for row in leitor:\n",
        "    print(dict(row))\n",
        "  file_in.seek(0)\n",
        "  next(leitor)\n",
        "  for row in leitor:\n",
        "    print(row['Id'])\n",
        "    valor = int(row['Id'])"
      ],
      "execution_count": null,
      "outputs": [
        {
          "output_type": "stream",
          "name": "stdout",
          "text": [
            "{'Nome': 'Fulano', 'Email': 'fulano@email.com', 'Id': '1'}\n",
            "{'Nome': 'Beltrano', 'Email': 'beltrano@email.com', 'Id': '2'}\n",
            "{'Nome': 'Ciclano', 'Email': 'ciclano@email.com', 'Id': '3'}\n",
            "1\n",
            "2\n",
            "3\n"
          ]
        }
      ]
    },
    {
      "cell_type": "code",
      "metadata": {
        "id": "jdQjRxypOS-1"
      },
      "source": [
        "import csv \n",
        "produtos = [\n",
        "        {'nome': 'Lápis', 'preco': 1.52, 'id': 4},\n",
        "        {'nome': 'Caneta', 'preco': 3.23, 'id': 5},\n",
        "]\n",
        "with open('produtos.csv', 'wt') as file_out:\n",
        "  escritor = csv.DictWriter(file_out, ['nome', 'preco', 'id']) \n",
        "  escritor.writeheader()\n",
        "  escritor.writerows(produtos)"
      ],
      "execution_count": null,
      "outputs": []
    },
    {
      "cell_type": "markdown",
      "metadata": {
        "id": "yXQ1Ls5Edh86"
      },
      "source": [
        "## 12.6. Exercícios"
      ]
    },
    {
      "cell_type": "markdown",
      "metadata": {
        "id": "osqR-8iUdm4w"
      },
      "source": [
        "### 12.6.1. Atribua a string 'Este é um teste do sistema de texto de emergência' à variável texto_aviso e escreva texto_aviso em um arquivo chamado texto_de_aviso.txt."
      ]
    },
    {
      "cell_type": "code",
      "metadata": {
        "id": "uliPtt4tdmBj"
      },
      "source": [
        "texto_de_aviso = 'Este é um teste do sistema de texto de emergência'\n",
        "\n",
        "with open('texto_de_aviso.txt', 'wt') as file_out:\n",
        "  file_out.write(texto_de_aviso)"
      ],
      "execution_count": null,
      "outputs": []
    },
    {
      "cell_type": "code",
      "metadata": {
        "id": "d5xUcSWNhF-T"
      },
      "source": [
        "texto_aviso = 'Este é um teste do sistema de texto de emergência'\n",
        "with open('texto_aviso.txt', 'wt') as file_out:\n",
        "  file_out.write(texto_aviso)"
      ],
      "execution_count": null,
      "outputs": []
    },
    {
      "cell_type": "markdown",
      "metadata": {
        "id": "GufkiHnadzQh"
      },
      "source": [
        "### 12.6.2. Abra o arquivo texto_aviso.txt e leia seu conteúdo na string texto_obtido."
      ]
    },
    {
      "cell_type": "code",
      "metadata": {
        "id": "-E0wVQqEhrJ0",
        "outputId": "0d8f912b-2a55-4146-f464-80af45c6a505",
        "colab": {
          "base_uri": "https://localhost:8080/"
        }
      },
      "source": [
        "with open('texto_aviso.txt', 'rt') as file_in:\n",
        "  texto = file_in.read()\n",
        "  print(texto)"
      ],
      "execution_count": null,
      "outputs": [
        {
          "output_type": "stream",
          "name": "stdout",
          "text": [
            "Este é um teste do sistema de texto de emergência\n"
          ]
        }
      ]
    },
    {
      "cell_type": "code",
      "metadata": {
        "id": "2QoNxsPxd8Qn",
        "outputId": "c0e9956a-ccd8-4640-ba29-731408d457cc",
        "colab": {
          "base_uri": "https://localhost:8080/",
          "height": 54
        }
      },
      "source": [
        "with open('texto_de_aviso.txt', 'rt') as file_in:\n",
        "  texto = file_in.read()\n",
        "  print(texto)"
      ],
      "execution_count": null,
      "outputs": [
        {
          "output_type": "stream",
          "text": [
            "Este é um teste do sistema de texto de emergência\n"
          ],
          "name": "stdout"
        }
      ]
    },
    {
      "cell_type": "markdown",
      "metadata": {
        "id": "LttdJUc2eA7Q"
      },
      "source": [
        "### 12.6.3. Salve essas linhas de texto em um arquivo chamado livros.csv. Observe que, se os campos forem separados por vírgulas, você precisará colocar um campo entre aspas se ele contiver uma vírgula\n",
        "\n",
        "Autor, Livro, Nota, Situacao\n",
        "\n",
        "J R R Tolkien, O Hobbit, 4, Lido\n",
        "\n",
        "J. K. Rowling, Harry Potter, 7, Não Lido\n",
        "\n",
        "Dan Brown, Origem, 8, Lido\n",
        "\n",
        "charles Dickens, Um conto de Natal, 2, Lido"
      ]
    },
    {
      "cell_type": "code",
      "metadata": {
        "id": "bJoCqsureiL0"
      },
      "source": [
        "# Luis Henrique"
      ],
      "execution_count": null,
      "outputs": []
    },
    {
      "cell_type": "code",
      "metadata": {
        "id": "aaCiYmdgieri"
      },
      "source": [
        "import csv \n",
        "livros = [\n",
        "    ['Autor', 'Livro', 'Nota', 'Situacao'],\n",
        "    ['J R R Tolkien', 'Harry Potter', 7, 'Não Lido'],\n",
        "    ['J R R Tolkien', 'O Hobbit', 4, 'Lido'],\n",
        "    ['Dan Brown', 'Origem', 8, 'Lido'],\n",
        "    ['charles Dickens', 'Um conto de Natal', 2, 'Lido']\n",
        "]\n",
        "with open('livros.csv', 'wt') as file_out:\n",
        "  escritor = csv.writer(file_out)\n",
        "  escritor.writerows(livros)"
      ],
      "execution_count": null,
      "outputs": []
    },
    {
      "cell_type": "code",
      "metadata": {
        "id": "A-_2MeuK0RZF"
      },
      "source": [
        "import csv\n",
        "\n",
        "livros = [\n",
        "    ['Autor', 'Livro', 'Nota', 'Situacao'],\n",
        "    ['J R R Tolkien', 'Harry Potter', 7, 'Não Lido'],\n",
        "    ['J R R Tolkien', 'O Hobbit', 4, 'Lido'],\n",
        "    ['Dan Brown', 'Origem', 8, 'Lido'],\n",
        "    ['charles Dickens', 'Um conto de Natal', 2, 'Lido']\n",
        "]\n",
        "\n",
        "with open('livros.csv', 'wt') as file_out:\n",
        "    escritor = csv.writer(file_out)\n",
        "    escritor.writerows(livros)"
      ],
      "execution_count": null,
      "outputs": []
    },
    {
      "cell_type": "markdown",
      "metadata": {
        "id": "pFcg6mqFe3P4"
      },
      "source": [
        "### 12.6.4. Use o módulo `csv` e seu método `DictReader` para ler livros.csv e armazenar na variável livros. Imprima os valores da variável livros."
      ]
    },
    {
      "cell_type": "code",
      "metadata": {
        "id": "Cb35sp2rkzRb",
        "outputId": "1839f373-b845-42b6-b0c0-c2b3bffd8561",
        "colab": {
          "base_uri": "https://localhost:8080/",
          "height": 85
        }
      },
      "source": [
        "with open('livros.csv', 'rt') as file_in:\n",
        "  livros = csv.DictReader(file_in)\n",
        "  for row in livros:\n",
        "    print(dict(row))"
      ],
      "execution_count": null,
      "outputs": [
        {
          "output_type": "stream",
          "text": [
            "{'Autor': 'J R R Tolkien', 'Livro': 'Harry Potter', 'Nota': '7', 'Situacao': 'Não Lido'}\n",
            "{'Autor': 'J R R Tolkien', 'Livro': 'O Hobbit', 'Nota': '4', 'Situacao': 'Lido'}\n",
            "{'Autor': 'Dan Brown', 'Livro': 'Origem', 'Nota': '8', 'Situacao': 'Lido'}\n",
            "{'Autor': 'charles Dickens', 'Livro': 'Um conto de Natal', 'Nota': '2', 'Situacao': 'Lido'}\n"
          ],
          "name": "stdout"
        }
      ]
    },
    {
      "cell_type": "code",
      "metadata": {
        "id": "vrFtAX4zewNn",
        "outputId": "4c6e7b25-7fe6-4835-b896-daa40729b2ee",
        "colab": {
          "base_uri": "https://localhost:8080/",
          "height": 104
        }
      },
      "source": [
        "# Hugo Barbosa\n",
        "with open('livros.csv', 'rt') as file_out:\n",
        "  livros = csv.DictReader(file_out)\n",
        "  for row in livros:\n",
        "    print(dict(row))"
      ],
      "execution_count": null,
      "outputs": [
        {
          "output_type": "stream",
          "text": [
            "{'Autor': 'J R R Tolkien', 'Livro': 'Harry Potter', 'Nota': '7', 'Situacao': 'Não Lido'}\n",
            "{'Autor': 'J R R Tolkien', 'Livro': 'O Hobbit', 'Nota': '4', 'Situacao': 'Lido'}\n",
            "{'Autor': 'Dan Brown', 'Livro': 'Origem', 'Nota': '8', 'Situacao': 'Lido'}\n",
            "{'Autor': 'charles Dickens', 'Livro': 'Um conto de Natal', 'Nota': '2', 'Situacao': 'Lido'}\n"
          ],
          "name": "stdout"
        }
      ]
    },
    {
      "cell_type": "markdown",
      "metadata": {
        "id": "IvWGAAkUejvR"
      },
      "source": [
        "### 12.6.5. Faça a leitura do arquivo criado no exercício 12.6.3 (livros.csv), e mostre o nome do livro com a maior nota."
      ]
    },
    {
      "cell_type": "code",
      "metadata": {
        "id": "T19ZXBpjnhKG",
        "outputId": "12d62965-da63-489c-9a41-4232baa943d2",
        "colab": {
          "base_uri": "https://localhost:8080/",
          "height": 34
        }
      },
      "source": [
        "maior = 0\n",
        "with open('livros.csv', 'rt') as file_in:\n",
        "  livros = csv.DictReader(file_in)\n",
        "  for row in livros:\n",
        "    if int(row['Nota']) > maior:\n",
        "      maior = int(row['Nota'])\n",
        "      livro = row['Livro']\n",
        "print(livro)"
      ],
      "execution_count": null,
      "outputs": [
        {
          "output_type": "stream",
          "text": [
            "Origem\n"
          ],
          "name": "stdout"
        }
      ]
    },
    {
      "cell_type": "code",
      "metadata": {
        "id": "iZhhf8Dhe2qc",
        "outputId": "f0b99735-0a9d-447e-c7db-4f37699be608",
        "colab": {
          "base_uri": "https://localhost:8080/",
          "height": 54
        }
      },
      "source": [
        "maior = 0\n",
        "with open('livros.csv', 'rt') as file_in:\n",
        "  livros = csv.DictReader(file_in)\n",
        "  for row in livros:\n",
        "    if int(row['Nota']) > maior:\n",
        "      maior = int(row['Nota'])\n",
        "      livro = row['Livro']\n",
        "  print(livro)"
      ],
      "execution_count": null,
      "outputs": [
        {
          "output_type": "stream",
          "text": [
            "Origem\n"
          ],
          "name": "stdout"
        }
      ]
    },
    {
      "cell_type": "markdown",
      "metadata": {
        "id": "mC3wOlRPfUEZ"
      },
      "source": [
        "### 12.6.6. Faça a leitura do arquivo criado no exercício 12.6.3 (livros.csv), e mostre o nome do livros lidos."
      ]
    },
    {
      "cell_type": "code",
      "metadata": {
        "id": "KSR7lpzAo-JJ",
        "outputId": "f214b03a-87a3-4ed0-ab96-7cff30fc4516",
        "colab": {
          "base_uri": "https://localhost:8080/",
          "height": 34
        }
      },
      "source": [
        "import csv\n",
        "livros_lidos = []\n",
        "with open('livros.csv', 'rt') as file_in:\n",
        "  livros = csv.DictReader(file_in)\n",
        "  for linha in livros:\n",
        "    if linha['Situacao'] == 'Lido':\n",
        "      livros_lidos.append(linha['Livro'])\n",
        "print(livros_lidos)"
      ],
      "execution_count": null,
      "outputs": [
        {
          "output_type": "stream",
          "text": [
            "['O Hobbit', 'Origem', 'Um conto de Natal']\n"
          ],
          "name": "stdout"
        }
      ]
    },
    {
      "cell_type": "code",
      "metadata": {
        "id": "0jTm_NZYfXoW",
        "outputId": "544fe1fd-5b63-42c3-be93-cffae883ebd0",
        "colab": {
          "base_uri": "https://localhost:8080/",
          "height": 54
        }
      },
      "source": [
        "import csv\n",
        "\n",
        "livros_lido = list()\n",
        "\n",
        "with open('livros.csv', 'rt') as file_in:\n",
        "  biblioteca = csv.DictReader(file_in)\n",
        "  for linha in biblioteca:\n",
        "    if linha['Situacao'] == 'Lido':\n",
        "      livros_lido.append(linha['Livro'])\n",
        "\n",
        "print(livros_lido)"
      ],
      "execution_count": null,
      "outputs": [
        {
          "output_type": "stream",
          "text": [
            "['O Hobbit', 'Origem', 'Um conto de Natal']\n"
          ],
          "name": "stdout"
        }
      ]
    },
    {
      "cell_type": "markdown",
      "metadata": {
        "id": "iC5vuE_hfkY0"
      },
      "source": [
        "### 12.6.7. Faça uma busca na Internet sobre um produto que gostaria de pedir ao Papai Noel, e anote seu nome, sites e respectivos preços. Em seguida, armazene estes dados num arquivo .csv."
      ]
    },
    {
      "cell_type": "code",
      "metadata": {
        "id": "aplvmrPMunIX"
      },
      "source": [
        "import csv\n",
        "presentes =  [\n",
        "              ['Nome', 'Site', 'Preco'],\n",
        "              ['celular', 'www.lojinha1.com', 450],\n",
        "              ['notebock', 'www.lojinha2.com', 650],\n",
        "              ['carrinho', 'www.lojinha3.com', 100]\n",
        "]\n",
        "with open('lista_papai_noel.csv', 'wt') as file_out:\n",
        "  escritor = csv.writer(file_out)\n",
        "  escritor.writerows(presentes)"
      ],
      "execution_count": null,
      "outputs": []
    },
    {
      "cell_type": "code",
      "metadata": {
        "id": "66zurvCRhpjH"
      },
      "source": [
        "# Guilherme Bueno\n",
        "import csv\n",
        "\n",
        "presentes = [['Nome','Site','Preco'],\n",
        "             ['Piano','www.loja1.com',200],\n",
        "             ['Carro','www.loja2.com',300],\n",
        "             ['Bicicleta','www.loja3.com',500]\n",
        "]\n",
        "\n",
        "with open('lista_papai_noel.csv','wt') as file_out:\n",
        "  lista_presentes = csv.writer(file_out)\n",
        "  lista_presentes.writerows(presentes)"
      ],
      "execution_count": null,
      "outputs": []
    },
    {
      "cell_type": "markdown",
      "metadata": {
        "id": "jA5iILOLhqBO"
      },
      "source": [
        "### 12.6.8. Continuando o exercício anterior, leita a lista de valores e sites do item que gostaria de ganhar do Papai Noel. Em seguida, mostre o link do site com o maior e o menor preço."
      ]
    },
    {
      "cell_type": "code",
      "metadata": {
        "id": "_CJUjoKewitR",
        "outputId": "78696fce-164d-4e9a-8798-5acfc70495fb",
        "colab": {
          "base_uri": "https://localhost:8080/",
          "height": 51
        }
      },
      "source": [
        "maior = 0.0\n",
        "menor = 1000.0\n",
        "with open('lista_papai_noel.csv', 'rt') as file_in:\n",
        "  presentes = csv.DictReader(file_in)\n",
        "  for row in presentes:\n",
        "    if float(row['Preco']) > maior:\n",
        "      maior = float(row['Preco'])\n",
        "      presente_maior = row['Site']\n",
        "    if float(row['Preco']) < menor:\n",
        "      menor = float(row['Preco'])\n",
        "      presente_menor = row['Site']\n",
        "print(presente_maior, presente_menor, sep ='\\n')"
      ],
      "execution_count": null,
      "outputs": [
        {
          "output_type": "stream",
          "text": [
            "www.lojinha2.com\n",
            "www.lojinha3.com\n"
          ],
          "name": "stdout"
        }
      ]
    },
    {
      "cell_type": "code",
      "metadata": {
        "id": "SA1jfWhsh2xG",
        "outputId": "0344ce08-32e9-4a92-c1ba-ce54730a7a96",
        "colab": {
          "base_uri": "https://localhost:8080/",
          "height": 71
        }
      },
      "source": [
        "# João Gabriel\n",
        "maior = 0.0\n",
        "menor = 1000.0\n",
        "\n",
        "with open ('lista_papai_noel.csv','rt') as file_in:\n",
        "  presentes = csv.DictReader(file_in)\n",
        "  for row in presentes:\n",
        "    if float(row['Preco']) > maior:\n",
        "      maior = int(row['Preco'])\n",
        "      presente_maior = row['Site']\n",
        "    if float(row['Preco']) < menor:\n",
        "      menor = float(row['Preco'])\n",
        "      presente_menor = row['Site']\n",
        "\n",
        "print(presente_maior, presente_menor, sep='\\n')"
      ],
      "execution_count": null,
      "outputs": [
        {
          "output_type": "stream",
          "text": [
            "www.loja3.com\n",
            "www.loja1.com\n"
          ],
          "name": "stdout"
        }
      ]
    },
    {
      "cell_type": "markdown",
      "metadata": {
        "id": "tymduGsjh3VF"
      },
      "source": [
        "### 12.6.9. Crie uma função que receba o nome do arquivo e o valor a ser adicionado. É importante ressaltar que o valor consiste em um dicionário de dados. Para exemplificar, utilize:\n",
        "\n",
        "- nome do arquivo: 'produtos_vendidos.csv'\n",
        "- dados: \n",
        "\n",
        "{'nome': 'Celular iPhone', 'preco': 2.900,30, 'quantidade': 3}\n",
        "\n",
        "{'nome': 'Celular Galaxy S10', 'preco': 2.500,30, 'quantidade': 2}\n",
        "\n",
        "{'nome': 'Celular Motorola', 'preco': 1.900,30, 'quantidade': 5}\n"
      ]
    },
    {
      "cell_type": "code",
      "metadata": {
        "id": "uEmbCOEo2yPh"
      },
      "source": [
        "def adiciona_produtos(nome_arquivo, **Kwargs):\n",
        "  with open(nome_arquivo, 'wt') as file_out:\n",
        "    escritor = csv.DictWriter(file_out, fieldnames=['nome', 'preco', 'quantidade'])\n",
        "    escritor.writeheader()\n",
        "    escritor.writerow(Kwargs)"
      ],
      "execution_count": null,
      "outputs": []
    },
    {
      "cell_type": "code",
      "metadata": {
        "id": "3y6WYmUX543e"
      },
      "source": [
        "adiciona_produtos('produtos_vendidos.csv', nome='Celular iPhone', preco=2900, quantidade=3)\n",
        "adiciona_produtos('produtos_vendidos.csv', nome='Celular Galaxy S10', preco=2500, quantidade=2)\n",
        "adiciona_produtos('produtos_vendidos.csv', nome='Celular Motorola', preco=1900, quantidade=5)"
      ],
      "execution_count": null,
      "outputs": []
    },
    {
      "cell_type": "code",
      "metadata": {
        "id": "GkzrKE34iB3s"
      },
      "source": [
        "def adiciona_produto(nome_arquivo, **kwargs):\n",
        "  with open(nome_arquivo, 'wt') as file_out:\n",
        "    escritor = csv.DictWriter(file_out, fieldnames=['nome', 'preco', 'quantidade'])\n",
        "    escritor.writeheader()\n",
        "    escritor.writerow(kwargs)"
      ],
      "execution_count": null,
      "outputs": []
    },
    {
      "cell_type": "code",
      "metadata": {
        "id": "piIQaxguFA7J"
      },
      "source": [
        "adiciona_produto('produtos_vendidos.csv', nome='Celular iPhone', preco=2900, quantidade=3)"
      ],
      "execution_count": null,
      "outputs": []
    },
    {
      "cell_type": "markdown",
      "metadata": {
        "id": "eXauGpJdiIm3"
      },
      "source": [
        "### 12.6.10. Crie uma função que recabe como parâmetro o nome do arquivo e mostre a soma de produtos vendidos e o valor total recebido. Utilize a estrutura de arquivos do exercício anterior."
      ]
    },
    {
      "cell_type": "code",
      "metadata": {
        "id": "5iu3UOrIiZ7M"
      },
      "source": [
        "import csv\n",
        "\n",
        "def leia_produtos(nome_arquivo):\n",
        "  quantidade_items_vendidos = 0\n",
        "  valor_total_vendido = 0\n",
        "  with open(nome_arquivo, 'rt') as file_in:\n",
        "    leitor = csv.DictReader(file_in)\n",
        "    for item in leitor:\n",
        "      quantidade_items_vendidos += int(item['quantidade']) \n",
        "      valor_total_vendido += float(item['preco']) * quantidade_items_vendidos\n",
        "  print(quantidade_items_vendidos, valor_total_vendido)\n",
        "\n"
      ],
      "execution_count": null,
      "outputs": []
    },
    {
      "cell_type": "code",
      "metadata": {
        "id": "IgqCepw1Gv8G",
        "outputId": "20755ca2-ec1a-40ab-fe0e-8a69225761f4",
        "colab": {
          "base_uri": "https://localhost:8080/",
          "height": 54
        }
      },
      "source": [
        "leia_produtos('produtos_vendidos.csv')"
      ],
      "execution_count": null,
      "outputs": [
        {
          "output_type": "stream",
          "text": [
            "3 8700.0\n"
          ],
          "name": "stdout"
        }
      ]
    },
    {
      "cell_type": "markdown",
      "metadata": {
        "id": "rez08UT7jDTm"
      },
      "source": [
        "### 12.6.11. Execute o código abaixo. Em seguida, crie uma função que, dado um argumento chamado palavra, retorne a parlenda que contenha a palavra informada."
      ]
    },
    {
      "cell_type": "code",
      "metadata": {
        "id": "i2ZdJIXQjYZ5"
      },
      "source": [
        "# Não alterar este código!\n",
        "\n",
        "parlenda1 = '''Sol e chuva,\n",
        "Casamento de viúva.\n",
        "Chuva e Sol,\n",
        "Casamento de espanhol.'''\n",
        "\n",
        "parlenda2 = '''Uni duni tê\n",
        "Salamê min guê\n",
        "O sorvete colorido\n",
        "O escolhido foi você!'''\n",
        "\n",
        "parlenda3 = '''Hoje é domingo, pede cachimbo\n",
        "Cachimbo é de barro, dá no jarro\n",
        "O jarro é fino, dá no sino\n",
        "O sino é de ouro, dá no touro\n",
        "O touro é valente, dá na gente\n",
        "A gente é fraco, cai no buraco\n",
        "O buraco é fundo, acabou-se o mundo!'''\n",
        "\n",
        "parlenda4 = '''Um, dois, feijão com arroz\n",
        "Três, quatro, feijão no prato\n",
        "Cinco, seis, falar inglês\n",
        "Sete, oito, comer biscoitos\n",
        "Nove, dez, comer pastéis.'''\n",
        "\n",
        "parlenda5 = '''Dedo mindinho, \n",
        "Seu vizinho, \n",
        "Pai de todos, \n",
        "Fura bolo, \n",
        "Mata piolho.'''\n",
        "\n",
        "parlendas = [parlenda1, parlenda2, parlenda3, parlenda4, parlenda5]\n",
        "\n",
        "with open('parlendas.txt', 'wt') as file_out:\n",
        "  for parlenda in parlendas:\n",
        "    print('*', parlenda, file=file_out, sep='\\n')"
      ],
      "execution_count": null,
      "outputs": []
    },
    {
      "cell_type": "code",
      "metadata": {
        "id": "iBwrQ8ybkU3U"
      },
      "source": [
        "# Escreva a sua função aqui:\n",
        "def pesquisar(palavra):\n",
        "  arquivo = ''\n",
        "  parlenda_palavra = []\n",
        "\n",
        "  with open('parlendas.txt', 'rt') as file_in:\n",
        "    for linha in file_in:\n",
        "      arquivo += linha\n",
        "\n",
        "  lista_de_parlendas = arquivo.split('*')\n",
        "\n",
        "  for parlenda in lista_de_parlendas:\n",
        "    if palavra in parlenda:\n",
        "      parlenda_palavra.append(parlenda)\n",
        "\n",
        "  return parlenda_palavra "
      ],
      "execution_count": null,
      "outputs": []
    },
    {
      "cell_type": "code",
      "metadata": {
        "id": "KHNDaOONYN24",
        "outputId": "30f7e5b0-b94d-41c8-c3c4-ad7564643d11",
        "colab": {
          "base_uri": "https://localhost:8080/"
        }
      },
      "source": [
        "pesquisar('Salamê min guê')"
      ],
      "execution_count": null,
      "outputs": [
        {
          "output_type": "execute_result",
          "data": {
            "text/plain": [
              "['\\nUni duni tê\\nSalamê min guê\\nO sorvete colorido\\nO escolhido foi você!\\n']"
            ]
          },
          "metadata": {},
          "execution_count": 4
        }
      ]
    },
    {
      "cell_type": "markdown",
      "source": [
        "teste curso em video"
      ],
      "metadata": {
        "id": "_KhY-fcUC1ls"
      }
    },
    {
      "cell_type": "code",
      "source": [
        "def fatorial(n):\n",
        "  f = 1\n",
        "  for c in range(1, n+1):\n",
        "    f *= c\n",
        "  return f\n",
        "\n",
        "\n",
        "num = int(input('Digite um número para calcular seu fatorial: '))\n",
        "fat = fatorial(num)\n",
        "print(f'O fatorial de {num} é {fat}')\n"
      ],
      "metadata": {
        "colab": {
          "base_uri": "https://localhost:8080/"
        },
        "id": "tH4JrUcVC-Do",
        "outputId": "a48f13a4-0a82-4a0d-c1d3-2831f6c728d7"
      },
      "execution_count": null,
      "outputs": [
        {
          "output_type": "stream",
          "name": "stdout",
          "text": [
            "Digite um número para calcular seu fatorial: 5\n",
            "O fatorial de 5 é 120\n"
          ]
        }
      ]
    },
    {
      "cell_type": "markdown",
      "source": [
        "Exercício Python 107: Crie um módulo chamado moeda.py que tenha as funções incorporadas aumentar(), diminuir(), dobro() e metade(). Faça também um programa que importe esse módulo e use algumas dessas funções."
      ],
      "metadata": {
        "id": "5n9GmAd8NgJ0"
      }
    },
    {
      "cell_type": "code",
      "source": [
        "def diminuir(dinheiro, porcento):\n",
        "    res = dinheiro - (dinheiro * (porcento / 100))\n",
        "    return res\n",
        "\n",
        "\n",
        "def aumentar(dinheiro, porcento):\n",
        "    res = dinheiro + (dinheiro * (porcento / 100))\n",
        "    return res\n",
        "\n",
        "\n",
        "def metade(dinheiro):\n",
        "    res = dinheiro / 2\n",
        "    return res\n",
        "\n",
        "\n",
        "def dobro(dinheiro):\n",
        "    res = dinheiro * 2\n",
        "    return res"
      ],
      "metadata": {
        "id": "KChqDkfxO5_s"
      },
      "execution_count": null,
      "outputs": []
    },
    {
      "cell_type": "code",
      "source": [
        "from ex107 import moeda\n",
        "\n",
        "p = float(input('Qual o valor em dinheiro: R$  '))\n",
        "print(f'O valor {p} pela metade é {moeda.metade(p)}')\n",
        "print(f'O dobro do valor {p} é {moeda.dobro(p)}')\n",
        "print(f'O valor {p} com 10% de desconto é {moeda.diminuir(p, 10)}')\n",
        "print(f'O valor {p} com 15% de aumento é {moeda.aumentar(p, 15)}')"
      ],
      "metadata": {
        "id": "WvlPqGS0PF21"
      },
      "execution_count": null,
      "outputs": []
    },
    {
      "cell_type": "markdown",
      "source": [
        "Exercício Python 108: Adapte o código do desafio #107, criando uma função adicional chamada moeda() que consiga mostrar os números como um valor monetário formatado."
      ],
      "metadata": {
        "id": "KZ8bgp5OPLKB"
      }
    },
    {
      "cell_type": "code",
      "source": [
        "def diminuir(dinheiro=0, porcento=0):\n",
        "    res = dinheiro - (dinheiro * (porcento / 100))\n",
        "    return res\n",
        "\n",
        "\n",
        "def aumentar(dinheiro=0, porcento=0):\n",
        "    res = dinheiro + (dinheiro * (porcento / 100))\n",
        "    return res\n",
        "\n",
        "\n",
        "def metade(dinheiro=0):\n",
        "    res = dinheiro / 2\n",
        "    return res\n",
        "\n",
        "\n",
        "def dobro(dinheiro=0):\n",
        "    res = dinheiro * 2\n",
        "    return res\n",
        "\n",
        "def moeda(dinheiro = 0, moeda = 'R$'):\n",
        "    return f'{moeda}{dinheiro:.2f}'.replace('.', ',')\n"
      ],
      "metadata": {
        "id": "ITweefnkPXD8"
      },
      "execution_count": null,
      "outputs": []
    },
    {
      "cell_type": "code",
      "source": [
        "from ex108 import moeda\n",
        "\n",
        "p = float(input('Qual o valor em dinheiro: R$  '))\n",
        "print(f'O valor {moeda.moeda(p)} pela metade é {moeda.moeda(moeda.metade(p))}')\n",
        "print(f'O dobro do valor {moeda.moeda(p)} é {moeda.moeda(moeda.dobro(p))}')\n",
        "print(f'O valor {moeda.moeda(p)} com 10% de desconto é {moeda.moeda(moeda.diminuir(p, 10))}')\n",
        "print(f'O valor {moeda.moeda(p)} com 15% de aumento é {moeda.moeda(moeda.aumentar(p, 15))}')"
      ],
      "metadata": {
        "id": "aKIUYp5dPdAk"
      },
      "execution_count": null,
      "outputs": []
    },
    {
      "cell_type": "markdown",
      "source": [
        "Exercício Python 109: Modifique as funções que form criadas no desafio 107 para que elas aceitem um parâmetro a mais, informando se o valor retornado por elas vai ser ou não formatado pela função moeda(), desenvolvida no desafio 108."
      ],
      "metadata": {
        "id": "yD7spJGuPfn5"
      }
    },
    {
      "cell_type": "code",
      "source": [
        "def diminuir(dinheiro=0, porcento=0, formato = False):\n",
        "    res = dinheiro - (dinheiro * (porcento / 100))\n",
        "    return res if formato is False else moeda(res)\n",
        "\n",
        "\n",
        "def aumentar(dinheiro=0, porcento=0, formato = False):\n",
        "    res = dinheiro + (dinheiro * (porcento / 100))\n",
        "    return res if formato is False else moeda(res)\n",
        "\n",
        "\n",
        "def metade(dinheiro=0, formato = False):\n",
        "    res = dinheiro / 2\n",
        "    return res if not formato else moeda(res)\n",
        "\n",
        "\n",
        "def dobro(dinheiro=0, formato = False):\n",
        "    res = dinheiro * 2\n",
        "    return res if not formato else moeda(res)\n",
        "\n",
        "def moeda(dinheiro = 0, moeda = 'R$'):\n",
        "    return f'{moeda}{dinheiro:.2f}'.replace('.', ',')\n"
      ],
      "metadata": {
        "id": "L4DK2uSvPlix"
      },
      "execution_count": null,
      "outputs": []
    },
    {
      "cell_type": "code",
      "source": [
        "from ex109 import moeda\n",
        "\n",
        "p = float(input('Qual o valor em dinheiro: R$  '))\n",
        "print(f'O valor {moeda.moeda(p)} pela metade é {moeda.metade(p, True)}')\n",
        "print(f'O dobro do valor {moeda.moeda(p)} é {moeda.dobro(p, True)}')\n",
        "print(f'O valor {moeda.moeda(p)} com 10% de desconto é {moeda.diminuir(p, 10, True)}')\n",
        "print(f'O valor {moeda.moeda(p)} com 15% de aumento é {moeda.aumentar(p, 15, True)}')"
      ],
      "metadata": {
        "id": "KhFATImCPsAs"
      },
      "execution_count": null,
      "outputs": []
    },
    {
      "cell_type": "markdown",
      "source": [
        "Exercício Python 110: Adicione o módulo moeda.py criado nos desafios anteriores, uma função chamada resumo(), que mostre na tela algumas informações geradas pelas funções que já temos no módulo criado até aqui."
      ],
      "metadata": {
        "id": "lbHgeDK6Pu_w"
      }
    },
    {
      "cell_type": "code",
      "source": [
        "def diminuir(dinheiro=0, porcento=0, formato = False):\n",
        "    res = dinheiro - (dinheiro * (porcento / 100))\n",
        "    return res if formato is False else moeda(res)\n",
        "\n",
        "\n",
        "def aumentar(dinheiro=0, porcento=0, formato = False):\n",
        "    res = dinheiro + (dinheiro * (porcento / 100))\n",
        "    return res if formato is False else moeda(res)\n",
        "\n",
        "\n",
        "def metade(dinheiro=0, formato = False):\n",
        "    res = dinheiro / 2\n",
        "    return res if not formato else moeda(res)\n",
        "\n",
        "\n",
        "def dobro(dinheiro=0, formato = False):\n",
        "    res = dinheiro * 2\n",
        "    return res if not formato else moeda(res)\n",
        "\n",
        "def moeda(dinheiro = 0, moeda = 'R$'):\n",
        "    return f'{moeda}{dinheiro:.2f}'.replace('.', ',')\n",
        "\n",
        "\n",
        "def resumo(dinheiro = 0, mais = 10, menos = 5):\n",
        "    print('=' * 30)\n",
        "    print(f' RESUMO DO VALOR'.center(30))\n",
        "    print('=' * 30)\n",
        "    print(f'Analisando o Valor:\\t {moeda(dinheiro)}')\n",
        "    print(f'dobro do preço:\\t\\t{dobro(dinheiro, True):}')\n",
        "    print(f'metade do preço:\\t {metade(dinheiro, True)}')\n",
        "    print(f'com {mais}% de aumento:\\t {aumentar(dinheiro, mais,  True)}')\n",
        "    print(f'com {menos}% de desconto: {diminuir(dinheiro, menos, True)}')\n",
        "    print('=' * 30)\n",
        "\n"
      ],
      "metadata": {
        "id": "_Qt8zSaPP2rL"
      },
      "execution_count": null,
      "outputs": []
    },
    {
      "cell_type": "code",
      "source": [
        "from ex110 import moeda\n",
        "\n",
        "p = float(input('Qual o valor em dinheiro: R$  '))\n",
        "moeda.resumo(p, 20, 50)"
      ],
      "metadata": {
        "id": "ynZvUOWfP7jv"
      },
      "execution_count": null,
      "outputs": []
    },
    {
      "cell_type": "markdown",
      "source": [
        "Exercício Python 112: Dentro do pacote utilidadesCeV que criamos no desafio 111, temos um módulo chamado dado. Crie uma função chamada leiaDinheiro() que seja capaz de funcionar como a função imputa(), mas com uma validação de dados para aceitar apenas valores que seja monetários."
      ],
      "metadata": {
        "id": "HPifUxIsP-SG"
      }
    },
    {
      "cell_type": "code",
      "source": [
        "def leiaDinheiro(msg):\n",
        "    valido = False\n",
        "    while not valido:\n",
        "        entrada = str(input(msg)).replace(',', '.')\n",
        "        if entrada.isalpha() or entrada.strip() == '':\n",
        "            print(f'\\033[31m ERRO! \\\"{entrada}\\\" é um preço inválido! \\033[m')\n",
        "        else:\n",
        "            valido = True\n",
        "            return float(entrada)"
      ],
      "metadata": {
        "id": "QNAih2aaQKRG"
      },
      "execution_count": null,
      "outputs": []
    },
    {
      "cell_type": "code",
      "source": [
        "from ex112.ex112utilidadesCeV import moeda\n",
        "from ex112.ex112utilidadesCeV import dados\n",
        "\n",
        "p = dados.leiaDinheiro('Qual o valor em dinheiro: R$  ')\n",
        "moeda.resumo(p, 20, 50)"
      ],
      "metadata": {
        "id": "rf8m1i9WQPft"
      },
      "execution_count": null,
      "outputs": []
    },
    {
      "cell_type": "markdown",
      "source": [
        "TRATAMENTOS DE ERROS E EXCEÇÕES"
      ],
      "metadata": {
        "id": "Y8uBWZwh5Urj"
      }
    },
    {
      "cell_type": "code",
      "source": [
        "a = int(input('Digite um número: '))\n",
        "b = int(input('Digite um número: '))\n",
        "try:\n",
        "  print(f'{a} / {b} = {a/b}')\n",
        "except:\n",
        "  print('IMPOSSIVEL DIVIDIR POR 0')"
      ],
      "metadata": {
        "colab": {
          "base_uri": "https://localhost:8080/"
        },
        "id": "tj1_7aZl5avM",
        "outputId": "a0f8b8a0-cd1a-44f3-88e1-b3dd92ea848e"
      },
      "execution_count": null,
      "outputs": [
        {
          "output_type": "stream",
          "name": "stdout",
          "text": [
            "Digite um número: 5\n",
            "Digite um número: 6\n",
            "5 / 6 = 0.8333333333333334\n"
          ]
        }
      ]
    },
    {
      "cell_type": "code",
      "source": [
        "try:\n",
        "  a = int(input('Digite um número: '))\n",
        "  b = int(input('Digite um número: '))\n",
        "  soma = a / b\n",
        "except:\n",
        "  print('IMPOSSIVEL DIVIDIR POR 0')\n",
        "else:\n",
        "  print(soma)"
      ],
      "metadata": {
        "colab": {
          "base_uri": "https://localhost:8080/"
        },
        "id": "wPQYW0qG6z84",
        "outputId": "7b405968-3832-4ca8-9d87-c73eb913f587"
      },
      "execution_count": null,
      "outputs": [
        {
          "output_type": "stream",
          "name": "stdout",
          "text": [
            "Digite um número: 5\n",
            "Digite um número: 2\n",
            "2.5\n"
          ]
        }
      ]
    },
    {
      "cell_type": "code",
      "source": [
        "try:\n",
        "  a = int(input('Digite um número: '))\n",
        "  b = int(input('Digite um número: '))\n",
        "  soma = a / b\n",
        "except:\n",
        "  print('INFELIZMENTE TIVEMOS UM PROBLEMA')\n",
        "else:\n",
        "  print(soma)\n",
        "finally:\n",
        "  print('VOLTE SEMPRE')"
      ],
      "metadata": {
        "colab": {
          "base_uri": "https://localhost:8080/"
        },
        "id": "XfnJxpDt71JN",
        "outputId": "3d4b31a7-6f8f-4ca7-d79d-8bc1a839a9ee"
      },
      "execution_count": null,
      "outputs": [
        {
          "output_type": "stream",
          "name": "stdout",
          "text": [
            "Digite um número: a\n",
            "INFELIZMENTE TIVEMOS UM PROBLEMA\n",
            "VOLTE SEMPRE\n"
          ]
        }
      ]
    },
    {
      "cell_type": "code",
      "source": [
        "try:\n",
        "  a = int(input('Digite um número: '))\n",
        "  b = int(input('Digite um número: '))\n",
        "  soma = a / b\n",
        "except Exception as erro:\n",
        "  print(f'ERRO ENCONTRADO: {erro}')\n",
        "else:\n",
        "  print(soma)\n",
        "finally:\n",
        "  print('VOLTE SEMPRE')"
      ],
      "metadata": {
        "colab": {
          "base_uri": "https://localhost:8080/"
        },
        "id": "2UOBv5HI8a_3",
        "outputId": "a89eb4a8-21f9-412e-a421-0d8a7e52b8c1"
      },
      "execution_count": null,
      "outputs": [
        {
          "output_type": "stream",
          "name": "stdout",
          "text": [
            "Digite um número: 5\n",
            "Digite um número: 0\n",
            "ERRO ENCONTRADO: division by zero\n",
            "VOLTE SEMPRE\n"
          ]
        }
      ]
    },
    {
      "cell_type": "code",
      "source": [
        "from typing import ValuesView\n",
        "try:\n",
        "  a = int(input('Digite um número: '))\n",
        "  b = int(input('Digite um número: '))\n",
        "  soma = a / b\n",
        "except (ValueError, TypeError):\n",
        "  print(\"TIVEMOS UM PROBELMA COM OS TIPOS DE DADOS DIGITADOS\")\n",
        "except ZeroDivisionError:\n",
        "  print('IMPOSSÍVEL EFETUAR UMA DIVISÃO POR 0')\n",
        "except KeyboardInterrupt:\n",
        "  print('O USUÁRIO PREFERIU NÃO INFORMAR OS DADOS')\n",
        "else:\n",
        "  print(soma)\n",
        "finally:\n",
        "  print('VOLTE SEMPRE')"
      ],
      "metadata": {
        "colab": {
          "base_uri": "https://localhost:8080/"
        },
        "id": "jp4_Wxys9Xn8",
        "outputId": "fb78e8e9-e296-46c0-81d2-1892aed48ea9"
      },
      "execution_count": null,
      "outputs": [
        {
          "output_type": "stream",
          "name": "stdout",
          "text": [
            "Digite um número:    \n",
            "TIVEMOS UM PROBELMA COM OS TIPOS DE DADOS DIGITADOS\n",
            "VOLTE SEMPRE\n"
          ]
        }
      ]
    },
    {
      "cell_type": "markdown",
      "source": [
        "Exercício Python 113: Reescreva a função leiaInt() que fizemos no desafio 104, incluindo agora a possibilidade da digitação de um número de tipo inválido. Aproveite e crie também uma função leiaFloat() com a mesma funcionalidade.\n",
        "\n"
      ],
      "metadata": {
        "id": "a-cjnLu4tAQf"
      }
    },
    {
      "cell_type": "code",
      "source": [
        "def leiaInt(msg):\n",
        "  while True:\n",
        "    try:\n",
        "      n = int(input(msg))\n",
        "    except(ValueError, TypeError):\n",
        "      print(f'ERRO. DIGITE APENAS UM NÚMERO INTEIRO!')\n",
        "      continue\n",
        "    except(KeyboardInterrupt):\n",
        "      print('O USUÁRIO NÃO QUIS INFORMAR VALOR')\n",
        "      return 0\n",
        "    else:\n",
        "      return n\n",
        "def leiaFloat (msg):\n",
        "  while True:\n",
        "    try:\n",
        "      n = float(input(msg))\n",
        "    except(ValueError, TypeError):\n",
        "      print(f'ERRO! DIGITE APENAS UM NÚMERO REAL!')\n",
        "      continue\n",
        "    except(KeyboardInterrupt):\n",
        "      print('O USUÁRIO NÃO QUIS INFORMAR VALOR')\n",
        "      return 0\n",
        "    else:\n",
        "      return n\n",
        "\n",
        "    \n",
        "num = leiaInt('Digite um número: ')\n",
        "num1 = leiaFloat('Digite um número Real: ')\n",
        "print(f'Você digitou o número Inteiro {num} e Real {num1}')\n"
      ],
      "metadata": {
        "colab": {
          "base_uri": "https://localhost:8080/"
        },
        "id": "2VzgHBYwtIMc",
        "outputId": "f15f1465-d031-4971-8880-6cc3d2032660"
      },
      "execution_count": null,
      "outputs": [
        {
          "output_type": "stream",
          "name": "stdout",
          "text": [
            "O USUÁRIO NÃO QUIS INFORMAR VALOR\n",
            "O USUÁRIO NÃO QUIS INFORMAR VALOR\n",
            "Você digitou o número Inteiro 0 e Real 0\n"
          ]
        }
      ]
    },
    {
      "cell_type": "code",
      "source": [
        ""
      ],
      "metadata": {
        "id": "r1K4xShfNDuT"
      },
      "execution_count": null,
      "outputs": []
    },
    {
      "cell_type": "markdown",
      "source": [
        "Exercício Python 114: Crie um código em Python que teste se o site pudim está acessível pelo computador usado."
      ],
      "metadata": {
        "id": "6RES113lBBkF"
      }
    },
    {
      "cell_type": "code",
      "source": [
        "import urllib\n",
        "import urllib.request\n",
        "\n",
        "try:\n",
        "  site = urllib.request.urlopen('http://www.pudim.com.br')\n",
        "\n",
        "except urllib.error.URLError:\n",
        "  print('O site pudim não está acessivel!')\n",
        "\n",
        "else:\n",
        "  print('O site pudim está acessivel!')\n",
        "  # ler o conteúdo (código do site)\n",
        "  print(site.read())"
      ],
      "metadata": {
        "colab": {
          "base_uri": "https://localhost:8080/"
        },
        "id": "KRZgjqpeBDfP",
        "outputId": "9526fde4-e8f9-47a8-ecb5-0bc66e9cc284"
      },
      "execution_count": null,
      "outputs": [
        {
          "output_type": "stream",
          "name": "stdout",
          "text": [
            "O site pudim está acessivel!\n",
            "b'<html>\\n<html xmlns=\"http://www.w3.org/1999/xhtml\">\\n<head>\\n    <title>Pudim</title>\\n    <link rel=\"stylesheet\" href=\"estilo.css\">\\n</head>\\n<body>\\n<div>\\n    <div class=\"container\">\\n        <div class=\"image\">\\n            <img src=\"pudim.jpg\" alt=\"\">\\n        </div>\\n        <div class=\"email\">\\n            <a href=\"mailto:pudim@pudim.com.br\">pudim@pudim.com.br</a>\\n        </div>\\n    </div>\\n</div>\\n<script>\\n    (function(i,s,o,g,r,a,m){i[\\'GoogleAnalyticsObject\\']=r;i[r]=i[r]||function(){\\n                (i[r].q=i[r].q||[]).push(arguments)},i[r].l=1*new Date();a=s.createElement(o),\\n            m=s.getElementsByTagName(o)[0];a.async=1;a.src=g;m.parentNode.insertBefore(a,m)\\n    })(window,document,\\'script\\',\\'//www.google-analytics.com/analytics.js\\',\\'ga\\');\\n\\n    ga(\\'create\\', \\'UA-28861757-1\\', \\'auto\\');\\n    ga(\\'send\\', \\'pageview\\');\\n\\n</script>\\n</body>\\n</html>\\n'\n"
          ]
        }
      ]
    },
    {
      "cell_type": "markdown",
      "source": [
        "Exercício Python 115a: Vamos criar um menu em Python, usando modularização."
      ],
      "metadata": {
        "id": "eFfQjSxxW0Tq"
      }
    },
    {
      "cell_type": "code",
      "source": [
        "def leiaInt(msg):\n",
        "  while True:\n",
        "    try:\n",
        "      n = int(input(msg))\n",
        "    except(ValueError, TypeError):\n",
        "      print(f'\\033[31m ERRO. DIGITE APENAS UM NÚMERO INTEIRO! \\033[m')\n",
        "      continue\n",
        "    except(KeyboardInterrupt):\n",
        "      print('O USUÁRIO NÃO QUIS INFORMAR VALOR')\n",
        "      return 0\n",
        "    else:\n",
        "      return n\n",
        "\n",
        "\n",
        "def cabeçalho (msg):\n",
        "    tamanho = len(msg) * 2\n",
        "    print('~' * tamanho)\n",
        "    print(f'{msg.center(tamanho)}')\n",
        "    print('~' * tamanho)\n",
        "\n",
        "def menu(lista):\n",
        "    cabeçalho('Menu Principal')\n",
        "    c = 1\n",
        "    for item in lista:\n",
        "        print(f'\\033[33m{c}\\033[m - \\033[34m{item}\\033[m')\n",
        "        c += 1\n",
        "    print('~' * 29)\n",
        "    opc = leiaInt('\\033[32m Sua opção: \\033[m')\n",
        "    return opc\n"
      ],
      "metadata": {
        "id": "OQaoflNnW08L"
      },
      "execution_count": null,
      "outputs": []
    },
    {
      "cell_type": "code",
      "source": [
        "from ex115.lib.interface import *\n",
        "from time import sleep\n",
        "while True:\n",
        "    resp = menu(['Ver pessoas cadastradas' , 'Cadastrar nova pessoa', 'Sair do sistema'])\n",
        "    if resp == 1:\n",
        "        print('opção 1')\n",
        "    elif resp == 2:\n",
        "        print('opção 2')\n",
        "    elif resp == 3:\n",
        "        print('Saindo do programa...')\n",
        "        break\n",
        "    else:\n",
        "        print('\\033[31m Erro! Opção inválida \\033[m')\n",
        "    sleep(2)"
      ],
      "metadata": {
        "id": "KxZDD5uJtjhi"
      },
      "execution_count": null,
      "outputs": []
    },
    {
      "cell_type": "markdown",
      "source": [
        "Exercicío Python 115b: Vamos ver como fazer acesso a arquivos usando Python"
      ],
      "metadata": {
        "id": "oH2yKII3tuva"
      }
    },
    {
      "cell_type": "code",
      "source": [
        "from ex115.lib.interface import *\n",
        "\n",
        "def arquivoExiste(nome):\n",
        "    try:\n",
        "        a = open(nome, 'rt')\n",
        "        a.close()\n",
        "    except FileNotFoundError:\n",
        "        return False\n",
        "    else:\n",
        "        return True\n",
        "\n",
        "def criarArquivo (nome):\n",
        "    try:\n",
        "        a = open(nome, 'wt+')\n",
        "        a.close()\n",
        "    except:\n",
        "        print('Houve um erro na criação do arquivo')\n",
        "    else:\n",
        "        print(f'Arquivo {nome} criado')\n",
        "\n",
        "def lerArquivo (nome):\n",
        "    try:\n",
        "        a = open(nome, 'rt')\n",
        "    except:\n",
        "        print('Erro ao ler o arquivo!')\n",
        "    else:\n",
        "        cabeçalho('PESSOAS CADASTRADAS')\n",
        "        print(a.readlines())"
      ],
      "metadata": {
        "id": "qBz8HOwTt-0d"
      },
      "execution_count": null,
      "outputs": []
    },
    {
      "cell_type": "code",
      "source": [
        "from ex115.lib.interface import *\n",
        "from ex115.lib.arquivo import *\n",
        "from time import sleep\n",
        "\n",
        "arq = 'CursoEmVideo.txt'\n",
        "\n",
        "if not arquivoExiste(arq):\n",
        "    criarArquivo(arq)\n",
        "\n",
        "while True:\n",
        "    resp = menu(['Ver pessoas cadastradas' , 'Cadastrar nova pessoa', 'Sair do sistema'])\n",
        "    if resp == 1:\n",
        "        # opção de listar conteúdo de um arquivo\n",
        "        lerArquivo(arq)\n",
        "    elif resp == 2:\n",
        "        print('opção 2')\n",
        "    elif resp == 3:\n",
        "        print('Saindo do programa...')\n",
        "        break\n",
        "    else:\n",
        "        print('\\033[31m Erro! Opção inválida \\033[m')\n",
        "    sleep(2)"
      ],
      "metadata": {
        "id": "iDI9qvxF1_qo"
      },
      "execution_count": null,
      "outputs": []
    },
    {
      "cell_type": "markdown",
      "source": [
        "Exercicío Python 115c: Vamos Finalizar o projeto de acesso a arquivos em Python"
      ],
      "metadata": {
        "id": "HTBD6Urm9zTR"
      }
    },
    {
      "cell_type": "code",
      "source": [
        "from ex115.lib.interface import *\n",
        "\n",
        "def arquivoExiste(nome):\n",
        "    try:\n",
        "        a = open(nome, 'rt')\n",
        "        a.close()\n",
        "    except FileNotFoundError:\n",
        "        return False\n",
        "    else:\n",
        "        return True\n",
        "\n",
        "def criarArquivo (nome):\n",
        "    try:\n",
        "        a = open(nome, 'wt+')\n",
        "        a.close()\n",
        "    except:\n",
        "        print('Houve um erro na criação do arquivo')\n",
        "    else:\n",
        "        print(f'Arquivo {nome} criado')\n",
        "\n",
        "def lerArquivo (nome):\n",
        "    try:\n",
        "        a = open(nome, 'rt')\n",
        "    except:\n",
        "        print('Erro ao ler o arquivo!')\n",
        "    else:\n",
        "        cabeçalho('PESSOAS CADASTRADAS')\n",
        "        for linha in a:\n",
        "            dado = linha.split(';')\n",
        "            dado[1] = dado[1].replace('\\n', ' ')\n",
        "            print(f'{dado[0]:30<}{dado[1]:3>} anos')\n",
        "    finally:\n",
        "        a.close()\n",
        "\n",
        "\n",
        "def cadastrar(arq, nome= 'desconhecido', idade=0):\n",
        "    try:\n",
        "        a = open(arq, 'at')\n",
        "    except:\n",
        "        print('Houve um erro na abertura do arquivo')\n",
        "    else:\n",
        "        try:\n",
        "            a.write(f'{nome}:{idade}\\n')\n",
        "        except:\n",
        "            print('Houve um erro na hora de escrever o arquivo')\n",
        "        else:\n",
        "            print(f'novo registro de {nome} adicionado')\n",
        "            a.close()\n"
      ],
      "metadata": {
        "id": "VTIC6e5X-SGA"
      },
      "execution_count": null,
      "outputs": []
    },
    {
      "cell_type": "code",
      "source": [
        "from ex115.lib.interface import *\n",
        "from ex115.lib.arquivo import *\n",
        "from time import sleep\n",
        "\n",
        "arq = 'CursoEmVideo.txt'\n",
        "\n",
        "if not arquivoExiste(arq):\n",
        "    criarArquivo(arq)\n",
        "\n",
        "while True:\n",
        "    resp = menu(['Ver pessoas cadastradas' , 'Cadastrar nova pessoa', 'Sair do sistema'])\n",
        "    if resp == 1:\n",
        "        # opção de listar conteúdo de um arquivo\n",
        "        lerArquivo(arq)\n",
        "    elif resp == 2:\n",
        "        # cadastrar nova pessoa\n",
        "        cabeçalho('Novo Cadastro')\n",
        "        nome = str(input('Nome: '))\n",
        "        idade = leiaInt('Idade: ')\n",
        "        cadastrar(arq, nome, idade)\n",
        "    elif resp == 3:\n",
        "        # sair do sistema\n",
        "        print('Saindo do programa...')\n",
        "        break\n",
        "    else:\n",
        "        print('\\033[31m Erro! Opção inválida \\033[m')\n",
        "    sleep(2)"
      ],
      "metadata": {
        "id": "Am3O9EHV-OeJ"
      },
      "execution_count": null,
      "outputs": []
    }
  ]
}
