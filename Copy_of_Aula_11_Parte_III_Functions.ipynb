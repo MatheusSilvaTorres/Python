{
  "nbformat": 4,
  "nbformat_minor": 0,
  "metadata": {
    "colab": {
      "name": "Copy of Aula 11 - Parte III - Functions",
      "provenance": [],
      "collapsed_sections": [],
      "include_colab_link": true
    },
    "kernelspec": {
      "name": "python3",
      "display_name": "Python 3"
    }
  },
  "cells": [
    {
      "cell_type": "markdown",
      "metadata": {
        "id": "view-in-github",
        "colab_type": "text"
      },
      "source": [
        "<a href=\"https://colab.research.google.com/github/MatheusSilvaTorres/Python/blob/main/Copy_of_Aula_11_Parte_III_Functions.ipynb\" target=\"_parent\"><img src=\"https://colab.research.google.com/assets/colab-badge.svg\" alt=\"Open In Colab\"/></a>"
      ]
    },
    {
      "cell_type": "markdown",
      "metadata": {
        "id": "IWT9kBSMTj2O"
      },
      "source": [
        "# Parte III - Functions\n",
        "## Aula 11 - Functions (parte 2)\n",
        "### Linguagem de Programação (Prof. Dr. Henrique Dezani)\n",
        "Curso de Tecnologia em Análise e Desenvolvimento de Sistemas da Faculdade de Tecnologia de São José do Rio Preto"
      ]
    },
    {
      "cell_type": "markdown",
      "metadata": {
        "id": "Bu_cUAtKULLJ"
      },
      "source": [
        "## 11.1. Functions Are First-Class Citizens\n",
        "Em Python, tudo é um objeto! Isso inclui números, strings, tuplas, listas, dicionários e funções também. Funções são cidadãos de primeira classe em Python. Você pode atribuí-los a variáveis, usá-los como argumentos para outras funções e retorná-los de funções. Isso permite que você faça algumas coisas em Python que são difíceis ou impossíveis de realizar em muitas outras linguagens.\n",
        "\n",
        "Para testar isso, vamos definir uma função simples chamada resposta() que não possui argumentos; apenas imprime o número 42:\n"
      ]
    },
    {
      "cell_type": "code",
      "metadata": {
        "id": "0cTOMlC_69nE"
      },
      "source": [
        "def resposta():\n",
        "  print(42)"
      ],
      "execution_count": null,
      "outputs": []
    },
    {
      "cell_type": "markdown",
      "metadata": {
        "id": "smt9s-sB7FZ1"
      },
      "source": [
        "Se você executar esta função, sabe o que receberá:"
      ]
    },
    {
      "cell_type": "code",
      "metadata": {
        "id": "Qk1IMjMW7G7u",
        "outputId": "a8df54b4-8a10-4c0f-c7b4-4b034316a107",
        "colab": {
          "base_uri": "https://localhost:8080/",
          "height": 34
        }
      },
      "source": [
        "resposta()"
      ],
      "execution_count": null,
      "outputs": [
        {
          "output_type": "stream",
          "text": [
            "42\n"
          ],
          "name": "stdout"
        }
      ]
    },
    {
      "cell_type": "markdown",
      "metadata": {
        "id": "m0beYUIU7KJ-"
      },
      "source": [
        "Agora, vamos definir outra função chamada execute_alguma_coisa(). Ele tem um argumento chamado **func**, uma função a ser executada. Uma vez dentro, apenas chama a função."
      ]
    },
    {
      "cell_type": "code",
      "metadata": {
        "id": "ZTjJOjeE7QrH"
      },
      "source": [
        "def execute_alguma_coisa(func):\n",
        "  func()"
      ],
      "execution_count": null,
      "outputs": []
    },
    {
      "cell_type": "markdown",
      "metadata": {
        "id": "tniv92yn7YGM"
      },
      "source": [
        "Se passarmos a resposta para execute_alguma_coisa(), estamos usando uma função como dados, assim como com qualquer outra coisa:"
      ]
    },
    {
      "cell_type": "code",
      "metadata": {
        "id": "sjfJxlZD7eaa",
        "outputId": "ac82a48b-8ecd-428f-e827-42e2124e109f",
        "colab": {
          "base_uri": "https://localhost:8080/",
          "height": 34
        }
      },
      "source": [
        "execute_alguma_coisa(resposta)"
      ],
      "execution_count": null,
      "outputs": [
        {
          "output_type": "stream",
          "text": [
            "42\n"
          ],
          "name": "stdout"
        }
      ]
    },
    {
      "cell_type": "markdown",
      "metadata": {
        "id": "pHxbDPDK7qRL"
      },
      "source": [
        "Observe que você passou `resposta`, não na `resposta()`. No Python, esses parênteses significam chamar essa função. Sem parênteses, o Python trata a função como qualquer outro objeto. Isso porque, como tudo no Python, é um objeto!"
      ]
    },
    {
      "cell_type": "markdown",
      "metadata": {
        "id": "oO_rCh_f8Usv"
      },
      "source": [
        "Vamos tentar executar uma função com argumentos. Defina uma função add_args() que imprima a soma de seus dois argumentos numéricos, arg1 e arg2:"
      ]
    },
    {
      "cell_type": "code",
      "metadata": {
        "id": "LHl2oiha8YLE"
      },
      "source": [
        "def add_args(arg1, arg2):\n",
        "  print(arg1 + arg2)"
      ],
      "execution_count": null,
      "outputs": []
    },
    {
      "cell_type": "markdown",
      "metadata": {
        "id": "C6WUwOVg8dzK"
      },
      "source": [
        "Neste ponto, vamos definir uma função chamada `execute_com_args()` que leva três\n",
        "argumentos:\n",
        "\n",
        "• func - a função a ser executada\n",
        "\n",
        "• arg1 - O primeiro argumento para function\n",
        "\n",
        "• arg2 - O segundo argumento para function"
      ]
    },
    {
      "cell_type": "code",
      "metadata": {
        "id": "H-1OO_h98sJv"
      },
      "source": [
        "def execute_com_args(func, arg1, arg2):\n",
        "  func(arg1, arg2)"
      ],
      "execution_count": null,
      "outputs": []
    },
    {
      "cell_type": "markdown",
      "metadata": {
        "id": "tJdpXXXCsFJK"
      },
      "source": [
        "Quando você chama `execute_com_args()`, a função passada pelo invocador é atribuída ao parâmetro func, enquanto arg1 e arg2 obtêm os valores que se seguem na lista de argumentos. Então, executar `func(arg1, arg2)` executa essa função com esses argumentos porque os parênteses disseram ao Python para fazê-lo.\n",
        "\n",
        "Vamos testá-lo passando o nome da função add_args e os argumentos 5 e 9 para execute_com_args():"
      ]
    },
    {
      "cell_type": "code",
      "metadata": {
        "id": "YRMeMvIjsSM5",
        "outputId": "9e18ab0d-8ddf-41df-a43d-2f36a9074d86",
        "colab": {
          "base_uri": "https://localhost:8080/",
          "height": 34
        }
      },
      "source": [
        "execute_com_args(add_args, 5, 9)"
      ],
      "execution_count": null,
      "outputs": [
        {
          "output_type": "stream",
          "text": [
            "14\n"
          ],
          "name": "stdout"
        }
      ]
    },
    {
      "cell_type": "markdown",
      "metadata": {
        "id": "DY28ZDoV-nCw"
      },
      "source": [
        "Você pode usar funções como elementos de listas, tuplas, conjuntos e dicionários. As funções são **imutáveis**, portanto você também pode usá-las como chaves de dicionário."
      ]
    },
    {
      "cell_type": "markdown",
      "metadata": {
        "id": "-UaeappkvQdH"
      },
      "source": [
        "## 11.2. Funções internas\n",
        "Você pode definir uma função dentro de outra função:"
      ]
    },
    {
      "cell_type": "code",
      "metadata": {
        "id": "6bnUxUOovss0"
      },
      "source": [
        "def funcao_externa(a, b):\n",
        "  def funcao_interna(c, d):\n",
        "    return c + d\n",
        "  return funcao_interna(a, b)"
      ],
      "execution_count": null,
      "outputs": []
    },
    {
      "cell_type": "code",
      "metadata": {
        "id": "32kWjpjS_SYV",
        "outputId": "c203ff6b-dd6b-4702-9f93-7edbadb5eb5d",
        "colab": {
          "base_uri": "https://localhost:8080/",
          "height": 34
        }
      },
      "source": [
        "funcao_externa(5,2)"
      ],
      "execution_count": null,
      "outputs": [
        {
          "output_type": "execute_result",
          "data": {
            "text/plain": [
              "7"
            ]
          },
          "metadata": {
            "tags": []
          },
          "execution_count": 12
        }
      ]
    },
    {
      "cell_type": "markdown",
      "metadata": {
        "id": "sf_Vo3oS__Tb"
      },
      "source": [
        "Uma função interna pode ser útil ao executar alguma tarefa complexa mais de uma vez em outra função, para evitar loops ou duplicação de código."
      ]
    },
    {
      "cell_type": "markdown",
      "metadata": {
        "id": "4hAiaLwcv7BO"
      },
      "source": [
        "## 11.3. Funções anônimas: Funções lambda\n",
        "No Python, uma função *lambda* é uma função anônima expressa como uma única declaração. Você pode usá-la em vez de uma pequena função normal.\n",
        "\n",
        "Para ilustrar, vamos primeiro fazer um exemplo que usa funções normais. Para começar, definiremos a função edita_palavra(). Seus argumentos são os seguintes:\n",
        "• palavras - uma lista de palavras\n",
        "• func - uma função a ser aplicada a cada palavra em palavras"
      ]
    },
    {
      "cell_type": "code",
      "metadata": {
        "id": "mCte7SEUAk6J"
      },
      "source": [
        "def edita_palavras(words, func):\n",
        "  for word in words:\n",
        "    print(func(word))"
      ],
      "execution_count": null,
      "outputs": []
    },
    {
      "cell_type": "markdown",
      "metadata": {
        "id": "fcCm7Xm5AtNt"
      },
      "source": [
        "Agora, precisamos de uma lista de palavras e uma função para aplicar a cada palavra."
      ]
    },
    {
      "cell_type": "code",
      "metadata": {
        "id": "8uOx1xYqCsfo"
      },
      "source": [
        "palavras = ['fatec', 'rio', 'preto', 'python']"
      ],
      "execution_count": null,
      "outputs": []
    },
    {
      "cell_type": "code",
      "metadata": {
        "id": "lze0Rvxnvi_d"
      },
      "source": [
        "def transformar(palavra):\n",
        "  return palavra.capitalize() + '!'"
      ],
      "execution_count": null,
      "outputs": []
    },
    {
      "cell_type": "code",
      "metadata": {
        "id": "DLL2gry9C9SR",
        "outputId": "8df57810-6f60-461d-9c13-10893ef2edcf",
        "colab": {
          "base_uri": "https://localhost:8080/",
          "height": 86
        }
      },
      "source": [
        "edita_palavras(palavras, transformar)"
      ],
      "execution_count": null,
      "outputs": [
        {
          "output_type": "stream",
          "text": [
            "Fatec!\n",
            "Rio!\n",
            "Preto!\n",
            "Python!\n"
          ],
          "name": "stdout"
        }
      ]
    },
    {
      "cell_type": "markdown",
      "metadata": {
        "id": "z4PrtNrBA9dV"
      },
      "source": [
        "Finalmente, chegamos à lambda. A função `transformar()` foi tão breve que podemos substituí-la por uma lambda:"
      ]
    },
    {
      "cell_type": "code",
      "metadata": {
        "id": "tpQZ2RHOBCKn",
        "outputId": "68cf21fc-bfe3-4755-c298-5a376235958e",
        "colab": {
          "base_uri": "https://localhost:8080/",
          "height": 86
        }
      },
      "source": [
        "edita_palavras(palavras, lambda palavra: palavra.capitalize() + '!')"
      ],
      "execution_count": null,
      "outputs": [
        {
          "output_type": "stream",
          "text": [
            "Fatec!\n",
            "Rio!\n",
            "Preto!\n",
            "Python!\n"
          ],
          "name": "stdout"
        }
      ]
    },
    {
      "cell_type": "markdown",
      "metadata": {
        "id": "9dH0E3QpDqvh"
      },
      "source": [
        "O **lambda** usa um argumento, que chamamos de `palavra` aqui. Tudo entre os dois pontos (:) e o parêntese final é a definição da função.\n",
        "\n",
        "Frequentemente, o uso de funções reais, como `transformar()`, é muito mais claro do que o uso de lambdas. As lambdas são úteis principalmente nos casos em que você precisaria definir muitas funções minúsculas e lembrar o que você chamou todas. Veja um exemplo apresentado na aula anterior."
      ]
    },
    {
      "cell_type": "code",
      "metadata": {
        "id": "zu6I6-LrxNhG"
      },
      "source": [
        "def numeros_multiplicados_por_2(*args):\n",
        "  lista = []\n",
        "  for i in args:\n",
        "    lista.append(i * 2)\n",
        "  return tuple(lista)"
      ],
      "execution_count": null,
      "outputs": []
    },
    {
      "cell_type": "code",
      "metadata": {
        "id": "Birn1VZSOSbk"
      },
      "source": [
        ""
      ],
      "execution_count": null,
      "outputs": []
    },
    {
      "cell_type": "code",
      "metadata": {
        "id": "SFyTmNNAECx2",
        "outputId": "d5a4baa1-9423-401b-b6f5-0c3d3c515570",
        "colab": {
          "base_uri": "https://localhost:8080/",
          "height": 34
        }
      },
      "source": [
        "numeros_multiplicados_por_2(1, 2, 3, 4)"
      ],
      "execution_count": null,
      "outputs": [
        {
          "output_type": "execute_result",
          "data": {
            "text/plain": [
              "(2, 4, 6, 8)"
            ]
          },
          "metadata": {
            "tags": []
          },
          "execution_count": 20
        }
      ]
    },
    {
      "cell_type": "markdown",
      "metadata": {
        "id": "JCgfNjnfEIqO"
      },
      "source": [
        "Agora, com lambda:"
      ]
    },
    {
      "cell_type": "code",
      "metadata": {
        "id": "58Bs4XKnEL6I"
      },
      "source": [
        "def numeros_multiplicados_por_2(*args):\n",
        "  return tuple(map(lambda x: x*2, args))"
      ],
      "execution_count": null,
      "outputs": []
    },
    {
      "cell_type": "code",
      "metadata": {
        "id": "YiQSYHhpEN7a",
        "outputId": "41479d0b-70c4-44a4-e34c-f2399ea7b6b5",
        "colab": {
          "base_uri": "https://localhost:8080/",
          "height": 34
        }
      },
      "source": [
        "numeros_multiplicados_por_2(1, 2, 3, 4)"
      ],
      "execution_count": null,
      "outputs": [
        {
          "output_type": "execute_result",
          "data": {
            "text/plain": [
              "(2, 4, 6, 8)"
            ]
          },
          "metadata": {
            "tags": []
          },
          "execution_count": 29
        }
      ]
    },
    {
      "cell_type": "code",
      "metadata": {
        "id": "V48uth2dOS7u"
      },
      "source": [
        ""
      ],
      "execution_count": null,
      "outputs": []
    },
    {
      "cell_type": "code",
      "metadata": {
        "id": "jdQjRxypOS-1"
      },
      "source": [
        ""
      ],
      "execution_count": null,
      "outputs": []
    },
    {
      "cell_type": "code",
      "metadata": {
        "id": "KYVQMtYFOTBF",
        "outputId": "e47f1d5d-94e9-4bb6-9970-acc15a4c0492",
        "colab": {
          "base_uri": "https://localhost:8080/",
          "height": 34
        }
      },
      "source": [
        "# def multiplica_3(numero):\n",
        "#   return numero * 3\n",
        "\n",
        "\n",
        "lista = [1, 2, 3, 4, 5, 6, 7]\n",
        "\n",
        "# for i in lista:\n",
        "#   multiplica_3(i)\n",
        "\n",
        "# tuple(map(multiplica_3, lista))\n",
        "\n",
        "tuple(map(lambda n: n * 3, lista))\n",
        "\n",
        "tuple(filter(lambda n: n > 3, lista))\n",
        "\n",
        "for i in lista:\n",
        "  if i > 3:\n",
        "    return i"
      ],
      "execution_count": null,
      "outputs": [
        {
          "output_type": "execute_result",
          "data": {
            "text/plain": [
              "(4, 5, 6, 7)"
            ]
          },
          "metadata": {
            "tags": []
          },
          "execution_count": 27
        }
      ]
    },
    {
      "cell_type": "code",
      "metadata": {
        "id": "9Jnc19GdOoLX"
      },
      "source": [
        ""
      ],
      "execution_count": null,
      "outputs": []
    }
  ]
}