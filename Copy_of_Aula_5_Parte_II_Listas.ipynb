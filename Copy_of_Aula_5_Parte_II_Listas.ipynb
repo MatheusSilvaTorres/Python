{
  "nbformat": 4,
  "nbformat_minor": 0,
  "metadata": {
    "colab": {
      "name": "Copy of Aula 5 - Parte II - Listas",
      "provenance": [],
      "collapsed_sections": [],
      "include_colab_link": true
    },
    "kernelspec": {
      "name": "python3",
      "display_name": "Python 3"
    }
  },
  "cells": [
    {
      "cell_type": "markdown",
      "metadata": {
        "id": "view-in-github",
        "colab_type": "text"
      },
      "source": [
        "<a href=\"https://colab.research.google.com/github/MatheusSilvaTorres/Python/blob/main/Copy_of_Aula_5_Parte_II_Listas.ipynb\" target=\"_parent\"><img src=\"https://colab.research.google.com/assets/colab-badge.svg\" alt=\"Open In Colab\"/></a>"
      ]
    },
    {
      "cell_type": "markdown",
      "metadata": {
        "id": "IWT9kBSMTj2O"
      },
      "source": [
        "# Parte II - Estruturas de Dados\n",
        "## Aula 5 - Listas\n",
        "### Linguagem de Programação (Prof. Dr. Henrique Dezani)\n",
        "Curso de Tecnologia em Análise e Desenvolvimento de Sistemas da Faculdade de Tecnologia de São José do Rio Preto"
      ]
    },
    {
      "cell_type": "markdown",
      "metadata": {
        "id": "i1HnFaD3isTU"
      },
      "source": [
        "Na Parte I, começamos com os tipos de dados básicos do Python: booleanos, números inteiros, de ponto flutuante e strings. Se considerarmos eles como átomos, as estruturas de dados desta Parte II são as moléculas. Ou seja, combinamos esses tipos básicos de maneiras mais complexas. Você os usará todos os dias. Grande parte da programação consiste em cortar e colar dados em formas específicas, e essas são suas serras e cola (Lubanovic, 2014)."
      ]
    },
    {
      "cell_type": "markdown",
      "metadata": {
        "id": "C04vxa-S9nDK"
      },
      "source": [
        "A maioria das linguagens de computador pode representar uma sequência de itens indexados por sua posição inteira: primeiro, segundo e assim por diante até o último. Lembrando que os índices sempre iniciam em zero. \n",
        "\n",
        "Na última aula vimos `strings` Python, que são sequências de caracteres. Reveja o exemplo abaixo com os caracteres desta sequência e seus respectivos índices."
      ]
    },
    {
      "cell_type": "code",
      "metadata": {
        "id": "j2nCVb-M9oTW",
        "outputId": "c286e033-c687-4819-f2f2-5baff2041058",
        "colab": {
          "base_uri": "https://localhost:8080/",
          "height": 34
        }
      },
      "source": [
        "texto = 'Hello World'\n",
        "for index, caractere in enumerate(texto):\n",
        "  print('[{}] {}'.format(index, caractere), end='\\t')"
      ],
      "execution_count": null,
      "outputs": [
        {
          "output_type": "stream",
          "text": [
            "[0] H\t[1] e\t[2] l\t[3] l\t[4] o\t[5]  \t[6] W\t[7] o\t[8] r\t[9] l\t[10] d\t"
          ],
          "name": "stdout"
        }
      ]
    },
    {
      "cell_type": "markdown",
      "metadata": {
        "id": "690kl52q7oS9"
      },
      "source": [
        "O Python possui duas outras estruturas de sequência: tuplas e listas. Eles contêm zero ou mais elementos. Diferentemente das `strings`, os elementos podem ser de tipos diferentes. De fato, cada elemento pode ser qualquer objeto Python. Isso permite criar estruturas tão profundas e complexas quanto você desejar. \n",
        "\n",
        "`Tuplas` são **imutáveis**; quando você atribui elementos a uma tupla, eles  não podem ser alterados. As `listas` são **mutáveis**, o que significa que você pode inserir e excluir elementos da maneira que desejar. "
      ]
    },
    {
      "cell_type": "markdown",
      "metadata": {
        "id": "Bu_cUAtKULLJ"
      },
      "source": [
        "## 5.1. Listas (List)\n",
        "As listas são boas para acompanhar as coisas por ordem, especialmente quando a ordem e o conteúdo podem mudar. Diferentemente das `strings`, as listas são **mutáveis**. Você pode alterar uma lista no local específico, adicionar novos elementos e excluir ou substituir elementos existentes. O mesmo valor pode ocorrer mais de uma vez em uma lista. Veja alguns exemplos de como podemos criar listas a seguir:"
      ]
    },
    {
      "cell_type": "code",
      "metadata": {
        "id": "l1X0HXmJ_d2-",
        "outputId": "971f6a04-f992-45fc-84a3-62f90274da13",
        "colab": {
          "base_uri": "https://localhost:8080/",
          "height": 137
        }
      },
      "source": [
        "dias_semana = ['Domingo', 'Segunda-feira', 'Terça-feira', 'Quarta-feira', 'Quinta-feira', 'Sexta-feira', 'Sábado']\n",
        "\n",
        "for dia in dias_semana:\n",
        "  print(dia)"
      ],
      "execution_count": null,
      "outputs": [
        {
          "output_type": "stream",
          "text": [
            "Domingo\n",
            "Segunda-feira\n",
            "Terça-feira\n",
            "Quarta-feira\n",
            "Quinta-feira\n",
            "Sexta-feira\n",
            "Sábado\n"
          ],
          "name": "stdout"
        }
      ]
    },
    {
      "cell_type": "code",
      "metadata": {
        "id": "2tn52rUV_vW0",
        "outputId": "2045da50-4402-4b80-9f33-8a367990fde3",
        "colab": {
          "base_uri": "https://localhost:8080/",
          "height": 137
        }
      },
      "source": [
        "for index, dia in enumerate(dias_semana):\n",
        "  print(index, dia)"
      ],
      "execution_count": null,
      "outputs": [
        {
          "output_type": "stream",
          "text": [
            "0 Domingo\n",
            "1 Segunda-feira\n",
            "2 Terça-feira\n",
            "3 Quarta-feira\n",
            "4 Quinta-feira\n",
            "5 Sexta-feira\n",
            "6 Sábado\n"
          ],
          "name": "stdout"
        }
      ]
    },
    {
      "cell_type": "markdown",
      "metadata": {
        "id": "yaWPXjE1AWPL"
      },
      "source": [
        "Como vimos anteriormente, podemos criar uma lista com **[]**.\n",
        "Uma lista é composta de zero ou mais elementos, separados por vírgulas e entre colchetes. Outra maneira de criar uma lista é utilizando a **função interna** list(). Veja o exemplo."
      ]
    },
    {
      "cell_type": "code",
      "metadata": {
        "id": "0_V9Q70AAGxP"
      },
      "source": [
        "# alunos = []\n",
        "# ou\n",
        "alunos = list()"
      ],
      "execution_count": null,
      "outputs": []
    },
    {
      "cell_type": "code",
      "metadata": {
        "id": "wiRAyH_p_7Fk",
        "outputId": "78a19c14-0d2a-4797-e1b2-c66bfa9160ae",
        "colab": {
          "base_uri": "https://localhost:8080/",
          "height": 34
        }
      },
      "source": [
        "print(alunos)"
      ],
      "execution_count": null,
      "outputs": [
        {
          "output_type": "stream",
          "text": [
            "[]\n"
          ],
          "name": "stdout"
        }
      ]
    },
    {
      "cell_type": "code",
      "metadata": {
        "id": "VuSeCDP5AiB4",
        "outputId": "f8389957-9914-4226-9114-c090d5b30add",
        "colab": {
          "base_uri": "https://localhost:8080/",
          "height": 34
        }
      },
      "source": [
        "type(alunos)"
      ],
      "execution_count": null,
      "outputs": [
        {
          "output_type": "execute_result",
          "data": {
            "text/plain": [
              "list"
            ]
          },
          "metadata": {
            "tags": []
          },
          "execution_count": 6
        }
      ]
    },
    {
      "cell_type": "code",
      "metadata": {
        "id": "QsXx6jWyAjg8",
        "outputId": "5a3d6687-3ef6-4f98-ca57-699ac18c6370",
        "colab": {
          "base_uri": "https://localhost:8080/",
          "height": 34
        }
      },
      "source": [
        "type(dias_semana)"
      ],
      "execution_count": null,
      "outputs": [
        {
          "output_type": "execute_result",
          "data": {
            "text/plain": [
              "list"
            ]
          },
          "metadata": {
            "tags": []
          },
          "execution_count": 7
        }
      ]
    },
    {
      "cell_type": "markdown",
      "metadata": {
        "id": "JeoWZmFHBaL0"
      },
      "source": [
        "É importante relembrar que uma lista pode aceitar qualquer tipo de objeto e estes podem se repetir na lista. Vejamos um exemplo:"
      ]
    },
    {
      "cell_type": "code",
      "metadata": {
        "id": "5ymX-5T7AmH0"
      },
      "source": [
        "lista_de_objetos = [1, 'texto', 2.3, True, 1, None, []]"
      ],
      "execution_count": null,
      "outputs": []
    },
    {
      "cell_type": "code",
      "metadata": {
        "id": "0QuYDt8rB3mT",
        "outputId": "9e217864-db69-4b08-a295-2bbce578e573",
        "colab": {
          "base_uri": "https://localhost:8080/",
          "height": 137
        }
      },
      "source": [
        "for item in lista_de_objetos:\n",
        "  print(item, type(item))"
      ],
      "execution_count": null,
      "outputs": [
        {
          "output_type": "stream",
          "text": [
            "1 <class 'int'>\n",
            "texto <class 'str'>\n",
            "2.3 <class 'float'>\n",
            "True <class 'bool'>\n",
            "1 <class 'int'>\n",
            "None <class 'NoneType'>\n",
            "[] <class 'list'>\n"
          ],
          "name": "stdout"
        }
      ]
    },
    {
      "cell_type": "markdown",
      "metadata": {
        "id": "VoIMpPLXCPZa"
      },
      "source": [
        "##Fica a dica! \n",
        "Caso a ordem dos elementos não sejam importantes e seja necessário restrigir **apenas objetos únicos**, utilizamos a estrutura de dados `set` (conjunto). Veremos esta estrutura em próximas aulas."
      ]
    },
    {
      "cell_type": "markdown",
      "metadata": {
        "id": "KTDbSLABC78p"
      },
      "source": [
        "### 5.1.1. Convertendo outros tipos de dados para lista\n",
        "A lista é uma das principais estruturas de dados utilizadas nos programas de computadores, portanto, é importante estudarmos como converter outros tipos de dados para listas. Vejamos aluns exemplos:"
      ]
    },
    {
      "cell_type": "code",
      "metadata": {
        "id": "4v09Dh6-B9Sf",
        "outputId": "01be657c-5cdb-45b9-fe7d-0a546cdbbd4c",
        "colab": {
          "base_uri": "https://localhost:8080/",
          "height": 34
        }
      },
      "source": [
        "# Podemos utilizar a a função interna list() para converter uma string para uma lista de string (caracteres):\n",
        "list('Fatec')"
      ],
      "execution_count": null,
      "outputs": [
        {
          "output_type": "execute_result",
          "data": {
            "text/plain": [
              "['F', 'a', 't', 'e', 'c']"
            ]
          },
          "metadata": {
            "tags": []
          },
          "execution_count": 10
        }
      ]
    },
    {
      "cell_type": "code",
      "metadata": {
        "id": "TPsQoCYrDX9r",
        "outputId": "63765e12-6252-4045-d3f6-0747c2c4fe14",
        "colab": {
          "base_uri": "https://localhost:8080/",
          "height": 34
        }
      },
      "source": [
        "# Podemos utilizar a função interna split, de string, para transformar textos em listas a partir de um elemento separador:\n",
        "data_aniversario = '11/05/1981'\n",
        "data_aniversario.split('/')"
      ],
      "execution_count": null,
      "outputs": [
        {
          "output_type": "execute_result",
          "data": {
            "text/plain": [
              "['11', '05', '1981']"
            ]
          },
          "metadata": {
            "tags": []
          },
          "execution_count": 11
        }
      ]
    },
    {
      "cell_type": "markdown",
      "metadata": {
        "id": "zZOIy3L4HVv8"
      },
      "source": [
        "### 5.1.2. Obter um item usando [offset]\n",
        "Como nas `strings`, você pode extrair um único valor de uma lista, especificando seu índice (offset, ou deslocamento). Veja o exemplo:"
      ]
    },
    {
      "cell_type": "code",
      "metadata": {
        "id": "l2I0kijlDtbV",
        "outputId": "f87bd871-7175-4d46-8068-191f1d11b204",
        "colab": {
          "base_uri": "https://localhost:8080/",
          "height": 137
        }
      },
      "source": [
        "for index, dia in enumerate(dias_semana):\n",
        "  print(index, dia)"
      ],
      "execution_count": null,
      "outputs": [
        {
          "output_type": "stream",
          "text": [
            "0 Domingo\n",
            "1 Segunda-feira\n",
            "2 Terça-feira\n",
            "3 Quarta-feira\n",
            "4 Quinta-feira\n",
            "5 Sexta-feira\n",
            "6 Sábado\n"
          ],
          "name": "stdout"
        }
      ]
    },
    {
      "cell_type": "code",
      "metadata": {
        "id": "JcoXKUfjHogq",
        "outputId": "b52b2e27-2723-4c77-a6fe-0e3c1b839ce7",
        "colab": {
          "base_uri": "https://localhost:8080/",
          "height": 34
        }
      },
      "source": [
        "dias_semana[2]"
      ],
      "execution_count": null,
      "outputs": [
        {
          "output_type": "execute_result",
          "data": {
            "text/plain": [
              "'Terça-feira'"
            ]
          },
          "metadata": {
            "tags": []
          },
          "execution_count": 13
        }
      ]
    },
    {
      "cell_type": "markdown",
      "metadata": {
        "id": "Ew3z_zCZHxrc"
      },
      "source": [
        "Podemos utilizar índices negativos, os quais realizam a contagem para trás a partir do final. Veja o exemplo. (Detalhe, podemos fazer a mesma coisa com string)."
      ]
    },
    {
      "cell_type": "code",
      "metadata": {
        "id": "H6G4rVGIHsU2",
        "outputId": "4bdb716e-4b72-4526-9cb4-825813d11db8",
        "colab": {
          "base_uri": "https://localhost:8080/",
          "height": 34
        }
      },
      "source": [
        "dias_semana[-1]"
      ],
      "execution_count": null,
      "outputs": [
        {
          "output_type": "execute_result",
          "data": {
            "text/plain": [
              "'Sábado'"
            ]
          },
          "metadata": {
            "tags": []
          },
          "execution_count": 14
        }
      ]
    },
    {
      "cell_type": "code",
      "metadata": {
        "id": "T2szWgW1IBTx",
        "outputId": "e56aab2d-7167-442e-fc2e-954c5442357f",
        "colab": {
          "base_uri": "https://localhost:8080/",
          "height": 34
        }
      },
      "source": [
        "dias_semana[-7]"
      ],
      "execution_count": null,
      "outputs": [
        {
          "output_type": "execute_result",
          "data": {
            "text/plain": [
              "'Domingo'"
            ]
          },
          "metadata": {
            "tags": []
          },
          "execution_count": 17
        }
      ]
    },
    {
      "cell_type": "code",
      "metadata": {
        "id": "u0j2YnqAIJOt",
        "outputId": "4f86a74b-12f5-4a7b-b4ae-d9534c72acb6",
        "colab": {
          "base_uri": "https://localhost:8080/",
          "height": 51
        }
      },
      "source": [
        "#usando string:\n",
        "texto = 'Fatec'\n",
        "print(texto[0])\n",
        "print(texto[-1])"
      ],
      "execution_count": null,
      "outputs": [
        {
          "output_type": "stream",
          "text": [
            "F\n",
            "c\n"
          ],
          "name": "stdout"
        }
      ]
    },
    {
      "cell_type": "markdown",
      "metadata": {
        "id": "M6R2HYivI-zl"
      },
      "source": [
        "O deslocamento deve ser válido para a lista, ou seja, deve haver uma posição em que você atribuiu um valor anteriormente. Se você especificar uma posição antes do início ou após o final, receberá uma exceção (erro) - **index out of range**. Aqui está o que acontece se tentarmos obter o item na posição 5 do texto."
      ]
    },
    {
      "cell_type": "code",
      "metadata": {
        "id": "mAtiOrBfIpy2",
        "outputId": "9b6d0f6a-32e3-4e01-ab00-beda7925ffd5",
        "colab": {
          "base_uri": "https://localhost:8080/",
          "height": 164
        }
      },
      "source": [
        "print(texto[5])"
      ],
      "execution_count": null,
      "outputs": [
        {
          "output_type": "error",
          "ename": "IndexError",
          "evalue": "ignored",
          "traceback": [
            "\u001b[0;31m---------------------------------------------------------------------------\u001b[0m",
            "\u001b[0;31mIndexError\u001b[0m                                Traceback (most recent call last)",
            "\u001b[0;32m<ipython-input-19-273afc3ae244>\u001b[0m in \u001b[0;36m<module>\u001b[0;34m()\u001b[0m\n\u001b[0;32m----> 1\u001b[0;31m \u001b[0mprint\u001b[0m\u001b[0;34m(\u001b[0m\u001b[0mtexto\u001b[0m\u001b[0;34m[\u001b[0m\u001b[0;36m5\u001b[0m\u001b[0;34m]\u001b[0m\u001b[0;34m)\u001b[0m\u001b[0;34m\u001b[0m\u001b[0;34m\u001b[0m\u001b[0m\n\u001b[0m",
            "\u001b[0;31mIndexError\u001b[0m: string index out of range"
          ]
        }
      ]
    },
    {
      "cell_type": "markdown",
      "metadata": {
        "id": "X-9R1CU3Jx6Y"
      },
      "source": [
        "###5.1.3 Alterar um item por [índice]\n",
        "\n",
        "Assim como você pode obter o valor de um item da lista por seu índice, você pode alterá-lo. Veja o exemplo:"
      ]
    },
    {
      "cell_type": "code",
      "metadata": {
        "id": "FjQfdRWuJQbd",
        "outputId": "60bc5c0e-694d-49ef-ae7a-93a9e905516f",
        "colab": {
          "base_uri": "https://localhost:8080/",
          "height": 34
        }
      },
      "source": [
        "notas = [7.0, 8.0, 7.5, 9.0]\n",
        "print(notas)"
      ],
      "execution_count": null,
      "outputs": [
        {
          "output_type": "stream",
          "text": [
            "[7.0, 8.0, 7.5, 9.0]\n"
          ],
          "name": "stdout"
        }
      ]
    },
    {
      "cell_type": "code",
      "metadata": {
        "id": "PEyHn7FDKYAi",
        "outputId": "c5f63357-19fb-4f8e-cf6e-02c87148e3b4",
        "colab": {
          "base_uri": "https://localhost:8080/",
          "height": 34
        }
      },
      "source": [
        "notas[1] = 6.5\n",
        "print(notas)"
      ],
      "execution_count": null,
      "outputs": [
        {
          "output_type": "stream",
          "text": [
            "[7.0, 6.5, 7.5, 9.0]\n"
          ],
          "name": "stdout"
        }
      ]
    },
    {
      "cell_type": "markdown",
      "metadata": {
        "id": "d4WRhcoMKckQ"
      },
      "source": [
        "Novamente, o deslocamento da lista precisa ser válido para esta lista. Além disso, é importante lembrar que listas são imutáveis e strings não. Ou seja, você não pode alterar um caractere em uma string dessa maneira. As listas são mutáveis. Você pode alterar quantos itens uma lista contém e os próprios itens."
      ]
    },
    {
      "cell_type": "code",
      "metadata": {
        "id": "secpFonJKb-Q",
        "outputId": "e211c50c-8f67-41c5-e596-a850b8a16026",
        "colab": {
          "base_uri": "https://localhost:8080/",
          "height": 182
        }
      },
      "source": [
        "texto = 'Fatec'\n",
        "texto[2] = 'A'"
      ],
      "execution_count": null,
      "outputs": [
        {
          "output_type": "error",
          "ename": "TypeError",
          "evalue": "ignored",
          "traceback": [
            "\u001b[0;31m---------------------------------------------------------------------------\u001b[0m",
            "\u001b[0;31mTypeError\u001b[0m                                 Traceback (most recent call last)",
            "\u001b[0;32m<ipython-input-22-a844c4f177f2>\u001b[0m in \u001b[0;36m<module>\u001b[0;34m()\u001b[0m\n\u001b[1;32m      1\u001b[0m \u001b[0mtexto\u001b[0m \u001b[0;34m=\u001b[0m \u001b[0;34m'Fatec'\u001b[0m\u001b[0;34m\u001b[0m\u001b[0;34m\u001b[0m\u001b[0m\n\u001b[0;32m----> 2\u001b[0;31m \u001b[0mtexto\u001b[0m\u001b[0;34m[\u001b[0m\u001b[0;36m2\u001b[0m\u001b[0;34m]\u001b[0m \u001b[0;34m=\u001b[0m \u001b[0;34m'A'\u001b[0m\u001b[0;34m\u001b[0m\u001b[0;34m\u001b[0m\u001b[0m\n\u001b[0m",
            "\u001b[0;31mTypeError\u001b[0m: 'str' object does not support item assignment"
          ]
        }
      ]
    },
    {
      "cell_type": "markdown",
      "metadata": {
        "id": "Vc3F4G-QLskW"
      },
      "source": [
        "###5.1.4 Resolvendo a alteração de uma string usando list() e .join()\n",
        "A função interna `join()` é o oposto da função interna `split()` e é aplicada apenas para `string`. Com ela podemos juntar uma lista de `string` numa única. Veja o exemplo abaixo para resolvermos o problema de alteração de caracteres de uma string (imutável)."
      ]
    },
    {
      "cell_type": "code",
      "metadata": {
        "id": "iJzOTKzZKK2o",
        "outputId": "719398b5-bf1c-4f6b-b82a-0c5380009492",
        "colab": {
          "base_uri": "https://localhost:8080/",
          "height": 68
        }
      },
      "source": [
        "texto = 'Fatec'\n",
        "\n",
        "lista_texto = list(texto)\n",
        "print(lista_texto)\n",
        "\n",
        "lista_texto[1] = 'A'\n",
        "print(lista_texto)\n",
        "\n",
        "texto = ''.join(lista_texto)\n",
        "print(texto)"
      ],
      "execution_count": null,
      "outputs": [
        {
          "output_type": "stream",
          "text": [
            "['F', 'a', 't', 'e', 'c']\n",
            "['F', 'A', 't', 'e', 'c']\n",
            "FAtec\n"
          ],
          "name": "stdout"
        }
      ]
    },
    {
      "cell_type": "markdown",
      "metadata": {
        "id": "-d33y5fI2wjE"
      },
      "source": [
        "### 5.1.5. Obter uma fatia para extrair itens por intervalo de deslocamento\n",
        "\n",
        "Você pode extrair uma subsequência de uma lista usando uma fatia (slice):"
      ]
    },
    {
      "cell_type": "code",
      "metadata": {
        "id": "mdoE6Zsc22bd",
        "outputId": "af0a5188-605f-46ab-8714-01c35d49569c",
        "colab": {
          "base_uri": "https://localhost:8080/",
          "height": 68
        }
      },
      "source": [
        "coordenadores = ['Adriano', 'Ducatti', 'Sérgio']\n",
        "\n",
        "for index, coordenador in enumerate(coordenadores):\n",
        "  print(index, coordenador)"
      ],
      "execution_count": null,
      "outputs": [
        {
          "output_type": "stream",
          "text": [
            "0 Adriano\n",
            "1 Ducatti\n",
            "2 Sérgio\n"
          ],
          "name": "stdout"
        }
      ]
    },
    {
      "cell_type": "code",
      "metadata": {
        "id": "IHirBUNNLCFH",
        "outputId": "7ba198df-9861-4108-8e07-681988bad514",
        "colab": {
          "base_uri": "https://localhost:8080/",
          "height": 34
        }
      },
      "source": [
        "# neste caso, definimos o início e o intervalo final (-1)\n",
        "# Uma fatia de uma lista também é uma lista. \n",
        "coordenadores[0:2]"
      ],
      "execution_count": null,
      "outputs": [
        {
          "output_type": "execute_result",
          "data": {
            "text/plain": [
              "['Adriano', 'Ducatti']"
            ]
          },
          "metadata": {
            "tags": []
          },
          "execution_count": 28
        }
      ]
    },
    {
      "cell_type": "code",
      "metadata": {
        "id": "ZLfKzkkC3U4q",
        "outputId": "bc5a5b13-5613-4ff3-ac3d-9cd9123eabee",
        "colab": {
          "base_uri": "https://localhost:8080/",
          "height": 34
        }
      },
      "source": [
        "# Neste exemplo começa no início e vai para a direita de 2 em 2:\n",
        "coordenadores[::2]"
      ],
      "execution_count": null,
      "outputs": [
        {
          "output_type": "execute_result",
          "data": {
            "text/plain": [
              "['Adriano', 'Sérgio']"
            ]
          },
          "metadata": {
            "tags": []
          },
          "execution_count": 29
        }
      ]
    },
    {
      "cell_type": "code",
      "metadata": {
        "id": "K28usiP23DwC",
        "outputId": "f08f4197-6e52-4a3b-8b73-ba29a58b9fcf",
        "colab": {
          "base_uri": "https://localhost:8080/",
          "height": 34
        }
      },
      "source": [
        "# Aqui, começamos no final e vamos à esquerda de 1 em 1, ou seja, reverter a lista:\n",
        "coordenadores[::-1]"
      ],
      "execution_count": null,
      "outputs": [
        {
          "output_type": "execute_result",
          "data": {
            "text/plain": [
              "['Sérgio', 'Ducatti', 'Adriano']"
            ]
          },
          "metadata": {
            "tags": []
          },
          "execution_count": 30
        }
      ]
    },
    {
      "cell_type": "code",
      "metadata": {
        "id": "KiRmJEd75hXg",
        "outputId": "dbf76c58-b246-44a2-c3d0-57ff31f2ce37",
        "colab": {
          "base_uri": "https://localhost:8080/",
          "height": 68
        }
      },
      "source": [
        "# Vale lembrar que string é uma sequência de caracteres, portanto, a mesma manipulação é válida para ele:\n",
        "nome = 'Fatec Rio Preto'\n",
        "print(nome[::2])\n",
        "print(nome[1:3])\n",
        "print(nome[::-1])"
      ],
      "execution_count": null,
      "outputs": [
        {
          "output_type": "stream",
          "text": [
            "FtcRoPeo\n",
            "at\n",
            "oterP oiR cetaF\n"
          ],
          "name": "stdout"
        }
      ]
    },
    {
      "cell_type": "markdown",
      "metadata": {
        "id": "V5e4QdQx6eWb"
      },
      "source": [
        "###5.1.6 Adicione um item ao final com a função .append()\n",
        "\n",
        "A maneira tradicional de adicionar itens a uma lista é usando a função interna .append() um por um até o final. Nos exemplos anteriores, esquecemos o coordenador do EaD, prof. João, mas tudo bem, porque a lista é **mutável**, portanto, para que possamos adicioná-lo agora:"
      ]
    },
    {
      "cell_type": "code",
      "metadata": {
        "id": "ZQYIRN655uMf",
        "outputId": "1e99b949-8857-4545-8dae-73e9a5dd2752",
        "colab": {
          "base_uri": "https://localhost:8080/",
          "height": 34
        }
      },
      "source": [
        "coordenadores.append('João')\n",
        "print(coordenadores)"
      ],
      "execution_count": null,
      "outputs": [
        {
          "output_type": "stream",
          "text": [
            "['Adriano', 'Ducatti', 'Sérgio', 'João']\n"
          ],
          "name": "stdout"
        }
      ]
    },
    {
      "cell_type": "markdown",
      "metadata": {
        "id": "xkzqVrFg7Kbs"
      },
      "source": [
        "###5.1.7. Combine listas usando .extend() ou +=\n",
        "\n",
        "Você pode mesclar uma lista em outra usando a função extend(). Suponha que tenhamos uma lista com professores e queremos fundí-la com a lista de coordenadores, de maneira a exibir todo o corpo docente:"
      ]
    },
    {
      "cell_type": "code",
      "metadata": {
        "id": "ey0genNF7JxS",
        "outputId": "0d053fc1-145c-476a-cfbe-6fbe94841048",
        "colab": {
          "base_uri": "https://localhost:8080/",
          "height": 51
        }
      },
      "source": [
        "professores = ['Henrique', 'Carlos', 'Djalma', 'Maura', 'Lucimar']\n",
        "print(professores)\n",
        "\n",
        "professores.extend(coordenadores)\n",
        "print(professores)\n",
        "\n",
        "# outras alternativas seriam para obter o mesmo efeito,\n",
        "# seria utilizar +=\n",
        "# professores += coordenadores\n"
      ],
      "execution_count": null,
      "outputs": [
        {
          "output_type": "stream",
          "text": [
            "['Henrique', 'Carlos', 'Djalma', 'Maura', 'Lucimar']\n",
            "['Henrique', 'Carlos', 'Djalma', 'Maura', 'Lucimar', 'Adriano', 'Ducatti', 'Sérgio', 'João']\n"
          ],
          "name": "stdout"
        }
      ]
    },
    {
      "cell_type": "markdown",
      "metadata": {
        "id": "U6qjYLGA8rSu"
      },
      "source": [
        "Se tivéssemos usado append(), para professores, teríamos os coordenadores adicionados como um único item da lista em vez de mesclar seus itens. Isso novamente demonstra que uma lista pode conter elementos de tipos diferentes. Nesse caso, cinco strings e uma lista de três strings."
      ]
    },
    {
      "cell_type": "code",
      "metadata": {
        "id": "OJyOfRcg6zP2",
        "outputId": "cb3eb077-c40d-4b20-caf2-aaf735da14cf",
        "colab": {
          "base_uri": "https://localhost:8080/",
          "height": 34
        }
      },
      "source": [
        "professores = ['Henrique', 'Carlos', 'Djalma', 'Maura', 'Lucimar']\n",
        "professores.append(coordenadores)\n",
        "print(professores)"
      ],
      "execution_count": null,
      "outputs": [
        {
          "output_type": "stream",
          "text": [
            "['Henrique', 'Carlos', 'Djalma', 'Maura', 'Lucimar', ['Adriano', 'Ducatti', 'Sérgio', 'João']]\n"
          ],
          "name": "stdout"
        }
      ]
    },
    {
      "cell_type": "markdown",
      "metadata": {
        "id": "hjXSQlm89Eao"
      },
      "source": [
        "###5.1.8. Adicionar um item por índice com `insert()`:\n",
        "\n",
        "A função `append()` adiciona itens apenas ao final da lista. Quando você deseja adicionar um item antes de qualquer índice na lista, use `insert()`. O deslocamento 0 é inserido no início. Um deslocamento além do final da lista é inserido no final, como `append()`, para que você não precise se preocupar com o lançamento de uma exceção pelo Python.\n"
      ]
    },
    {
      "cell_type": "code",
      "metadata": {
        "id": "AMZILdU59ZR9",
        "outputId": "fa407eef-8fd4-4f41-87b1-168e11077eef",
        "colab": {
          "base_uri": "https://localhost:8080/",
          "height": 54
        }
      },
      "source": [
        "professores = ['Henrique', 'Carlos', 'Djalma', 'Maura', 'Lucimar', 'Adriano', 'Ducatti', 'Sérgio', 'João']\n",
        "professores.insert(0, 'Lucimeire')\n",
        "print(professores)"
      ],
      "execution_count": null,
      "outputs": [
        {
          "output_type": "stream",
          "text": [
            "['Lucimeire', 'Henrique', 'Carlos', 'Djalma', 'Maura', 'Lucimar', 'Adriano', 'Ducatti', 'Sérgio', 'João']\n"
          ],
          "name": "stdout"
        }
      ]
    },
    {
      "cell_type": "code",
      "metadata": {
        "id": "iAgbpUrj9gas",
        "outputId": "eaec3393-7536-4549-d19b-deec83955a43",
        "colab": {
          "base_uri": "https://localhost:8080/",
          "height": 54
        }
      },
      "source": [
        "professores.insert(20, 'Marildo')\n",
        "print(professores)"
      ],
      "execution_count": null,
      "outputs": [
        {
          "output_type": "stream",
          "text": [
            "['Lucimeire', 'Henrique', 'Carlos', 'Djalma', 'Maura', 'Lucimar', 'Adriano', 'Ducatti', 'Sérgio', 'João', 'Marildo']\n"
          ],
          "name": "stdout"
        }
      ]
    },
    {
      "cell_type": "markdown",
      "metadata": {
        "id": "kPltMtKN7e4B"
      },
      "source": [
        "###5.1.9. Excluir um item por deslocamento com del\n",
        "\n",
        "Vamos supor que professor Marildo tenha saído da instituição para fazer seu doutorado em Harvard. Para excluir da lista, basta utilizar a instrução `del`, do Python, informando qual item da lista deverá ser excluído. Para obter o item da lista, utilizamos seu índice."
      ]
    },
    {
      "cell_type": "code",
      "metadata": {
        "id": "DEcIlreH9ojI",
        "outputId": "957036bc-4044-499a-8847-217cc0df9213",
        "colab": {
          "base_uri": "https://localhost:8080/",
          "height": 54
        }
      },
      "source": [
        "del professores[-1]\n",
        "print(professores)"
      ],
      "execution_count": null,
      "outputs": [
        {
          "output_type": "stream",
          "text": [
            "['Lucimeire', 'Henrique', 'Carlos', 'Djalma', 'Maura', 'Lucimar', 'Adriano', 'Ducatti', 'Sérgio', 'João']\n"
          ],
          "name": "stdout"
        }
      ]
    },
    {
      "cell_type": "markdown",
      "metadata": {
        "id": "vIhSi-ak9BSQ"
      },
      "source": [
        "Quando excluímos um item por sua posição na lista, os itens a seguir retornam para ocupar o espaço do item excluído e o comprimento da lista diminui em um."
      ]
    },
    {
      "cell_type": "markdown",
      "metadata": {
        "id": "CeTRuVXH9LsV"
      },
      "source": [
        "`del` é uma instrução Python, não um método de lista - você não diz `professores[-2] .del()`. É uma espécie de reverso da atribuição (=): desanexa um nome de um objeto Python e pode liberar a memória do objeto se esse nome foi a última referência a ele."
      ]
    },
    {
      "cell_type": "markdown",
      "metadata": {
        "id": "U1Sx47LU9a0C"
      },
      "source": [
        "###5.1.10 Excluir um item por valor com `remove()`\n",
        "\n",
        "Se você não tem certeza ou não se importa onde o item está na lista, use remove () para excluí-lo por valor. Por exemplo, vamos supor que o professor Carlos resolveu se aposentar e não mais ministrará aulas (um perda inestimável, aliás)."
      ]
    },
    {
      "cell_type": "code",
      "metadata": {
        "id": "4bNHBvdb8dzC",
        "outputId": "ea0836d2-6e47-4749-d251-6518d2d8f31f",
        "colab": {
          "base_uri": "https://localhost:8080/",
          "height": 34
        }
      },
      "source": [
        "professores.remove('Carlos')\n",
        "print(professores)"
      ],
      "execution_count": null,
      "outputs": [
        {
          "output_type": "stream",
          "text": [
            "['Lucimeire', 'Henrique', 'Djalma', 'Maura', 'Lucimar', 'Adriano', 'Ducatti', 'Sérgio', 'João']\n"
          ],
          "name": "stdout"
        }
      ]
    },
    {
      "cell_type": "markdown",
      "metadata": {
        "id": "yEh219og-LO-"
      },
      "source": [
        "### 5.1.11. Obter um item por sua posição e excluí-lo usando pop()\n",
        "\n",
        "Você pode obter um item de uma lista e excluí-lo da lista ao mesmo tempo usando `pop()`. Se você chamar `pop()` com um índice, ele retornará o item nesse deslocamento; sem argumento, ele usa -1. Portanto, `pop(0)` retorna a cabeça (início) da lista e `pop()` ou `pop(-1)` retorna a cauda (final), como mostrado no exemplo abaixo:"
      ]
    },
    {
      "cell_type": "code",
      "metadata": {
        "id": "4ghIfGPP90Ff",
        "outputId": "3dd678b5-b7c8-42db-9c1e-695b61f1c4f7",
        "colab": {
          "base_uri": "https://localhost:8080/",
          "height": 51
        }
      },
      "source": [
        "# Em uma reunião pedagógica, os professores devem fazer uma apresentação rápida sobre o tema de sua pesquisa na instituição.\n",
        "# Serão chamados sempre os últimos que chegaram na reunião.\n",
        "escolhido = professores.pop() # pop(-1)\n",
        "print(escolhido)\n",
        "print(professores)"
      ],
      "execution_count": null,
      "outputs": [
        {
          "output_type": "stream",
          "text": [
            "João\n",
            "['Lucimeire', 'Henrique', 'Djalma', 'Maura', 'Lucimar', 'Adriano', 'Ducatti', 'Sérgio']\n"
          ],
          "name": "stdout"
        }
      ]
    },
    {
      "cell_type": "markdown",
      "metadata": {
        "id": "TpluYSNk_bGw"
      },
      "source": [
        "#### Adiantando um pouco o conteúdo de Estrutura de Dados\n",
        "\n",
        "Se você usar `append()` para adicionar novos itens ao final e `pop()` para removê-los do mesmo lado, você implementou uma estrutura de dados conhecida como **pilha** **LIFO** (Last In, First Out - Último a Entrar, Primeiro a Sair). Entretanto, se você utilizar `pop(0)` você criará uma **fila** **FIFO** (First In, First Out - Primeiro a Entrar, Primeiro a Sair). Eles são úteis quando você deseja coletar dados à medida que eles chegam e trabalham com o primeiro mais antigo (FIFO) ou o mais novo primeiro (LIFO)."
      ]
    },
    {
      "cell_type": "markdown",
      "metadata": {
        "id": "ZlWprq4sAW-T"
      },
      "source": [
        "###5.1.12. Encontrar o deslocamento de um item por valor com `index()`\n",
        "\n",
        "Se você deseja conhecer o deslocamento de um item em uma lista por seu valor, use index(), como no exemplo abaixo:"
      ]
    },
    {
      "cell_type": "code",
      "metadata": {
        "id": "UKJUvyqN-9pR",
        "outputId": "31b8d8f7-93f8-4282-8ff7-1855e8037618",
        "colab": {
          "base_uri": "https://localhost:8080/",
          "height": 34
        }
      },
      "source": [
        "professores.index('Henrique')"
      ],
      "execution_count": null,
      "outputs": [
        {
          "output_type": "execute_result",
          "data": {
            "text/plain": [
              "1"
            ]
          },
          "metadata": {
            "tags": []
          },
          "execution_count": 41
        }
      ]
    },
    {
      "cell_type": "markdown",
      "metadata": {
        "id": "539F92KOAv80"
      },
      "source": [
        "###5.1.13. Testar um valor com `in`\n",
        "\n",
        "A maneira Pythonic de verificar a existência de um valor em uma lista é bem simples. Veja no exemplo abaixo, e note que o mesmo valor pode estar em mais de uma posição na lista, portanto, enquanto estiver lá pelo menos uma vez, retornará True:"
      ]
    },
    {
      "cell_type": "code",
      "metadata": {
        "id": "z_ngVZK1ApKU",
        "outputId": "f8e3d718-458f-4271-b4d7-16019a6f956b",
        "colab": {
          "base_uri": "https://localhost:8080/",
          "height": 34
        }
      },
      "source": [
        "'Henrique' in professores"
      ],
      "execution_count": null,
      "outputs": [
        {
          "output_type": "execute_result",
          "data": {
            "text/plain": [
              "True"
            ]
          },
          "metadata": {
            "tags": []
          },
          "execution_count": 42
        }
      ]
    },
    {
      "cell_type": "code",
      "metadata": {
        "id": "Jxwz2rPNBPIt",
        "outputId": "27cef1d5-c82e-476b-e4c0-0630ce1c8d5a",
        "colab": {
          "base_uri": "https://localhost:8080/",
          "height": 34
        }
      },
      "source": [
        "'Ademar' in professores"
      ],
      "execution_count": null,
      "outputs": [
        {
          "output_type": "execute_result",
          "data": {
            "text/plain": [
              "False"
            ]
          },
          "metadata": {
            "tags": []
          },
          "execution_count": 43
        }
      ]
    },
    {
      "cell_type": "markdown",
      "metadata": {
        "id": "vaOqc-1qBkrv"
      },
      "source": [
        "###5.1.14.Contar ocorrências de um valor usando count ()\n",
        "\n",
        " Para contar quantas vezes um valor específico ocorre em uma lista, basta usar a função `count()`. Veja os exemplos abaixo:"
      ]
    },
    {
      "cell_type": "code",
      "metadata": {
        "id": "CxumSfUbBWdB",
        "outputId": "6d6442c4-e4b4-49d8-b6da-d7ecf1d79158",
        "colab": {
          "base_uri": "https://localhost:8080/",
          "height": 34
        }
      },
      "source": [
        "professores.count('Henrique')"
      ],
      "execution_count": null,
      "outputs": [
        {
          "output_type": "execute_result",
          "data": {
            "text/plain": [
              "1"
            ]
          },
          "metadata": {
            "tags": []
          },
          "execution_count": 44
        }
      ]
    },
    {
      "cell_type": "code",
      "metadata": {
        "id": "2mbAjEOOCiAo",
        "outputId": "fadf93f8-35e8-4f77-e586-aea456b972de",
        "colab": {
          "base_uri": "https://localhost:8080/",
          "height": 34
        }
      },
      "source": [
        "professores.count('Ademar')"
      ],
      "execution_count": null,
      "outputs": [
        {
          "output_type": "execute_result",
          "data": {
            "text/plain": [
              "0"
            ]
          },
          "metadata": {
            "tags": []
          },
          "execution_count": 45
        }
      ]
    },
    {
      "cell_type": "markdown",
      "metadata": {
        "id": "B-zYBnCHCso0"
      },
      "source": [
        "###5.1.15. Obter comprimento da lista usando `len()`\n",
        "\n",
        "Enquanto count() verifica a quantidade de ocorrência de um deteminado item dentro da lista, a função len() retorna o número de itens em uma lista. Veja o exemplo:"
      ]
    },
    {
      "cell_type": "code",
      "metadata": {
        "id": "_u6UM47MCmkE",
        "outputId": "9e57b4b5-4026-4a62-d61c-d3b14727c0b7",
        "colab": {
          "base_uri": "https://localhost:8080/",
          "height": 34
        }
      },
      "source": [
        "len(professores)"
      ],
      "execution_count": null,
      "outputs": [
        {
          "output_type": "execute_result",
          "data": {
            "text/plain": [
              "8"
            ]
          },
          "metadata": {
            "tags": []
          },
          "execution_count": 46
        }
      ]
    },
    {
      "cell_type": "markdown",
      "metadata": {
        "id": "LPW2i2xpE61L"
      },
      "source": [
        "###5.1.16. Reordenar itens com `sort()`\n",
        "\n",
        "Você geralmente precisará classificar os itens em uma lista por seus valores, e não por suas compensações. O Python fornece duas funções, quais sejam:\n",
        "- A função de lista sort() classifica a própria lista, no local.\n",
        "- A função geral classificada () retorna uma cópia classificada da lista.\n",
        "\n",
        "Se os itens da lista forem numéricos, serão classificados por padrão em ordem numérica crescente. Se forem strings, serão classificados em ordem alfabética."
      ]
    },
    {
      "cell_type": "code",
      "metadata": {
        "id": "761F0uYpFRoo",
        "outputId": "8e88eb2a-5715-47fc-b3e9-7034be2dca7a",
        "colab": {
          "base_uri": "https://localhost:8080/",
          "height": 51
        }
      },
      "source": [
        "print(professores)\n",
        "professores.sort()\n",
        "print(professores)"
      ],
      "execution_count": null,
      "outputs": [
        {
          "output_type": "stream",
          "text": [
            "['Lucimeire', 'Henrique', 'Djalma', 'Maura', 'Lucimar', 'Adriano', 'Ducatti', 'Sérgio']\n",
            "['Adriano', 'Djalma', 'Ducatti', 'Henrique', 'Lucimar', 'Lucimeire', 'Maura', 'Sérgio']\n"
          ],
          "name": "stdout"
        }
      ]
    },
    {
      "cell_type": "code",
      "metadata": {
        "id": "ces0XD7GC_Xh",
        "outputId": "12f5b1c5-2662-4837-9a88-56060e54f3b4",
        "colab": {
          "base_uri": "https://localhost:8080/",
          "height": 51
        }
      },
      "source": [
        "lista_numeros = [1, 5, 2, 8, 12, 0]\n",
        "lista_numeros_ordenada = sorted(lista_numeros)\n",
        "\n",
        "print(lista_numeros)\n",
        "print(lista_numeros_ordenada)"
      ],
      "execution_count": null,
      "outputs": [
        {
          "output_type": "stream",
          "text": [
            "[1, 5, 2, 8, 12, 0]\n",
            "[0, 1, 2, 5, 8, 12]\n"
          ],
          "name": "stdout"
        }
      ]
    },
    {
      "cell_type": "markdown",
      "metadata": {
        "id": "T0ugUFcWFsFp"
      },
      "source": [
        "A ordem de classificação padrão é crescente, mas você pode adicionar o argumento `reverse=True` na função `sort()` para defini-lo como decrescente. Veja o exemplo:"
      ]
    },
    {
      "cell_type": "code",
      "metadata": {
        "id": "0oxwuN0lEeNs",
        "outputId": "770ae1e0-6805-4bc4-9676-20938ff0af8c",
        "colab": {
          "base_uri": "https://localhost:8080/",
          "height": 34
        }
      },
      "source": [
        "lista_numeros.sort(reverse=True)\n",
        "print(lista_numeros)"
      ],
      "execution_count": null,
      "outputs": [
        {
          "output_type": "stream",
          "text": [
            "[12, 8, 5, 2, 1, 0]\n"
          ],
          "name": "stdout"
        }
      ]
    },
    {
      "cell_type": "markdown",
      "metadata": {
        "id": "qxP-QnifGGrg"
      },
      "source": [
        "###5.1.17. Atribuir com =, Copiar com `copy()`\n",
        "\n",
        "Quando você atribui uma lista a mais de uma variável, alterar a lista em um local também a altera na outra, conforme ilustrado aqui:\n"
      ]
    },
    {
      "cell_type": "code",
      "metadata": {
        "id": "dW7x_L0lGQGa",
        "outputId": "3791bb0f-3ec9-41d7-ad01-2bba5b98db29",
        "colab": {
          "base_uri": "https://localhost:8080/",
          "height": 51
        }
      },
      "source": [
        "lista_a = [1, 2, 3]\n",
        "lista_b = lista_a\n",
        "\n",
        "print(lista_a)\n",
        "\n",
        "lista_b[1] = 5\n",
        "print(lista_a)"
      ],
      "execution_count": null,
      "outputs": [
        {
          "output_type": "stream",
          "text": [
            "[1, 2, 3]\n",
            "[1, 5, 3]\n"
          ],
          "name": "stdout"
        }
      ]
    },
    {
      "cell_type": "markdown",
      "metadata": {
        "id": "4iXFXIH4iO93"
      },
      "source": [
        "**Ponteiro**: lista_b apenas se refere ao mesmo objeto de lista que lista_a; portanto, se alterarmos o conteúdo da lista usando o nome lista_a ou lista_b, isso será refletido em ambos."
      ]
    },
    {
      "cell_type": "markdown",
      "metadata": {
        "id": "0VsG9BsWiyqi"
      },
      "source": [
        "Você pode copiar os valores de uma lista para uma nova e independente usando qualquer um destes métodos:\n",
        "- A função de cópia de lista: `copy()`\n",
        "- A função de conversão de lista: `list()`\n",
        "- A fatia da lista [:]\n",
        "\n",
        "Usando as listas de exemplo criadas anteriormente. Criaremos uma cópia de lista_a em lista_b com a função copy(), lista_c com a função de conversão list()e lista_d com uma fatia da lista:"
      ]
    },
    {
      "cell_type": "code",
      "metadata": {
        "id": "z-PH5Gv9iJKo"
      },
      "source": [
        "lista_a = [1, 2, 3]\n",
        "\n",
        "lista_b = lista_a.copy()\n",
        "lista_c = list(lista_a)\n",
        "lista_d = lista_a[:]"
      ],
      "execution_count": null,
      "outputs": []
    },
    {
      "cell_type": "markdown",
      "metadata": {
        "id": "bDhOi3Iejp2B"
      },
      "source": [
        "Novamente, lista_b, lista_c e lista_d são cópias de lista_a: são novos objetos com seus próprios valores e sem conexão com o objeto de lista original [1, 2, 3]ao qual a se refere. Alterar lista_a não afeta as cópias lista_b, lista_c e lista_d. Veja no exemplo:"
      ]
    },
    {
      "cell_type": "code",
      "metadata": {
        "id": "rY-IEmpwjmoa",
        "outputId": "a6f7d5eb-9cfc-4cc4-8081-974a8b0d122d",
        "colab": {
          "base_uri": "https://localhost:8080/",
          "height": 86
        }
      },
      "source": [
        "lista_a[0] = 5\n",
        "\n",
        "print(lista_a)\n",
        "print(lista_b)\n",
        "print(lista_c)\n",
        "print(lista_d)"
      ],
      "execution_count": null,
      "outputs": [
        {
          "output_type": "stream",
          "text": [
            "[5, 2, 3]\n",
            "[1, 2, 3]\n",
            "[1, 2, 3]\n",
            "[1, 2, 3]\n"
          ],
          "name": "stdout"
        }
      ]
    },
    {
      "cell_type": "markdown",
      "metadata": {
        "id": "b7GjLfFEkBnx"
      },
      "source": [
        "##5.2. Exercícios"
      ]
    },
    {
      "cell_type": "markdown",
      "metadata": {
        "id": "z8b_A0o8kJdG"
      },
      "source": [
        "###5.2.1. Faça um programa que crie uma lista com 9 números inteiros, compute e mostre os números primos e suas respectivas posições."
      ]
    },
    {
      "cell_type": "code",
      "source": [
        "numeros = []\n",
        "div = 0\n",
        "while True:\n",
        "  try:\n",
        "    num = int(input('Digite um número inteiro: '))\n",
        "    if num not in numeros:\n",
        "      numeros.append(num)\n",
        "      # print(f'Número {num} adicionado com sucesso')\n",
        "    if len(numeros) == 9:\n",
        "      break\n",
        "  except:\n",
        "      print('Digite um número válido!')\n",
        "for index, n in enumerate(numero):\n",
        "  tot = 0\n",
        "  for i in range(1, n+1):\n",
        "    if n % i == 0:\n",
        "      tot +=1\n",
        "  if tot == 2: print(f'O {n} é primo e seu index é {index}')"
      ],
      "metadata": {
        "colab": {
          "base_uri": "https://localhost:8080/"
        },
        "id": "Zr5p4BUW4oHD",
        "outputId": "6402a689-5c16-466c-eb20-78edc53461f6"
      },
      "execution_count": null,
      "outputs": [
        {
          "output_type": "stream",
          "name": "stdout",
          "text": [
            "Digite um número inteiro: 1\n",
            "Digite um número inteiro: 2\n",
            "Digite um número inteiro: 3\n",
            "Digite um número inteiro: 4\n",
            "Digite um número inteiro: 5\n",
            "Digite um número inteiro: 6\n",
            "Digite um número inteiro: 7\n",
            "Digite um número inteiro: 8\n",
            "Digite um número inteiro: 9\n",
            "O 2 é primo e seu index é 1\n",
            "O 3 é primo e seu index é 2\n",
            "O 5 é primo e seu index é 4\n",
            "O 7 é primo e seu index é 6\n"
          ]
        }
      ]
    },
    {
      "cell_type": "code",
      "source": [
        "numero = [1, 2, 3, 4, 5, 6, 7, 8, 9]\n",
        "for index, n in enumerate(numero):\n",
        "  tot = 0\n",
        "  for i in range(1, n+1):\n",
        "    if n % i == 0:\n",
        "      tot +=1\n",
        "  if tot == 2: print(f'O {n} é primo e seu index é {index}')\n",
        "  "
      ],
      "metadata": {
        "colab": {
          "base_uri": "https://localhost:8080/"
        },
        "id": "A8tg7__8VUCp",
        "outputId": "4e71811b-392f-4ac0-f3cc-de5f3f7c30b2"
      },
      "execution_count": null,
      "outputs": [
        {
          "output_type": "stream",
          "name": "stdout",
          "text": [
            "O 2 é primo e seu index é 1\n",
            "O 3 é primo e seu index é 2\n",
            "O 5 é primo e seu index é 4\n",
            "O 7 é primo e seu index é 6\n"
          ]
        }
      ]
    },
    {
      "cell_type": "code",
      "metadata": {
        "id": "PnEjimxkj8-6",
        "outputId": "98a29393-cde8-4154-eb0d-0dd013818bc0",
        "colab": {
          "base_uri": "https://localhost:8080/",
          "height": 86
        }
      },
      "source": [
        "numeros = [1, 2, 3, 4, 5, 6, 7, 8, 9]\n",
        "\n",
        "for index, n in enumerate(numeros):\n",
        "  total = 0\n",
        "  for i in range(1, n+1):\n",
        "    if n % i == 0:\n",
        "      total += 1\n",
        "  if(total == 2):\n",
        "    print(index, n)"
      ],
      "execution_count": null,
      "outputs": [
        {
          "output_type": "stream",
          "text": [
            "1 2\n",
            "2 3\n",
            "4 5\n",
            "6 7\n"
          ],
          "name": "stdout"
        }
      ]
    },
    {
      "cell_type": "markdown",
      "metadata": {
        "id": "bgarlaJHkh_p"
      },
      "source": [
        "###5.2.2. Faça um programa que carregue duas listas com dez elementos numéricos cada uma e mostre um vetor resultante com os 20 elementos. Altere a primeira lista com os novos valores."
      ]
    },
    {
      "cell_type": "code",
      "metadata": {
        "id": "VhpLANvDlF8k"
      },
      "source": [
        "lista1 = [1, 2, 3, 4, 5, 6, 7, 8, 9, 10]\n",
        "lista2 = [11, 12, 13, 14, 15, 16, 17, 18, 19, 20]\n",
        "\n",
        "lista1.extend(lista2)\n",
        "lista1 += lista2"
      ],
      "execution_count": null,
      "outputs": []
    },
    {
      "cell_type": "code",
      "metadata": {
        "id": "V33BMT6jY391",
        "outputId": "bb60dc00-0579-43c4-aafc-94c908e2f44d",
        "colab": {
          "base_uri": "https://localhost:8080/",
          "height": 34
        }
      },
      "source": [
        "lista1"
      ],
      "execution_count": null,
      "outputs": [
        {
          "output_type": "execute_result",
          "data": {
            "text/plain": [
              "[1, 2, 3, 4, 5, 6, 7, 8, 9, 10, 11, 12, 13, 14, 15, 16, 17, 18, 19, 20]"
            ]
          },
          "metadata": {
            "tags": []
          },
          "execution_count": 2
        }
      ]
    },
    {
      "cell_type": "markdown",
      "metadata": {
        "id": "0ZJohsInlGpi"
      },
      "source": [
        "###5.2.3. Faça um programa que carregue duas listas com nomes de animais, com 5 posições cada lista. Em seguida, crie uma lista resultante da intercalação dessas duas listas. No final, mostre os itens dessa nova lista."
      ]
    },
    {
      "cell_type": "code",
      "source": [
        "lista1 = ['cachorro', 'gato', 'pato', 'macaco', 'papagaio']\n",
        "lista2 = ['jacaré', 'lobo', 'boi', 'vaca', 'ovelha']\n",
        "\n",
        "lista3 = list()\n",
        "\n",
        "for i in range(0, 5):\n",
        "  lista3.append(lista1[i])\n",
        "  lista3.append(lista2[i])"
      ],
      "metadata": {
        "id": "RujXQVREXFIT"
      },
      "execution_count": null,
      "outputs": []
    },
    {
      "cell_type": "code",
      "metadata": {
        "id": "59EIfLTUli-x"
      },
      "source": [
        "lista1 = ['cachorro', 'gato', 'pato', 'macaco', 'papagaio']\n",
        "lista2 = ['jacaré', 'lobo', 'boi', 'vaca', 'ovelha']\n",
        "\n",
        "\n",
        "lista3 = []\n",
        "\n",
        "for i in range(0, 5):\n",
        "  lista3.append(lista1[i])\n",
        "  lista3.append(lista2[i])\n",
        "  \n"
      ],
      "execution_count": null,
      "outputs": []
    },
    {
      "cell_type": "code",
      "metadata": {
        "id": "oTZFIbYeaTb8",
        "outputId": "a6de644c-e7b8-4fe9-cd61-75feec38430c",
        "colab": {
          "base_uri": "https://localhost:8080/"
        }
      },
      "source": [
        "lista3"
      ],
      "execution_count": null,
      "outputs": [
        {
          "output_type": "execute_result",
          "data": {
            "text/plain": [
              "['cachorro',\n",
              " 'jacaré',\n",
              " 'gato',\n",
              " 'lobo',\n",
              " 'pato',\n",
              " 'boi',\n",
              " 'macaco',\n",
              " 'vaca',\n",
              " 'papagaio',\n",
              " 'ovelha']"
            ]
          },
          "metadata": {},
          "execution_count": 17
        }
      ]
    },
    {
      "cell_type": "markdown",
      "metadata": {
        "id": "3AfnxfVpljrU"
      },
      "source": [
        "###5.2.4. Faça um programa que crie duas listas x e y, com dez números inteiros cada uma. Os valores deverão ser informados pelo usuário e os valores não podem se repetir dentro de uma lista. Em seguida, crie:\n",
        "\n",
        "- Uma lista resultante da união de x e y (todos os elementos de x e os elementos de y que não estão em x).\n",
        "- Uma lista resultante da diferença entre x e y (todos os elementos de x que não existam em y).\n",
        "- Uma lista resultante da some de x e y (soma de cada elemento de x com o elemento de y na mesma posição)"
      ]
    },
    {
      "cell_type": "code",
      "source": [
        "lista_x = list()\n",
        "lista_y = list()\n",
        "\n",
        "contador = 0\n",
        "while contador < 10:  \n",
        "  numero = int(input('Digite um número: '))  \n",
        "  if numero not in lista_x:\n",
        "    lista_x.append(numero)\n",
        "    contador += 1\n",
        "    \n",
        "contador = 0\n",
        "while contador < 10:  \n",
        "  numero = int(input('Digite um número: '))  \n",
        "  if numero not in lista_y:\n",
        "    lista_y.append(numero)\n",
        "    contador += 1  \n",
        "# A\n",
        "lista1 = lista_x.copy()\n",
        "for n in lista_y:\n",
        "  if n not in lista_x:\n",
        "    lista1.append(n)\n",
        "\n",
        "# B\n",
        "lista2 = lista_y.copy()\n",
        "for n in lista_x:\n",
        "  if n not in lista_y:\n",
        "    lista2.append(n)\n",
        "\n",
        "# C\n",
        "lista3 = list()\n",
        "for i in range(0,10):\n",
        "  soma = lista_x[i] + lista_y[i]\n",
        "  lista3.append(soma)\n",
        "\n",
        "print(lista1)\n",
        "print(lista2)\n",
        "print(lista3)"
      ],
      "metadata": {
        "colab": {
          "base_uri": "https://localhost:8080/"
        },
        "id": "2OmaMekkX4XB",
        "outputId": "dd889d2f-30ab-4be5-c263-1c176aaa0f0b"
      },
      "execution_count": null,
      "outputs": [
        {
          "output_type": "stream",
          "name": "stdout",
          "text": [
            "Digite um número: 1\n",
            "Digite um número: 2\n",
            "Digite um número: 3\n",
            "Digite um número: 4\n",
            "Digite um número: 5\n",
            "Digite um número: 6\n",
            "Digite um número: 7\n",
            "Digite um número: 8\n",
            "Digite um número: 9\n",
            "Digite um número: 10\n",
            "Digite um número: 11\n",
            "Digite um número: 12\n",
            "Digite um número: 13\n",
            "Digite um número: 14\n",
            "Digite um número: 15\n",
            "Digite um número: 16\n",
            "Digite um número: 17\n",
            "Digite um número: 18\n",
            "Digite um número: 19\n",
            "Digite um número: 19\n",
            "Digite um número: 20\n",
            "[1, 2, 3, 4, 5, 6, 7, 8, 9, 10, 11, 12, 13, 14, 15, 16, 17, 18, 19, 20]\n",
            "[11, 12, 13, 14, 15, 16, 17, 18, 19, 20, 1, 2, 3, 4, 5, 6, 7, 8, 9, 10]\n",
            "[12, 14, 16, 18, 20, 22, 24, 26, 28, 30]\n"
          ]
        }
      ]
    },
    {
      "cell_type": "code",
      "metadata": {
        "id": "moOGfozvmdby",
        "outputId": "15485d1c-33b9-4e68-ebe6-2b37dce68cb5",
        "colab": {
          "base_uri": "https://localhost:8080/",
          "height": 394
        }
      },
      "source": [
        "lista1 = []\n",
        "lista2 = []\n",
        "\n",
        "contador = 0\n",
        "while contador < 10:  \n",
        "  numero = int(input('Digite um número: '))  \n",
        "  if numero not in lista1:\n",
        "    lista1.append(numero)\n",
        "    contador += 1\n",
        "    \n",
        "contador = 0\n",
        "while contador < 10:  \n",
        "  numero = int(input('Digite um número: '))  \n",
        "  if numero not in lista2:\n",
        "    lista2.append(numero)\n",
        "    contador += 1    \n",
        "\n",
        "# Item A:\n",
        "lista_a = lista1.copy()\n",
        "\n",
        "for n in lista2:\n",
        "  if n not in lista1:\n",
        "    lista_a.append(n)\n",
        "\n",
        "# Item B:\n",
        "lista_b = []\n",
        "\n",
        "for n in lista1:\n",
        "  if n not in lista2:\n",
        "    lista_b.append(n)\n",
        "    \n",
        "# Item C:\n",
        "lista_c = []\n",
        "for i in range(0, 10):\n",
        "  soma = lista1[i] + lista2[i]\n",
        "  lista_c.append(soma)\n",
        "  \n"
      ],
      "execution_count": null,
      "outputs": [
        {
          "output_type": "stream",
          "text": [
            "Digite um número: 1\n",
            "Digite um número: 2\n",
            "Digite um número: 2\n",
            "Digite um número: 2\n",
            "Digite um número: 3\n",
            "Digite um número: 4\n",
            "Digite um número: 5\n",
            "Digite um número: 6\n",
            "Digite um número: 7\n",
            "Digite um número: 8\n",
            "Digite um número: 9\n",
            "Digite um número: 10\n",
            "Digite um número: 11\n",
            "Digite um número: 12\n",
            "Digite um número: 13\n",
            "Digite um número: 14\n",
            "Digite um número: 15\n",
            "Digite um número: 16\n",
            "Digite um número: 17\n",
            "Digite um número: 18\n",
            "Digite um número: 19\n",
            "Digite um número: 20\n"
          ],
          "name": "stdout"
        }
      ]
    },
    {
      "cell_type": "code",
      "metadata": {
        "id": "mDe6GfRvgXsH",
        "outputId": "5251cfd3-4726-41f8-acbf-4e6520542801",
        "colab": {
          "base_uri": "https://localhost:8080/",
          "height": 34
        }
      },
      "source": [
        "lista_c"
      ],
      "execution_count": null,
      "outputs": [
        {
          "output_type": "execute_result",
          "data": {
            "text/plain": [
              "[12, 14, 16, 18, 20, 22, 24, 26, 28, 30]"
            ]
          },
          "metadata": {
            "tags": []
          },
          "execution_count": 8
        }
      ]
    },
    {
      "cell_type": "markdown",
      "metadata": {
        "id": "g-vflqTtm0l-"
      },
      "source": [
        "###5.2.5. Faça um programa que carregue uma lista com dez números inteiros, informados pelo usuário. Em seguida, crie e mostre uma lista resultante ordenada de maneira crescente e crie e mostre uma lista resultante ordenada de maneira decrescente."
      ]
    },
    {
      "cell_type": "code",
      "metadata": {
        "id": "nPcjo4M7nPFK",
        "outputId": "02ab58c3-0c59-4b96-e82e-ac52bc4319c3",
        "colab": {
          "base_uri": "https://localhost:8080/",
          "height": 86
        }
      },
      "source": [
        "lista = []\n",
        "for i in range(4):\n",
        "  numero = int(input('Digite um numero'))\n",
        "  lista.append(numero)\n",
        "  \n",
        "# lista_c = lista.copy()\n",
        "# lista_c.sort()\n",
        "lista_c = sorted(lista)\n",
        "\n",
        "# lista_d = lista.copy()\n",
        "# lista_d.sort(reverse=True)\n",
        "\n",
        "lista_d = lista_c[::-1]"
      ],
      "execution_count": null,
      "outputs": [
        {
          "output_type": "stream",
          "text": [
            "Digite um numero5\n",
            "Digite um numero3\n",
            "Digite um numero7\n",
            "Digite um numero1\n"
          ],
          "name": "stdout"
        }
      ]
    },
    {
      "cell_type": "code",
      "metadata": {
        "id": "YviJ5kJPjAng",
        "outputId": "ad0d97b5-a040-44dc-a682-8759de0b42b1",
        "colab": {
          "base_uri": "https://localhost:8080/",
          "height": 34
        }
      },
      "source": [
        "lista"
      ],
      "execution_count": null,
      "outputs": [
        {
          "output_type": "execute_result",
          "data": {
            "text/plain": [
              "[5, 3, 7, 1]"
            ]
          },
          "metadata": {
            "tags": []
          },
          "execution_count": 16
        }
      ]
    },
    {
      "cell_type": "markdown",
      "metadata": {
        "id": "1F4-aqzJnPyg"
      },
      "source": [
        "###5.2.6 Faça um programa que crie uma lista vazia. Em seguida, o usuário deverá informar as notas de trabalhos obtidas (pode variar de 0 até quantos trabalhos forem informados). Por fim, mostre a média aritmética das notas obtidas."
      ]
    },
    {
      "cell_type": "code",
      "metadata": {
        "id": "9Vd52vgEn2YP",
        "outputId": "567a42b4-1334-4e79-ceb9-662b8d163dc9",
        "colab": {
          "base_uri": "https://localhost:8080/",
          "height": 120
        }
      },
      "source": [
        "notas = []\n",
        "\n",
        "print('Digite uma nota negativa para finalizar')\n",
        "\n",
        "while True:\n",
        "  nota = float(input('Digite a nota'))\n",
        "  if nota < 0:\n",
        "    break\n",
        "  notas.append(nota)\n",
        "\n",
        "media = 0\n",
        "for nota in notas:\n",
        "  media += nota\n",
        "  \n",
        "media = media / len(notas)\n",
        "print(media)\n"
      ],
      "execution_count": null,
      "outputs": [
        {
          "output_type": "stream",
          "text": [
            "Digite uma nota negativa para finalizar\n",
            "Digite a nota5\n",
            "Digite a nota3\n",
            "Digite a nota2\n",
            "Digite a nota-7\n",
            "3.3333333333333335\n"
          ],
          "name": "stdout"
        }
      ]
    },
    {
      "cell_type": "markdown",
      "metadata": {
        "id": "nsCa9gFun3Co"
      },
      "source": [
        "###5.2.7. Implemente o jogo da forca. Um usuário deverá entrar com uma palavra. Em seguida, outro usuário deverá indicar as letras dessa palavra. Caso exista, deverá ser mostrada as letras e as suas posições na palavra. Caso não exista, o usuário perderá uma chance. No total, o usuário terá 6 chances para acertar."
      ]
    },
    {
      "cell_type": "code",
      "metadata": {
        "outputId": "74b69ce9-28bb-4bad-e32b-1628238dc4dc",
        "id": "22KcfY2-owJU",
        "colab": {
          "base_uri": "https://localhost:8080/"
        }
      },
      "source": [
        "palavra = input('Digite uma palavra: ')\n",
        "\n",
        "resultado = []\n",
        "for c in palavra:\n",
        "  resultado.append('_')\n",
        "\n",
        "chances = 6\n",
        "\n",
        "while True:\n",
        "  \n",
        "  print(resultado)\n",
        "  \n",
        "  letra = input('Digite uma letra: ')\n",
        "  \n",
        "  if letra not in palavra:\n",
        "    chances -= 1\n",
        "  else:\n",
        "    for index, l in enumerate(palavra):\n",
        "      if l == letra:\n",
        "        resultado[index] = l    \n",
        "    \n",
        "  if chances == 0:\n",
        "    print('Game Over')\n",
        "    break\n",
        "    \n",
        "  if resultado.count('_') == 0:\n",
        "    print('Parabéns!')\n",
        "    break\n",
        "  \n",
        "  "
      ],
      "execution_count": null,
      "outputs": [
        {
          "output_type": "stream",
          "name": "stdout",
          "text": [
            "Digite uma palavra: ola\n",
            "['_', '_', '_']\n",
            "Digite uma letra: o\n",
            "['o', '_', '_']\n",
            "Digite uma letra: u\n",
            "['o', '_', '_']\n",
            "Digite uma letra: o\n",
            "['o', '_', '_']\n",
            "Digite uma letra: l\n",
            "['o', 'l', '_']\n",
            "Digite uma letra: a\n",
            "Parabéns!\n"
          ]
        }
      ]
    },
    {
      "cell_type": "code",
      "metadata": {
        "id": "1z4dH1x-o3C4",
        "outputId": "7c3ad717-1363-4c95-dc8c-ebcb1c56a602",
        "colab": {
          "base_uri": "https://localhost:8080/",
          "height": 34
        }
      },
      "source": [
        "palavra = 'banana'\n",
        "\n",
        "palavra.index('a')"
      ],
      "execution_count": null,
      "outputs": [
        {
          "output_type": "execute_result",
          "data": {
            "text/plain": [
              "1"
            ]
          },
          "metadata": {
            "tags": []
          },
          "execution_count": 21
        }
      ]
    },
    {
      "cell_type": "markdown",
      "metadata": {
        "id": "c6JFr4oLpbml"
      },
      "source": [
        "###5.2.8. Faça um programa em que o usuário deverá digitar os nomes de dez alunos da sala de aula. Em seguida, caso o programa encontre nomes repetidos, ele deverá alterar o nome adicionando o número sequencial. Por exemplo, se na lista tivermos dois \"José\", após o processamento a lista deverá conter \"José 1\" e \"José 2\"."
      ]
    },
    {
      "cell_type": "markdown",
      "source": [
        ""
      ],
      "metadata": {
        "id": "7rBp12Bjc_Il"
      }
    },
    {
      "cell_type": "code",
      "metadata": {
        "id": "qoCYX7Q7p4DC",
        "outputId": "6682a564-ef79-4aef-fd65-ffc2125b4967",
        "colab": {
          "base_uri": "https://localhost:8080/",
          "height": 120
        }
      },
      "source": [
        "nomes = []\n",
        "\n",
        "for i in range(5):\n",
        "  nome = input('Digite o nome: ')\n",
        "  nomes.append(nome)\n",
        "  \n",
        "for i in range(4):\n",
        "  \n",
        "  nome = nomes[i]\n",
        "  \n",
        "  if nomes.count(nome) == 1:\n",
        "    continue    \n",
        "  \n",
        "  nomes[i] = nomes[i] + \"1\"\n",
        "  contador = 2\n",
        "  \n",
        "  for j in range(i+1, 5):\n",
        "    if nome == nomes[j]:\n",
        "      nomes[j] = nomes[j] + str(contador)\n",
        "      contador += 1\n",
        "      \n",
        "print(nomes)\n",
        "    \n",
        "  "
      ],
      "execution_count": null,
      "outputs": [
        {
          "output_type": "stream",
          "text": [
            "Digite o nome: a\n",
            "Digite o nome: b\n",
            "Digite o nome: a\n",
            "Digite o nome: b\n",
            "Digite o nome: a\n",
            "['a1', 'b1', 'a2', 'b2', 'a3']\n"
          ],
          "name": "stdout"
        }
      ]
    },
    {
      "cell_type": "markdown",
      "metadata": {
        "id": "F2LiQbUxqAlE"
      },
      "source": [
        "###5.2.9. Faça um programa que leia 10 números inteiros. Em seguida, processe a lista e remova os números repetidos. No final, mostre essa nova lista."
      ]
    },
    {
      "cell_type": "code",
      "metadata": {
        "id": "m0ovuKpeqJP7",
        "outputId": "a4b1ba17-f362-4f7e-ecea-e969c15d5f7f",
        "colab": {
          "base_uri": "https://localhost:8080/",
          "height": 34
        }
      },
      "source": [
        "lista = [1, 2, 3, 6, 7, 2, 5, 3, 2, 2]\n",
        "\n",
        "for n in lista:\n",
        "  if lista.count(n) > 1:\n",
        "    lista.remove(n)\n",
        "    \n",
        "print(lista)"
      ],
      "execution_count": null,
      "outputs": [
        {
          "output_type": "stream",
          "text": [
            "[1, 6, 7, 5, 3, 2]\n"
          ],
          "name": "stdout"
        }
      ]
    },
    {
      "cell_type": "markdown",
      "metadata": {
        "id": "79PM0kn8qN71"
      },
      "source": [
        "###5.2.10. Faça um programa que contenha duas listas com 5 posições. Na primeira lista, deverá ser inserido o nome dos alunos. Na segunda lista, na mesma posição, a nota do aluno. Em seguida, mostre o nome dos alunos com a maior e a menor nota."
      ]
    },
    {
      "cell_type": "code",
      "metadata": {
        "id": "VM6Qsq0VqxWN",
        "outputId": "ed2d4737-153a-4909-838b-bfdc68332354",
        "colab": {
          "base_uri": "https://localhost:8080/",
          "height": 86
        }
      },
      "source": [
        "nomes = ['Batman', 'Flash', 'Hulk', 'Visão', 'Homem-Formiga']\n",
        "\n",
        "notas = [10, 7, 2, 10, 5]\n",
        "\n",
        "menor = min(notas)\n",
        "indice_menor = notas.index(menor)\n",
        "\n",
        "maior = max(notas)\n",
        "indice_maior = notas.index(maior)\n",
        "\n",
        "print(nomes[indice_maior])\n",
        "print(nomes[indice_menor])\n",
        "\n",
        "for index, nota in enumerate(notas):\n",
        "  if nota == maior:\n",
        "    print(nomes[index])"
      ],
      "execution_count": null,
      "outputs": [
        {
          "output_type": "stream",
          "text": [
            "Batman\n",
            "Hulk\n",
            "Batman\n",
            "Visão\n"
          ],
          "name": "stdout"
        }
      ]
    },
    {
      "cell_type": "markdown",
      "source": [
        "Alguns testes curso em video"
      ],
      "metadata": {
        "id": "aGXkkFHFspgJ"
      }
    },
    {
      "cell_type": "code",
      "source": [
        "num = [2, 5, 9, 1]\n",
        "num[2] = 3\n",
        "print('1)', num)\n",
        "num.append(7)\n",
        "print('2)', num)\n",
        "num.insert(2, 8)\n",
        "print('3)', num)\n",
        "num.sort()\n",
        "print('4)', num)\n",
        "num.sort(reverse=True)\n",
        "print('5)', num)\n",
        "num.pop()\n",
        "print('6)', num)\n",
        "num.pop(2)\n",
        "print('7)', num)\n",
        "num.insert(3, 2)\n",
        "print('9)', num)\n",
        "num.remove(3)\n",
        "print('10)', num)\n",
        "if 5 in num:\n",
        "    num.remove(5)\n",
        "else:\n",
        "    print('O valor 5 não está na lista')\n",
        "print(f'Essa lista tem {len(num)} elementos')"
      ],
      "metadata": {
        "id": "WGGbJ5ckstN3"
      },
      "execution_count": null,
      "outputs": []
    },
    {
      "cell_type": "code",
      "source": [
        "valores = []\n",
        "#  ou valores = list()\n",
        "valores.append(5)\n",
        "valores.append(9)\n",
        "valores.append(4)\n",
        "print(valores)\n",
        "for valor in valores:\n",
        "    print(f'{valor}...', end=' ')\n",
        "for p, valor in enumerate(valores):\n",
        "    print(f'\\nNa posição {p} encontrei o valor {valor}!', end=' ')\n",
        "\n",
        "valor = list()\n",
        "for v in range(0, 5):\n",
        "    valor.append(int(input('Digite um valor: ')))\n",
        "for p, v in enumerate(valor):\n",
        "    print(f'\\nNa posição {p} encontrei o valor {v}!', end=' ')"
      ],
      "metadata": {
        "id": "ZG0p2dg-syWy",
        "colab": {
          "base_uri": "https://localhost:8080/"
        },
        "outputId": "33ce68c1-42c2-4a8d-b095-2dfc1bb217e9"
      },
      "execution_count": null,
      "outputs": [
        {
          "output_type": "stream",
          "name": "stdout",
          "text": [
            "[5, 9, 4]\n",
            "5... 9... 4... \n",
            "Na posição 0 encontrei o valor 5! \n",
            "Na posição 1 encontrei o valor 9! \n",
            "Na posição 2 encontrei o valor 4! Digite um valor: 9\n",
            "Digite um valor: 5\n",
            "Digite um valor: 3\n",
            "Digite um valor: 4\n",
            "Digite um valor: 2\n",
            "\n",
            "Na posição 0 encontrei o valor 9! \n",
            "Na posição 1 encontrei o valor 5! \n",
            "Na posição 2 encontrei o valor 3! \n",
            "Na posição 3 encontrei o valor 4! \n",
            "Na posição 4 encontrei o valor 2! "
          ]
        }
      ]
    },
    {
      "cell_type": "code",
      "source": [
        "a = [2, 3, 4, 7]\n",
        "print(f'Lista A: {a}')\n",
        "b = a\n",
        "b[2] = 8\n",
        "print(f'Lista A: {a}')\n",
        "print(f'Lista B: {b}')\n",
        "# fazendo copia\n",
        "b = a[:] # igual a b = a.copy()\n",
        "b[2] = 9\n",
        "print(f'Lista A: {a}')\n",
        "print(f'Lista B: {b}')"
      ],
      "metadata": {
        "id": "2DNXwruXs3ZK"
      },
      "execution_count": null,
      "outputs": []
    },
    {
      "cell_type": "markdown",
      "source": [
        "Parte II "
      ],
      "metadata": {
        "id": "XveMFO3XfHnU"
      }
    },
    {
      "cell_type": "code",
      "source": [
        "test = list()\n",
        "test.append('Matheus')\n",
        "test.append(22)\n",
        "print(test)\n",
        "galera = list()\n",
        "galera.append(test[:])\n",
        "print(galera)\n",
        "test[0] = 'Natacha'\n",
        "test[1] = 21\n",
        "galera.append(test[:])\n",
        "print(galera)"
      ],
      "metadata": {
        "colab": {
          "base_uri": "https://localhost:8080/"
        },
        "id": "oze20KMZfKzb",
        "outputId": "e69c4667-0878-4757-9340-34a40a6c5845"
      },
      "execution_count": null,
      "outputs": [
        {
          "output_type": "stream",
          "name": "stdout",
          "text": [
            "['Matheus', 22]\n",
            "[['Matheus', 22]]\n",
            "[['Matheus', 22], ['Natacha', 21]]\n"
          ]
        }
      ]
    },
    {
      "cell_type": "code",
      "source": [
        "pessoas = [['Matheus', 22], ['Natacha', 21], ['João', 22], ['Sônia', 55]]\n",
        "print(pessoas)\n",
        "print(pessoas[0][1])\n",
        "for p in pessoas:\n",
        "  print(f'{p[0]} tem {p[1]} anos de idade')"
      ],
      "metadata": {
        "colab": {
          "base_uri": "https://localhost:8080/"
        },
        "id": "HLfNEAJFi18b",
        "outputId": "dc197aea-2323-482a-e478-358f366cd6cf"
      },
      "execution_count": null,
      "outputs": [
        {
          "output_type": "stream",
          "name": "stdout",
          "text": [
            "[['Matheus', 22], ['Natacha', 21], ['João', 22], ['Sônia', 55]]\n",
            "22\n",
            "Matheus tem 22 anos de idade\n",
            "Natacha tem 21 anos de idade\n",
            "João tem 22 anos de idade\n",
            "Sônia tem 55 anos de idade\n"
          ]
        }
      ]
    },
    {
      "cell_type": "code",
      "source": [
        "pessoas = list()\n",
        "dados = list()\n",
        "for i in range(0, 3):\n",
        "  dados.append(str(input('Nome: ')))\n",
        "  dados.append(int(input('Idade: ')))\n",
        "  pessoas.append(dados[:])\n",
        "  dados.clear()\n",
        "print(pessoas)\n",
        "for p in pessoas:\n",
        "  if p[1] >= 21:\n",
        "    print(f'{p[0]} é maior de idade')\n",
        "  else: \n",
        "    print(f'{p[0]} é menor de idade')\n"
      ],
      "metadata": {
        "colab": {
          "base_uri": "https://localhost:8080/"
        },
        "id": "hr6Br4VmlBVp",
        "outputId": "41c57cd9-4840-4fff-a41f-5b3053aabe23"
      },
      "execution_count": null,
      "outputs": [
        {
          "output_type": "stream",
          "name": "stdout",
          "text": [
            "Nome: mah\n",
            "Idade: 22\n",
            "Nome: nat\n",
            "Idade: 21\n",
            "Nome: lucas\n",
            "Idade: 5\n",
            "[['mah', 22], ['nat', 21], ['lucas', 5]]\n",
            "mah é maior de idade\n",
            "nat é maior de idade\n",
            "lucas é menor de idade\n"
          ]
        }
      ]
    },
    {
      "cell_type": "markdown",
      "source": [
        "Exercicios curso em video"
      ],
      "metadata": {
        "id": "fGIA_E82tuoC"
      }
    },
    {
      "cell_type": "markdown",
      "source": [
        "Exercício Python 078: Faça um programa que leia 5 valores numéricos e guarde-os em uma lista. No final, mostre qual foi o maior e o menor valor digitado e as suas respectivas posições na lista."
      ],
      "metadata": {
        "id": "IZ7rZlvQtNkW"
      }
    },
    {
      "cell_type": "code",
      "source": [
        "numeros = list()\n",
        "maior = menor = 0\n",
        "for c in range(0, 5):\n",
        "    numeros.append(int(input(f'Digite um número para adicionar a lista na posição {c}: ')))\n",
        "    if c == 0:\n",
        "      menor = maior = numeros[c]\n",
        "    else:\n",
        "      if numeros[c] > maior:\n",
        "        maior = numeros[c]\n",
        "      elif numeros[c] < menor:\n",
        "        menor = numeros[c]\n",
        "\n",
        "print(f'o maior valor digitado foi {maior} nas posições', end=' ')\n",
        "for i, v in enumerate(numeros):\n",
        "  if v == maior:\n",
        "    print(f'{i}...', end='')\n",
        "print(f'o menor valor digitado foi {menor} nas posições', end=' ')\n",
        "for i, v in enumerate(numeros):\n",
        "  if v == menor:\n",
        "    print(f'{i}...', end='')\n",
        "\n",
        "\n",
        "# print(f'O maior valor foi {max(numeros)} e está na posição {numeros.index(max(numeros))}')\n",
        "# print(f'O menor valor foi {min(numeros)} e está na posição {numeros.index(min(numeros))}')\n"
      ],
      "metadata": {
        "id": "3krfjwV_tXVP",
        "colab": {
          "base_uri": "https://localhost:8080/"
        },
        "outputId": "97977f74-9fbf-4a5f-dc14-ed0a4cf1464a"
      },
      "execution_count": null,
      "outputs": [
        {
          "output_type": "stream",
          "name": "stdout",
          "text": [
            "Digite um número para adicionar a lista na posição 0: 6\n",
            "Digite um número para adicionar a lista na posição 1: 3\n",
            "Digite um número para adicionar a lista na posição 2: 6\n",
            "Digite um número para adicionar a lista na posição 3: 1\n",
            "Digite um número para adicionar a lista na posição 4: 1\n",
            "o maior valor digitado foi 6 nas posições 0...2...o menor valor digitado foi 1 nas posições 3...4...\n"
          ]
        }
      ]
    },
    {
      "cell_type": "markdown",
      "source": [
        "Exercício Python 079: Crie um programa onde o usuário possa digitar vários valores numéricos e cadastre-os em uma lista. Caso o número já exista lá dentro, ele não será adicionado. No final, serão exibidos todos os valores únicos digitados, em ordem crescente."
      ],
      "metadata": {
        "id": "ms3wPrhVtyDQ"
      }
    },
    {
      "cell_type": "code",
      "source": [
        "numeros = list()\n",
        "while True:\n",
        "    n = int(input('Digite um número inteiro: '))\n",
        "    if n not in numeros:\n",
        "        numeros.append(n)\n",
        "        print('Número cadastrado com sucesso!')\n",
        "    else:\n",
        "        print('Valor já cadastrado, tente outro...')\n",
        "    resp = ' '\n",
        "    while resp not in 'SN':\n",
        "        resp = str(input('Deseja continuar [S/N]')).strip().upper()[0]\n",
        "    if resp == 'N':\n",
        "        break\n",
        "print(sorted(numeros))"
      ],
      "metadata": {
        "id": "6aZfJMYTt6QU",
        "colab": {
          "base_uri": "https://localhost:8080/"
        },
        "outputId": "77af1011-676b-418e-b609-269c545b2fac"
      },
      "execution_count": null,
      "outputs": [
        {
          "output_type": "stream",
          "name": "stdout",
          "text": [
            "Digite um número inteiro: 9\n",
            "Número cadastrado com sucesso!\n",
            "Deseja continuar [S/N]s\n",
            "Digite um número inteiro: 2\n",
            "Número cadastrado com sucesso!\n",
            "Deseja continuar [S/N]n\n",
            "[2, 9]\n"
          ]
        }
      ]
    },
    {
      "cell_type": "markdown",
      "source": [
        "Exercício Python 080: Crie um programa onde o usuário possa digitar cinco valores numéricos e cadastre-os em uma lista, já na posição correta de inserção (sem usar o sort()). No final, mostre a lista ordenada na tela."
      ],
      "metadata": {
        "id": "-z1TSidvt97f"
      }
    },
    {
      "cell_type": "code",
      "source": [
        "numeros = []\n",
        "for c in range(0, 5):\n",
        "    num = int(input('Digite um número: '))\n",
        "    if c == 0 or num > numeros[-1]:\n",
        "      numeros.append(num)\n",
        "      print('Valor adicionado ao final da lista!')\n",
        "    else:\n",
        "      pos = 0\n",
        "      while pos <= len(numeros):\n",
        "        if num <= numeros[pos]:\n",
        "          numeros.insert(pos, num)\n",
        "          print(f'Valor adicionado na posição {pos}')\n",
        "          break\n",
        "        pos += 1\n",
        "\n",
        "print(f'os valores em ordem são {numeros}')"
      ],
      "metadata": {
        "id": "0_fENR6UuMNH",
        "colab": {
          "base_uri": "https://localhost:8080/"
        },
        "outputId": "59b91c8b-0656-48ff-ff85-d97b29a75678"
      },
      "execution_count": null,
      "outputs": [
        {
          "output_type": "stream",
          "name": "stdout",
          "text": [
            "Digite um número: 9\n",
            "Valor adicionado ao final da lista!\n",
            "Digite um número: 0\n",
            "Valor adicionado na posição 0\n",
            "Digite um número: 4\n",
            "Valor adicionado na posição 1\n",
            "Digite um número: 6\n",
            "Valor adicionado na posição 2\n",
            "Digite um número: 7\n",
            "Valor adicionado na posição 3\n",
            "os valores em ordem são [0, 4, 6, 7, 9]\n"
          ]
        }
      ]
    },
    {
      "cell_type": "markdown",
      "source": [
        "Exercício Python 081: Crie um programa que vai ler vários números e colocar em uma lista.                  Depois disso, mostre:                                                                                                                                                A) Quantos números foram digitados.                                                                                                                    B) A lista de valores, ordenada de forma decrescente.                                                                                          C) Se o valor 5 foi digitado e está ou não na lista."
      ],
      "metadata": {
        "id": "4gindMl_ueR4"
      }
    },
    {
      "cell_type": "code",
      "source": [
        "lista = list()\n",
        "while True:\n",
        "    n = int(input('Digite um numero: '))\n",
        "    lista.append(n)\n",
        "    resp = ' '\n",
        "    while resp not in 'SN':\n",
        "        resp = str(input('Deseja continuar [S/N]')).strip().upper()[0]\n",
        "    if resp == 'N':\n",
        "        break\n",
        "print(f'Você digitou {len(lista)} elementos')\n",
        "lista.sort(reverse=True)\n",
        "print(f'Os valores em ordem decrescente  são {lista}')\n",
        "if 5 in lista:\n",
        "    print(f'Você digitou o valor 5')\n",
        "else:\n",
        "    print('Valor 5 não encontrado na lista')"
      ],
      "metadata": {
        "id": "H9_ukc_Su6OL",
        "colab": {
          "base_uri": "https://localhost:8080/"
        },
        "outputId": "b11bd88b-37f7-47a4-dadd-7ffe4e59e84f"
      },
      "execution_count": null,
      "outputs": [
        {
          "output_type": "stream",
          "name": "stdout",
          "text": [
            "Digite um numero: 5\n",
            "Deseja continuar [S/N]s\n",
            "Digite um numero: 18\n",
            "Deseja continuar [S/N]s\n",
            "Digite um numero: 10\n",
            "Deseja continuar [S/N]n\n",
            "Você digitou 3 elementos\n",
            "Os valores em ordem decrescente  são [18, 10, 5]\n",
            "Você digitou o valor 5\n"
          ]
        }
      ]
    },
    {
      "cell_type": "markdown",
      "source": [
        "Exercício Python 082: Crie um programa que vai ler vários números e colocar em uma lista. Depois disso, crie duas listas extras que vão conter apenas os valores pares e os valores ímpares digitados, respectivamente. Ao final, mostre o conteúdo das três listas geradas."
      ],
      "metadata": {
        "id": "unnBJsPmu-DI"
      }
    },
    {
      "cell_type": "code",
      "source": [
        "lista = list()\n",
        "pares = []\n",
        "impares = []\n",
        "while True:\n",
        "    n = int(input('Digite um numero: '))\n",
        "    lista.append(n)\n",
        "    resp = ' '\n",
        "    while resp not in 'SN':\n",
        "        resp = str(input('Deseja continuar [S/N]')).strip().upper()[0]\n",
        "    if resp == 'N':\n",
        "        break\n",
        "for n in lista:\n",
        "    if n % 2 == 0:\n",
        "        pares.append(n)\n",
        "    else:\n",
        "        impares.append(n)\n",
        "print(lista)\n",
        "print(impares)\n",
        "print(pares)"
      ],
      "metadata": {
        "colab": {
          "base_uri": "https://localhost:8080/"
        },
        "id": "53WV4UnuvFWP",
        "outputId": "04155abc-8e5f-4fc7-ad65-475be1ceb2d8"
      },
      "execution_count": null,
      "outputs": [
        {
          "output_type": "stream",
          "name": "stdout",
          "text": [
            "Digite um numero: 2\n",
            "Deseja continuar [S/N]s\n",
            "Digite um numero: 3\n",
            "Deseja continuar [S/N]s\n",
            "Digite um numero: 4\n",
            "Deseja continuar [S/N]s\n",
            "Digite um numero: 9\n",
            "Deseja continuar [S/N]n\n",
            "[2, 3, 4, 9]\n",
            "[3, 9]\n",
            "[2, 4]\n"
          ]
        }
      ]
    },
    {
      "cell_type": "markdown",
      "source": [
        "Exercício Python 083: Crie um programa onde o usuário digite uma expressão qualquer que use parênteses. Seu aplicativo deverá analisar se a expressão passada está com os parênteses abertos e fechados na ordem correta."
      ],
      "metadata": {
        "id": "c-sHarwTvoRQ"
      }
    },
    {
      "cell_type": "code",
      "source": [
        "expressão = str(input('Digite uma expressão matematica: '))\n",
        "pilha = list()\n",
        "for simbolo in expressão:\n",
        "  if simbolo == '(':\n",
        "    pilha.append('(')\n",
        "  elif simbolo == ')':\n",
        "    if len(pilha) > 0:\n",
        "      pilha.pop()\n",
        "    else:\n",
        "      pilha.append(')')\n",
        "      break\n",
        "if len(pilha) == 0:\n",
        "  print('Sua expressão está correta!')\n",
        "else: \n",
        "  print('Sua expressão está inválida!')"
      ],
      "metadata": {
        "colab": {
          "base_uri": "https://localhost:8080/"
        },
        "id": "WEtXYXKZvv75",
        "outputId": "7e97794b-1b09-45af-ae7e-13a3aafb9ceb"
      },
      "execution_count": null,
      "outputs": [
        {
          "output_type": "stream",
          "name": "stdout",
          "text": [
            "Digite uma expressão matematica: (()\n",
            "Sua expressão está inválida!\n"
          ]
        }
      ]
    },
    {
      "cell_type": "markdown",
      "source": [
        "Exercício Python 084: Faça um programa que leia nome e peso de várias pessoas,                                      guardando tudo em uma lista. No final, mostre:                                                                                                    A) Quantas pessoas foram cadastradas.                                                                                                                B) Uma listagem com as pessoas mais pesadas.                                                                                                    C) Uma listagem com as pessoas mais leves."
      ],
      "metadata": {
        "id": "YKb2NGkQ3K4f"
      }
    },
    {
      "cell_type": "code",
      "source": [
        "dados = []\n",
        "pessoa = list()\n",
        "maior = menor = 0\n",
        "nome = []\n",
        "while True:\n",
        "  dados.append(str(input('Nome: ')))\n",
        "  dados.append(float(input('Peso: ')))\n",
        "  if len(pessoa) == 0:\n",
        "    maior = menor =  dados[1]\n",
        "  else:\n",
        "      if dados[1] > maior:\n",
        "        maior = dados[1]\n",
        "      if dados[1] < menor:\n",
        "        menor = dados[1]\n",
        "  pessoa.append(dados[:])\n",
        "  dados.clear()\n",
        "  resp = ' '\n",
        "  while resp not in 'SN':\n",
        "    resp = str(input('Deseja continuar [S/N]: ')).strip().upper()[0]\n",
        "  if resp == 'N':\n",
        "    break\n",
        "print('='*60)\n",
        "print(pessoa)\n",
        "print('='*60)\n",
        "print(f'A quantidade de pessoas cadastradas é {len(pessoa)}')\n",
        "print(f'O maior peso é {maior}kg. Peso de ', end= '')\n",
        "for p in pessoa:\n",
        "  if p[1] == maior:\n",
        "    print(f'[{p[0]}]', end='')\n",
        "print(f'\\n O menor peso é {menor}kg. Peso de ', end='')\n",
        "for p in pessoa:\n",
        "  if p[1] == menor:\n",
        "    print(f'[{p[0]}]', end=' ')\n"
      ],
      "metadata": {
        "colab": {
          "base_uri": "https://localhost:8080/"
        },
        "id": "0PIhtNof3M-A",
        "outputId": "d4b2c7a9-4dd6-4851-c0a6-c03d66032e09"
      },
      "execution_count": null,
      "outputs": [
        {
          "output_type": "stream",
          "name": "stdout",
          "text": [
            "Nome: matheus\n",
            "Peso: 75\n",
            "Deseja continuar [S/N]: k\n",
            "Deseja continuar [S/N]: l\n",
            "Deseja continuar [S/N]: sim\n",
            "Nome: lucas\n",
            "Peso: 90\n",
            "Deseja continuar [S/N]: s\n",
            "Nome: paula\n",
            "Peso: 55\n",
            "Deseja continuar [S/N]: s\n",
            "Nome: rafa\n",
            "Peso: 90\n",
            "Deseja continuar [S/N]: n\n",
            "============================================================\n",
            "[['matheus', 75.0], ['lucas', 90.0], ['paula', 55.0], ['rafa', 90.0]]\n",
            "============================================================\n",
            "A quantidade de pessoas cadastradas é 4\n",
            "O maior peso é 90.0kg. Peso de [lucas][rafa]\n",
            " O menor peso é 55.0kg. Peso de [paula] "
          ]
        }
      ]
    },
    {
      "cell_type": "markdown",
      "source": [
        "Exercício Python 085: Crie um programa onde o usuário possa digitar sete valores numéricos e cadastre-os em uma lista única que mantenha separados os valores pares e ímpares. No final, mostre os valores pares e ímpares em ordem crescente."
      ],
      "metadata": {
        "id": "-GCjsKJ3i5Yw"
      }
    },
    {
      "cell_type": "code",
      "source": [
        "lista = list()\n",
        "pares = list()\n",
        "impares = list()\n",
        "for i in range(1,7):\n",
        "  num = int(input(f'Digite o {i} número: '))\n",
        "  if num % 2 == 0:\n",
        "    pares.append(num)\n",
        "  else:\n",
        "    impares.append(num)\n",
        "lista.append(pares[:])\n",
        "lista.append(impares[:])\n",
        "print('='*30)\n",
        "print(lista)\n",
        "print(f'Os números pares digitados foram {sorted(lista[0])}')\n",
        "print(f'Os números impares digitados foram {sorted(lista[1])}')"
      ],
      "metadata": {
        "colab": {
          "base_uri": "https://localhost:8080/"
        },
        "id": "Ht4jY0Sni6oM",
        "outputId": "258d65b5-54c2-4b93-8a84-e86a07473c6c"
      },
      "execution_count": null,
      "outputs": [
        {
          "output_type": "stream",
          "name": "stdout",
          "text": [
            "Digite o 1 número: 5\n",
            "Digite o 2 número: 6\n",
            "Digite o 3 número: 3\n",
            "Digite o 4 número: 2\n",
            "Digite o 5 número: 8\n",
            "Digite o 6 número: 3\n",
            "==============================\n",
            "[[6, 2, 8], [5, 3, 3]]\n",
            "Os números pares digitados foram [2, 6, 8]\n",
            "Os números impares digitados foram [3, 3, 5]\n"
          ]
        }
      ]
    },
    {
      "cell_type": "code",
      "source": [
        "núm = [[], []]\n",
        "for i in range(1, 8):\n",
        "  valor = int(input(f'Digite o {i}° número: '))\n",
        "  if valor % 2 == 0:\n",
        "    núm[0].append(valor)\n",
        "  else:\n",
        "    núm[1].append(valor)\n",
        "print('='*30)\n",
        "print(núm)\n",
        "núm[0].sort()\n",
        "nú3m[1].sort()\n",
        "print(f'Os números pares digitados foram {núm[0]}')\n",
        "print(f'Os números impares digitados foram {núm[1]}')"
      ],
      "metadata": {
        "colab": {
          "base_uri": "https://localhost:8080/"
        },
        "id": "giD5tDUxjtYN",
        "outputId": "26a03ecc-72ba-4519-929b-59092465133a"
      },
      "execution_count": null,
      "outputs": [
        {
          "output_type": "stream",
          "name": "stdout",
          "text": [
            "Digite o 1° número: 9\n",
            "Digite o 2° número: 6\n",
            "Digite o 3° número: 5\n",
            "Digite o 4° número: 3\n",
            "Digite o 5° número: 8\n",
            "Digite o 6° número: 4\n",
            "Digite o 7° número: 2\n",
            "==============================\n",
            "[[6, 8, 4, 2], [9, 5, 3]]\n",
            "Os números pares digitados foram [2, 4, 6, 8]\n",
            "Os números impares digitados foram [3, 5, 9]\n"
          ]
        }
      ]
    },
    {
      "cell_type": "markdown",
      "source": [
        "Exercício Python 086: Crie um programa que declare uma matriz de dimensão 3×3 e preencha com valores lidos pelo teclado. No final, mostre a matriz na tela, com a formatação correta."
      ],
      "metadata": {
        "id": "5ZZCai9zmsQk"
      }
    },
    {
      "cell_type": "code",
      "source": [
        "valores = [[0, 0, 0], [0, 0, 0], [0, 0, 0]]\n",
        "for l in range(0, 3):\n",
        "  for c in range(0, 3):\n",
        "    valores[l][c] = int(input(f'Digite um valor para a posição [{l}, {c}] '))\n",
        "print(valores)\n",
        "for l in range(0, 3):\n",
        "  for c in range(0, 3):\n",
        "    print(f'[{valores[l][c]:^5}]', end='') # :^5 deixa com 5 casas decimais centralizado\n",
        "  print() # quebra linha"
      ],
      "metadata": {
        "colab": {
          "base_uri": "https://localhost:8080/"
        },
        "id": "RiArZQYGpSK9",
        "outputId": "238b3ef0-bd82-4f62-a30f-1182c35ce7a5"
      },
      "execution_count": null,
      "outputs": [
        {
          "output_type": "stream",
          "name": "stdout",
          "text": [
            "Digite um valor para a posição [0, 0] 1\n",
            "Digite um valor para a posição [0, 1] 2\n",
            "Digite um valor para a posição [0, 2] 3\n",
            "Digite um valor para a posição [1, 0] 4\n",
            "Digite um valor para a posição [1, 1] 5\n",
            "Digite um valor para a posição [1, 2] 6\n",
            "Digite um valor para a posição [2, 0] 7\n",
            "Digite um valor para a posição [2, 1] 8\n",
            "Digite um valor para a posição [2, 2] 9\n",
            "[[1, 2, 3], [4, 5, 6], [7, 8, 9]]\n",
            "[  1  ][  2  ][  3  ]\n",
            "[  4  ][  5  ][  6  ]\n",
            "[  7  ][  8  ][  9  ]\n"
          ]
        }
      ]
    },
    {
      "cell_type": "code",
      "source": [
        "matriz = list()\n",
        "a = int(input('Digite um valor para a [0, 0]: '))\n",
        "b = int(input('Digite um valor para a [0, 1]: '))\n",
        "c = int(input('Digite um valor para a [0, 2]: '))\n",
        "d = int(input('Digite um valor para a [1, 0]: '))\n",
        "e = int(input('Digite um valor para a [1, 1]: '))\n",
        "f = int(input('Digite um valor para a [1, 2]: '))\n",
        "g = int(input('Digite um valor para a [2, 0]: '))\n",
        "h = int(input('Digite um valor para a [2, 1]: '))\n",
        "i = int(input('Digite um valor para a [2, 2]: '))\n",
        "matriz.append(a)\n",
        "matriz.append(b)\n",
        "matriz.append(c)\n",
        "matriz.append(d)\n",
        "matriz.append(e)\n",
        "matriz.append(f)\n",
        "matriz.append(g)\n",
        "matriz.append(h)\n",
        "matriz.append(i)\n",
        "print(f'{[a]} {[b]} {[c]}')\n",
        "print(f'{[d]} {[e]} {[f]}')\n",
        "print(f'{[g]} {[h]} {[i]}')"
      ],
      "metadata": {
        "colab": {
          "base_uri": "https://localhost:8080/"
        },
        "id": "oKwRmhN9muRA",
        "outputId": "e0c39ecf-089c-4ae4-f314-fb3b813155cd"
      },
      "execution_count": null,
      "outputs": [
        {
          "output_type": "stream",
          "name": "stdout",
          "text": [
            "Digite um valor para a [0, 0]: 1\n",
            "Digite um valor para a [0, 1]: 2\n",
            "Digite um valor para a [0, 2]: 3\n",
            "Digite um valor para a [1, 0]: 4\n",
            "Digite um valor para a [1, 1]: 5\n",
            "Digite um valor para a [1, 2]: 6\n",
            "Digite um valor para a [2, 0]: 7\n",
            "Digite um valor para a [2, 1]: 8\n",
            "Digite um valor para a [2, 2]: 9\n",
            "[1] [2] [3]\n",
            "[4] [5] [6]\n",
            "[7] [8] [9]\n"
          ]
        }
      ]
    },
    {
      "cell_type": "markdown",
      "source": [
        "Exercício Python 087: Aprimore o desafio anterior, mostrando no final:                                                    A) A soma de todos os valores pares digitados.                                                                                                  B) A soma dos valores da terceira coluna.                                                                                                                C) O maior valor da segunda linha."
      ],
      "metadata": {
        "id": "YGZzFsPlqRxG"
      }
    },
    {
      "cell_type": "code",
      "source": [
        "matriz = [[0, 0, 0], [0, 0, 0], [0, 0, 0]]\n",
        "pares = maior = soma = 0\n",
        "for l in range(0, 3):\n",
        "  for c in range(0, 3):\n",
        "    matriz[l][c] = int(input(f'Digite um número para a posição [{l}, {c}]: '))\n",
        "for l in range(0, 3):\n",
        "  for c in range(0, 3):\n",
        "    print(f'[{matriz[l][c]:^5}]', end='')\n",
        "    if matriz[l][c] % 2 == 0:\n",
        "      pares += matriz[l][c]\n",
        "    if c == 2: \n",
        "      soma += matriz[l][c]\n",
        "  print()\n",
        "print('='*50)\n",
        "print(f'A soma dos valores pares é: {pares}') \n",
        "# outro jeito de calcular a coluna\n",
        "# for l in range(0,3):\n",
        "#   soma += matriz[l][2]\n",
        "print(f'A soma dos valores da terceira coluna é: {soma}') \n",
        "for c in range(0, 3):\n",
        "  if c == 0 or  matriz[1][c] > maior:\n",
        "    maior = matriz[1][c]\n",
        "print(f'O maior valor da segunda linha é: {maior}')"
      ],
      "metadata": {
        "colab": {
          "base_uri": "https://localhost:8080/"
        },
        "id": "8U4yHCCcuoaw",
        "outputId": "7b9128f3-eaac-4c33-bfb3-c2485aac4d10"
      },
      "execution_count": null,
      "outputs": [
        {
          "output_type": "stream",
          "name": "stdout",
          "text": [
            "Digite um número para a posição [0, 0]: 1\n",
            "Digite um número para a posição [0, 1]: 2\n",
            "Digite um número para a posição [0, 2]: 3\n",
            "Digite um número para a posição [1, 0]: 4\n",
            "Digite um número para a posição [1, 1]: 5\n",
            "Digite um número para a posição [1, 2]: 6\n",
            "Digite um número para a posição [2, 0]: 7\n",
            "Digite um número para a posição [2, 1]: 8\n",
            "Digite um número para a posição [2, 2]: 9\n",
            "[  1  ][  2  ][  3  ]\n",
            "[  4  ][  5  ][  6  ]\n",
            "[  7  ][  8  ][  9  ]\n",
            "==================================================\n",
            "A soma dos valores pares é: 20\n",
            "A soma dos valores da terceira coluna é: 18\n",
            "O maior valor da segunda linha é: 6\n"
          ]
        }
      ]
    },
    {
      "cell_type": "code",
      "source": [
        "matriz = list()\n",
        "soma = maior = 0\n",
        "a = int(input('Digite um valor para a [0, 0]: '))\n",
        "b = int(input('Digite um valor para a [0, 1]: '))\n",
        "c = int(input('Digite um valor para a [0, 2]: '))\n",
        "d = int(input('Digite um valor para a [1, 0]: '))\n",
        "e = int(input('Digite um valor para a [1, 1]: '))\n",
        "f = int(input('Digite um valor para a [1, 2]: '))\n",
        "g = int(input('Digite um valor para a [2, 0]: '))\n",
        "h = int(input('Digite um valor para a [2, 1]: '))\n",
        "i = int(input('Digite um valor para a [2, 2]: '))\n",
        "matriz.append(a)\n",
        "matriz.append(b)\n",
        "matriz.append(c)\n",
        "matriz.append(d)\n",
        "matriz.append(e)\n",
        "matriz.append(f)\n",
        "matriz.append(g)\n",
        "matriz.append(h)\n",
        "matriz.append(i)\n",
        "print(f'{[a]} {[b]} {[c]}')\n",
        "print(f'{[d]} {[e]} {[f]}')\n",
        "print(f'{[g]} {[h]} {[i]}')\n",
        "for n in matriz:\n",
        "  if n % 2 ==0:\n",
        "    soma += n\n",
        "print(f'A soma dos valores pares é: {soma}')\n",
        "print(f'A soma da terceira coluna é: {c+f+i}')\n",
        "if d > e:\n",
        "  if d > f:\n",
        "    maior = d\n",
        "  else:\n",
        "    maior = f\n",
        "elif e > f:\n",
        "  maior = e\n",
        "else: \n",
        "  maior = f\n",
        "print(f'O maior valor da segunda linha é: {maior}')"
      ],
      "metadata": {
        "colab": {
          "base_uri": "https://localhost:8080/"
        },
        "id": "Me6AGYDbqTlx",
        "outputId": "f19d2929-6644-4e79-e059-47754e307823"
      },
      "execution_count": null,
      "outputs": [
        {
          "output_type": "stream",
          "name": "stdout",
          "text": [
            "Digite um valor para a [0, 0]: 7\n",
            "Digite um valor para a [0, 1]: 3\n",
            "Digite um valor para a [0, 2]: 2\n",
            "Digite um valor para a [1, 0]: 6\n",
            "Digite um valor para a [1, 1]: 4\n",
            "Digite um valor para a [1, 2]: 9\n",
            "Digite um valor para a [2, 0]: 1\n",
            "Digite um valor para a [2, 1]: 5\n",
            "Digite um valor para a [2, 2]: 3\n",
            "[7] [3] [2]\n",
            "[6] [4] [9]\n",
            "[1] [5] [3]\n",
            "A soma dos valores pares é: 12\n",
            "A soma da terceira coluna é: 14\n",
            "O maior valor da segunda linha é: 9\n"
          ]
        }
      ]
    },
    {
      "cell_type": "markdown",
      "source": [
        "Exercício Python 088: Faça um programa que ajude um jogador da MEGA SENA a criar palpites.O programa vai perguntar quantos jogos serão gerados e vai sortear 6 números entre 1 e 60 para cada jogo, cadastrando tudo em uma lista composta."
      ],
      "metadata": {
        "id": "V841JALAyCIm"
      }
    },
    {
      "cell_type": "code",
      "source": [
        "from time import sleep\n",
        "from random import randint\n",
        "palpites = list()\n",
        "jogos = []\n",
        "tot = 0\n",
        "print('=' *30)\n",
        "print('     PALPILTE DA MEGA-SENA    ')\n",
        "print('='*30)\n",
        "quantidade = int(input('Quantos jogos deseja fazer: '))\n",
        "print('='* 5, f' SORTEANDO {quantidade} JOGOS','='*5 )\n",
        "while tot < quantidade:\n",
        "  cont = 0\n",
        "  while True:\n",
        "    num = randint(1, 60)\n",
        "    if num not in palpites:\n",
        "      palpites.append(num)\n",
        "      cont+= 1\n",
        "    if cont >= 6:\n",
        "      break\n",
        "  palpites.sort()\n",
        "  jogos.append(palpites[:])\n",
        "  palpites.clear()\n",
        "  tot += 1\n",
        "for i, l in enumerate(jogos):\n",
        "  print(f'Jogo {i+1}º: {l} ')\n",
        "  sleep(1)"
      ],
      "metadata": {
        "colab": {
          "base_uri": "https://localhost:8080/"
        },
        "id": "fL2rDCeZyDxa",
        "outputId": "b4e333f9-b44f-4fd2-ea93-e4b9203d6abc"
      },
      "execution_count": null,
      "outputs": [
        {
          "output_type": "stream",
          "name": "stdout",
          "text": [
            "==============================\n",
            "     PALPILTE DA MEGA-SENA    \n",
            "==============================\n",
            "Quantos jogos deseja fazer: 3\n",
            "=====  SORTEANDO 3 JOGOS =====\n",
            "Jogo 1º: [1, 9, 12, 14, 20, 52] \n",
            "Jogo 2º: [5, 7, 21, 27, 35, 51] \n",
            "Jogo 3º: [5, 21, 22, 48, 51, 57] \n"
          ]
        }
      ]
    },
    {
      "cell_type": "markdown",
      "source": [
        "Exercício Python 089: Crie um programa que leia nome e duas notas de vários alunos e guarde tudo em uma lista composta. No final, mostre um boletim contendo a média de cada um e permita que o usuário possa mostrar as notas de cada aluno individualmente."
      ],
      "metadata": {
        "id": "HZ8W7NhZMery"
      }
    },
    {
      "cell_type": "code",
      "source": [
        "boletim= []\n",
        "while True:\n",
        "  nome = str(input('Nome: ')).strip().capitalize()\n",
        "  nota1 = float(input('Nota1: '))\n",
        "  nota2 = float(input('Nota2: '))\n",
        "  media = (nota1 + nota2) / 2\n",
        "  boletim.append([nome, [nota1, nota2], media])\n",
        "  resp = ' '\n",
        "  if resp not in 'SN':\n",
        "    resp = str(input('Deseja continuar [S/N]: ')).strip().upper()[0]\n",
        "  if resp == 'N':\n",
        "    break\n",
        "print('='*30)\n",
        "print(f'{\"N°\":<4}{\"Nome\":<10}{\"Média\":>8}')\n",
        "print('='*30)\n",
        "for i, aluno in enumerate(boletim):\n",
        "  print(f'{i:<4}{aluno[0]:<10}{aluno[2]:>8.1f}')\n",
        "while True:\n",
        "  print('='*30)\n",
        "  opc = int(input('Deseja mostrar as notas de qual aluno[999 P/ SAIR]: '))\n",
        "  if opc == 999:\n",
        "    print('FINALIZANDO...')\n",
        "    break\n",
        "  if opc <= len(boletim) - 1:\n",
        "    print(f'O aluno {boletim[opc][0]} tirou as notas {boletim[opc][1]}')"
      ],
      "metadata": {
        "colab": {
          "base_uri": "https://localhost:8080/"
        },
        "id": "Tu36G1gMMhOQ",
        "outputId": "44026ed1-372d-41ae-c15c-f0b71ba102bc"
      },
      "execution_count": null,
      "outputs": [
        {
          "output_type": "stream",
          "name": "stdout",
          "text": [
            "Nome: matheus\n",
            "Nota1: 9\n",
            "Nota2: 10\n",
            "Deseja continuar [S/N]: s\n",
            "Nome: natacha\n",
            "Nota1: 10\n",
            "Nota2: 10\n",
            "Deseja continuar [S/N]: s\n",
            "Nome: joão\n",
            "Nota1: 6\n",
            "Nota2: 9\n",
            "Deseja continuar [S/N]: n\n",
            "==============================\n",
            "N°  Nome         Média\n",
            "==============================\n",
            "0   Matheus        9.5\n",
            "1   Natacha       10.0\n",
            "2   João           7.5\n",
            "==============================\n",
            "Deseja mostrar as notas de qual aluno[999 P/ SAIR]: 0\n",
            "O aluno Matheus tirou as notas [9.0, 10.0]\n",
            "==============================\n",
            "Deseja mostrar as notas de qual aluno[999 P/ SAIR]: 1\n",
            "O aluno Natacha tirou as notas [10.0, 10.0]\n",
            "==============================\n",
            "Deseja mostrar as notas de qual aluno[999 P/ SAIR]: 999\n",
            "FINALIZANDO\n"
          ]
        }
      ]
    }
  ]
}