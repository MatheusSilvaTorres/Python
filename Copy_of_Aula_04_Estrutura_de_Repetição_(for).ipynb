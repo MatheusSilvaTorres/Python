{
  "nbformat": 4,
  "nbformat_minor": 0,
  "metadata": {
    "colab": {
      "name": "Copy of Aula 04 - Estrutura de Repetição (for)",
      "provenance": [],
      "collapsed_sections": [],
      "include_colab_link": true
    },
    "kernelspec": {
      "name": "python3",
      "display_name": "Python 3"
    }
  },
  "cells": [
    {
      "cell_type": "markdown",
      "metadata": {
        "id": "view-in-github",
        "colab_type": "text"
      },
      "source": [
        "<a href=\"https://colab.research.google.com/github/MatheusSilvaTorres/Python/blob/main/Copy_of_Aula_04_Estrutura_de_Repeti%C3%A7%C3%A3o_(for).ipynb\" target=\"_parent\"><img src=\"https://colab.research.google.com/assets/colab-badge.svg\" alt=\"Open In Colab\"/></a>"
      ]
    },
    {
      "cell_type": "markdown",
      "metadata": {
        "id": "IWT9kBSMTj2O"
      },
      "source": [
        "#Aula 4 - Estruturas de Repetição (for)\n",
        "## Linguagem de Programação (Prof. Dr. Henrique Dezani)\n",
        "Curso de Tecnologia em Análise e Desenvolvimento de Sistemas da Faculdade de Tecnologia de São José do Rio Preto"
      ]
    },
    {
      "cell_type": "markdown",
      "metadata": {
        "id": "Bu_cUAtKULLJ"
      },
      "source": [
        "## 4.1. Estrutura de repetição for"
      ]
    },
    {
      "cell_type": "markdown",
      "metadata": {
        "id": "nfLIiUsjJ-4K"
      },
      "source": [
        "Python faz uso frequente de iteradores, por um bom motivo. Eles possibilitam percorrer estruturas de dados sem saber quão grandes elas são ou como são implementadas. Você pode até iterar sobre os dados criados em tempo real, permitindo o processamento de fluxos de dados que, de outra forma, não caberiam na memória do computador de uma só vez."
      ]
    },
    {
      "cell_type": "markdown",
      "metadata": {
        "id": "zzhp2DEyKTDI"
      },
      "source": [
        "Estruturas de dados de listas são um dos objetos iteráveis do Python, além de strings, tuplas, dicionários, conjuntos e outros elementos. A iteração de tupla ou lista produz um item de cada vez. A iteração de `string` produz um caractere por vez, conforme mostrado aqui:"
      ]
    },
    {
      "cell_type": "code",
      "metadata": {
        "id": "w_JSaeMLanfD",
        "colab": {
          "base_uri": "https://localhost:8080/"
        },
        "outputId": "97cb2f50-637e-4aaa-c112-a99570e98abd"
      },
      "source": [
        "texto = \"Hello World\"\n",
        "\n",
        "for caractere in texto:\n",
        "  print(caractere, end='\\t')"
      ],
      "execution_count": null,
      "outputs": [
        {
          "output_type": "stream",
          "name": "stdout",
          "text": [
            "H\te\tl\tl\to\t \tW\to\tr\tl\td\t"
          ]
        }
      ]
    },
    {
      "cell_type": "code",
      "source": [
        "#exemplos curso em video:\n",
        "for c in range(1, 6):\n",
        "    print('oi')\n",
        "print('Fim')\n",
        "\n",
        "for c in range(6):\n",
        "    print(c)\n",
        "print('Fim')\n",
        "\n",
        "for c in range(6, 0, -1):\n",
        "    print(c)\n",
        "print('Fim')\n",
        "\n",
        "for c in range(0, 6, 2):\n",
        "    print(c)\n",
        "print('Fim')\n",
        "\n",
        "i = int(input('Inicio: '))\n",
        "f = int(input('Fim: '))\n",
        "p = int(input('Passo: '))\n",
        "\n",
        "for c in range(i, f+1, p):\n",
        "    print(c)\n",
        "print('FIM')"
      ],
      "metadata": {
        "id": "iWKt-zxGgXRg"
      },
      "execution_count": null,
      "outputs": []
    },
    {
      "cell_type": "markdown",
      "source": [
        "Programa para contagem regressiva de um novo ano"
      ],
      "metadata": {
        "id": "KxJM5W6FgjIY"
      }
    },
    {
      "cell_type": "code",
      "source": [
        "import time\n",
        "for i in range(10, -1, -1):\n",
        "    print(i)\n",
        "    time.sleep(1)\n",
        "print('FELIZ ANO NOVO!!')"
      ],
      "metadata": {
        "id": "Xxcal-Dpgoi_",
        "colab": {
          "base_uri": "https://localhost:8080/"
        },
        "outputId": "8c8382fa-64c6-45fe-8d59-fd23062c88b5"
      },
      "execution_count": null,
      "outputs": [
        {
          "output_type": "stream",
          "name": "stdout",
          "text": [
            "10\n",
            "9\n",
            "8\n",
            "7\n",
            "6\n",
            "5\n",
            "4\n",
            "3\n",
            "2\n",
            "1\n",
            "0\n",
            "FELIZ ANO NOVO!!\n"
          ]
        }
      ]
    },
    {
      "cell_type": "markdown",
      "metadata": {
        "id": "kdI0acWAaAqx"
      },
      "source": [
        "### 3.1.1. Continue, break e else."
      ]
    },
    {
      "cell_type": "markdown",
      "metadata": {
        "id": "kaH4lFglaEXJ"
      },
      "source": [
        "**Cancelar com `break`**\n",
        "\n",
        "Uma quebra em um *loop* `for` interrompe o *loop*, como ocorre durante um *loop* `while`. \n",
        "\n",
        "**Ignorar com `continue`**\n",
        "\n",
        "A inserção de um `continue` em um *loop* `for` salta para a próxima iteração do *loop*, assim como por um *loop* `while`.\n",
        "\n",
        "**Verificar uso do `break` com `else`**\n",
        "\n",
        "Semelhante a `while`, `for` tem um opcional `else` que verifica se o `for` foi concluído normalmente. Se `break` não foi chamado, a instrução `else` é executada."
      ]
    },
    {
      "cell_type": "code",
      "metadata": {
        "id": "Mnptyr-_acCp",
        "colab": {
          "base_uri": "https://localhost:8080/",
          "height": 34
        },
        "outputId": "607c8b3e-2443-4864-d278-81795000e396"
      },
      "source": [
        "texto = \"Fatec$RioPreto\"\n",
        "\n",
        "for caractere in texto:\n",
        "  if not caractere.isalnum():\n",
        "    print('Caracter especial encontrado: {}'.format(caractere))\n",
        "    break\n",
        "else:\n",
        "  print('Não há caractere especial no texto')\n"
      ],
      "execution_count": null,
      "outputs": [
        {
          "output_type": "stream",
          "text": [
            "Caracter especial encontrado: $\n"
          ],
          "name": "stdout"
        }
      ]
    },
    {
      "cell_type": "markdown",
      "metadata": {
        "id": "9Poo1nMzLnhZ"
      },
      "source": [
        "## 4.2. Gerar seqüências numéricas com range()"
      ]
    },
    {
      "cell_type": "markdown",
      "metadata": {
        "id": "R3X8ksIEL3yH"
      },
      "source": [
        "A função `range()` retorna um fluxo de números dentro de um intervalo especificado. sem primeiro ter que criar e armazenar uma grande estrutura de dados, como uma `lista` ou `tupla`. Isso permite criar grandes intervalos sem usar toda a memória do computador e travar o programa.\n",
        "\n",
        "O uso da função `range(valor_inicial, valor_final, etapa)`. Se você omitir o valor_inicial, o intervalo começará em 0. O único valor necessário é valor_final; sendo que o último valor criado será imediatamente antes do valor_inicial. O valor padrão da etapa é 1, mas você pode retroceder com -1."
      ]
    },
    {
      "cell_type": "code",
      "metadata": {
        "id": "dG-IfHGpOjDI",
        "colab": {
          "base_uri": "https://localhost:8080/",
          "height": 102
        },
        "outputId": "6fae4352-82f8-4000-b235-bcb0c3a9b746"
      },
      "source": [
        "# usando a estrutura de repetição while:\n",
        "\n",
        "contador = 0\n",
        "while contador < 5:  \n",
        "  print(contador)\n",
        "  contador += 1"
      ],
      "execution_count": null,
      "outputs": [
        {
          "output_type": "stream",
          "text": [
            "0\n",
            "1\n",
            "2\n",
            "3\n",
            "4\n"
          ],
          "name": "stdout"
        }
      ]
    },
    {
      "cell_type": "code",
      "metadata": {
        "id": "QVjM4q4xMo8Q",
        "colab": {
          "base_uri": "https://localhost:8080/",
          "height": 102
        },
        "outputId": "d07e933c-9d24-47c3-9368-180c508bf809"
      },
      "source": [
        "# usando a estrutura de repetição for e a função built-in range:\n",
        "\n",
        "for i in range(5): # ou range(0, 5)\n",
        "  print(i)"
      ],
      "execution_count": null,
      "outputs": [
        {
          "output_type": "stream",
          "text": [
            "0\n",
            "1\n",
            "2\n",
            "3\n",
            "4\n"
          ],
          "name": "stdout"
        }
      ]
    },
    {
      "cell_type": "code",
      "metadata": {
        "id": "QXbFadBqMpyx"
      },
      "source": [
        "# usando a estrutura de repetição for e a função built-in range:\n",
        "\n",
        "for i in range(5, 0, -1):\n",
        "  print(i)"
      ],
      "execution_count": null,
      "outputs": []
    },
    {
      "cell_type": "code",
      "metadata": {
        "id": "Em9LJ2PdPR9Z",
        "colab": {
          "base_uri": "https://localhost:8080/",
          "height": 68
        },
        "outputId": "7d8fe0c6-2d4c-4ba4-8ce9-e3ff981ddda8"
      },
      "source": [
        "rows = range(1,4)\n",
        "cols = range(1,3)\n",
        "\n",
        "for row in rows:\n",
        "  for col in cols:\n",
        "    print(row, col, end='  ')\n",
        "  print()"
      ],
      "execution_count": null,
      "outputs": [
        {
          "output_type": "stream",
          "text": [
            "1 1  1 2  \n",
            "2 1  2 2  \n",
            "3 1  3 2  \n"
          ],
          "name": "stdout"
        }
      ]
    },
    {
      "cell_type": "markdown",
      "metadata": {
        "id": "Yjxy7pNEQjLE"
      },
      "source": [
        "## 4.3. Função `enumerate()`\n",
        "\n",
        "Muitas vezes precisamos enumerar os elementos, ou seja, além do elemento, queremos o seu índice. Com o comando `for` e a função interna `enumerate()` , isso torna-se simples. Veja o exemplo abaixo:"
      ]
    },
    {
      "cell_type": "code",
      "metadata": {
        "id": "F_9H0FWbcDI1",
        "colab": {
          "base_uri": "https://localhost:8080/"
        },
        "outputId": "00938a35-85f5-4805-b355-674e4d978550"
      },
      "source": [
        "texto = \"Hello World\"\n",
        "for i, c in enumerate(texto):\n",
        "  print(i, c)"
      ],
      "execution_count": null,
      "outputs": [
        {
          "output_type": "stream",
          "name": "stdout",
          "text": [
            "0 H\n",
            "1 e\n",
            "2 l\n",
            "3 l\n",
            "4 o\n",
            "5  \n",
            "6 W\n",
            "7 o\n",
            "8 r\n",
            "9 l\n",
            "10 d\n"
          ]
        }
      ]
    },
    {
      "cell_type": "markdown",
      "metadata": {
        "id": "fVzxciCZea46"
      },
      "source": [
        "##4.4. Exercícios"
      ]
    },
    {
      "cell_type": "markdown",
      "metadata": {
        "id": "kUmjNk3juivF"
      },
      "source": [
        "### 4.4.1. Exercício 1: Crie um programa que escreva na tela todos os números pares no intervalo de 1 a 50."
      ]
    },
    {
      "cell_type": "code",
      "metadata": {
        "id": "nxta8V2CzTyP"
      },
      "source": [
        "for i in range(0, 51, 2):\n",
        "  print(i)"
      ],
      "execution_count": null,
      "outputs": []
    },
    {
      "cell_type": "code",
      "metadata": {
        "id": "il1JnjGautmj"
      },
      "source": [
        "# curso em video\n",
        "# for i in range(2, 51, 2): \n",
        "#   print(i)\n",
        "\n",
        "for i in range(1, 51):\n",
        "  if i % 2 == 0:\n",
        "    print(i)"
      ],
      "execution_count": null,
      "outputs": []
    },
    {
      "cell_type": "markdown",
      "metadata": {
        "id": "vosNGm5BfaQD"
      },
      "source": [
        "### 4.4.2. Exercício 2: Considerando as formatações abaixo para exibir um valor binário e um valor em hexadecimal, crie um programa que receba um número inteiro e mostre de 0 até este número sua representação decimal, binária e hexadecimal.\n",
        "\n",
        "\"{0:b}\" binário\n",
        "\n",
        "\"{0:x}\" hexadecimal\n",
        "\n",
        "Input: 11\n",
        "Output:\n",
        "\n",
        "0\t\t\t0\t0\n",
        "\n",
        "1\t\t\t1\t1\n",
        "\n",
        "2\t\t\t10\t2\n",
        "\n",
        "3\t\t\t11\t3\n",
        "\n",
        "4\t\t\t100\t4\n",
        "\n",
        "5\t\t\t101\t5\n",
        "\n",
        "6\t\t\t110\t6\n",
        "\n",
        "7\t\t\t111\t7\n",
        "\n",
        "8\t\t\t1000\t8\n",
        "\n",
        "9\t\t\t1001\t9\n",
        "\n",
        "10\t\t\t1010\tA\n"
      ]
    },
    {
      "cell_type": "code",
      "metadata": {
        "id": "mBlftAkSzNlH",
        "colab": {
          "base_uri": "https://localhost:8080/"
        },
        "outputId": "1a9701b9-6ccc-42dd-9955-fc0e2f85ffe4"
      },
      "source": [
        "numero = int(input(\"Digite um número: \"))\n",
        "\n",
        "for i in range(numero):\n",
        "  print(\"{0} \\t {0:b} \\t {0:x}\".format(i))"
      ],
      "execution_count": null,
      "outputs": [
        {
          "output_type": "stream",
          "name": "stdout",
          "text": [
            "Digite um número: 11\n",
            "0 \t 0 \t 0\n",
            "1 \t 1 \t 1\n",
            "2 \t 2 \t 10\n",
            "3 \t 3 \t 11\n",
            "4 \t 4 \t 100\n",
            "5 \t 5 \t 101\n",
            "6 \t 6 \t 110\n",
            "7 \t 7 \t 111\n",
            "8 \t 8 \t 1000\n",
            "9 \t 9 \t 1001\n",
            "10 \t a \t 1010\n"
          ]
        }
      ]
    },
    {
      "cell_type": "markdown",
      "metadata": {
        "id": "-Y5iXSoIwVz6"
      },
      "source": [
        "### 4.4.3. Exercício 3: Faça um programa que leia um número inteiro e mostre na tela se é ou não um número primo."
      ]
    },
    {
      "cell_type": "code",
      "metadata": {
        "colab": {
          "base_uri": "https://localhost:8080/"
        },
        "id": "h3Jinu2WWFmn",
        "outputId": "7af1119c-b720-4e21-e446-7b8e1e45ecd3"
      },
      "source": [
        "soma = 0\n",
        "n = int(input('Digite um número: '))\n",
        "for i in range(1, n+1):\n",
        "    if n % i == 0:\n",
        "        print('\\033[34m', end=' ')\n",
        "        soma = soma + 1\n",
        "    else:\n",
        "        print('\\033[31m', end=' ')\n",
        "    print('{}'.format(i), end=' ')\n",
        "if soma == 2:\n",
        "    print('\\033[m O número {} é um número primo'.format(n))\n",
        "else:\n",
        "    print('\\033[m O número {} não é um número primo'.format(n))"
      ],
      "execution_count": null,
      "outputs": [
        {
          "output_type": "stream",
          "name": "stdout",
          "text": [
            "Digite um número: 3\n",
            "\u001b[34m 1 \u001b[31m 2 \u001b[34m 3 \u001b[m O número 3 é um número primo\n"
          ]
        }
      ]
    },
    {
      "cell_type": "code",
      "metadata": {
        "id": "5qgtxSYswf4Z"
      },
      "source": [
        "numero = int(input('Digite um número: '))\n",
        "\n",
        "total = 0\n",
        "\n",
        "for i in range(1, numero+1):\n",
        "  if numero % i == 0:\n",
        "    total += 1\n",
        "\n",
        "if total == 2:\n",
        "  print('número primo')\n",
        "else:\n",
        "  print('não é um número primo')"
      ],
      "execution_count": null,
      "outputs": []
    },
    {
      "cell_type": "markdown",
      "metadata": {
        "id": "_Q6VwWG3kJBe"
      },
      "source": [
        "### 4.4.4. Exercício 4: Faça um programa que mostre a tabuada de um número informado. "
      ]
    },
    {
      "cell_type": "code",
      "metadata": {
        "id": "-G58vKM_w4QD"
      },
      "source": [
        "numero = int(input(\"Digite um número: \"))\n",
        "\n",
        "for i in range(11):\n",
        "  resultado = numero * i \n",
        "  print(numero, \"X\", i, \"=\", resultado)"
      ],
      "execution_count": null,
      "outputs": []
    },
    {
      "cell_type": "code",
      "source": [
        "n = int(input('Digite um número para ver sua tabuada: '))\n",
        "print('=' * 20)\n",
        "for i in range(1, 11):\n",
        "    print('{} x {} = {}'.format(n, i, n*i))\n",
        "print('=' * 20)"
      ],
      "metadata": {
        "id": "_7iPy9unhlO5"
      },
      "execution_count": null,
      "outputs": []
    },
    {
      "cell_type": "markdown",
      "metadata": {
        "id": "V39J6eclA5le"
      },
      "source": [
        "### 4.4.5. Exercício 5: Crie um programa que leia a idade e o gênero de 5 pessoas. No final, o programa deverá mostrar:\n",
        "\n",
        "1.   Quantas pessoas de mais de 20 anos.\n",
        "2.   Quantas mulheres foram cadastradas.\n",
        "3.   Quantos homens com menos de 19 anos foram cadastrados."
      ]
    },
    {
      "cell_type": "code",
      "metadata": {
        "id": "1YRydQpLxAX0"
      },
      "source": [
        "maior_20 = 0\n",
        "mulheres = 0\n",
        "homens_menor_19 = 0\n",
        "\n",
        "for i in range(5):\n",
        "  idade = int(input('Digite a idade: '))\n",
        "  genero = input('Digite o gênero (M/F): ')\n",
        "\n",
        "  if idade > 20:\n",
        "    maior_20 += 1\n",
        "  if genero == 'F':\n",
        "    mulheres += 1\n",
        "  if genero == 'M' and idade < 19:\n",
        "    homens_menor_19 += 1\n",
        "\n",
        "print(maior_20, mulheres, homens_menor_19)"
      ],
      "execution_count": null,
      "outputs": []
    },
    {
      "cell_type": "markdown",
      "metadata": {
        "id": "lK34zdC6fLJE"
      },
      "source": [
        "### 4.4.6. Exercício 6: Você recebe uma string e sua tarefa é trocar casos. Em outras palavras, converta todas as letras minúsculas em maiúsculas e vice-versa.\n",
        "\n",
        "Input: Fatec Rio Preto\n",
        "\n",
        "Output: fATEC rIO pRETO"
      ]
    },
    {
      "cell_type": "code",
      "metadata": {
        "id": "Qr97uoAagG_f"
      },
      "source": [
        "texto = input(\"Digite um texto: \")\n",
        "texto_aux = \"\"\n",
        "\n",
        "for c in texto:\n",
        "  \n",
        "  if c.islower():\n",
        "    texto_aux = texto_aux + c.upper()\n",
        "  else:\n",
        "    texto_aux = texto_aux + c.lower()\n",
        "    \n",
        "print(texto_aux)"
      ],
      "execution_count": null,
      "outputs": []
    },
    {
      "cell_type": "markdown",
      "metadata": {
        "id": "5xASByOUgIuR"
      },
      "source": [
        "### 4.4.7. Exercício 7: Você recebe uma string e uma largura. Sua tarefa é envolver a string em um parágrafo com esta largura (text wrapper).\n",
        "\n",
        "Input: \"Texto muito longo\", largura: 4\n",
        "\n",
        "OutPut:\n",
        "\n",
        "Text\n",
        "\n",
        "o mu\n",
        "\n",
        "ito \n",
        "\n",
        "long\n",
        "\n",
        "o"
      ]
    },
    {
      "cell_type": "code",
      "metadata": {
        "id": "Veyhur6_gNYr"
      },
      "source": [
        "# Solução 01:\n",
        "texto = input('Digite um texto: ')\n",
        "\n",
        "for i, c in enumerate(texto):\n",
        "  print(c, end='')\n",
        "  if (i+1) % 4 == 0:\n",
        "    print('\\n')"
      ],
      "execution_count": null,
      "outputs": []
    },
    {
      "cell_type": "code",
      "metadata": {
        "id": "ZCfrQALE4FTz"
      },
      "source": [
        "# Solução 02:\n",
        "texto = input('Digite um texto: ')\n",
        "contador = 1\n",
        "for c in texto:\n",
        "  print(c, end='')\n",
        "  if contador % 4 == 0:\n",
        "    print('\\n')\n",
        "  contador += 1"
      ],
      "execution_count": null,
      "outputs": []
    },
    {
      "cell_type": "markdown",
      "metadata": {
        "id": "6uWVM2ZEgODD"
      },
      "source": [
        "### 4.4.8. Exercício 8: Faça um programa que faça a entrada de um texto. Se for um e-mail, retorne \"E-mail válido\", caso contrário, retorno \"E-mail inválido\". Para tanto, verifique se o texto possui o símbolo @ usando a função interna .isalnum()."
      ]
    },
    {
      "cell_type": "code",
      "metadata": {
        "id": "bhFzfmzBg-tw"
      },
      "source": [
        "email = input('Digite seu e-mail: ')\n",
        "\n",
        "for c in email:\n",
        "  if not c.isalnum() and c == '@':\n",
        "    print('E-mail válido')\n",
        "    break\n",
        "else:\n",
        "  print('E-mail inválido')"
      ],
      "execution_count": null,
      "outputs": []
    },
    {
      "cell_type": "markdown",
      "source": [
        "Exercício Python 48: Faça um programa que calcule a soma entre todos os números que são múltiplos de três e que se encontram no intervalo de 1 até 500."
      ],
      "metadata": {
        "id": "UvC1wtw-h2Jf"
      }
    },
    {
      "cell_type": "code",
      "source": [
        "soma = 0\n",
        "for i in range(1, 501):\n",
        "    if i % 3 == 0:\n",
        "        if i % 2 == 1:\n",
        "            soma = i + soma\n",
        "print(soma)\n",
        "\n",
        "\n",
        "soma = 0\n",
        "count = 0\n",
        "for i in range(1, 501, 2):\n",
        "    if i % 3 == 0:\n",
        "        count += 1\n",
        "        soma = i + soma\n",
        "print('A soma de todos os {} valores solicitados é {}'.format(count, soma))"
      ],
      "metadata": {
        "id": "Ge1yfA7bh8sx"
      },
      "execution_count": null,
      "outputs": []
    },
    {
      "cell_type": "markdown",
      "source": [
        "Exercício Python 51: Desenvolva um programa que leia o primeiro termo e a razão de uma PA. No final, mostre os 10 primeiros termos dessa progressão."
      ],
      "metadata": {
        "id": "UMvXU635h-u6"
      }
    },
    {
      "cell_type": "code",
      "source": [
        "termo = int(input('Digite o primeiro termo da PA: '))\n",
        "razao = int(input('Digite a razão da PA: '))\n",
        "for i in range(termo, razao*10, razao):\n",
        "    print(i, end='->')\n",
        "print('Acabou!')"
      ],
      "metadata": {
        "id": "ssqlCwqliJyh"
      },
      "execution_count": null,
      "outputs": []
    },
    {
      "cell_type": "markdown",
      "source": [
        "Exercício Python 53: Crie um programa que leia uma frase qualquer e diga se ela é um palíndromo, desconsiderando os espaços. Exemplos de palíndromos:\n",
        "\n",
        "APOS A SOPA, A SACADA DA CASA, A TORRE DA DERROTA, O LOBO AMA O BOLO, ANOTARAM A DATA DA MARATONA."
      ],
      "metadata": {
        "id": "nakdzVqsiPN5"
      }
    },
    {
      "cell_type": "code",
      "source": [
        "frase = str(input('Digite uma frase: ')).strip().upper()\n",
        "palavras = frase.split()\n",
        "junto = ''.join(palavras)\n",
        "inverso = junto[::-1]\n",
        "print('Você digitou a frase: {}'.format(junto))\n",
        "# for letra in range(len(junto) - 1, -1, -1):\n",
        "#     inverso += junto[letra]\n",
        "print('O contrario da frase digitada é: {}'.format(inverso))\n",
        "if inverso == junto:\n",
        "    print('A frase é um palindromo')\n",
        "else:\n",
        "    print('A frase não é um palindromo')\n"
      ],
      "metadata": {
        "id": "iNos7LB_iSUP"
      },
      "execution_count": null,
      "outputs": []
    },
    {
      "cell_type": "markdown",
      "source": [
        "Exercício Python 54: Crie um programa que leia o ano de nascimento de sete pessoas. No final, mostre quantas pessoas ainda não atingiram a maioridade e quantas já são maiores."
      ],
      "metadata": {
        "id": "tmm_-WOLimMw"
      }
    },
    {
      "cell_type": "code",
      "source": [
        "soma = 0\n",
        "tot = 0\n",
        "from datetime import date\n",
        "anoAtual = date.today().year\n",
        "for i in range(1, 8):\n",
        "    anoNasc = int(input('Digite seu ano de nascimento da {}ª pessoa: '.format(i)))\n",
        "    idade = anoAtual - anoNasc\n",
        "    if idade >= 21:\n",
        "        soma = soma + 1\n",
        "    else:\n",
        "        tot = tot + 1\n",
        "print('A quantidade de pessoas maiores de idade é {}'.format(soma))\n",
        "print('A quantidade de pessoas menores de idade é {}'.format(tot))"
      ],
      "metadata": {
        "id": "Gq-OQtJwioKv"
      },
      "execution_count": null,
      "outputs": []
    },
    {
      "cell_type": "markdown",
      "source": [
        "Exercício Python 55: Faça um programa que leia o peso de cinco pessoas. No final, mostre qual foi o maior e o menor peso lidos."
      ],
      "metadata": {
        "id": "D3GL7NqKi8ZC"
      }
    },
    {
      "cell_type": "code",
      "source": [
        "maior = 0\n",
        "menor = 0\n",
        "for pessoas in range(1, 6):\n",
        "    peso = float(input(('Digite seu peso da {}° pessoa: '.format(pessoas))))\n",
        "    if pessoas == 1:\n",
        "        maior = peso\n",
        "        menor = peso\n",
        "    else:\n",
        "        if peso > maior:\n",
        "            maior = peso\n",
        "        if peso < menor:\n",
        "            menor = peso\n",
        "print('O peso maior é: {} \\n O peso menor é: {}'.format(maior, menor))"
      ],
      "metadata": {
        "id": "KFnM0uEIi-lV"
      },
      "execution_count": null,
      "outputs": []
    },
    {
      "cell_type": "markdown",
      "source": [
        "Exercício Python 56: Desenvolva um programa que leia o nome, idade e sexo de 4 pessoas. No final do programa, mostre: a média de idade do grupo, qual é o nome do homem mais velho e quantas mulheres têm menos de 20 anos."
      ],
      "metadata": {
        "id": "gnibgtVcjiaF"
      }
    },
    {
      "cell_type": "code",
      "source": [
        "mediaIdade = 0\n",
        "maisVelho = 0\n",
        "soma = 0\n",
        "menor = 0\n",
        "for i in range(1, 5):\n",
        "    nome = str(input('Digite seu nome ---------- {}° ---------- pessoas: '.format(i))).strip().upper()\n",
        "    idade = int(input(\"Digite sua idade: \"))\n",
        "    sexo = str(input('[M/F]')).upper()\n",
        "    mediaIdade = idade + mediaIdade\n",
        "    if sexo == 'M':\n",
        "        if idade > maisVelho:\n",
        "            maisVelho = idade\n",
        "            nomeMaisVelho = nome\n",
        "    elif sexo == 'F':\n",
        "        if idade > 20:\n",
        "            soma = soma + 1\n",
        "        else:\n",
        "            menor += 1\n",
        "print('A média de idades é: {} \\n'\n",
        "      ' O homem mais velho possuem {} anos e se chama {} '\n",
        "      ' \\n A quantidade de mulheres acima de 20 anos é igual{} \\n'\n",
        "      'A quantidade de mulheres menores de idade é igual{}'.format(mediaIdade/4, maisVelho, nomeMaisVelho, soma, menor)"
      ],
      "metadata": {
        "id": "M80QqwBSjl9o"
      },
      "execution_count": null,
      "outputs": []
    }
  ]
}