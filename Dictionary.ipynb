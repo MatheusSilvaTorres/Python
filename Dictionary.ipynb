{
  "nbformat": 4,
  "nbformat_minor": 0,
  "metadata": {
    "colab": {
      "name": "Copy of Aula 8 - Parte II - Dictionary",
      "provenance": [],
      "collapsed_sections": [],
      "include_colab_link": true
    },
    "kernelspec": {
      "name": "python3",
      "display_name": "Python 3"
    }
  },
  "cells": [
    {
      "cell_type": "markdown",
      "metadata": {
        "id": "view-in-github",
        "colab_type": "text"
      },
      "source": [
        "<a href=\"https://colab.research.google.com/github/MatheusSilvaTorres/Python/blob/main/Dictionary\" target=\"_parent\"><img src=\"https://colab.research.google.com/assets/colab-badge.svg\" alt=\"Open In Colab\"/></a>"
      ]
    },
    {
      "cell_type": "markdown",
      "metadata": {
        "id": "IWT9kBSMTj2O"
      },
      "source": [
        "# Parte II - Estruturas de Dados\n",
        "## Aula 8 - Dictionary\n",
        "### Linguagem de Programação (Prof. Dr. Henrique Dezani)\n",
        "Curso de Tecnologia em Análise e Desenvolvimento de Sistemas da Faculdade de Tecnologia de São José do Rio Preto"
      ]
    },
    {
      "cell_type": "markdown",
      "metadata": {
        "id": "Bu_cUAtKULLJ"
      },
      "source": [
        "## 8.1. Dicionário (Dictionary)\n",
        "Um **dicionário** é semelhante a uma lista, mas a ordem dos itens não importa, e eles não são selecionados por um deslocamento como 0 ou 1. Em vez disso, nós especificamos uma chave única para associar a cada valor. Essa chave geralmente é uma string, mas na verdade pode ser qualquer um dos tipos imutáveis do Python: booleano, inteiro, float, tupla, string entre outros. Os dicionários são **mutáveis**, para que você possa adicionar, excluir e alterar seus elementos de valor-chave."
      ]
    },
    {
      "cell_type": "markdown",
      "metadata": {
        "id": "UBVQB76m-d9h"
      },
      "source": [
        "Em outras linguagens de programação, os dicionários podem ser chamados de arrays associativas, hashes ou hashmaps. No Python, um dicionário também é chamado de **dict** para salvar sílabas.\n",
        "\n",
        "Para criar um dicionário, utilizamos os símbolos {} (chaves). Veja o exemplo:"
      ]
    },
    {
      "cell_type": "code",
      "metadata": {
        "id": "l1X0HXmJ_d2-"
      },
      "source": [
        "dicionario = {}"
      ],
      "execution_count": null,
      "outputs": []
    },
    {
      "cell_type": "code",
      "metadata": {
        "id": "2tn52rUV_vW0",
        "outputId": "e9da8784-2d9c-4d9f-9d29-4f488312948d",
        "colab": {
          "base_uri": "https://localhost:8080/",
          "height": 34
        }
      },
      "source": [
        "print(dicionario)"
      ],
      "execution_count": null,
      "outputs": [
        {
          "output_type": "stream",
          "text": [
            "{}\n"
          ],
          "name": "stdout"
        }
      ]
    },
    {
      "cell_type": "code",
      "metadata": {
        "id": "tCn0MJ_F-7Qv",
        "outputId": "e11a102f-0898-410a-b7d8-23398962f1fd",
        "colab": {
          "base_uri": "https://localhost:8080/",
          "height": 34
        }
      },
      "source": [
        "type(dicionario)"
      ],
      "execution_count": null,
      "outputs": [
        {
          "output_type": "execute_result",
          "data": {
            "text/plain": [
              "dict"
            ]
          },
          "metadata": {
            "tags": []
          },
          "execution_count": 6
        }
      ]
    },
    {
      "cell_type": "code",
      "metadata": {
        "id": "K9Zmeo71_axx"
      },
      "source": [
        "glossario = {\n",
        "    'imutável': 'Um tipo de dado que não pode ser modificado. Atribuições a elementos ou fatias de tipos imutáveis causam um erro de execução.',\n",
        "    'mutável' : 'Um tipo de dado que pode ser modificado.',\n",
        "    'recursão' : 'O processo de chamar a função que já está em execução.'\n",
        "}"
      ],
      "execution_count": null,
      "outputs": []
    },
    {
      "cell_type": "markdown",
      "metadata": {
        "id": "D3m46IWUOJ9d"
      },
      "source": [
        "### 8.1.1. Consultar os dados de um dicionário\n",
        "\n",
        "Como temos uma estrutura de chave-valor para o dicionário, a maneira como obtemos (listamos) os dados difere da lista e tupla. Veja os exemplos abaixo. Ao lista um dicionário, suas chaves são retornadas. Para obter os valores, utilizamos a função `values()` e para obter ambos os items (chave e valor) utilizamos a função `items()`."
      ]
    },
    {
      "cell_type": "code",
      "metadata": {
        "id": "GvD5UMgdL1Go",
        "outputId": "ae27c6a2-cd2c-4f12-8b44-ca8ea237574c",
        "colab": {
          "base_uri": "https://localhost:8080/",
          "height": 68
        }
      },
      "source": [
        "# lista apenas as chaves:\n",
        "for key in glossario:\n",
        "  print(key)"
      ],
      "execution_count": null,
      "outputs": [
        {
          "output_type": "stream",
          "text": [
            "imutável\n",
            "mutável\n",
            "recursão\n"
          ],
          "name": "stdout"
        }
      ]
    },
    {
      "cell_type": "code",
      "metadata": {
        "id": "Hw__qHk0UDUD",
        "outputId": "3594156e-3ecf-42af-ec63-17af5d4cfece",
        "colab": {
          "base_uri": "https://localhost:8080/",
          "height": 68
        }
      },
      "source": [
        "# lista apenas as chaves:\n",
        "for key in glossario.keys():\n",
        "  print(key)"
      ],
      "execution_count": null,
      "outputs": [
        {
          "output_type": "stream",
          "text": [
            "imutável\n",
            "mutável\n",
            "recursão\n"
          ],
          "name": "stdout"
        }
      ]
    },
    {
      "cell_type": "code",
      "metadata": {
        "id": "c8xtOdSINPSf",
        "outputId": "15b599e4-0906-4393-e017-78e5de6a6c13",
        "colab": {
          "base_uri": "https://localhost:8080/",
          "height": 88
        }
      },
      "source": [
        "# lista apenas os valores:\n",
        "for value in glossario.values():\n",
        "  print(value)"
      ],
      "execution_count": null,
      "outputs": [
        {
          "output_type": "stream",
          "text": [
            "Um tipo de dado que não pode ser modificado. Atribuições a elementos ou fatias de tipos imutáveis causam um erro de execução.\n",
            "Um tipo de dado que pode ser modificado.\n",
            "O processo de chamar a função que já está em execução.\n"
          ],
          "name": "stdout"
        }
      ]
    },
    {
      "cell_type": "code",
      "metadata": {
        "id": "wgFQv0CyOBuO",
        "outputId": "f91e6ec7-dded-48d0-fa46-d5b5fb40238b",
        "colab": {
          "base_uri": "https://localhost:8080/",
          "height": 88
        }
      },
      "source": [
        "# lista as chaves e seus respectivos valores:\n",
        "for key, value in glossario.items():\n",
        "  print(key, value, sep='\\t')"
      ],
      "execution_count": null,
      "outputs": [
        {
          "output_type": "stream",
          "text": [
            "imutável\tUm tipo de dado que não pode ser modificado. Atribuições a elementos ou fatias de tipos imutáveis causam um erro de execução.\n",
            "mutável\tUm tipo de dado que pode ser modificado.\n",
            "recursão\tO processo de chamar a função que já está em execução.\n"
          ],
          "name": "stdout"
        }
      ]
    },
    {
      "cell_type": "markdown",
      "metadata": {
        "id": "USQmB9ksPhJg"
      },
      "source": [
        "### 8.1.2. Obter um item por [key]:\n",
        "Este é o usao mais comum do dicionário, onde você especifica uma chage para obter o correspondente valor. Veja o exemplo."
      ]
    },
    {
      "cell_type": "code",
      "metadata": {
        "id": "_UTQUtpMQZsM",
        "outputId": "2ddfb2d9-c2ef-4e33-f201-d619c2e03a73",
        "colab": {
          "base_uri": "https://localhost:8080/",
          "height": 54
        }
      },
      "source": [
        "glossario['imutável']"
      ],
      "execution_count": null,
      "outputs": [
        {
          "output_type": "execute_result",
          "data": {
            "text/plain": [
              "'Um tipo de dado que não pode ser modificado. Atribuições a elementos ou fatias de tipos imutáveis causam um erro de execução.'"
            ]
          },
          "metadata": {
            "tags": []
          },
          "execution_count": 13
        }
      ]
    },
    {
      "cell_type": "markdown",
      "metadata": {
        "id": "sBAbn1w7QiR3"
      },
      "source": [
        "Entretanto, se a chave não estiver disponível no dicionário, você receberá uma exceção:"
      ]
    },
    {
      "cell_type": "code",
      "metadata": {
        "id": "0gdcrRGdQmse"
      },
      "source": [
        "if 'string' in glossario:\n",
        "  glossario['string']"
      ],
      "execution_count": null,
      "outputs": []
    },
    {
      "cell_type": "markdown",
      "metadata": {
        "id": "l--I3FLVQq49"
      },
      "source": [
        "Existem duas boas maneiras de evitar isso. A primeira é testar a chave usando **in**, como vimos em aulas anteriores. Veja o exemplo:"
      ]
    },
    {
      "cell_type": "code",
      "metadata": {
        "id": "icrO8OcjRFhe",
        "outputId": "ffe32d97-dd3b-4be2-c7a1-e7b8b04ca061",
        "colab": {
          "base_uri": "https://localhost:8080/",
          "height": 34
        }
      },
      "source": [
        "'string' in glossario"
      ],
      "execution_count": null,
      "outputs": [
        {
          "output_type": "execute_result",
          "data": {
            "text/plain": [
              "False"
            ]
          },
          "metadata": {
            "tags": []
          },
          "execution_count": 15
        }
      ]
    },
    {
      "cell_type": "code",
      "metadata": {
        "id": "9mI900E2RUzM",
        "outputId": "a82e4f87-cdc4-4189-c7f9-912e53eb6145",
        "colab": {
          "base_uri": "https://localhost:8080/",
          "height": 34
        }
      },
      "source": [
        "'imutável' in glossario"
      ],
      "execution_count": null,
      "outputs": [
        {
          "output_type": "execute_result",
          "data": {
            "text/plain": [
              "True"
            ]
          },
          "metadata": {
            "tags": []
          },
          "execution_count": 16
        }
      ]
    },
    {
      "cell_type": "markdown",
      "metadata": {
        "id": "VorgCnM5RF6n"
      },
      "source": [
        "A segunda é usar a função `get()` do dicionário. Nela, você fornece o dicionário, a chave e um valor opcional. Se a chave existir, você obtém seu valor, se não existir, você obtém o valor opcional."
      ]
    },
    {
      "cell_type": "code",
      "metadata": {
        "id": "UGH75BKdRIBh",
        "outputId": "7be6e800-9959-4f3b-d55f-00bff7359bb9",
        "colab": {
          "base_uri": "https://localhost:8080/",
          "height": 54
        }
      },
      "source": [
        "glossario.get('imutável')"
      ],
      "execution_count": null,
      "outputs": [
        {
          "output_type": "execute_result",
          "data": {
            "text/plain": [
              "'Um tipo de dado que não pode ser modificado. Atribuições a elementos ou fatias de tipos imutáveis causam um erro de execução.'"
            ]
          },
          "metadata": {
            "tags": []
          },
          "execution_count": 18
        }
      ]
    },
    {
      "cell_type": "code",
      "metadata": {
        "id": "TfRTAsqtRnj4"
      },
      "source": [
        "glossario.get('string') # o retorno é None, mas nada aparece na tela."
      ],
      "execution_count": null,
      "outputs": []
    },
    {
      "cell_type": "code",
      "metadata": {
        "id": "gtqHDo03Rqnz",
        "outputId": "7139537e-9c28-4082-89c9-58991d52c0a8",
        "colab": {
          "base_uri": "https://localhost:8080/",
          "height": 34
        }
      },
      "source": [
        "glossario.get('string', 'não está no dicionário')"
      ],
      "execution_count": null,
      "outputs": [
        {
          "output_type": "execute_result",
          "data": {
            "text/plain": [
              "'não está no dicionário'"
            ]
          },
          "metadata": {
            "tags": []
          },
          "execution_count": 20
        }
      ]
    },
    {
      "cell_type": "markdown",
      "metadata": {
        "id": "JeoWZmFHBaL0"
      },
      "source": [
        "### 8.1.3. Adicionar ou alterar um item por [key]\n",
        "Adicionar um item a um dicionário é fácil. Basta consultar o item por sua chave e atribuir um valor. Se a chave já estava presente no dicionário, o valor existente é substituído pelo novo. Se a chave for nova, ela será adicionada ao dicionário com seu valor. Diferentemente das listas, você não precisa se preocupar com o fato de o Python lançar uma exceção durante a atribuição, especificando um índice que está fora do intervalo."
      ]
    },
    {
      "cell_type": "code",
      "metadata": {
        "id": "IwYxgcWmNOS5"
      },
      "source": [
        "produto = {\n",
        "    'nome': 'Caneta Azul',\n",
        "    'marca' : 'Bic',\n",
        "}"
      ],
      "execution_count": null,
      "outputs": []
    },
    {
      "cell_type": "code",
      "metadata": {
        "id": "5kIu-q8ZPJAR"
      },
      "source": [
        "produto['preço'] = 10.20"
      ],
      "execution_count": null,
      "outputs": []
    },
    {
      "cell_type": "code",
      "metadata": {
        "id": "-Gdgo5tzPOGN",
        "outputId": "f2d16f69-92be-4a89-ae9d-9ee960acefd7",
        "colab": {
          "base_uri": "https://localhost:8080/",
          "height": 34
        }
      },
      "source": [
        "produto['preço']"
      ],
      "execution_count": null,
      "outputs": [
        {
          "output_type": "execute_result",
          "data": {
            "text/plain": [
              "10.2"
            ]
          },
          "metadata": {
            "tags": []
          },
          "execution_count": 23
        }
      ]
    },
    {
      "cell_type": "code",
      "metadata": {
        "id": "BQJOaMDOiE-q",
        "outputId": "4178c97b-a44c-45ea-9b5c-0c429050781b",
        "colab": {
          "base_uri": "https://localhost:8080/",
          "height": 34
        }
      },
      "source": [
        "produto"
      ],
      "execution_count": null,
      "outputs": [
        {
          "output_type": "execute_result",
          "data": {
            "text/plain": [
              "{'marca': 'Bic', 'nome': 'Caneta Azul', 'preço': 10.2}"
            ]
          },
          "metadata": {
            "tags": []
          },
          "execution_count": 24
        }
      ]
    },
    {
      "cell_type": "code",
      "metadata": {
        "id": "vuWppfsFPOJz"
      },
      "source": [
        "produto['preço'] = 11.32 # Ao usar a mesma chave('preço'), nós alteramos o valor anterior."
      ],
      "execution_count": null,
      "outputs": []
    },
    {
      "cell_type": "code",
      "metadata": {
        "id": "y525fnYlPOM_",
        "outputId": "e9e47803-4aba-4b8c-9601-fa6e31deed6a",
        "colab": {
          "base_uri": "https://localhost:8080/",
          "height": 34
        }
      },
      "source": [
        "produto['preço']"
      ],
      "execution_count": null,
      "outputs": [
        {
          "output_type": "execute_result",
          "data": {
            "text/plain": [
              "11.32"
            ]
          },
          "metadata": {
            "tags": []
          },
          "execution_count": 26
        }
      ]
    },
    {
      "cell_type": "code",
      "metadata": {
        "id": "Ti8CTQ0cYWPK",
        "outputId": "cc016548-5eb6-448c-ee53-2e3f6ab56df0",
        "colab": {
          "base_uri": "https://localhost:8080/",
          "height": 34
        }
      },
      "source": [
        "print(produto)"
      ],
      "execution_count": null,
      "outputs": [
        {
          "output_type": "stream",
          "text": [
            "{'nome': 'Caneta Azul', 'marca': 'Bic', 'preço': 11.32}\n"
          ],
          "name": "stdout"
        }
      ]
    },
    {
      "cell_type": "markdown",
      "metadata": {
        "id": "A3ybhzVJYA4A"
      },
      "source": [
        "### 8.1.4. Remover um item por chave usando `del`\n"
      ]
    },
    {
      "cell_type": "code",
      "metadata": {
        "id": "0R0nDqMoPOQY"
      },
      "source": [
        "del produto['preço']"
      ],
      "execution_count": null,
      "outputs": []
    },
    {
      "cell_type": "code",
      "metadata": {
        "id": "pErMsMedPOTy",
        "outputId": "4ca97d7c-f485-45a2-a46c-591a6b0f979a",
        "colab": {
          "base_uri": "https://localhost:8080/",
          "height": 34
        }
      },
      "source": [
        "print(produto)"
      ],
      "execution_count": null,
      "outputs": [
        {
          "output_type": "stream",
          "text": [
            "{'nome': 'Caneta Azul', 'marca': 'Bic'}\n"
          ],
          "name": "stdout"
        }
      ]
    },
    {
      "cell_type": "markdown",
      "metadata": {
        "id": "TkQYxxIgYZ7-"
      },
      "source": [
        "### 8.1.5. Apagar todos os dados usando clear()\n",
        "\n",
        "Para excluir todas as chaves e valores de um dicionário, use `clear()` ou apenas atribua um dicionário vazio ({})."
      ]
    },
    {
      "cell_type": "code",
      "metadata": {
        "id": "QYW0i3AzYmO1"
      },
      "source": [
        "produto.clear()"
      ],
      "execution_count": null,
      "outputs": []
    },
    {
      "cell_type": "code",
      "metadata": {
        "id": "bFjMg9IIYv16",
        "outputId": "5d277ff0-b559-4673-ce11-884c7a07be8c",
        "colab": {
          "base_uri": "https://localhost:8080/",
          "height": 34
        }
      },
      "source": [
        "print(produto)"
      ],
      "execution_count": null,
      "outputs": [
        {
          "output_type": "stream",
          "text": [
            "{}\n"
          ],
          "name": "stdout"
        }
      ]
    },
    {
      "cell_type": "markdown",
      "metadata": {
        "id": "cHgni6xzZC29"
      },
      "source": [
        "### 8.1.6. Combinar Dicionários com a função `update()`\n",
        "Você pode usar a função `update()` para copiar as chaves e os valores de um dicionário para outro."
      ]
    },
    {
      "cell_type": "code",
      "metadata": {
        "id": "V20evDkLZODF",
        "outputId": "f21e3202-ce78-4b33-a902-e6079e86e602",
        "colab": {
          "base_uri": "https://localhost:8080/",
          "height": 34
        }
      },
      "source": [
        "alunos = {\n",
        "    'Pereira': 'João',\n",
        "    'Xavier' : 'Maria',\n",
        "}\n",
        "  \n",
        "print(alunos)"
      ],
      "execution_count": null,
      "outputs": [
        {
          "output_type": "stream",
          "text": [
            "{'Pereira': 'João', 'Xavier': 'Maria'}\n"
          ],
          "name": "stdout"
        }
      ]
    },
    {
      "cell_type": "code",
      "metadata": {
        "id": "XfEuimCWZbvP",
        "outputId": "1fe37221-a79f-4531-b5d2-c651d6dc85f5",
        "colab": {
          "base_uri": "https://localhost:8080/",
          "height": 34
        }
      },
      "source": [
        "novos_alunos = {\n",
        "    'Silva': 'Pedro',\n",
        "    'Flores' : 'Rafael',\n",
        "}\n",
        "\n",
        "print(novos_alunos)"
      ],
      "execution_count": null,
      "outputs": [
        {
          "output_type": "stream",
          "text": [
            "{'Silva': 'Pedro', 'Flores': 'Rafael'}\n"
          ],
          "name": "stdout"
        }
      ]
    },
    {
      "cell_type": "code",
      "metadata": {
        "id": "m5HuYZQOZkSe",
        "outputId": "c3e28d2b-1ce0-4a6d-829a-732338661c92",
        "colab": {
          "base_uri": "https://localhost:8080/",
          "height": 34
        }
      },
      "source": [
        "alunos.update(novos_alunos)\n",
        "\n",
        "print(alunos)"
      ],
      "execution_count": null,
      "outputs": [
        {
          "output_type": "stream",
          "text": [
            "{'Pereira': 'João', 'Xavier': 'Maria', 'Silva': 'Pedro', 'Flores': 'Rafael'}\n"
          ],
          "name": "stdout"
        }
      ]
    },
    {
      "cell_type": "code",
      "metadata": {
        "id": "a1Cxe5s0ea15",
        "outputId": "0980e37d-87a7-4bb2-9f0b-bfd59c2f509a",
        "colab": {
          "base_uri": "https://localhost:8080/",
          "height": 34
        }
      },
      "source": [
        "novos_alunos = {\n",
        "    'Silva': 'Matheus',\n",
        "    'Benedito': 'Sérgio'\n",
        "}\n",
        "\n",
        "print(novos_alunos)"
      ],
      "execution_count": null,
      "outputs": [
        {
          "output_type": "stream",
          "text": [
            "{'Silva': 'Matheus', 'Benedito': 'Sérgio'}\n"
          ],
          "name": "stdout"
        }
      ]
    },
    {
      "cell_type": "code",
      "metadata": {
        "id": "xqnJ0tl3enQx",
        "outputId": "14980885-6ff4-48cf-91c7-e3ec299689b7",
        "colab": {
          "base_uri": "https://localhost:8080/",
          "height": 54
        }
      },
      "source": [
        "alunos.update(novos_alunos)\n",
        "\n",
        "print(alunos)"
      ],
      "execution_count": null,
      "outputs": [
        {
          "output_type": "stream",
          "text": [
            "{'Pereira': 'João', 'Xavier': 'Maria', 'Silva': 'Matheus', 'Flores': 'Rafael', 'Benedito': 'Sérgio'}\n"
          ],
          "name": "stdout"
        }
      ]
    },
    {
      "cell_type": "markdown",
      "metadata": {
        "id": "b7GjLfFEkBnx"
      },
      "source": [
        "##8.2. Exercícios"
      ]
    },
    {
      "cell_type": "markdown",
      "metadata": {
        "id": "0gKLrwTtf7eA"
      },
      "source": [
        "### 8.2.1. Crie um programa que leia nome, gênero e idade e armazene estas informações num dicionário. O usuário poderá adicionar quantas pessoas desejar e cada dicionário criado deverá ser adicionado numa lista. Em seguida, mostre:\n",
        "- Quantas pessoas foram cadastradas\n",
        "- A média da idade das pessoas cadastradas\n",
        "- Uma lista com todas as mulheres\n",
        "- Uma lista com todas as pessoas com idade acima da média\n",
        "- Uma lista com todos os homens menores de 18 anos."
      ]
    },
    {
      "cell_type": "code",
      "metadata": {
        "id": "QBrU2mh5yOcV",
        "outputId": "c98ab6e8-4b1c-40fb-aa01-5b0486c0ea07",
        "colab": {
          "base_uri": "https://localhost:8080/",
          "height": 306
        }
      },
      "source": [
        "lista = []\n",
        "  \n",
        "while True:\n",
        "  pessoa = {}\n",
        "  pessoa['nome'] = input('Digite o nome: ')\n",
        "  pessoa['idade'] = int(input('Digite a idade: '))\n",
        "  pessoa['genero'] = input('Digite o gênero (M/F): ')\n",
        "  lista.append(pessoa)\n",
        "  \n",
        "  resposta = input('Deseja adicionar outra pessoa (S/N): ')\n",
        "  if resposta.lower() == 'n':\n",
        "    break\n",
        "    \n",
        "print('Pessoas cadastradas {}'.format(len(lista)))\n",
        "\n",
        "soma_idade = 0\n",
        "for pessoa in lista:\n",
        "  soma_idade += pessoa['idade']\n",
        "  \n",
        "print('Média de idade das pessoas: {}'.format(soma_idade/len(lista)))\n",
        "\n",
        "# print(sum(pessoa['idade'] for pessoa in lista)/len(lista))\n",
        "\n",
        "mulheres = []\n",
        "for pessoa in lista:\n",
        "  if pessoa['genero'].lower() == 'f':\n",
        "    mulheres.append(pessoa)\n",
        "    \n",
        "print(mulheres)    \n",
        "\n",
        "\n",
        "acima_media = []\n",
        "\n",
        "for pessoa in lista:\n",
        "  if pessoa['idade'] > soma_idade/len(lista):\n",
        "    acima_media.append(pessoa)\n",
        "    \n",
        "print(acima_media)\n",
        "\n",
        "homens_menores = []\n",
        "\n",
        "for pessoa in lista:\n",
        "  if pessoa['idade'] < 18 and pessoa['genero'].lower() == 'm':\n",
        "    homens_menores.append(pessoa)\n",
        "    \n",
        "print(homens_menores)"
      ],
      "execution_count": null,
      "outputs": [
        {
          "output_type": "stream",
          "text": [
            "Digite o nome: Henrique\n",
            "Digite a idade: 38\n",
            "Digite o gênero (M/F): m\n",
            "Deseja adicionar outra pessoa (S/N): Maria\n",
            "Digite o nome: Maria\n",
            "Digite a idade: 20\n",
            "Digite o gênero (M/F): F\n",
            "Deseja adicionar outra pessoa (S/N): s\n",
            "Digite o nome: Pedro\n",
            "Digite a idade: 12\n",
            "Digite o gênero (M/F): M\n",
            "Deseja adicionar outra pessoa (S/N): n\n",
            "Pessoas cadastradas 3\n",
            "Média de idade das pessoas: 23.333333333333332\n",
            "[{'nome': 'Maria', 'idade': 20, 'genero': 'F'}]\n",
            "[{'nome': 'Henrique', 'idade': 38, 'genero': 'm'}]\n",
            "[{'nome': 'Pedro', 'idade': 12, 'genero': 'M'}]\n"
          ],
          "name": "stdout"
        }
      ]
    },
    {
      "cell_type": "markdown",
      "metadata": {
        "id": "1vPWkGe_wjzb"
      },
      "source": [
        "### 8.2.2. Crie um programa que leia o nome e as quatro notas de um aluno e armazene num dicionário. O usuário poderá adicionar quantos alunos desejar e cada dicionário deverá ser armazenado numa lista. Em seguida, mostre:\n",
        "- O nome do aluno com a maior média (média aritmética)\n",
        "- O nome do aluno com a menor média\n",
        "- Uma lista com os alunos reprovados (média menor que 6.0)\n",
        "- Os alunos que poderão fazer o exame de segunda época (média >= 4.0 e menor que 6.0)"
      ]
    },
    {
      "cell_type": "code",
      "metadata": {
        "id": "ovy5DPvRxKeL",
        "outputId": "31c8ec89-44bf-404f-ce10-1d4303e6a286",
        "colab": {
          "base_uri": "https://localhost:8080/",
          "height": 391
        }
      },
      "source": [
        "lista = []\n",
        "\n",
        "while True:\n",
        "  aluno = {}\n",
        "  aluno['nome'] = input('Digite o nome: ')\n",
        "  aluno['nota1'] = float(input('Digite a nota 1: '))\n",
        "  aluno['nota2'] = float(input('Digite a nota 2: '))\n",
        "  aluno['nota3'] = float(input('Digite a nota 3: '))\n",
        "  aluno['nota4'] = float(input('Digite a nota 4: '))\n",
        "  aluno['media'] = (aluno['nota1'] + aluno['nota2'] + aluno['nota3'] + aluno['nota4'])/4\n",
        "  lista.append(aluno)\n",
        "  \n",
        "  resposta = input('Deseja adicionar outro aluno? (S/N): ')\n",
        "  if resposta.lower() == 'n':\n",
        "    break\n",
        "\n",
        "maior_media = lista[0]\n",
        "menor_media = lista[0]\n",
        "reprovados = []\n",
        "exame = []\n",
        "    \n",
        "for aluno in lista:\n",
        "  \n",
        "  if maior_media['media'] < aluno['media']:\n",
        "    maior_media = aluno\n",
        "    \n",
        "  if menor_media['media'] > aluno['media']:\n",
        "    menor_media = aluno\n",
        "    \n",
        "  if aluno['media'] < 6.0:\n",
        "    reprovados.append(aluno)\n",
        "    \n",
        "  if aluno['media'] >= 4.0 and aluno['media'] < 6.0:\n",
        "    exame.append(aluno)\n",
        "    \n",
        "print(maior_media)\n",
        "print(menor_media)\n",
        "print(reprovados)\n",
        "print(exame)\n",
        "  "
      ],
      "execution_count": null,
      "outputs": [
        {
          "output_type": "stream",
          "text": [
            "Digite o nome: a\n",
            "Digite a nota 1: 6\n",
            "Digite a nota 2: 6\n",
            "Digite a nota 3: 6\n",
            "Digite a nota 4: 6\n",
            "Deseja adicionar outro aluno? (S/N): s\n",
            "Digite o nome: b\n",
            "Digite a nota 1: 4\n",
            "Digite a nota 2: 6\n",
            "Digite a nota 3: 4\n",
            "Digite a nota 4: 6\n",
            "Deseja adicionar outro aluno? (S/N): c\n",
            "Digite o nome: 9\n",
            "Digite a nota 1: 9\n",
            "Digite a nota 2: 9\n",
            "Digite a nota 3: 9\n",
            "Digite a nota 4: 9\n",
            "Deseja adicionar outro aluno? (S/N): n\n",
            "{'nome': '9', 'nota1': 9.0, 'nota2': 9.0, 'nota3': 9.0, 'nota4': 9.0, 'media': 9.0}\n",
            "{'nome': 'b', 'nota1': 4.0, 'nota2': 6.0, 'nota3': 4.0, 'nota4': 6.0, 'media': 5.0}\n",
            "[{'nome': 'b', 'nota1': 4.0, 'nota2': 6.0, 'nota3': 4.0, 'nota4': 6.0, 'media': 5.0}]\n",
            "[{'nome': 'b', 'nota1': 4.0, 'nota2': 6.0, 'nota3': 4.0, 'nota4': 6.0, 'media': 5.0}]\n"
          ],
          "name": "stdout"
        }
      ]
    },
    {
      "cell_type": "markdown",
      "source": [
        "testes curso em video"
      ],
      "metadata": {
        "id": "oVr9zA5c-93k"
      }
    },
    {
      "cell_type": "code",
      "source": [
        "pessoas = {'nome': 'Matheus', 'sexo': 'M', 'idade': 21}\n",
        "print(pessoas)\n",
        "print(pessoas['nome'])\n",
        "print(f'O {pessoas[\"nome\"]} tem {pessoas[\"idade\"]} anos')\n",
        "print(pessoas.keys())\n",
        "print(pessoas.values())\n",
        "print(pessoas.items())\n"
      ],
      "metadata": {
        "colab": {
          "base_uri": "https://localhost:8080/"
        },
        "id": "cdiASkt7_Gt1",
        "outputId": "0954c601-a45e-4af3-bb68-aeb6382bd475"
      },
      "execution_count": null,
      "outputs": [
        {
          "output_type": "stream",
          "name": "stdout",
          "text": [
            "{'nome': 'Matheus', 'sexo': 'M', 'idade': 21}\n",
            "Matheus\n",
            "O Matheus tem 21 anos\n",
            "dict_keys(['nome', 'sexo', 'idade'])\n",
            "dict_values(['Matheus', 'M', 21])\n",
            "dict_items([('nome', 'Matheus'), ('sexo', 'M'), ('idade', 21)])\n"
          ]
        }
      ]
    },
    {
      "cell_type": "code",
      "source": [
        "pessoas['nome'] = 'Natacha'\n",
        "del pessoas['sexo']\n",
        "pessoas['peso'] = 55\n",
        "for k, v in pessoas.items():\n",
        "  print(f'{k} = {v}')"
      ],
      "metadata": {
        "colab": {
          "base_uri": "https://localhost:8080/"
        },
        "id": "rj5x4caCCKJl",
        "outputId": "c228bb03-6a6d-4d6e-8a60-c61b6a1a3979"
      },
      "execution_count": null,
      "outputs": [
        {
          "output_type": "stream",
          "name": "stdout",
          "text": [
            "nome = Natacha\n",
            "idade = 21\n",
            "peso = 55\n"
          ]
        }
      ]
    },
    {
      "cell_type": "code",
      "source": [
        "brasil = list()\n",
        "estado1 = {'uf': 'Rio de Janeiro', 'Sigla': 'RJ'}\n",
        "estado2 = {'uf': 'São Paulo', 'Sigla': 'SP'}\n",
        "brasil.append(estado1)\n",
        "brasil.append(estado2)\n",
        "print(brasil)\n",
        "print(brasil[0])\n",
        "print(brasil[1]['Sigla'])"
      ],
      "metadata": {
        "colab": {
          "base_uri": "https://localhost:8080/"
        },
        "id": "bI-b2F87DdMB",
        "outputId": "22493c8d-ba2d-4224-92d2-2519a5d6d88f"
      },
      "execution_count": null,
      "outputs": [
        {
          "output_type": "stream",
          "name": "stdout",
          "text": [
            "[{'uf': 'Rio de Janeiro', 'Sigla': 'RJ'}, {'uf': 'São Paulo', 'Sigla': 'SP'}]\n",
            "{'uf': 'Rio de Janeiro', 'Sigla': 'RJ'}\n",
            "SP\n"
          ]
        }
      ]
    },
    {
      "cell_type": "code",
      "source": [
        "br = list()\n",
        "estado = dict()\n",
        "for c in range(0,3):\n",
        "  estado['uf'] = str(input('Digite a unidade federativa: '))\n",
        "  estado['silga'] = str(input('Digite a sigla do estado: '))\n",
        "  br.append(estado.copy())\n",
        "for e in br: \n",
        "  print(e)"
      ],
      "metadata": {
        "colab": {
          "base_uri": "https://localhost:8080/"
        },
        "id": "AK6P35QKFG2g",
        "outputId": "1e197bf7-f912-4139-a5e9-5b63ea9fc926"
      },
      "execution_count": null,
      "outputs": [
        {
          "output_type": "stream",
          "name": "stdout",
          "text": [
            "Digite a unidade federativa: rio\n",
            "Digite a sigla do estado: rj\n",
            "Digite a unidade federativa: sampa\n",
            "Digite a sigla do estado: sp\n",
            "Digite a unidade federativa: amapa\n",
            "Digite a sigla do estado: am\n",
            "{'uf': 'rio', 'silga': 'rj'}\n",
            "{'uf': 'sampa', 'silga': 'sp'}\n",
            "{'uf': 'amapa', 'silga': 'am'}\n"
          ]
        }
      ]
    },
    {
      "cell_type": "markdown",
      "source": [
        "Exercício Python 090: Faça um programa que leia nome e média de um aluno, guardando também a situação em um dicionário. No final, mostre o conteúdo da estrutura na tela."
      ],
      "metadata": {
        "id": "NLWuOvYuH4qs"
      }
    },
    {
      "cell_type": "code",
      "source": [
        "aluno = dict()\n",
        "aluno['nome'] = str(input('Nome: '))\n",
        "aluno['media'] = float(input(f'Digite a media de {aluno[\"nome\"]}: '))\n",
        "print(f'O nome é {aluno[\"nome\"]}')\n",
        "print(f'A media é {aluno[\"media\"]}')\n",
        "if aluno['media'] > 7:\n",
        "  aluno['situação'] = 'Aprovado'\n",
        "elif 5 <= aluno['media'] < 7:\n",
        "  aluno['situação'] = 'Recuperação'\n",
        "else:\n",
        "  aluno['situação'] ='Reprovado'\n",
        "print(f'A situação é {aluno[\"situação\"]}')"
      ],
      "metadata": {
        "colab": {
          "base_uri": "https://localhost:8080/"
        },
        "id": "HkV_3Za5H6QU",
        "outputId": "62bb1285-1d9d-4528-a5db-b4d0822c6474"
      },
      "execution_count": null,
      "outputs": [
        {
          "output_type": "stream",
          "name": "stdout",
          "text": [
            "Nome: matheus\n",
            "Digite a media de matheus: 10\n",
            "O nome é matheus\n",
            "A media é 10.0\n",
            "A situação é Aprovado\n"
          ]
        }
      ]
    },
    {
      "cell_type": "markdown",
      "source": [
        "Exercício Python 091: Crie um programa onde 4 jogadores joguem um dado e tenham resultados aleatórios. Guarde esses resultados em um dicionário em Python. No final, coloque esse dicionário em ordem, sabendo que o vencedor tirou o maior número no dado."
      ],
      "metadata": {
        "id": "MFCBbsDhuSrE"
      }
    },
    {
      "cell_type": "code",
      "source": [
        "from random import randint\n",
        "from time import sleep\n",
        "from operator import itemgetter\n",
        "jogadores = dict()\n",
        "for i in range(1, 4):\n",
        "  jogadores[f'Jogador {i}'] = randint(1, 6)\n",
        "print('sorteando valores')\n",
        "for k, v in jogadores.items():\n",
        "  print(f'O {k} tirou {v}')\n",
        "  sleep(1)\n",
        "ranking = []\n",
        "ranking = sorted(jogadores.items(), key = itemgetter(1), reverse = True )\n",
        "print('Ranking Jogadores')\n",
        "for i, v in enumerate(ranking):\n",
        "    print(f'{i+1}° lugar: {v[0]} com {v[1]} ')\n",
        "    sleep(1)\n",
        "  \n",
        "\n",
        "  "
      ],
      "metadata": {
        "colab": {
          "base_uri": "https://localhost:8080/"
        },
        "id": "HuCXhET9uUT5",
        "outputId": "53e17f41-ba2c-499c-fd10-95f5b7bf4442"
      },
      "execution_count": null,
      "outputs": [
        {
          "output_type": "stream",
          "name": "stdout",
          "text": [
            "sorteando valores\n",
            "O Jogador 1 tirou 4\n",
            "O Jogador 2 tirou 5\n",
            "O Jogador 3 tirou 2\n",
            "Ranking Jogadores\n",
            "1° lugar: Jogador 2 com 5 \n",
            "2° lugar: Jogador 1 com 4 \n",
            "3° lugar: Jogador 3 com 2 \n"
          ]
        }
      ]
    },
    {
      "cell_type": "markdown",
      "source": [
        "Exercício Python 092: Crie um programa que leia nome, ano de nascimento e carteira de trabalho e cadastre-o (com idade) em um dicionário. Se por acaso a CTPS for diferente de ZERO, o dicionário receberá também o ano de contratação e o salário. Calcule e acrescente, além da idade, com quantos anos a pessoa vai se aposentar."
      ],
      "metadata": {
        "id": "WbXQ9tT1KD2j"
      }
    },
    {
      "cell_type": "code",
      "source": [
        "# from datetime import datetime\n",
        "# idade = datetime.now().year() - anoNasc\n",
        "from datetime import date\n",
        "anoAtual = date.today().year\n",
        "trabalhador = dict()\n",
        "trabalhador['Nome'] = str(input('Qual seu nome: '))\n",
        "anoNasc = int(input('Ano do seu nascimento: '))\n",
        "trabalhador['Idade'] = anoAtual - anoNasc\n",
        "print(trabalhador)\n",
        "trabalhador['CPTS'] = int(input('Carteira de trabalho [0 Não tem]'))\n",
        "if trabalhador['CPTS'] != 0:\n",
        "  trabalhador['Contratação'] = int(input('Ano de contratação: '))\n",
        "  trabalhador['Salario'] = float(input('Salário: '))\n",
        "  trabalhador['Aposentadoria'] = trabalhador['Contratação'] + 35 - anoNasc\n",
        "for k,v in trabalhador.items():\n",
        "  print(f'O {k} tem valor {v}')"
      ],
      "metadata": {
        "colab": {
          "base_uri": "https://localhost:8080/"
        },
        "id": "qLsABJ4BKGCW",
        "outputId": "60e14731-3e67-48fb-ad6d-eecdcb6f4549"
      },
      "execution_count": null,
      "outputs": [
        {
          "output_type": "stream",
          "name": "stdout",
          "text": [
            "Qual seu nome: matheus\n",
            "Ano do seu nascimento: 2000\n",
            "{'Nome': 'matheus', 'Idade': 22}\n",
            "Carteira de trabalho [0 Não tem]145\n",
            "Ano de contratação: 2014\n",
            "Salário: 2000\n",
            "O Nome tem valor matheus\n",
            "O Idade tem valor 22\n",
            "O CPTS tem valor 145\n",
            "O Contratação tem valor 2014\n",
            "O Salario tem valor 2000.0\n",
            "O Aposentadoria tem valor 49\n"
          ]
        }
      ]
    },
    {
      "cell_type": "markdown",
      "source": [
        "Exercício Python 093: Crie um programa que gerencie o aproveitamento de um jogador de futebol. O programa vai ler o nome do jogador e quantas partidas ele jogou. Depois vai ler a quantidade de gols feitos em cada partida. No final, tudo isso será guardado em um dicionário, incluindo o total de gols feitos durante o campeonato."
      ],
      "metadata": {
        "id": "qcX2CJscOAzk"
      }
    },
    {
      "cell_type": "code",
      "source": [
        "jogador = dict()\n",
        "gols = []\n",
        "jogador['nome'] = str(input('Nome do jogador: '))\n",
        "partidas = int(input(f'Quantadas partidas o {jogador[\"nome\"]} jogou: '))\n",
        "for i in range(0, partidas):\n",
        "  gols.append(int(input(f'Quantos gols na partida {i+1}: ')))\n",
        "jogador['Gols'] = gols\n",
        "jogador['total gols'] = sum(gols)\n",
        "print('=' * 50)\n",
        "print(jogador)\n",
        "print('=' * 50)\n",
        "for k, v in jogador.items():\n",
        "  print(f'O campo {k} tem valor {v}')\n",
        "print('=' * 50)\n",
        "print(f'O jogador {jogador[\"nome\"]} jogou {partidas} partidas')\n",
        "for i, gol in enumerate(gols):\n",
        "  print(f'Na partida {i+1} fez {gol} gol')\n",
        "print(f'Foi um total de {jogador[\"total gols\"]} gols')"
      ],
      "metadata": {
        "id": "vIX7tePkOCIw",
        "colab": {
          "base_uri": "https://localhost:8080/"
        },
        "outputId": "712f65d8-5291-43ae-9196-ec6c00c63e3b"
      },
      "execution_count": null,
      "outputs": [
        {
          "output_type": "stream",
          "name": "stdout",
          "text": [
            "Nome do jogador: zico\n",
            "Quantadas partidas o zico jogou: 3\n",
            "Quantos gols na partida 1: 0\n",
            "Quantos gols na partida 2: 4\n",
            "Quantos gols na partida 3: 1\n",
            "==================================================\n",
            "{'nome': 'zico', 'Gols': [0, 4, 1], 'total gols': 5}\n",
            "==================================================\n",
            "O campo nome tem valor zico\n",
            "O campo Gols tem valor [0, 4, 1]\n",
            "O campo total gols tem valor 5\n",
            "==================================================\n",
            "O jogador zico jogou 3 partidas\n",
            "Na partida 1 fez 0 gol\n",
            "Na partida 2 fez 4 gol\n",
            "Na partida 3 fez 1 gol\n",
            "Foi um total de 5 gols\n"
          ]
        }
      ]
    },
    {
      "cell_type": "markdown",
      "source": [
        "Exercício Python 094: Crie um programa que leia nome, sexo e idade de várias pessoas, guardando os dados de cada pessoa em um dicionário e todos os dicionários em uma lista. No final, mostre: A) Quantas pessoas foram cadastradas B) A média de idade C) Uma lista com as mulheres D) Uma lista de pessoas com idade acima da média"
      ],
      "metadata": {
        "id": "RfWTx1F1B2ur"
      }
    },
    {
      "cell_type": "code",
      "source": [
        "grupo = list()\n",
        "mulheres = []\n",
        "pessoa = dict()\n",
        "soma =  0\n",
        "while True:\n",
        "  pessoa['nome'] = str(input('Nome: '))\n",
        "  while True:\n",
        "    pessoa['sexo']= str(input('Sexo [M/F]: ')).upper()[0]\n",
        "    if  pessoa['sexo'] not in 'MF':\n",
        "      pessoa['sexo']= str(input('Sexo [M/F]: ')).upper()[0]\n",
        "    if pessoa['sexo'] in 'MF':\n",
        "      break\n",
        "    print('ERRO! Digite apenas M ou F')\n",
        "  if pessoa['sexo'] == 'F':\n",
        "      mulheres.append(pessoa['nome'])\n",
        "  pessoa['idade'] = int(input('Idade: '))\n",
        "  soma += pessoa['idade']\n",
        "  grupo.append(pessoa.copy())\n",
        "  pessoa.clear()\n",
        "  while True:\n",
        "    resp = str(input('Deseja continuar [S/N]: ')).upper()[0]\n",
        "    if resp in 'SN':\n",
        "      break\n",
        "    print('ERRO! Digite apenas S ou N')\n",
        "  if resp in 'N':\n",
        "    break\n",
        "print(grupo)\n",
        "print(f'A) O grupo tem {len(grupo)} pessoas')\n",
        "print(f'B) A média de idade é {soma / len(grupo):5.2f}')\n",
        "print(f'C) As mulheres cadastradas foram: ', end='')\n",
        "for i, mulher in enumerate(mulheres):\n",
        "  print(mulher, end= ' ')\n",
        "print()\n",
        "print('D) Lista das pessoas que estão acima da media: ', end= '')\n",
        "for pessoa in (grupo):\n",
        "  if pessoa['idade'] >= soma/ len(grupo):\n",
        "    print('    ', end='')\n",
        "    for k, v in pessoa.items():\n",
        "      print(f' {k} = {v}: ', end='')\n",
        "    print()\n",
        "print('Encerrado')\n",
        "      \n",
        "\n"
      ],
      "metadata": {
        "colab": {
          "base_uri": "https://localhost:8080/"
        },
        "id": "7FUdh_hWB4bS",
        "outputId": "c5f3008e-82bd-49eb-ee21-3f6f51aec8c8"
      },
      "execution_count": null,
      "outputs": [
        {
          "output_type": "stream",
          "name": "stdout",
          "text": [
            "Nome: theo\n",
            "Sexo [M/F]: m\n",
            "Idade: 12\n",
            "Deseja continuar [S/N]: s\n",
            "Nome: maria\n",
            "Sexo [M/F]: f\n",
            "Idade: 22\n",
            "Deseja continuar [S/N]: s\n",
            "Nome: pedro\n",
            "Sexo [M/F]: m\n",
            "Idade: 18\n",
            "Deseja continuar [S/N]: s\n",
            "Nome: vanessa\n",
            "Sexo [M/F]: f\n",
            "Idade: 44\n",
            "Deseja continuar [S/N]: n\n",
            "[{'nome': 'theo', 'sexo': 'M', 'idade': 12}, {'nome': 'maria', 'sexo': 'F', 'idade': 22}, {'nome': 'pedro', 'sexo': 'M', 'idade': 18}, {'nome': 'vanessa', 'sexo': 'F', 'idade': 44}]\n",
            "A) O grupo tem 4 pessoas\n",
            "B) A média de idade é 24.00\n",
            "C) As mulheres cadastradas foram: maria vanessa \n",
            "D) Lista das pessoas que estão acima da media:     \n",
            "nome = vanessasexo = Fidade = 44\n",
            "Encerrado\n"
          ]
        }
      ]
    },
    {
      "cell_type": "markdown",
      "source": [
        "Exercício Python 095: Aprimore o desafio 93 para que ele funcione com vários jogadores, incluindo um sistema de visualização de detalhes do aproveitamento de cada jogador."
      ],
      "metadata": {
        "id": "-4sI4FwKcVoV"
      }
    },
    {
      "cell_type": "code",
      "source": [
        "jogador = dict()\n",
        "gols = []\n",
        "jogadores = []\n",
        "while True:\n",
        "  jogador.clear()\n",
        "  jogador['nome'] = str(input('Nome do jogador: '))\n",
        "  partidas = int(input(f'Quantadas partidas o {jogador[\"nome\"]} jogou: '))\n",
        "  gols.clear()\n",
        "  for i in range(0, partidas):\n",
        "    gols.append(int(input(f'Quantos gols na partida {i+1}: ')))\n",
        "  jogador['Gols'] = gols[:]\n",
        "  soma = sum(gols)\n",
        "  jogador['total gols'] = soma\n",
        "  jogadores.append(jogador.copy())\n",
        "  while True:\n",
        "    resp = str(input('Deseja continuar [S/N]: ')).upper()[0]\n",
        "    if resp in 'SN':\n",
        "      break\n",
        "    print('ERRO! Digite S ou N')\n",
        "  if resp == 'N':\n",
        "    break\n",
        "print('=' * 50)\n",
        "print('cod', end='')\n",
        "for i in jogador.keys():\n",
        "  print(f'{i:<15}', end='')\n",
        "print()\n",
        "print('=' * 50)\n",
        "for k, v in enumerate(jogadores):\n",
        "  print(f'{k:>3} ', end='')\n",
        "  for d in v.values():\n",
        "    print(f'{str(d):<15}', end='')\n",
        "  print()\n",
        "print('=' * 50)\n",
        "while True:\n",
        "  busca = int(input('Mostrar dados de qual jogador? [999 p/ sair]'))\n",
        "  if busca == 999:\n",
        "    break\n",
        "  if busca >= len(jogadores):\n",
        "    print('Jogador não encontrado com esse número')\n",
        "  else: \n",
        "    print(f'Levantamento do jogador {jogadores[busca][\"nome\"]}')\n",
        "    for i, gol in enumerate(jogadores[busca][\"Gols\"]):\n",
        "      print(f'   No jogo {i+1} fez {gol} gols')\n",
        "  print('=' * 50)\n",
        "print('Finalizado')\n"
      ],
      "metadata": {
        "colab": {
          "base_uri": "https://localhost:8080/"
        },
        "id": "niVncMP4cWoF",
        "outputId": "b630a530-7e0e-4efe-8bc5-87c4c44f5a22"
      },
      "execution_count": null,
      "outputs": [
        {
          "output_type": "stream",
          "name": "stdout",
          "text": [
            "Nome do jogador: messi\n",
            "Quantadas partidas o messi jogou: 3\n",
            "Quantos gols na partida 1: 4\n",
            "Quantos gols na partida 2: 2\n",
            "Quantos gols na partida 3: 3\n",
            "Deseja continuar [S/N]: s\n",
            "Nome do jogador: ney\n",
            "Quantadas partidas o ney jogou: 1\n",
            "Quantos gols na partida 1: 5\n",
            "Deseja continuar [S/N]: n\n",
            "==================================================\n",
            "codnome           Gols           total gols     \n",
            "==================================================\n",
            "  0 messi          [4, 2, 3]      9              \n",
            "  1 ney            [5]            5              \n",
            "==================================================\n",
            "Mostrar dados de qual jogador? [999 p/ sair]0\n",
            "Levantamento do jogador messi\n",
            "   No jogo 1 fez 4 gols\n",
            "   No jogo 2 fez 2 gols\n",
            "   No jogo 3 fez 3 gols\n",
            "==================================================\n",
            "Mostrar dados de qual jogador? [999 p/ sair]5\n",
            "Jogador não encontrado com esse número\n",
            "==================================================\n",
            "Mostrar dados de qual jogador? [999 p/ sair]1\n",
            "Levantamento do jogador ney\n",
            "   No jogo 1 fez 5 gols\n",
            "==================================================\n",
            "Mostrar dados de qual jogador? [999 p/ sair]999\n",
            "Finalizado\n"
          ]
        }
      ]
    }
  ]
}
