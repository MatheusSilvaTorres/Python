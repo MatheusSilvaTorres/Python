{
  "nbformat": 4,
  "nbformat_minor": 0,
  "metadata": {
    "colab": {
      "name": "Copy of Aula 9 - Parte II - Set",
      "provenance": [],
      "collapsed_sections": [],
      "include_colab_link": true
    },
    "kernelspec": {
      "name": "python3",
      "display_name": "Python 3"
    }
  },
  "cells": [
    {
      "cell_type": "markdown",
      "metadata": {
        "id": "view-in-github",
        "colab_type": "text"
      },
      "source": [
        "<a href=\"https://colab.research.google.com/github/MatheusSilvaTorres/Python/blob/main/Copy_of_Aula_9_Parte_II_Set.ipynb\" target=\"_parent\"><img src=\"https://colab.research.google.com/assets/colab-badge.svg\" alt=\"Open In Colab\"/></a>"
      ]
    },
    {
      "cell_type": "markdown",
      "metadata": {
        "id": "IWT9kBSMTj2O"
      },
      "source": [
        "# Parte II - Estruturas de Dados\n",
        "## Aula 9 - Set\n",
        "### Linguagem de Programação (Prof. Dr. Henrique Dezani)\n",
        "Curso de Tecnologia em Análise e Desenvolvimento de Sistemas da Faculdade de Tecnologia de São José do Rio Preto"
      ]
    },
    {
      "cell_type": "markdown",
      "metadata": {
        "id": "Bu_cUAtKULLJ"
      },
      "source": [
        "## 9.1. Set (Conjunto)\n",
        "Um **set** (conunto) é como um dicionário sem os valores, apenas com as chaves. Como em um dicionário, cada chave deve ser única. Você pode utilizar um **set** quando quer apenas saber que existe algo e nada mais sobre isso. Use um dicionário se desejar anexar algumas informações à chave como um valor.\n",
        "Suponha que você adote a união de dois conjuntos que possuem algumas chaves em comum. Como um conjunto deve conter apenas um de cada item, a união de dois conjuntos conterá apenas um de cada chave. O conjunto nulo ou vazio é um conjunto com zero elementos."
      ]
    },
    {
      "cell_type": "markdown",
      "metadata": {
        "id": "tJdpXXXCsFJK"
      },
      "source": [
        "### 9.1.1. Criar um conjunto\n",
        "Para criar um conjunto, use a função set() ou coloque um ou mais valores separados por vírgula entre chaves, conforme mostrado no exemplo abaixo:"
      ]
    },
    {
      "cell_type": "code",
      "metadata": {
        "id": "YRMeMvIjsSM5"
      },
      "source": [
        "conjunto_vazio = set()"
      ],
      "execution_count": null,
      "outputs": []
    },
    {
      "cell_type": "code",
      "metadata": {
        "id": "x-PV4otBtdt0",
        "outputId": "a32992a5-65cd-4559-f051-28c9da2a23ea",
        "colab": {
          "base_uri": "https://localhost:8080/",
          "height": 34
        }
      },
      "source": [
        "print(conjunto_vazio)"
      ],
      "execution_count": null,
      "outputs": [
        {
          "output_type": "stream",
          "text": [
            "set()\n"
          ],
          "name": "stdout"
        }
      ]
    },
    {
      "cell_type": "code",
      "metadata": {
        "id": "b1Q7IPvXseyb"
      },
      "source": [
        "numeros_pares = {0, 2, 4, 6, 8}"
      ],
      "execution_count": null,
      "outputs": []
    },
    {
      "cell_type": "code",
      "metadata": {
        "id": "SOkEiYtXtics",
        "outputId": "c944b9fd-1662-4419-e9d9-423d3a9c9ef8",
        "colab": {
          "base_uri": "https://localhost:8080/",
          "height": 34
        }
      },
      "source": [
        "print(numeros_pares)"
      ],
      "execution_count": null,
      "outputs": [
        {
          "output_type": "stream",
          "text": [
            "{0, 2, 4, 6, 8}\n"
          ],
          "name": "stdout"
        }
      ]
    },
    {
      "cell_type": "code",
      "metadata": {
        "id": "2HspK3bztjay",
        "outputId": "78c1422d-3a77-4f3f-dd58-dd4bf6508e93",
        "colab": {
          "base_uri": "https://localhost:8080/",
          "height": 34
        }
      },
      "source": [
        "print(type(numeros_pares))"
      ],
      "execution_count": null,
      "outputs": [
        {
          "output_type": "stream",
          "text": [
            "<class 'set'>\n"
          ],
          "name": "stdout"
        }
      ]
    },
    {
      "cell_type": "markdown",
      "metadata": {
        "id": "iYw7aBfLtD1w"
      },
      "source": [
        "Além disso, é importante prestar atenção que, como `[]` cria uma lista vazia, você pode esperar que {} crie um conjunto vazio. Em vez disso, {} cria um dicionário vazio. É também por isso que o interpretador imprime um conjunto vazio como set() em vez de {}."
      ]
    },
    {
      "cell_type": "markdown",
      "metadata": {
        "id": "FSPvkWXKtnHt"
      },
      "source": [
        "### 9.1.2. Converter de outros tipos de dados para conjunto com `set()`\n",
        "Você pode criar um conjunto a partir de uma lista, string (sequência), tupla ou dicionário, descartando quaisquer valores duplicados. Primeiro, vamos dar uma olhada em uma string com mais de uma ocorrência de algumas letras:"
      ]
    },
    {
      "cell_type": "code",
      "metadata": {
        "id": "oCHRvkCMt2Zu",
        "outputId": "ce157b50-1ec3-49e4-f3da-454c014ce17a",
        "colab": {
          "base_uri": "https://localhost:8080/",
          "height": 34
        }
      },
      "source": [
        "set('carta')"
      ],
      "execution_count": null,
      "outputs": [
        {
          "output_type": "execute_result",
          "data": {
            "text/plain": [
              "{'a', 'c', 'r', 't'}"
            ]
          },
          "metadata": {
            "tags": []
          },
          "execution_count": 102
        }
      ]
    },
    {
      "cell_type": "markdown",
      "metadata": {
        "id": "QDUf9B0ouRwm"
      },
      "source": [
        "Assim como as chaves de um dicionário, os conjuntos não eram ordenados, mas agora são, conforme pode ser visto no exemplo anterior."
      ]
    },
    {
      "cell_type": "code",
      "metadata": {
        "id": "mn5p-KZOuk_o",
        "outputId": "cdcb8f24-8c8c-4764-806c-e0ef06326aeb",
        "colab": {
          "base_uri": "https://localhost:8080/",
          "height": 34
        }
      },
      "source": [
        "# convertendo uma lista para conjunto:\n",
        "list = ['Fulano', 'Ciclano', 'Beltrano', 'Ciclano']\n",
        "set(list)"
      ],
      "execution_count": null,
      "outputs": [
        {
          "output_type": "execute_result",
          "data": {
            "text/plain": [
              "{'Beltrano', 'Ciclano', 'Fulano'}"
            ]
          },
          "metadata": {
            "tags": []
          },
          "execution_count": 103
        }
      ]
    },
    {
      "cell_type": "code",
      "metadata": {
        "id": "FOTGXI65uwCN",
        "outputId": "e370066a-11c7-41b8-93d6-9cab258bd2bf",
        "colab": {
          "base_uri": "https://localhost:8080/",
          "height": 34
        }
      },
      "source": [
        "# convertendo uma tupla para conjunto:\n",
        "tupla = ('Fulano', 'Ciclano', 'Beltrano', 'Ciclano')\n",
        "set(tupla)"
      ],
      "execution_count": null,
      "outputs": [
        {
          "output_type": "execute_result",
          "data": {
            "text/plain": [
              "{'Beltrano', 'Ciclano', 'Fulano'}"
            ]
          },
          "metadata": {
            "tags": []
          },
          "execution_count": 104
        }
      ]
    },
    {
      "cell_type": "code",
      "metadata": {
        "id": "KRbJ26Y6u1Qq",
        "outputId": "48231b70-ea92-4528-83d2-96d157f93cbd",
        "colab": {
          "base_uri": "https://localhost:8080/",
          "height": 34
        }
      },
      "source": [
        "# convertendo um dicionário para conjunto:\n",
        "dicionario = {'chave1':'valor1', 'chave2': 'valor2', 'chave2': 'valor3'}\n",
        "set(dicionario)"
      ],
      "execution_count": null,
      "outputs": [
        {
          "output_type": "execute_result",
          "data": {
            "text/plain": [
              "{'chave1', 'chave2'}"
            ]
          },
          "metadata": {
            "tags": []
          },
          "execution_count": 105
        }
      ]
    },
    {
      "cell_type": "markdown",
      "metadata": {
        "id": "-UaeappkvQdH"
      },
      "source": [
        "### 9.1.3. Teste de valor usando `in`\n",
        "Este é o uso mais comum de um conjunto. Faremos um dicionário chamado receitas. Cada chave é o nome de uma receita e o valor correspondente é um conjunto de seus ingredientes:"
      ]
    },
    {
      "cell_type": "code",
      "metadata": {
        "id": "6bnUxUOovss0"
      },
      "source": [
        "receitas = {\n",
        "  'bolo cenoura': {'cenoura', 'leite', 'fermento', 'açúcar'},\n",
        "  'bolo cenoura light': {'cenoura', 'leite', 'fermento'},\n",
        "  'bolo laranja': {'suco de laranja', 'leite', 'fermento', 'açúcar'},\n",
        "  'bolo maracujá': {'suco de maracujá', 'leite', 'fermento', 'açúcar'},\n",
        "  'bolo chocolate ': {'leite', 'fermento', 'chocolate'},\n",
        "  'bolo laranja com cobertura': {'suco de laranja', 'leite', 'fermento', 'chocolate'}\n",
        "}"
      ],
      "execution_count": null,
      "outputs": []
    },
    {
      "cell_type": "markdown",
      "metadata": {
        "id": "4hAiaLwcv7BO"
      },
      "source": [
        "Mesmo que ambos sejam delimitados por chaves ({e}), um conjunto é apenas uma sequência de valores e um dicionário é uma ou mais chaves: pares de valores.\n",
        "\n",
        "Quais receitas contêm cenoura?"
      ]
    },
    {
      "cell_type": "code",
      "metadata": {
        "id": "lze0Rvxnvi_d",
        "outputId": "ae73566b-4b35-4fe9-a4ef-00b74aab28e9",
        "colab": {
          "base_uri": "https://localhost:8080/",
          "height": 51
        }
      },
      "source": [
        "for name, contents in receitas.items(): \n",
        "  if 'cenoura' in contents:\n",
        "    print(name)"
      ],
      "execution_count": null,
      "outputs": [
        {
          "output_type": "stream",
          "text": [
            "bolo cenoura\n",
            "bolo cenoura light\n"
          ],
          "name": "stdout"
        }
      ]
    },
    {
      "cell_type": "markdown",
      "metadata": {
        "id": "8k5FQ8lawWEA"
      },
      "source": [
        "Queremos algo com cenoura, mas somos intolerantes ao açúcar."
      ]
    },
    {
      "cell_type": "code",
      "metadata": {
        "id": "u4ON7VWqwUro",
        "outputId": "503ce0ea-be62-4f54-b8e5-b88a7eb33c59",
        "colab": {
          "base_uri": "https://localhost:8080/",
          "height": 34
        }
      },
      "source": [
        "for name, contents in receitas.items(): \n",
        "  if 'cenoura' in contents and 'açúcar' not in contents:\n",
        "    print(name)"
      ],
      "execution_count": null,
      "outputs": [
        {
          "output_type": "stream",
          "text": [
            "bolo cenoura light\n"
          ],
          "name": "stdout"
        }
      ]
    },
    {
      "cell_type": "markdown",
      "metadata": {
        "id": "VdMKPhKqxyei"
      },
      "source": [
        "### 9.1.3. Combinações e operadores\n",
        "E se você quiser verificar se há combinações de valores definidos? Suponha que você queira encontrar alguma bebida com suco de laranja ou maracujá? Usaremos o operador de interseção definido, que `&`:"
      ]
    },
    {
      "cell_type": "code",
      "metadata": {
        "id": "Ke636Z_Mxx5X",
        "outputId": "899d7569-3c38-4a89-acdb-77986defaff1",
        "colab": {
          "base_uri": "https://localhost:8080/",
          "height": 68
        }
      },
      "source": [
        "for name, contents in receitas.items():\n",
        "  if contents & {'suco de laranja', 'suco de maracujá'}:\n",
        "    print(name)"
      ],
      "execution_count": null,
      "outputs": [
        {
          "output_type": "stream",
          "text": [
            "bolo laranja\n",
            "bolo maracujá\n",
            "bolo laranja com cobertura\n"
          ],
          "name": "stdout"
        }
      ]
    },
    {
      "cell_type": "markdown",
      "metadata": {
        "id": "MED8Ua_5yBIf"
      },
      "source": [
        "O resultado do operador & é um conjunto, que contém todos os itens que aparecem nas duas listas comparadas. Se nenhum desses ingredientes estiver no conteúdo, o & retornará um conjunto vazio, que é considerado `False`.\n",
        "\n",
        "Agora, vamos reescrever o exemplo da seção anterior, na qual queríamos chocolate, mas sem suco de laranja ou que contenha açúcar:"
      ]
    },
    {
      "cell_type": "code",
      "metadata": {
        "id": "R-RjvN91yKEg",
        "outputId": "b3f54d01-21ae-45fe-8913-6bc1f5d938c1",
        "colab": {
          "base_uri": "https://localhost:8080/",
          "height": 34
        }
      },
      "source": [
        "for name, contents in receitas.items():\n",
        "  if 'chocolate' in contents and not contents & {'açúcar', 'suco de laranja'}:\n",
        "    print(name)"
      ],
      "execution_count": null,
      "outputs": [
        {
          "output_type": "stream",
          "text": [
            "bolo chocolate \n"
          ],
          "name": "stdout"
        }
      ]
    },
    {
      "cell_type": "markdown",
      "metadata": {
        "id": "tp8HMBKTyoK5"
      },
      "source": [
        "A seguir são apresentados exemplos de todos os operadores de um conjunto.\n",
        "Alguns têm pontuação especial, alguns têm funções especiais e alguns têm ambos. Usaremos os conjuntos de teste:"
      ]
    },
    {
      "cell_type": "code",
      "metadata": {
        "id": "jhhYh9dhy3XI"
      },
      "source": [
        "a = {1, 2}\n",
        "b = {2, 3}"
      ],
      "execution_count": null,
      "outputs": []
    },
    {
      "cell_type": "markdown",
      "metadata": {
        "id": "vpmU11pPy7T1"
      },
      "source": [
        "Você obtém a interseção (membros comuns aos dois conjuntos) com o símbolo de pontuação especial & ou a função intersection() do set, conforme demonstrado aqui:"
      ]
    },
    {
      "cell_type": "code",
      "metadata": {
        "id": "YxhxfFyYzCp3",
        "outputId": "e065361b-b57e-4956-8188-40b78fc5a339",
        "colab": {
          "base_uri": "https://localhost:8080/",
          "height": 34
        }
      },
      "source": [
        "a & b"
      ],
      "execution_count": null,
      "outputs": [
        {
          "output_type": "execute_result",
          "data": {
            "text/plain": [
              "{2}"
            ]
          },
          "metadata": {
            "tags": []
          },
          "execution_count": 112
        }
      ]
    },
    {
      "cell_type": "code",
      "metadata": {
        "id": "4qOvigbrzE4i",
        "outputId": "66d1b437-29f6-47fd-fe17-a09ff5a7e943",
        "colab": {
          "base_uri": "https://localhost:8080/",
          "height": 34
        }
      },
      "source": [
        "a.intersection(b)"
      ],
      "execution_count": null,
      "outputs": [
        {
          "output_type": "execute_result",
          "data": {
            "text/plain": [
              "{2}"
            ]
          },
          "metadata": {
            "tags": []
          },
          "execution_count": 113
        }
      ]
    },
    {
      "cell_type": "markdown",
      "metadata": {
        "id": "VGP03ReLzOCF"
      },
      "source": [
        "Neste exemplo, obtemos a união (membros de qualquer conjunto) usando | ou a função do set union():"
      ]
    },
    {
      "cell_type": "code",
      "metadata": {
        "id": "a4s2GY9qzVEf",
        "outputId": "1a0c0604-c1dc-4959-be2d-c9044116ebee",
        "colab": {
          "base_uri": "https://localhost:8080/",
          "height": 34
        }
      },
      "source": [
        "a | b"
      ],
      "execution_count": null,
      "outputs": [
        {
          "output_type": "execute_result",
          "data": {
            "text/plain": [
              "{1, 2, 3}"
            ]
          },
          "metadata": {
            "tags": []
          },
          "execution_count": 114
        }
      ]
    },
    {
      "cell_type": "code",
      "metadata": {
        "id": "m92vANVGzYEC",
        "outputId": "665812d7-cb9d-4977-8786-4423be175737",
        "colab": {
          "base_uri": "https://localhost:8080/",
          "height": 34
        }
      },
      "source": [
        "a.union(b)"
      ],
      "execution_count": null,
      "outputs": [
        {
          "output_type": "execute_result",
          "data": {
            "text/plain": [
              "{1, 2, 3}"
            ]
          },
          "metadata": {
            "tags": []
          },
          "execution_count": 115
        }
      ]
    },
    {
      "cell_type": "markdown",
      "metadata": {
        "id": "fSrVR5RmzhNh"
      },
      "source": [
        "A diferença (membros do primeiro conjunto, mas não do segundo) é obtida usando o símbolo `-` ou a função difference() de set:"
      ]
    },
    {
      "cell_type": "code",
      "metadata": {
        "id": "NZ24SeL6zgwF",
        "outputId": "a5ecbb5c-5e1a-4afb-b588-45c9969140e8",
        "colab": {
          "base_uri": "https://localhost:8080/",
          "height": 34
        }
      },
      "source": [
        "a - b"
      ],
      "execution_count": null,
      "outputs": [
        {
          "output_type": "execute_result",
          "data": {
            "text/plain": [
              "{1}"
            ]
          },
          "metadata": {
            "tags": []
          },
          "execution_count": 116
        }
      ]
    },
    {
      "cell_type": "code",
      "metadata": {
        "id": "4Roy2dsyzqsA",
        "outputId": "1a6eefa3-17e0-4bc5-899e-e3f2b76c30a2",
        "colab": {
          "base_uri": "https://localhost:8080/",
          "height": 34
        }
      },
      "source": [
        "a.difference(b)"
      ],
      "execution_count": null,
      "outputs": [
        {
          "output_type": "execute_result",
          "data": {
            "text/plain": [
              "{1}"
            ]
          },
          "metadata": {
            "tags": []
          },
          "execution_count": 118
        }
      ]
    },
    {
      "cell_type": "code",
      "metadata": {
        "id": "IEqf5bctzvRz",
        "outputId": "2b6f6290-27f7-4749-c63f-ec7a76b7d48b",
        "colab": {
          "base_uri": "https://localhost:8080/",
          "height": 34
        }
      },
      "source": [
        "b - a"
      ],
      "execution_count": null,
      "outputs": [
        {
          "output_type": "execute_result",
          "data": {
            "text/plain": [
              "{3}"
            ]
          },
          "metadata": {
            "tags": []
          },
          "execution_count": 117
        }
      ]
    },
    {
      "cell_type": "markdown",
      "metadata": {
        "id": "auPFJKJjz76w"
      },
      "source": [
        "As operações de conjunto mais comuns são união, interseção e diferença, mas temos outras operação:"
      ]
    },
    {
      "cell_type": "code",
      "metadata": {
        "id": "H31pWVuUz7Ux",
        "outputId": "0fef5480-d83e-4569-c059-85cee3400eee",
        "colab": {
          "base_uri": "https://localhost:8080/",
          "height": 34
        }
      },
      "source": [
        "# O ou exclusivo (XOR) (itens de um conjunto ou de outro, mas não ambos) usa ^ ou a função symmetric_difference():\n",
        "a ^ b"
      ],
      "execution_count": null,
      "outputs": [
        {
          "output_type": "execute_result",
          "data": {
            "text/plain": [
              "{1, 3}"
            ]
          },
          "metadata": {
            "tags": []
          },
          "execution_count": 119
        }
      ]
    },
    {
      "cell_type": "code",
      "metadata": {
        "id": "qmoI2AqD0PSc",
        "outputId": "afeffaff-9855-460b-d676-130dbfb4aa34",
        "colab": {
          "base_uri": "https://localhost:8080/",
          "height": 34
        }
      },
      "source": [
        "a.symmetric_difference(b)"
      ],
      "execution_count": null,
      "outputs": [
        {
          "output_type": "execute_result",
          "data": {
            "text/plain": [
              "{1, 3}"
            ]
          },
          "metadata": {
            "tags": []
          },
          "execution_count": 120
        }
      ]
    },
    {
      "cell_type": "code",
      "metadata": {
        "id": "XEdVbE300TiA",
        "outputId": "333e6f40-fda0-40bd-acb4-5def10516590",
        "colab": {
          "base_uri": "https://localhost:8080/",
          "height": 34
        }
      },
      "source": [
        "# Você pode verificar se um conjunto é um subconjunto de outro (todos os membros \n",
        "# do primeiro conjunto também estão no segundo conjunto) usando <= ou a função issubset():\n",
        "a <= b"
      ],
      "execution_count": null,
      "outputs": [
        {
          "output_type": "execute_result",
          "data": {
            "text/plain": [
              "False"
            ]
          },
          "metadata": {
            "tags": []
          },
          "execution_count": 121
        }
      ]
    },
    {
      "cell_type": "code",
      "metadata": {
        "id": "rnS9QbJi0hjp",
        "outputId": "9eb53be4-57ae-4d2b-8d3d-e84108bb6df7",
        "colab": {
          "base_uri": "https://localhost:8080/",
          "height": 34
        }
      },
      "source": [
        "a.issubset(b)"
      ],
      "execution_count": null,
      "outputs": [
        {
          "output_type": "execute_result",
          "data": {
            "text/plain": [
              "False"
            ]
          },
          "metadata": {
            "tags": []
          },
          "execution_count": 122
        }
      ]
    },
    {
      "cell_type": "code",
      "metadata": {
        "id": "bNgDDKFg0mgE",
        "outputId": "988e5506-6e22-49e8-89cb-46108221913e",
        "colab": {
          "base_uri": "https://localhost:8080/",
          "height": 34
        }
      },
      "source": [
        "a <= a"
      ],
      "execution_count": null,
      "outputs": [
        {
          "output_type": "execute_result",
          "data": {
            "text/plain": [
              "True"
            ]
          },
          "metadata": {
            "tags": []
          },
          "execution_count": 123
        }
      ]
    },
    {
      "cell_type": "code",
      "metadata": {
        "id": "xD5rewIe0xds",
        "outputId": "0cc0ccce-52b4-440a-f22c-ae2bf096fae6",
        "colab": {
          "base_uri": "https://localhost:8080/",
          "height": 34
        }
      },
      "source": [
        "# Para ser um subconjunto adequado (proper subset), o segundo conjunto precisa \n",
        "# ter todos os membros do primeiro e mais. Usamos o símbolo < para verificar:\n",
        "a < b"
      ],
      "execution_count": null,
      "outputs": [
        {
          "output_type": "execute_result",
          "data": {
            "text/plain": [
              "False"
            ]
          },
          "metadata": {
            "tags": []
          },
          "execution_count": 124
        }
      ]
    },
    {
      "cell_type": "code",
      "metadata": {
        "id": "fptfcEAZ0_40",
        "outputId": "c63324cd-8b25-40f1-fa74-8891a74f3f1a",
        "colab": {
          "base_uri": "https://localhost:8080/",
          "height": 34
        }
      },
      "source": [
        "a < a"
      ],
      "execution_count": null,
      "outputs": [
        {
          "output_type": "execute_result",
          "data": {
            "text/plain": [
              "False"
            ]
          },
          "metadata": {
            "tags": []
          },
          "execution_count": 125
        }
      ]
    },
    {
      "cell_type": "code",
      "metadata": {
        "id": "gDRqaVbj1BdA",
        "outputId": "fb3e05ad-7195-4f47-b673-a2912da324b6",
        "colab": {
          "base_uri": "https://localhost:8080/",
          "height": 34
        }
      },
      "source": [
        "c = {1, 2, 3}\n",
        "a < c"
      ],
      "execution_count": null,
      "outputs": [
        {
          "output_type": "execute_result",
          "data": {
            "text/plain": [
              "True"
            ]
          },
          "metadata": {
            "tags": []
          },
          "execution_count": 126
        }
      ]
    },
    {
      "cell_type": "code",
      "metadata": {
        "id": "gJW_AKL61I53",
        "outputId": "e0b25c72-7c9a-43c2-fd94-4097cf76a7bb",
        "colab": {
          "base_uri": "https://localhost:8080/",
          "height": 34
        }
      },
      "source": [
        "# Um superconjunto (superset) é o oposto de um subconjunto (todos os membros do\n",
        "# segundo conjunto também são membros do primeiro). Isso usa  >= ou a função issuperset():\n",
        "a >= b"
      ],
      "execution_count": null,
      "outputs": [
        {
          "output_type": "execute_result",
          "data": {
            "text/plain": [
              "False"
            ]
          },
          "metadata": {
            "tags": []
          },
          "execution_count": 127
        }
      ]
    },
    {
      "cell_type": "code",
      "metadata": {
        "id": "bBhNm5SX1SeP",
        "outputId": "3f8aba25-a424-4246-8a2b-5357e16fbff1",
        "colab": {
          "base_uri": "https://localhost:8080/",
          "height": 34
        }
      },
      "source": [
        "a.issuperset(b)"
      ],
      "execution_count": null,
      "outputs": [
        {
          "output_type": "execute_result",
          "data": {
            "text/plain": [
              "False"
            ]
          },
          "metadata": {
            "tags": []
          },
          "execution_count": 128
        }
      ]
    },
    {
      "cell_type": "code",
      "metadata": {
        "id": "b7vtVa5o1WBp",
        "outputId": "76babb9d-fc55-4d5d-969c-f84c6b5aeb77",
        "colab": {
          "base_uri": "https://localhost:8080/",
          "height": 34
        }
      },
      "source": [
        "a >= a"
      ],
      "execution_count": null,
      "outputs": [
        {
          "output_type": "execute_result",
          "data": {
            "text/plain": [
              "True"
            ]
          },
          "metadata": {
            "tags": []
          },
          "execution_count": 129
        }
      ]
    },
    {
      "cell_type": "code",
      "metadata": {
        "id": "3h_UL9V81YZJ",
        "outputId": "fead82e2-da05-4398-9dea-7521fe57c8b4",
        "colab": {
          "base_uri": "https://localhost:8080/",
          "height": 34
        }
      },
      "source": [
        "a >= c"
      ],
      "execution_count": null,
      "outputs": [
        {
          "output_type": "execute_result",
          "data": {
            "text/plain": [
              "False"
            ]
          },
          "metadata": {
            "tags": []
          },
          "execution_count": 130
        }
      ]
    },
    {
      "cell_type": "code",
      "metadata": {
        "id": "Nybc_OPp1bKN",
        "outputId": "ea5f9d18-eb4f-4748-dee9-7078c0bc20b4",
        "colab": {
          "base_uri": "https://localhost:8080/",
          "height": 34
        }
      },
      "source": [
        "c >= a"
      ],
      "execution_count": null,
      "outputs": [
        {
          "output_type": "execute_result",
          "data": {
            "text/plain": [
              "True"
            ]
          },
          "metadata": {
            "tags": []
          },
          "execution_count": 131
        }
      ]
    },
    {
      "cell_type": "code",
      "metadata": {
        "id": "_k02Dj5K1hws",
        "outputId": "7693bc4a-1369-4eb5-facc-af981d7c471c",
        "colab": {
          "base_uri": "https://localhost:8080/",
          "height": 34
        }
      },
      "source": [
        "# E, finalmente, você pode encontrar um superconjunto adequado (proper superset)\n",
        "# (o primeiro conjunto tem todos os membros do segundo e mais) usando o símbolo >\n",
        "a > b"
      ],
      "execution_count": null,
      "outputs": [
        {
          "output_type": "execute_result",
          "data": {
            "text/plain": [
              "False"
            ]
          },
          "metadata": {
            "tags": []
          },
          "execution_count": 132
        }
      ]
    },
    {
      "cell_type": "code",
      "metadata": {
        "id": "Ilfoaf901q8K",
        "outputId": "fadfb003-e126-41c2-caed-994a922f39f2",
        "colab": {
          "base_uri": "https://localhost:8080/",
          "height": 34
        }
      },
      "source": [
        "b > a"
      ],
      "execution_count": null,
      "outputs": [
        {
          "output_type": "execute_result",
          "data": {
            "text/plain": [
              "False"
            ]
          },
          "metadata": {
            "tags": []
          },
          "execution_count": 133
        }
      ]
    },
    {
      "cell_type": "code",
      "metadata": {
        "id": "vMrpUtwP105Z",
        "outputId": "e2ad3764-f534-4d3c-c891-dc2ab26b0a21",
        "colab": {
          "base_uri": "https://localhost:8080/",
          "height": 34
        }
      },
      "source": [
        "a > a"
      ],
      "execution_count": null,
      "outputs": [
        {
          "output_type": "execute_result",
          "data": {
            "text/plain": [
              "False"
            ]
          },
          "metadata": {
            "tags": []
          },
          "execution_count": 134
        }
      ]
    },
    {
      "cell_type": "code",
      "metadata": {
        "id": "TetpjatJ1syH",
        "outputId": "bb6447e3-d774-491f-bfab-7ad9e8987b92",
        "colab": {
          "base_uri": "https://localhost:8080/",
          "height": 34
        }
      },
      "source": [
        "a > c"
      ],
      "execution_count": null,
      "outputs": [
        {
          "output_type": "execute_result",
          "data": {
            "text/plain": [
              "False"
            ]
          },
          "metadata": {
            "tags": []
          },
          "execution_count": 135
        }
      ]
    },
    {
      "cell_type": "code",
      "metadata": {
        "id": "agyTLSzL1u2h",
        "outputId": "377a9447-3ae9-40c2-b561-e88c96f733bc",
        "colab": {
          "base_uri": "https://localhost:8080/",
          "height": 34
        }
      },
      "source": [
        "c > a"
      ],
      "execution_count": null,
      "outputs": [
        {
          "output_type": "execute_result",
          "data": {
            "text/plain": [
              "True"
            ]
          },
          "metadata": {
            "tags": []
          },
          "execution_count": 136
        }
      ]
    },
    {
      "cell_type": "markdown",
      "metadata": {
        "id": "usKFDMft3e_o"
      },
      "source": [
        "### 9.1.5. Adicionando e removendo elementos de um conjunto:"
      ]
    },
    {
      "cell_type": "code",
      "metadata": {
        "id": "TGM_OMwZ29LP",
        "outputId": "0cb50e16-cbce-4516-bf72-ccbeddb132b0",
        "colab": {
          "base_uri": "https://localhost:8080/",
          "height": 34
        }
      },
      "source": [
        "c.add(4)\n",
        "print(c)"
      ],
      "execution_count": null,
      "outputs": [
        {
          "output_type": "stream",
          "text": [
            "{1, 2, 3, 4}\n"
          ],
          "name": "stdout"
        }
      ]
    },
    {
      "cell_type": "code",
      "metadata": {
        "id": "j75XE3S43pKE",
        "outputId": "919f4335-6375-4274-9835-757a933135a5",
        "colab": {
          "base_uri": "https://localhost:8080/",
          "height": 34
        }
      },
      "source": [
        "c.add(3)\n",
        "print(c)"
      ],
      "execution_count": null,
      "outputs": [
        {
          "output_type": "stream",
          "text": [
            "{1, 2, 3, 4}\n"
          ],
          "name": "stdout"
        }
      ]
    },
    {
      "cell_type": "code",
      "metadata": {
        "id": "t669JmLj3lcV",
        "outputId": "be2aa41b-8be2-4609-e8ef-39872ae16e10",
        "colab": {
          "base_uri": "https://localhost:8080/",
          "height": 181
        }
      },
      "source": [
        "c.remove(3) # retorna um erro caso o elemento não exista no conjunto\n",
        "print(c)"
      ],
      "execution_count": null,
      "outputs": [
        {
          "output_type": "error",
          "ename": "KeyError",
          "evalue": "ignored",
          "traceback": [
            "\u001b[0;31m---------------------------------------------------------------------------\u001b[0m",
            "\u001b[0;31mKeyError\u001b[0m                                  Traceback (most recent call last)",
            "\u001b[0;32m<ipython-input-140-cce9c57e96e1>\u001b[0m in \u001b[0;36m<module>\u001b[0;34m()\u001b[0m\n\u001b[0;32m----> 1\u001b[0;31m \u001b[0mc\u001b[0m\u001b[0;34m.\u001b[0m\u001b[0mremove\u001b[0m\u001b[0;34m(\u001b[0m\u001b[0;36m3\u001b[0m\u001b[0;34m)\u001b[0m \u001b[0;31m# retorna um erro caso o elemento não exista no conjunto\u001b[0m\u001b[0;34m\u001b[0m\u001b[0;34m\u001b[0m\u001b[0m\n\u001b[0m\u001b[1;32m      2\u001b[0m \u001b[0mprint\u001b[0m\u001b[0;34m(\u001b[0m\u001b[0mc\u001b[0m\u001b[0;34m)\u001b[0m\u001b[0;34m\u001b[0m\u001b[0;34m\u001b[0m\u001b[0m\n",
            "\u001b[0;31mKeyError\u001b[0m: 3"
          ]
        }
      ]
    },
    {
      "cell_type": "code",
      "metadata": {
        "id": "zpR6339c5TCc",
        "outputId": "a3c6414f-4fd5-44e1-8337-19cc7da6a244",
        "colab": {
          "base_uri": "https://localhost:8080/",
          "height": 34
        }
      },
      "source": [
        "c.discard(3) # remove o elemento, mas caso ele não exista no conjunto, não retorna erro.\n",
        "print(c)"
      ],
      "execution_count": null,
      "outputs": [
        {
          "output_type": "stream",
          "text": [
            "{1, 2, 4}\n"
          ],
          "name": "stdout"
        }
      ]
    },
    {
      "cell_type": "code",
      "metadata": {
        "id": "-F1RhZ1g3zdC",
        "outputId": "69cc2254-566e-4e82-df19-7019a12ab7ee",
        "colab": {
          "base_uri": "https://localhost:8080/",
          "height": 34
        }
      },
      "source": [
        "d = c\n",
        "c.remove(2)\n",
        "print(d)"
      ],
      "execution_count": null,
      "outputs": [
        {
          "output_type": "stream",
          "text": [
            "{1, 4}\n"
          ],
          "name": "stdout"
        }
      ]
    },
    {
      "cell_type": "code",
      "metadata": {
        "id": "amolfKFN34Bk",
        "outputId": "6e9abe0e-b7a7-46e7-f1cf-6c4df0441423",
        "colab": {
          "base_uri": "https://localhost:8080/",
          "height": 34
        }
      },
      "source": [
        "e = d.copy()\n",
        "d.clear()\n",
        "print(e)"
      ],
      "execution_count": null,
      "outputs": [
        {
          "output_type": "stream",
          "text": [
            "{1, 4}\n"
          ],
          "name": "stdout"
        }
      ]
    },
    {
      "cell_type": "code",
      "metadata": {
        "id": "wvSnd5mS48eT",
        "outputId": "9876d0b7-975c-4054-d187-fa1c0d849504",
        "colab": {
          "base_uri": "https://localhost:8080/",
          "height": 34
        }
      },
      "source": [
        "x = {1, 2, 3}\n",
        "y = {4, 5, 6}\n",
        "x.update(y);\n",
        "\n",
        "print(x)"
      ],
      "execution_count": null,
      "outputs": [
        {
          "output_type": "stream",
          "text": [
            "{1, 2, 3, 4, 5, 6}\n"
          ],
          "name": "stdout"
        }
      ]
    },
    {
      "cell_type": "markdown",
      "metadata": {
        "id": "MtWI2LsV4oCS"
      },
      "source": [
        "**Não é permitido obter um item específico do conjunto, uma vez que set não possui índices.**"
      ]
    },
    {
      "cell_type": "code",
      "metadata": {
        "id": "ralIOwsZ4nKT",
        "outputId": "f52d5fa1-4339-4bfe-81ea-109823d528a8",
        "colab": {
          "base_uri": "https://localhost:8080/",
          "height": 164
        }
      },
      "source": [
        "e[1]"
      ],
      "execution_count": null,
      "outputs": [
        {
          "output_type": "error",
          "ename": "TypeError",
          "evalue": "ignored",
          "traceback": [
            "\u001b[0;31m---------------------------------------------------------------------------\u001b[0m",
            "\u001b[0;31mTypeError\u001b[0m                                 Traceback (most recent call last)",
            "\u001b[0;32m<ipython-input-145-4151b458e4a6>\u001b[0m in \u001b[0;36m<module>\u001b[0;34m()\u001b[0m\n\u001b[0;32m----> 1\u001b[0;31m \u001b[0me\u001b[0m\u001b[0;34m[\u001b[0m\u001b[0;36m1\u001b[0m\u001b[0;34m]\u001b[0m\u001b[0;34m\u001b[0m\u001b[0;34m\u001b[0m\u001b[0m\n\u001b[0m",
            "\u001b[0;31mTypeError\u001b[0m: 'set' object does not support indexing"
          ]
        }
      ]
    },
    {
      "cell_type": "code",
      "metadata": {
        "id": "IFmt1luz_hpW"
      },
      "source": [
        "# Frozenset\n",
        "x = frozenset([1, 2, 3, 4])\n"
      ],
      "execution_count": null,
      "outputs": []
    },
    {
      "cell_type": "code",
      "metadata": {
        "id": "Y8YrIRYl_ohk",
        "outputId": "0edee976-a816-4342-f394-51ac9bb0d014",
        "colab": {
          "base_uri": "https://localhost:8080/",
          "height": 164
        }
      },
      "source": [
        "x.add(5)"
      ],
      "execution_count": null,
      "outputs": [
        {
          "output_type": "error",
          "ename": "AttributeError",
          "evalue": "ignored",
          "traceback": [
            "\u001b[0;31m---------------------------------------------------------------------------\u001b[0m",
            "\u001b[0;31mAttributeError\u001b[0m                            Traceback (most recent call last)",
            "\u001b[0;32m<ipython-input-147-7142ab7ece32>\u001b[0m in \u001b[0;36m<module>\u001b[0;34m()\u001b[0m\n\u001b[0;32m----> 1\u001b[0;31m \u001b[0mx\u001b[0m\u001b[0;34m.\u001b[0m\u001b[0madd\u001b[0m\u001b[0;34m(\u001b[0m\u001b[0;36m5\u001b[0m\u001b[0;34m)\u001b[0m\u001b[0;34m\u001b[0m\u001b[0;34m\u001b[0m\u001b[0m\n\u001b[0m",
            "\u001b[0;31mAttributeError\u001b[0m: 'frozenset' object has no attribute 'add'"
          ]
        }
      ]
    },
    {
      "cell_type": "markdown",
      "metadata": {
        "id": "b7GjLfFEkBnx"
      },
      "source": [
        "## 9.2. Exercícios"
      ]
    },
    {
      "cell_type": "markdown",
      "metadata": {
        "id": "0gKLrwTtf7eA"
      },
      "source": [
        "### 9.2.1. Dada uma lista de números inteiros, imprima todos os elementos distintos."
      ]
    },
    {
      "cell_type": "code",
      "metadata": {
        "id": "QBrU2mh5yOcV",
        "outputId": "5716b689-11bf-4d85-f7d2-b40de183d563",
        "colab": {
          "base_uri": "https://localhost:8080/",
          "height": 34
        }
      },
      "source": [
        "lista = [1, 2, 3, 3, 6, 1, 2, 6, 5]\n",
        "set(lista)"
      ],
      "execution_count": null,
      "outputs": [
        {
          "output_type": "execute_result",
          "data": {
            "text/plain": [
              "{1, 2, 3, 5, 6}"
            ]
          },
          "metadata": {
            "tags": []
          },
          "execution_count": 1
        }
      ]
    },
    {
      "cell_type": "markdown",
      "metadata": {
        "id": "Tufsh4rY7fae"
      },
      "source": [
        "### 9.2.2. Faça um programa que leia 10 números inteiros. Em seguida, processe uma lista e remova os números repetidos. No final, mostre essa nova lista."
      ]
    },
    {
      "cell_type": "code",
      "metadata": {
        "id": "CYiWDYI-7kGN",
        "outputId": "ab5133c3-b92c-4b2b-b783-19f179ba727a",
        "colab": {
          "base_uri": "https://localhost:8080/",
          "height": 221
        }
      },
      "source": [
        "lista=[]\n",
        "lista_nova=[]\n",
        "for i in range(10):\n",
        "  numero=int(input('Digite um numero: '))\n",
        "  lista.append(numero)\n",
        "lista_nova=list(set(lista))\n",
        "print(lista)\n",
        "print(lista_nova)"
      ],
      "execution_count": null,
      "outputs": [
        {
          "output_type": "stream",
          "text": [
            "Digite um numero: 1\n",
            "Digite um numero: 1\n",
            "Digite um numero: 1\n",
            "Digite um numero: 1\n",
            "Digite um numero: 1\n",
            "Digite um numero: 2\n",
            "Digite um numero: 5\n",
            "Digite um numero: 6\n",
            "Digite um numero: 4\n",
            "Digite um numero: 3\n",
            "[1, 1, 1, 1, 1, 2, 5, 6, 4, 3]\n",
            "[1, 2, 3, 4, 5, 6]\n"
          ],
          "name": "stdout"
        }
      ]
    },
    {
      "cell_type": "markdown",
      "metadata": {
        "id": "1vPWkGe_wjzb"
      },
      "source": [
        "### 9.2.3. Faça um programa que crie dois conjuntos x e y, com dez números inteiros cada um. Os valores deverão ser informados pelo usuário. Em seguida, crie:\n",
        "\n",
        "- Um conjunto resultante da união de x e y (todos os elementos de x e os elementos de y que não estão em x).\n",
        "- Uma conjunto resultante da diferença entre x e y (todos os elementos de x que não existam em y).\n",
        "- Uma conjunto resultante interseção entre x e y"
      ]
    },
    {
      "cell_type": "code",
      "metadata": {
        "id": "ovy5DPvRxKeL",
        "outputId": "a27da53b-dc65-45e7-b13e-9cd4634a4c02",
        "colab": {
          "base_uri": "https://localhost:8080/",
          "height": 408
        }
      },
      "source": [
        "a = set()\n",
        "b = set()\n",
        "for i in range(2):\n",
        "  n = int(input('Digite um número para a: '))\n",
        "  a.add(n)\n",
        "for i in range(2):\n",
        "  n = int(input('Digite um número para b: '))\n",
        "  b.add(n)\n",
        "print(a & b)\n",
        "print(a | b)\n",
        "print(a - b)"
      ],
      "execution_count": null,
      "outputs": [
        {
          "output_type": "stream",
          "text": [
            "Digite um número para a: 1\n",
            "Digite um número para a: 2\n",
            "Digite um número para a: 3\n",
            "Digite um número para a: 4\n",
            "Digite um número para a: 5\n",
            "Digite um número para a: 6\n",
            "Digite um número para a: 7\n",
            "Digite um número para a: 8\n",
            "Digite um número para a: 9\n",
            "Digite um número para a: 10\n",
            "Digite um número para b: 2\n",
            "Digite um número para b: 3\n",
            "Digite um número para b: 4\n",
            "Digite um número para b: 5\n",
            "Digite um número para b: 6\n",
            "Digite um número para b: 7\n",
            "Digite um número para b: 8\n",
            "Digite um número para b: 9\n",
            "Digite um número para b: 10\n",
            "Digite um número para b: 11\n",
            "{2, 3, 4, 5, 6, 7, 8, 9, 10}\n",
            "{1, 2, 3, 4, 5, 6, 7, 8, 9, 10, 11}\n",
            "{1}\n"
          ],
          "name": "stdout"
        }
      ]
    },
    {
      "cell_type": "markdown",
      "metadata": {
        "id": "1I-ADZ2T7xwK"
      },
      "source": [
        "### 9.2.4. Faça um programa que leia duas strings. Em seguida, mostre na tela se a segunda string está contida na primeira."
      ]
    },
    {
      "cell_type": "code",
      "metadata": {
        "id": "35yDojyH7xQz",
        "outputId": "bfd3b573-cfad-41aa-fbf0-75f3f15a0b04",
        "colab": {
          "base_uri": "https://localhost:8080/"
        }
      },
      "source": [
        "string_1 = input(\"Digite uma frase para a primeira string: \")\n",
        "string_2 = input(\"Digite uma frase para a segunda string: \")\n",
        "resultado = string_1 >= string_2\n",
        "print(resultado)"
      ],
      "execution_count": null,
      "outputs": [
        {
          "output_type": "stream",
          "name": "stdout",
          "text": [
            "Digite uma frase para a primeira string: aaaa\n",
            "Digite uma frase para a segunda string: bb\n",
            "False\n"
          ]
        }
      ]
    }
  ]
}