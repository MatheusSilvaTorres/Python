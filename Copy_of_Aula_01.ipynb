{
  "nbformat": 4,
  "nbformat_minor": 0,
  "metadata": {
    "colab": {
      "name": "Copy of Aula 01.ipynb",
      "provenance": [],
      "collapsed_sections": [],
      "include_colab_link": true
    },
    "kernelspec": {
      "name": "python3",
      "display_name": "Python 3"
    }
  },
  "cells": [
    {
      "cell_type": "markdown",
      "metadata": {
        "id": "view-in-github",
        "colab_type": "text"
      },
      "source": [
        "<a href=\"https://colab.research.google.com/github/MatheusSilvaTorres/Python/blob/main/Copy_of_Aula_01.ipynb\" target=\"_parent\"><img src=\"https://colab.research.google.com/assets/colab-badge.svg\" alt=\"Open In Colab\"/></a>"
      ]
    },
    {
      "cell_type": "markdown",
      "metadata": {
        "id": "IWT9kBSMTj2O"
      },
      "source": [
        "#Aula 1 - Introdução ao Python\n",
        "## Linguagem de Programação (Prof. Dr. Henrique Dezani)\n",
        "Curso de Tecnologia em Análise e Desenvolvimento de Sistemas da Faculdade de Tecnologia de São José do Rio Preto"
      ]
    },
    {
      "cell_type": "markdown",
      "metadata": {
        "id": "Bu_cUAtKULLJ"
      },
      "source": [
        "## 1.1. Variáveis"
      ]
    },
    {
      "cell_type": "markdown",
      "metadata": {
        "id": "KMZkvKpJViD_"
      },
      "source": [
        "A programação de computadores se baseia basicamente na manipulação de números e textos que, no Python, são chamados de números e strings.\n",
        "\n",
        "Python 3 possui três representações de números embutidas, quais sejam: `int`, `float` e `complex`. Vejamos como podemos declarar variáveis com estes tipos de dados."
      ]
    },
    {
      "cell_type": "code",
      "metadata": {
        "colab": {
          "base_uri": "https://localhost:8080/"
        },
        "id": "W36euWty8O43",
        "outputId": "540b8943-fa78-4057-84c3-1a58161cca12"
      },
      "source": [
        "#teste curso em video\n",
        "dia = int(input('digite seu dia de nascimento: '))\n",
        "mes = int(input('digite seu mês de nascimento: '))\n",
        "ano = int(input('digite seu ano de nascimento: '))\n",
        "print ('sua data de nascimento é: {}/{}/{}, correto?'.format(dia,mes,ano))"
      ],
      "execution_count": null,
      "outputs": [
        {
          "output_type": "stream",
          "name": "stdout",
          "text": [
            "digite seu dia de nascimento: 01\n",
            "digite seu mês de nascimento: 09\n",
            "digite seu ano de nascimento: 2000\n",
            "sua data de nascimento é: 1/9/2000, correto?\n"
          ]
        }
      ]
    },
    {
      "cell_type": "code",
      "metadata": {
        "colab": {
          "base_uri": "https://localhost:8080/"
        },
        "id": "MXezpM7B9QwI",
        "outputId": "94c1894f-8df8-4ee4-abe2-5f0e233c8677"
      },
      "source": [
        "#teste curso em video\n",
        "num = int(input('Digite um número: '))\n",
        "num_2 = int(input('Digite um número: '))\n",
        "print('o primeiro número foi:' {}\\n o segundo número foi: {}\\n a soma entre eles é: {}'.format(num,num_2,num+num_2))"
      ],
      "execution_count": null,
      "outputs": [
        {
          "output_type": "stream",
          "name": "stdout",
          "text": [
            "Digite um número: 5\n",
            "Digite um número: 8\n",
            "o primeiro número foi 5\n",
            " o segundo número foi 8\n",
            " a soma entre eles é: 13\n"
          ]
        }
      ]
    },
    {
      "cell_type": "code",
      "source": [
        "#teste curso em video\n",
        "n1 = int(input('Digite um número: '))\n",
        "n2 = int(input(\"Digite outro número: \"))\n",
        "s = n1 + n2\n",
        "m = n1 * n2\n",
        "d = n1 / n2\n",
        "di = n1 // n2\n",
        "e = n1 ** n2  # ou pow(n1,n2)\n",
        "print('A soma vale {}, a multiplicação vale {}, a Divisão vale {:.3f}'.format(s, m, d), end = ' ')\n",
        "#:.3f define a quantidade de casas, end = '' para não pular para linha de baixo, \\n para pular\n",
        "print('A divisão exata vale {}, a potência vale {}'.format(di, e))"
      ],
      "metadata": {
        "colab": {
          "base_uri": "https://localhost:8080/"
        },
        "id": "MR38z2AAUfOk",
        "outputId": "03de0a4d-d763-49f8-d67d-bd013328b61e"
      },
      "execution_count": null,
      "outputs": [
        {
          "output_type": "stream",
          "name": "stdout",
          "text": [
            "Digite um número: 5\n",
            "Digite outro número: 6\n",
            "A soma vale 11, a multiplicação vale 30, a Divisão vale 0.833 A divisão exata vale 0, a potência vale 15625\n"
          ]
        }
      ]
    },
    {
      "cell_type": "markdown",
      "source": [
        "Formatando textos. "
      ],
      "metadata": {
        "id": "RRU6vVK3U7Jm"
      }
    },
    {
      "cell_type": "code",
      "source": [
        "print(125 ** (1 / 3))\n",
        "print('=' * 20)\n",
        "\n",
        "# raiz quadrada\n",
        "\n",
        "print(81 ** (1 / 2))\n",
        "\n",
        "# raiz cúbica\n",
        "\n",
        "print(125 ** (1 / 3))\n",
        "print('=' * 20)\n",
        "# formatando e alinhando textos\n",
        "nome = input('Digite seu nome: ')\n",
        "print('É um prazer te conhecer, {:20}!'.format(nome))\n",
        "print('É um prazer te conhecer, {:>20}!'.format(nome))\n",
        "print('É um prazer te conhecer, {:<20}!'.format(nome))\n",
        "print('É um prazer te conhecer, {:^20}!'.format(nome))\n",
        "print('É um prazer te conhecer, {:=^20}!'.format(nome))"
      ],
      "metadata": {
        "colab": {
          "base_uri": "https://localhost:8080/"
        },
        "id": "ddDtZ8CgVGy0",
        "outputId": "7401ce4d-7b1f-4be6-af37-a2ee4d27eae4"
      },
      "execution_count": null,
      "outputs": [
        {
          "output_type": "stream",
          "name": "stdout",
          "text": [
            "4.999999999999999\n",
            "====================\n",
            "9.0\n",
            "4.999999999999999\n",
            "====================\n",
            "Digite seu nome: matheus\n",
            "É um prazer te conhecer, matheus             !\n",
            "É um prazer te conhecer,              matheus!\n",
            "É um prazer te conhecer, matheus             !\n",
            "É um prazer te conhecer,       matheus       !\n",
            "É um prazer te conhecer, ======matheus=======!\n"
          ]
        }
      ]
    },
    {
      "cell_type": "code",
      "source": [
        "tipo = input('Digite algo: ')\n",
        "print(type(tipo))\n",
        "print('É um número?', tipo.isnumeric())\n",
        "print('È alfabetico?', tipo.isalpha())\n",
        "print('É alfanumérico?', tipo.isalnum())\n",
        "print('Está em maiúsculo?', tipo.isupper())\n",
        "print('Está em minúsculo?', tipo.islower())\n",
        "print('Só tem espaços?', tipo.isspace())\n",
        "print('Está capitalizada?', tipo.istitle())"
      ],
      "metadata": {
        "colab": {
          "base_uri": "https://localhost:8080/"
        },
        "id": "95LQGXb5WHrD",
        "outputId": "c4636a04-a239-438e-8739-60e201a8fbe3"
      },
      "execution_count": null,
      "outputs": [
        {
          "output_type": "stream",
          "name": "stdout",
          "text": [
            "Digite algo: oi\n",
            "<class 'str'>\n",
            "É um número? False\n",
            "È alfabetico? True\n",
            "É alfanumérico? True\n",
            "Está em maiúsculo? False\n",
            "Está em minúsculo? True\n",
            "Só tem espaços? False\n",
            "Está capitalizada? False\n"
          ]
        }
      ]
    },
    {
      "cell_type": "code",
      "metadata": {
        "id": "SvZuutlgU1Qh",
        "colab": {
          "base_uri": "https://localhost:8080/",
          "height": 34
        },
        "outputId": "8ec76896-4dd1-4191-ce39-ce2d8f36e297"
      },
      "source": [
        "idade = 38    # declara a variável 'idade' com o valor inteiro (int)\n",
        "print(idade)  # função built-in reponsável por escrever na tela."
      ],
      "execution_count": null,
      "outputs": [
        {
          "output_type": "stream",
          "text": [
            "38\n"
          ],
          "name": "stdout"
        }
      ]
    },
    {
      "cell_type": "code",
      "metadata": {
        "id": "F4S8TtL-WvER",
        "colab": {
          "base_uri": "https://localhost:8080/",
          "height": 34
        },
        "outputId": "8b1bac39-9ba6-4ae4-a96d-f7e92d0adf12"
      },
      "source": [
        "salario = 752.89 # declara a variável 'salário' com o valor de ponto flutuate (float)\n",
        "print(salario)"
      ],
      "execution_count": null,
      "outputs": [
        {
          "output_type": "stream",
          "text": [
            "752.89\n"
          ],
          "name": "stdout"
        }
      ]
    },
    {
      "cell_type": "code",
      "metadata": {
        "id": "O0aJM6ksW3C4",
        "colab": {
          "base_uri": "https://localhost:8080/",
          "height": 34
        },
        "outputId": "15e950a2-e6d9-4209-e15c-bcc2d11fbd14"
      },
      "source": [
        "complexo = 1+2j  # complex\n",
        "print(complexo)"
      ],
      "execution_count": null,
      "outputs": [
        {
          "output_type": "stream",
          "text": [
            "(1+2j)\n"
          ],
          "name": "stdout"
        }
      ]
    },
    {
      "cell_type": "markdown",
      "metadata": {
        "id": "jD0Cmesubu2N"
      },
      "source": [
        "**Exercício 1**: Armazene em variáveis os valores de seu ano de ingresso na Fatec a sua média final na disciplina de Matemática Discreta."
      ]
    },
    {
      "cell_type": "code",
      "metadata": {
        "colab": {
          "base_uri": "https://localhost:8080/"
        },
        "id": "b1aKWVA9ULIj",
        "outputId": "0ed6fd69-7b78-48b0-87e2-d8db274905c0"
      },
      "source": [
        "ano_ingresso = 2021\n",
        "media = 8.9\n",
        "\n",
        "print('ano de ingresso é:', ano_ingresso)\n",
        "print('média final é: ', media)"
      ],
      "execution_count": null,
      "outputs": [
        {
          "output_type": "stream",
          "name": "stdout",
          "text": [
            "ano de ingresso é: 2021\n",
            "média final é:  8.9\n"
          ]
        }
      ]
    },
    {
      "cell_type": "code",
      "metadata": {
        "id": "rsxxqyS7W-wP",
        "colab": {
          "base_uri": "https://localhost:8080/"
        },
        "outputId": "e037828b-beb2-470d-e8ea-3b25a453e6dc"
      },
      "source": [
        "# digite seu código aqui.\n",
        "ano_ingresso = 2019\n",
        "media_final_md = 7.5\n",
        "\n",
        "print(ano_ingresso)\n",
        "print(media_final_md)"
      ],
      "execution_count": null,
      "outputs": [
        {
          "output_type": "stream",
          "name": "stdout",
          "text": [
            "2019\n",
            "7.5\n"
          ]
        }
      ]
    },
    {
      "cell_type": "markdown",
      "metadata": {
        "id": "pD3riW0mYG9p"
      },
      "source": [
        "## 1.2. Built-in functions\n",
        "\n",
        "O interpretador Python possui várias funções que estão sempre disponíveis para uso. Essas funções são chamadas de **funções internas (built-in functions)**. Por exemplo, a função `print()` imprime o objeto fornecido no dispositivo de saída padrão (tela). No Python 3.6 existem 68 funções internas. "
      ]
    },
    {
      "cell_type": "markdown",
      "metadata": {
        "id": "xq0fuMEcZ3yt"
      },
      "source": [
        "Vamos supor que seja necessário descobrir os tipos de dados das variáveis declaradas anteriormente. Para tanto, utilizamos a função built-in `type(obj)` , com apenas um parâmetro, a qual retorna o tipo de um objeto."
      ]
    },
    {
      "cell_type": "code",
      "metadata": {
        "id": "FgaU6jOoYXwk",
        "colab": {
          "base_uri": "https://localhost:8080/",
          "height": 34
        },
        "outputId": "ba4a4523-3607-40ef-fcdc-85d95e7239fe"
      },
      "source": [
        "type(idade)"
      ],
      "execution_count": null,
      "outputs": [
        {
          "output_type": "execute_result",
          "data": {
            "text/plain": [
              "int"
            ]
          },
          "metadata": {
            "tags": []
          },
          "execution_count": 6
        }
      ]
    },
    {
      "cell_type": "code",
      "metadata": {
        "id": "yH6hTdRkaJ3u",
        "colab": {
          "base_uri": "https://localhost:8080/",
          "height": 34
        },
        "outputId": "38ca5c6a-b304-4eac-a008-4f29454197be"
      },
      "source": [
        "type(salario)"
      ],
      "execution_count": null,
      "outputs": [
        {
          "output_type": "execute_result",
          "data": {
            "text/plain": [
              "float"
            ]
          },
          "metadata": {
            "tags": []
          },
          "execution_count": 7
        }
      ]
    },
    {
      "cell_type": "code",
      "metadata": {
        "id": "fmxidkmWaLvL"
      },
      "source": [
        "type(complexo)"
      ],
      "execution_count": null,
      "outputs": []
    },
    {
      "cell_type": "code",
      "metadata": {
        "id": "uFieSS3tfLZj"
      },
      "source": [
        "# if isinstance(idade, int):\n",
        "#   print('inteiro')\n",
        "# else:\n",
        "#   print('não inteiro')"
      ],
      "execution_count": null,
      "outputs": []
    },
    {
      "cell_type": "markdown",
      "metadata": {
        "id": "JXV1xi3WcHMI"
      },
      "source": [
        "**Exercício 2**: Mostre os tipos de dados das variáveis que você criou no Exercício 1."
      ]
    },
    {
      "cell_type": "code",
      "metadata": {
        "id": "sQ7JagSJaNlY",
        "colab": {
          "base_uri": "https://localhost:8080/"
        },
        "outputId": "58878bcc-b6eb-43d6-c879-b7391fd447df"
      },
      "source": [
        "# digite seu código aqui.\n",
        "tipo_ano_ingresso = type(ano_ingresso)\n",
        "print(tipo_ano_ingresso)\n",
        "\n",
        "tipo_media_final_md = type(media_final_md)\n",
        "print(tipo_media_final_md)"
      ],
      "execution_count": null,
      "outputs": [
        {
          "output_type": "stream",
          "name": "stdout",
          "text": [
            "<class 'int'>\n",
            "<class 'float'>\n"
          ]
        }
      ]
    },
    {
      "cell_type": "markdown",
      "metadata": {
        "id": "K4KCya5jePyF"
      },
      "source": [
        "Outras **funções buit-in** permitem realizar a **conversão dos tipos de dados** apresentados anteriormente. Veja os exemplos:"
      ]
    },
    {
      "cell_type": "code",
      "metadata": {
        "id": "UN5sgrYVedMN",
        "colab": {
          "base_uri": "https://localhost:8080/",
          "height": 34
        },
        "outputId": "d0c492c7-3e1f-4ef7-9194-d0139097db94"
      },
      "source": [
        "idade_float = float(idade) # converte o valor da variável idade para float\n",
        "print(idade_float)"
      ],
      "execution_count": null,
      "outputs": [
        {
          "output_type": "stream",
          "text": [
            "38.0\n"
          ],
          "name": "stdout"
        }
      ]
    },
    {
      "cell_type": "code",
      "metadata": {
        "id": "LXUm-tAueidH",
        "colab": {
          "base_uri": "https://localhost:8080/",
          "height": 34
        },
        "outputId": "fc5b8e2f-5086-446b-ea1b-389d58de7f61"
      },
      "source": [
        "salario_int = int(salario) # converte o valor da variável salario para int\n",
        "print(salario_int)"
      ],
      "execution_count": null,
      "outputs": [
        {
          "output_type": "stream",
          "text": [
            "752\n"
          ],
          "name": "stdout"
        }
      ]
    },
    {
      "cell_type": "markdown",
      "metadata": {
        "id": "K6iuk3lKiw-2"
      },
      "source": [
        "Além das conversões de tipos de dados, temos diversas **funções built-in** que nos permitem trabalhar com números. Vejamos alguns exemplos:"
      ]
    },
    {
      "cell_type": "code",
      "metadata": {
        "id": "oLKX_ln-ekDS",
        "colab": {
          "base_uri": "https://localhost:8080/",
          "height": 34
        },
        "outputId": "cd1da7f1-569a-4bfe-87b8-5f4802371214"
      },
      "source": [
        "salario_arredondado =  round(salario) # arredonda um número para uma dada quantidade de casas decimais (o padrão é zero casa decimal).\n",
        "print(salario_arredondado)"
      ],
      "execution_count": null,
      "outputs": [
        {
          "output_type": "stream",
          "text": [
            "753\n"
          ],
          "name": "stdout"
        }
      ]
    },
    {
      "cell_type": "code",
      "metadata": {
        "id": "dwsO2Twxi_R2",
        "colab": {
          "base_uri": "https://localhost:8080/",
          "height": 34
        },
        "outputId": "cb021ed6-cb5f-4d09-e06f-1a4ccef9d0d7"
      },
      "source": [
        "salario_arredondado =  round(salario, 1) # arredonda o número usando 1 casa decimal.\n",
        "print(salario_arredondado)"
      ],
      "execution_count": null,
      "outputs": [
        {
          "output_type": "stream",
          "text": [
            "752.9\n"
          ],
          "name": "stdout"
        }
      ]
    },
    {
      "cell_type": "code",
      "metadata": {
        "id": "eMYhb9FRmD4h",
        "colab": {
          "base_uri": "https://localhost:8080/",
          "height": 34
        },
        "outputId": "e7305971-9c80-4257-b733-59da4fec77c8"
      },
      "source": [
        "valor_absoluto = abs(-10) # retorna o valor absoluto de um número.\n",
        "print(valor_absoluto)"
      ],
      "execution_count": null,
      "outputs": [
        {
          "output_type": "stream",
          "text": [
            "10\n"
          ],
          "name": "stdout"
        }
      ]
    },
    {
      "cell_type": "code",
      "metadata": {
        "id": "ED0pWTnynki3",
        "colab": {
          "base_uri": "https://localhost:8080/",
          "height": 34
        },
        "outputId": "829d7e4e-a1f3-4cfe-97e8-d91ca8c58c70"
      },
      "source": [
        "maior_valor = max(1, 7, 10, 3) # retorna o maior valor de uma coleção de números.\n",
        "print(maior_valor)"
      ],
      "execution_count": null,
      "outputs": [
        {
          "output_type": "stream",
          "text": [
            "10\n"
          ],
          "name": "stdout"
        }
      ]
    },
    {
      "cell_type": "code",
      "metadata": {
        "id": "kehsU2fjohfs",
        "colab": {
          "base_uri": "https://localhost:8080/",
          "height": 34
        },
        "outputId": "52113d01-8f42-4e04-ea80-4ff1e94c484d"
      },
      "source": [
        "quadrado = pow(10, 2) # retorna a potência (2) de um número (10).\n",
        "print(quadrado)"
      ],
      "execution_count": null,
      "outputs": [
        {
          "output_type": "stream",
          "text": [
            "100\n"
          ],
          "name": "stdout"
        }
      ]
    },
    {
      "cell_type": "code",
      "metadata": {
        "id": "ESH0IWsjmqdb",
        "colab": {
          "base_uri": "https://localhost:8080/",
          "height": 51
        },
        "outputId": "280744ca-c1a9-4809-d5f6-a65052728ef9"
      },
      "source": [
        "binario = bin(9) # retorna o valor binário de um número inteiro.\n",
        "print(binario)\n",
        "type(binario)"
      ],
      "execution_count": null,
      "outputs": [
        {
          "output_type": "stream",
          "text": [
            "0b1001\n"
          ],
          "name": "stdout"
        },
        {
          "output_type": "execute_result",
          "data": {
            "text/plain": [
              "str"
            ]
          },
          "metadata": {
            "tags": []
          },
          "execution_count": 20
        }
      ]
    },
    {
      "cell_type": "code",
      "metadata": {
        "id": "iCKaNE2Bm4RW",
        "colab": {
          "base_uri": "https://localhost:8080/",
          "height": 221
        },
        "outputId": "8f0a4512-3b15-4461-be1b-1235308d5579"
      },
      "source": [
        "help('print') # mostra a documentação da função. Utilizado apenas para auxiliar na programação no software."
      ],
      "execution_count": null,
      "outputs": [
        {
          "output_type": "stream",
          "text": [
            "Help on built-in function print in module builtins:\n",
            "\n",
            "print(...)\n",
            "    print(value, ..., sep=' ', end='\\n', file=sys.stdout, flush=False)\n",
            "    \n",
            "    Prints the values to a stream, or to sys.stdout by default.\n",
            "    Optional keyword arguments:\n",
            "    file:  a file-like object (stream); defaults to the current sys.stdout.\n",
            "    sep:   string inserted between values, default a space.\n",
            "    end:   string appended after the last value, default a newline.\n",
            "    flush: whether to forcibly flush the stream.\n",
            "\n"
          ],
          "name": "stdout"
        }
      ]
    },
    {
      "cell_type": "markdown",
      "metadata": {
        "id": "226-k7wLsjdK"
      },
      "source": [
        "## 1.3. Comandos de Entrada e Saída\n",
        "Os comandos de entrada e saída permitem que possamos interagir com o programa, recebendo *feedback* dos resultados computados ou realizando a entrada de dados para o sistema. Ambos os comandos consistem em funções built-in, quais seja: `print()`, vista anteriormente, e `input('texto do prompt')` para entrada de dados. Vejamos um exemplo."
      ]
    },
    {
      "cell_type": "code",
      "metadata": {
        "id": "qGm4cVJBsoXD",
        "colab": {
          "base_uri": "https://localhost:8080/",
          "height": 51
        },
        "outputId": "8c4ba87c-657f-46ca-e4e8-53c0fdedf417"
      },
      "source": [
        "nome = input('Digite o seu nome: ') # apresenta um elemento para entrada de dados com o label escrito como argumento.\n",
        "print(nome)"
      ],
      "execution_count": null,
      "outputs": [
        {
          "output_type": "stream",
          "text": [
            "Digite o seu nome: Henrique Dezani\n",
            "Henrique Dezani\n"
          ],
          "name": "stdout"
        }
      ]
    },
    {
      "cell_type": "code",
      "metadata": {
        "id": "KTI4mQDdtNSa",
        "colab": {
          "base_uri": "https://localhost:8080/",
          "height": 34
        },
        "outputId": "4f85ece8-9244-4253-fba1-7ea70c8d64f6"
      },
      "source": [
        "type(nome) # toda entrada de dados obtida pela função built-in input() é uma string!"
      ],
      "execution_count": null,
      "outputs": [
        {
          "output_type": "execute_result",
          "data": {
            "text/plain": [
              "str"
            ]
          },
          "metadata": {
            "tags": []
          },
          "execution_count": 24
        }
      ]
    },
    {
      "cell_type": "markdown",
      "metadata": {
        "id": "2vnECMcqlvJA"
      },
      "source": [
        "Portanto, se quisermos obter um número (inteiro ou ponto flutuante) digitado por um usuário, devemos receber a string da função built-in `input()` e, em seguida, realizar as conversões necessárias, utilizando as funções built-in `int()` ou `float()`. Veja o exemplo a seguir:"
      ]
    },
    {
      "cell_type": "code",
      "metadata": {
        "id": "-P7TaDnEtiaj",
        "colab": {
          "base_uri": "https://localhost:8080/",
          "height": 51
        },
        "outputId": "517f2878-1879-457a-8ea1-5336db9262e7"
      },
      "source": [
        "idade_str = input('Qual a sua idade? ')\n",
        "idade_int = int(idade_str)\n",
        "print(idade_int)"
      ],
      "execution_count": null,
      "outputs": [
        {
          "output_type": "stream",
          "text": [
            "Qual a sua idade? 38\n",
            "38\n"
          ],
          "name": "stdout"
        }
      ]
    },
    {
      "cell_type": "code",
      "metadata": {
        "id": "EA06xY15SCaa",
        "colab": {
          "base_uri": "https://localhost:8080/",
          "height": 34
        },
        "outputId": "9c624ea4-082e-47da-a009-c9ea7cb93a03"
      },
      "source": [
        "type(idade_str)"
      ],
      "execution_count": null,
      "outputs": [
        {
          "output_type": "execute_result",
          "data": {
            "text/plain": [
              "str"
            ]
          },
          "metadata": {
            "tags": []
          },
          "execution_count": 26
        }
      ]
    },
    {
      "cell_type": "code",
      "metadata": {
        "id": "pvin7a3YSD8u",
        "colab": {
          "base_uri": "https://localhost:8080/",
          "height": 34
        },
        "outputId": "c135180a-d9ea-4df5-e3e6-a659fa722aa1"
      },
      "source": [
        "type(idade_int)"
      ],
      "execution_count": null,
      "outputs": [
        {
          "output_type": "execute_result",
          "data": {
            "text/plain": [
              "int"
            ]
          },
          "metadata": {
            "tags": []
          },
          "execution_count": 27
        }
      ]
    },
    {
      "cell_type": "markdown",
      "metadata": {
        "id": "Jc4X63WOLLFQ"
      },
      "source": [
        "**Para pensar**: E se o valor informado pelo usuário não for um número inteiro? Ou seja, e se o usuário digitou a letra a? Neste caso, uma exceção (erro) será disparada. Em aulas futuras estudaremos como tratar as exceções."
      ]
    },
    {
      "cell_type": "markdown",
      "metadata": {
        "id": "hWwDstTYmvxR"
      },
      "source": [
        "**Exerício 3**: Refaça o Exercício 1 de maneira que os dados sejam informados pelo usuário."
      ]
    },
    {
      "cell_type": "code",
      "metadata": {
        "id": "ete56QllmxX9",
        "colab": {
          "base_uri": "https://localhost:8080/",
          "height": 51
        },
        "outputId": "c05407f1-a637-4a96-c2a7-9478cd577447"
      },
      "source": [
        "# digite seu código aqui.\n",
        "ano_ingresso_str = input('Digite o seu ano de ingresso')\n",
        "ano_ingresso = int(ano_ingresso_str)\n",
        "print(ano_ingresso)"
      ],
      "execution_count": null,
      "outputs": [
        {
          "output_type": "stream",
          "text": [
            "Digite o seu ano de ingresso2006\n",
            "2006\n"
          ],
          "name": "stdout"
        }
      ]
    },
    {
      "cell_type": "markdown",
      "metadata": {
        "id": "cbrEPthNDR63"
      },
      "source": [
        "##1.4 Operações Aritméticas\n",
        "Para realizar as operações aritméticas, utilizamos os símbolos + (soma), - (subtração), * (multiplicação) e / (divisão).\n",
        "É importante lembrar que temos a precedência das operações () /* +-"
      ]
    },
    {
      "cell_type": "code",
      "metadata": {
        "id": "LlwZtZtiDdyY",
        "colab": {
          "base_uri": "https://localhost:8080/",
          "height": 170
        },
        "outputId": "21392bd2-f53c-4330-ffa6-dcbfe24ed953"
      },
      "source": [
        "numero1 = int(input('Digite o primeiro número'))\n",
        "numero2 = int(input('Digite o segundo número'))\n",
        "\n",
        "soma = numero1 + numero2\n",
        "print(soma)\n",
        "\n",
        "subtracao = numero1 - numero2\n",
        "print(subtracao)\n",
        "\n",
        "multiplicacao = numero1 * numero2\n",
        "print(multiplicacao)\n",
        "\n",
        "divisao = numero1 / numero2\n",
        "print(divisao)\n",
        "\n",
        "divisao_inteira = numero1 // numero2\n",
        "print(divisao_inteira)\n",
        "\n",
        "modulo = numero1 % numero2\n",
        "print(modulo)               # 0 número par, 1 número ímpar\n",
        "\n",
        "potencia = numero1 ** numero2\n",
        "print(potencia)"
      ],
      "execution_count": null,
      "outputs": [
        {
          "output_type": "stream",
          "text": [
            "Digite o primeiro número10\n",
            "Digite o segundo número5\n",
            "15\n",
            "5\n",
            "50\n",
            "2.0\n",
            "2\n",
            "0\n",
            "100000\n"
          ],
          "name": "stdout"
        }
      ]
    },
    {
      "cell_type": "markdown",
      "metadata": {
        "id": "_Vh7l_21Kgpc"
      },
      "source": [
        "## 1.5. O Poder do Print (versão 3.6)"
      ]
    },
    {
      "cell_type": "code",
      "metadata": {
        "id": "vnjCzuuhOZIo"
      },
      "source": [
        "print(\"Olá\")"
      ],
      "execution_count": null,
      "outputs": []
    },
    {
      "cell_type": "code",
      "metadata": {
        "id": "Ubtp1USAQXHT",
        "colab": {
          "base_uri": "https://localhost:8080/"
        },
        "outputId": "d38bb10f-0eec-44e9-9bd2-0c22e142513a"
      },
      "source": [
        "nome = \"Henrique\"\n",
        "sobrenome = \"Dezani\"\n",
        "\n",
        "print(\"Olá, \" + nome + \" \" + sobrenome) # concatenação"
      ],
      "execution_count": null,
      "outputs": [
        {
          "output_type": "stream",
          "name": "stdout",
          "text": [
            "Olá, Henrique Dezani\n"
          ]
        }
      ]
    },
    {
      "cell_type": "code",
      "metadata": {
        "id": "AyJ7-mfKQZUr",
        "colab": {
          "base_uri": "https://localhost:8080/",
          "height": 34
        },
        "outputId": "9a57c7e1-ec28-42fc-990e-fd45b3203d53"
      },
      "source": [
        "print(\"Olá, \" + nome + \" \" + sobrenome + \", tudo bem?\") # concatenação"
      ],
      "execution_count": null,
      "outputs": [
        {
          "output_type": "stream",
          "text": [
            "Olá, Henrique Dezani, tudo bem?\n"
          ],
          "name": "stdout"
        }
      ]
    },
    {
      "cell_type": "code",
      "metadata": {
        "id": "wMZGFVYOQbcM",
        "colab": {
          "base_uri": "https://localhost:8080/",
          "height": 34
        },
        "outputId": "a01ae5e5-9253-4e3c-984b-852fdfbf133d"
      },
      "source": [
        "print(\"Olá,\", nome, sobrenome, \", tudo bem?\") # concatenação"
      ],
      "execution_count": null,
      "outputs": [
        {
          "output_type": "stream",
          "text": [
            "Olá, Henrique Dezani , tudo bem?\n"
          ],
          "name": "stdout"
        }
      ]
    },
    {
      "cell_type": "code",
      "metadata": {
        "id": "txCpwLWvQd0e",
        "colab": {
          "base_uri": "https://localhost:8080/",
          "height": 34
        },
        "outputId": "05893117-48c9-434f-ac73-1b7923af15fb"
      },
      "source": [
        "print(\"Olá, {}, tudo bem?\".format(nome)) #interpolação"
      ],
      "execution_count": null,
      "outputs": [
        {
          "output_type": "stream",
          "text": [
            "Olá, Henrique, tudo bem?\n"
          ],
          "name": "stdout"
        }
      ]
    },
    {
      "cell_type": "code",
      "metadata": {
        "id": "PxdqOu6RQgKy",
        "colab": {
          "base_uri": "https://localhost:8080/",
          "height": 34
        },
        "outputId": "93c3ce92-24ad-4f69-f30a-296a4536adce"
      },
      "source": [
        "print(\"Olá, {} {}, tudo bem?\".format(nome, sobrenome)) #interpolação de duas variáveis"
      ],
      "execution_count": null,
      "outputs": [
        {
          "output_type": "stream",
          "text": [
            "Olá, Henrique Dezani, tudo bem?\n"
          ],
          "name": "stdout"
        }
      ]
    },
    {
      "cell_type": "code",
      "metadata": {
        "id": "-jhXLmksQjc0",
        "colab": {
          "base_uri": "https://localhost:8080/"
        },
        "outputId": "74183294-2ceb-4c2c-dbea-b1f545493750"
      },
      "source": [
        "print(\"Olá, {0} {1}, tudo bem?\".format(nome, sobrenome)) # interpolação, passando os índices"
      ],
      "execution_count": null,
      "outputs": [
        {
          "output_type": "stream",
          "name": "stdout",
          "text": [
            "Olá, Dezani Henrique, tudo bem?\n"
          ]
        }
      ]
    },
    {
      "cell_type": "code",
      "metadata": {
        "id": "NyDnvsdqQoDa",
        "colab": {
          "base_uri": "https://localhost:8080/",
          "height": 34
        },
        "outputId": "c5a218de-462e-4e4d-8400-75732e53ae12"
      },
      "source": [
        "print(\"!{:>20}\".format(nome)) # alinha a variável à esquerda no texto."
      ],
      "execution_count": null,
      "outputs": [
        {
          "output_type": "stream",
          "text": [
            "!            Henrique\n"
          ],
          "name": "stdout"
        }
      ]
    },
    {
      "cell_type": "code",
      "metadata": {
        "id": "wpkq3V3_QpmB",
        "colab": {
          "base_uri": "https://localhost:8080/",
          "height": 34
        },
        "outputId": "08d3fe7e-306c-4801-d25d-e574e9a0b8df"
      },
      "source": [
        "print(\"!{:<20}!\".format(nome)) # alinha a variável à direita no texto."
      ],
      "execution_count": null,
      "outputs": [
        {
          "output_type": "stream",
          "text": [
            "!Henrique            !\n"
          ],
          "name": "stdout"
        }
      ]
    },
    {
      "cell_type": "code",
      "metadata": {
        "id": "su9NIxowQrAE",
        "colab": {
          "base_uri": "https://localhost:8080/",
          "height": 34
        },
        "outputId": "1f979bbe-82d2-428d-821e-0f8c4e30ce99"
      },
      "source": [
        "print(\"{:^20}\".format(nome)) # centraliza o texto dentro da quantidade máxima de caracteres"
      ],
      "execution_count": null,
      "outputs": [
        {
          "output_type": "stream",
          "text": [
            "      Henrique      \n"
          ],
          "name": "stdout"
        }
      ]
    },
    {
      "cell_type": "code",
      "metadata": {
        "id": "uG279f4UQsw4",
        "colab": {
          "base_uri": "https://localhost:8080/",
          "height": 34
        },
        "outputId": "184fb0e9-b3f5-4886-dd97-2d52a84aa850"
      },
      "source": [
        "print(\"{:=^20}\".format(nome)) # adiciona o símbolo '=' nos espaços"
      ],
      "execution_count": null,
      "outputs": [
        {
          "output_type": "stream",
          "text": [
            "======Henrique======\n"
          ],
          "name": "stdout"
        }
      ]
    },
    {
      "cell_type": "code",
      "metadata": {
        "id": "6-5o5LBNQvHq",
        "colab": {
          "base_uri": "https://localhost:8080/",
          "height": 34
        },
        "outputId": "f50730a1-2b42-4e38-fa8f-ae9c6546a1e6"
      },
      "source": [
        "print(\"Olá\", end='') # define o caracter final (padrão '\\n')\n",
        "print(\" Mundo\")"
      ],
      "execution_count": null,
      "outputs": [
        {
          "output_type": "stream",
          "text": [
            "Olá Mundo\n"
          ],
          "name": "stdout"
        }
      ]
    },
    {
      "cell_type": "markdown",
      "metadata": {
        "id": "Qp2PD3gjK3zK"
      },
      "source": [
        "## 1.6. Exercícios"
      ]
    },
    {
      "cell_type": "markdown",
      "metadata": {
        "id": "1sFYLEw9LExi"
      },
      "source": [
        "### 1.6.1. Exercício 1: Implemente um programa que leia um número inteiro e mostre seu sucessor e seu antecessor."
      ]
    },
    {
      "cell_type": "code",
      "metadata": {
        "colab": {
          "base_uri": "https://localhost:8080/"
        },
        "id": "RZy3mDpxXrPd",
        "outputId": "8f9bc939-a2bc-428d-e5cd-53204b8f5d66"
      },
      "source": [
        "num = int(input('Digite um número inteiro: '))\n",
        "sucessor = num + 1 \n",
        "antecessor = num - 1\n",
        "print('número: {}, seu sucessor é: {}, seu antecessor é: {}'.format(num,sucessor,antecessor))"
      ],
      "execution_count": null,
      "outputs": [
        {
          "output_type": "stream",
          "name": "stdout",
          "text": [
            "Digite um número inteiro: 5\n",
            "número: 5, seu sucessor é: 6, seu antecessor é: 4\n"
          ]
        }
      ]
    },
    {
      "cell_type": "code",
      "metadata": {
        "id": "7qa78cl6F_DT",
        "colab": {
          "base_uri": "https://localhost:8080/"
        },
        "outputId": "82f6076f-0a1f-4a63-93f6-7604a52300be"
      },
      "source": [
        "n = int(input('Digite um número: '))\n",
        "print('número: {}, antecessor: {}, sucessor: {}'.format(n, n-1, n+1))"
      ],
      "execution_count": null,
      "outputs": [
        {
          "output_type": "stream",
          "name": "stdout",
          "text": [
            "Digite um número: 6\n",
            "número: 6, antecessor: 5, sucessor: 7\n"
          ]
        }
      ]
    },
    {
      "cell_type": "markdown",
      "metadata": {
        "id": "YGNNJ49PLQrd"
      },
      "source": [
        "### 1.6.2. Exercício 2: Implemente um programa que leia um número inteiro e mostre seu dobro e seu triplo.\n",
        "\n"
      ]
    },
    {
      "cell_type": "code",
      "metadata": {
        "colab": {
          "base_uri": "https://localhost:8080/"
        },
        "id": "Pe9tPiysY1u7",
        "outputId": "a7db2774-71cd-476f-93fb-a5b59fcb4ff4"
      },
      "source": [
        "num = int(input('DIgite um número inteiro: '))\n",
        "dobro = num * 2\n",
        "triplo = num * 3\n",
        "print('Número é: {1}, Seu dobro é: {0}, Seu triplo é: {2}'.format(dobro,num,triplo))"
      ],
      "execution_count": null,
      "outputs": [
        {
          "output_type": "stream",
          "name": "stdout",
          "text": [
            "DIgite um número inteiro: 5\n",
            "Número é: 5, Seu dobro é: 10, Seu triplo é: 15\n"
          ]
        }
      ]
    },
    {
      "cell_type": "code",
      "metadata": {
        "id": "JWHIiEEPLf_5",
        "colab": {
          "base_uri": "https://localhost:8080/"
        },
        "outputId": "98e7f0a0-8ffb-4e6d-b3c3-c065c32b7399"
      },
      "source": [
        "n = int(input('Digite um número: '))\n",
        "print('número: {}, seu dobro: {}, seu triplo: {}, raiz quadrada: {:.2f}'.format(n, n * 2, n * 3, n ** (1 / 2)))\n",
        "# outra forma de calcular raiz quadrada\n",
        "print(pow(n, (1/2)))\n"
      ],
      "execution_count": null,
      "outputs": [
        {
          "output_type": "stream",
          "name": "stdout",
          "text": [
            "Digite um número: 2\n",
            "número: 2, seu dobro: 4, seu triplo: 6, raiz quadrada: 1.41\n",
            "1.4142135623730951\n"
          ]
        }
      ]
    },
    {
      "cell_type": "markdown",
      "metadata": {
        "id": "swyaOI96LgsH"
      },
      "source": [
        "### 1.6.3. Exercício 3: Implemente um programa que leia 4 notas de um aluno e mostre a média aritmética."
      ]
    },
    {
      "cell_type": "code",
      "metadata": {
        "colab": {
          "base_uri": "https://localhost:8080/"
        },
        "id": "YQFy-0pJZlMz",
        "outputId": "0e30762d-0318-4495-cc83-3ae8f6279f53"
      },
      "source": [
        "nota1 = float(input('Digite sua nota: '))\n",
        "nota2 = float(input('Digite sua nota: '))\n",
        "nota3 = float(input('Digite sua nota: '))\n",
        "nota4 = float(input('Digite sua nota: '))\n",
        "media_aritimetica = (nota1+nota2+nota3+nota4) / 4\n",
        "print('Sua primeira nota foi: {}, Sua segunda nota foi: {},Sua terceira nota foi: {}, Sua quarta nota foi: {}, Sua nota final foi: {}'.format(nota1,nota2,nota3,nota4,media_aritimetica))"
      ],
      "execution_count": null,
      "outputs": [
        {
          "output_type": "stream",
          "name": "stdout",
          "text": [
            "Digite sua nota: 5\n",
            "Digite sua nota: 2\n",
            "Digite sua nota: 3\n",
            "Digite sua nota: 10\n",
            "Sua primeira nota foi: 5.0, Sua segunda nota foi: 2.0,Sua terceira nota foi: 3.0, Sua quarta nota foi: 10.0, Sua nota final foi: 5.0\n"
          ]
        }
      ]
    },
    {
      "cell_type": "code",
      "metadata": {
        "id": "aq0J1MB3LtNA",
        "colab": {
          "base_uri": "https://localhost:8080/"
        },
        "outputId": "4a4d02d7-0c0e-44fd-9874-2bb4675749be"
      },
      "source": [
        "nota1 = float(input('Digite sua primeira nota: '))\n",
        "nota2 = float(input('Digite sua segunda nota: '))\n",
        "print('Nota 1: {} \\n Nota 2: {} \\n Média: {:.2f} '.format(nota1, nota2, (nota1 + nota2) / 2))\n",
        "# As variavéis no python podem ter acentos\n"
      ],
      "execution_count": null,
      "outputs": [
        {
          "output_type": "stream",
          "name": "stdout",
          "text": [
            "Digite sua primeira nota: 6\n",
            "Digite sua segunda nota: 3\n",
            "Nota 1: 6.0 \n",
            " Nota 2: 3.0 \n",
            " Média: 4.50 \n"
          ]
        }
      ]
    },
    {
      "cell_type": "markdown",
      "metadata": {
        "id": "DsgRMCZ7L7wC"
      },
      "source": [
        "### 1.6.4. Exercício 4: Implemente um programa que leia um valor em metros e mostre seu valor em centímetros e em milímetros."
      ]
    },
    {
      "cell_type": "code",
      "metadata": {
        "colab": {
          "base_uri": "https://localhost:8080/"
        },
        "id": "aTnPk62Ga7ET",
        "outputId": "21236ce4-a18c-45cb-92ea-030b55e2fa2a"
      },
      "source": [
        "metros = int(input(\"digite a quantidade de metros: \"))\n",
        "cm = metros * 100\n",
        "mm = metros * 1000\n",
        "print(' valor em cm: ', cm, 'valor em mm: ',mm)"
      ],
      "execution_count": null,
      "outputs": [
        {
          "output_type": "stream",
          "name": "stdout",
          "text": [
            "digite a quantidade de metros: 1\n",
            " valor em cm:  100 valor em mm:  1000\n"
          ]
        }
      ]
    },
    {
      "cell_type": "code",
      "metadata": {
        "id": "4u3M2Y2TMGMM",
        "colab": {
          "base_uri": "https://localhost:8080/"
        },
        "outputId": "845d7834-ff3d-43ac-9b4a-e6865d63514d"
      },
      "source": [
        "metros = float(input('Digite a quantidade em metros: '))\n",
        "print('Quantidade em metros: {} \\n Quantidade em centimetros: {} \\n Quantidade em milimetros: {}'.format(metros,metros*100,metros*1000))\n",
        "print('dm: {}, dam: {:.1f}, hm: {}, km:{}'.format(metros*10, metros*0.1, metros*0.01, metros*0.001))"
      ],
      "execution_count": null,
      "outputs": [
        {
          "output_type": "stream",
          "name": "stdout",
          "text": [
            "Digite a quantidade em metros: 5\n",
            "Quantidade em metros: 5.0 \n",
            " Quantidade em centimetros: 500.0 \n",
            " Quantidade em milimetros: 5000.0\n",
            "dm: 50.0, dam: 0.5, hm: 0.05, km:0.005\n"
          ]
        }
      ]
    },
    {
      "cell_type": "markdown",
      "metadata": {
        "id": "hxmxjdvFMG2Y"
      },
      "source": [
        "### 1.6.5. Exercício 5: Implemente um programa que tenha como entrada o valor em uma carteira e mostre o valor correspondente em dolar."
      ]
    },
    {
      "cell_type": "code",
      "metadata": {
        "colab": {
          "base_uri": "https://localhost:8080/"
        },
        "id": "thWd7IaBcNjv",
        "outputId": "85fe5d7b-94be-41f6-b925-c14b71db0a36"
      },
      "source": [
        "valor = float(input('Digite o valor: '))\n",
        "valor_dolar = valor / 5.20\n",
        "print('Valor correspondente a dolar é: ', valor_dolar)"
      ],
      "execution_count": null,
      "outputs": [
        {
          "output_type": "stream",
          "name": "stdout",
          "text": [
            "Digite o valor: 6\n",
            "Valor correspondente a dolar é:  1.1538461538461537\n"
          ]
        }
      ]
    },
    {
      "cell_type": "code",
      "metadata": {
        "id": "FrU_D4X-MjHF",
        "colab": {
          "base_uri": "https://localhost:8080/"
        },
        "outputId": "059f8f99-5062-4863-e17e-7f33f3f2c7e0"
      },
      "source": [
        "real = float(input('Digite a quantidade em reais que possuí: R$'))\n",
        "print('A quantidade correspondente em  dolar é: {:.2f}'.format(real / 3.27))"
      ],
      "execution_count": null,
      "outputs": [
        {
          "output_type": "stream",
          "name": "stdout",
          "text": [
            "Digite a quantidade em reais que possuí: R$50\n",
            "A quantidade correspondente em  dolar é: 15.29\n"
          ]
        }
      ]
    },
    {
      "cell_type": "markdown",
      "metadata": {
        "id": "Dqns4l5kMmJy"
      },
      "source": [
        "### 1.6.6. Exercício 6: Supondo que queremos pintar o muro da instituição, faça um programa que leia a altura e a largura do muro e mostre a quantidade de tinta necessária (1 litro de tinta pode pintar uma área de 2 metros quadrados)."
      ]
    },
    {
      "cell_type": "code",
      "metadata": {
        "colab": {
          "base_uri": "https://localhost:8080/"
        },
        "id": "gOWNzap-dtke",
        "outputId": "6ebf9403-4477-4a4e-9206-7325c86c81f6"
      },
      "source": [
        "altura = float(input('Digite a altura da parede: '))\n",
        "largura = float(input('Digite a largura da parede: '))\n",
        "print('Area da parade: {} m² , quantidade de tinta necessaria: {} litros de tinta'.format(altura*largura, altura*largura / 2))\n",
        "      "
      ],
      "execution_count": null,
      "outputs": [
        {
          "output_type": "stream",
          "name": "stdout",
          "text": [
            "Digite a altura da parede: 2\n",
            "Digite a largura da parede: 5\n",
            "Area da parade: 10.0 m² , quantidade de tinta necessaria: 5.0 litros de tinta\n"
          ]
        }
      ]
    },
    {
      "cell_type": "code",
      "metadata": {
        "id": "uAcOlRc_NSzQ",
        "colab": {
          "base_uri": "https://localhost:8080/",
          "height": 68
        },
        "outputId": "c869e0f2-88d3-487c-9ed5-e37240c72be1"
      },
      "source": [
        "altura = int(input(\"digite a altura do muro:\"))\n",
        "largura = int(input(\"digite a largura do muro:\"))\n",
        "area = altura * largura\n",
        "quant = area /2\n",
        "print(\"quantidade de tintas:\", quant)"
      ],
      "execution_count": null,
      "outputs": [
        {
          "output_type": "stream",
          "text": [
            "digite a altura do muro:2\n",
            "digite a largura do muro:5\n",
            "quantidade de tintas: 5.0\n"
          ],
          "name": "stdout"
        }
      ]
    },
    {
      "cell_type": "markdown",
      "metadata": {
        "id": "I7XP4jAmNkAl"
      },
      "source": [
        "### 1.6.7. Exercício 7: Faça um programa que leia o preço de um produto e mostre o valor com 5% de desconto."
      ]
    },
    {
      "cell_type": "code",
      "metadata": {
        "colab": {
          "base_uri": "https://localhost:8080/"
        },
        "id": "QIOMen28eeaC",
        "outputId": "ac867b01-7a6a-456f-bcc3-43c18712bf51"
      },
      "source": [
        "preco = float(input('O preço do produto é: '))\n",
        "desconto = preco - (preco * 0.05) \n",
        "print('o preço é : {}, com desconto é: {}'.format(preco,desconto))"
      ],
      "execution_count": null,
      "outputs": [
        {
          "output_type": "stream",
          "name": "stdout",
          "text": [
            "O preço do produto é: 100\n",
            "o preço é : 100.0, com desconto é: 95.0\n"
          ]
        }
      ]
    },
    {
      "cell_type": "code",
      "metadata": {
        "id": "Gxbl66NjNbKj",
        "colab": {
          "base_uri": "https://localhost:8080/"
        },
        "outputId": "917e8631-05ee-4d1b-d667-5ca428bf36e4"
      },
      "source": [
        "preco = float(input('Digite o preço do produto: R$'))\n",
        "print('Novo preço do produto é: {:.2f}'.format(preco - preco*0.05))"
      ],
      "execution_count": null,
      "outputs": [
        {
          "output_type": "stream",
          "name": "stdout",
          "text": [
            "Digite o preço do produto: R$5\n",
            "Novo preço do produto é: 4.75\n"
          ]
        }
      ]
    },
    {
      "cell_type": "markdown",
      "metadata": {
        "id": "aqeF-HYrNl2m"
      },
      "source": [
        "### 1.6.8. Exercício 8: Faça um programa que leia o salário de um colaborador e calcule seu salário com um aumento de 15%."
      ]
    },
    {
      "cell_type": "code",
      "metadata": {
        "colab": {
          "base_uri": "https://localhost:8080/"
        },
        "id": "VYxqFoSxfN-w",
        "outputId": "0c329b2d-2b3f-4684-a981-4e74dfd33d49"
      },
      "source": [
        "salario = float(input('Digite seu sálario: '))\n",
        "aumento = salario + salario * 0.15\n",
        "print('Sálario é: {}, com aumento: {}'.format(salario,aumento))"
      ],
      "execution_count": null,
      "outputs": [
        {
          "output_type": "stream",
          "name": "stdout",
          "text": [
            "Digite seu sálario: 1000\n",
            "Sálario é: 1000.0, com aumento: 1150.0\n"
          ]
        }
      ]
    },
    {
      "cell_type": "code",
      "metadata": {
        "id": "kORS1l_-N0Yw",
        "colab": {
          "base_uri": "https://localhost:8080/"
        },
        "outputId": "55c719dc-60ce-4361-821e-668395b8900c"
      },
      "source": [
        "salario = float(input('Digite seu salário: R$'))\n",
        "print('Novo salário: {}'.format(salario + salario * 0.15))"
      ],
      "execution_count": null,
      "outputs": [
        {
          "output_type": "stream",
          "name": "stdout",
          "text": [
            "Digite seu salário: R$1800\n",
            "Novo salário: 2070.0\n"
          ]
        }
      ]
    }
  ]
}